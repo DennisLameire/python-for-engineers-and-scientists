{
 "cells": [
  {
   "cell_type": "markdown",
   "id": "d9ebb79d",
   "metadata": {},
   "source": [
    "# Desenvolvimento de Pacotes Científicos com Python\n",
    "\n",
    "**por**: Rafael Pereira da Silva"
   ]
  },
  {
   "cell_type": "markdown",
   "id": "9f980914",
   "metadata": {},
   "source": [
    "# PARTE 1\n",
    "# Seção 6: Orientação a objetos\n",
    "As classes são capazes de agrupar dados e funções. Elas facilitam muito nossa vida, pois podemos \"empacotar\" uma classe e criar uma instância (um objeto) sempre que precisarmos utilizar esses dados e funções."
   ]
  },
  {
   "cell_type": "markdown",
   "id": "43c87575",
   "metadata": {},
   "source": [
    "# POO"
   ]
  },
  {
   "cell_type": "markdown",
   "id": "843a86c9",
   "metadata": {},
   "source": [
    "## 6.1 - Introdução ao POO\n",
    "\n",
    "<br/>\n",
    "\n",
    "```python\n",
    ">>> class Pessoa():\n",
    "...     def __init__(self, nome, idade):\n",
    "...         self.nome = nome\n",
    "...         self.idade = idade\n",
    ">>> rafael = Pessoa('Rafael', 29)\n",
    "```\n",
    "\n",
    "<br/>\n",
    "\n",
    "**nota:**\n",
    "<pre>O método \\_\\_init\\_\\_ inicializa a classe </pre>\n",
    "<pre>Em linguagem POO Pessoa é uma classe e rafael é um objeto (ou uma instância) </pre>\n",
    "<pre>É uma boa prática definirmos o nome das classes com a primeira letra maiúscula, ver PEP8 </pre>"
   ]
  },
  {
   "cell_type": "code",
   "execution_count": 15,
   "id": "cb3c0943",
   "metadata": {},
   "outputs": [],
   "source": [
    "class Cachorro():\n",
    "    def __init__(self, nome, idade, raca):\n",
    "        self.nome = nome\n",
    "        self.idade = idade\n",
    "        self.raca = raca\n",
    "        \n",
    "    def latir(self):\n",
    "        print(f'auauau meu nome é {self.nome}')\n"
   ]
  },
  {
   "cell_type": "code",
   "execution_count": 16,
   "id": "e08e1d6f",
   "metadata": {},
   "outputs": [],
   "source": [
    "dogster = Cachorro('Dogster', 5, 'Pastor Alemão')"
   ]
  },
  {
   "cell_type": "code",
   "execution_count": 17,
   "id": "caafd281",
   "metadata": {},
   "outputs": [
    {
     "data": {
      "text/plain": [
       "__main__.Cachorro"
      ]
     },
     "execution_count": 17,
     "metadata": {},
     "output_type": "execute_result"
    }
   ],
   "source": [
    "type(dogster)"
   ]
  },
  {
   "cell_type": "code",
   "execution_count": 18,
   "id": "ceed48e4",
   "metadata": {},
   "outputs": [
    {
     "name": "stdout",
     "output_type": "stream",
     "text": [
      "auauau meu nome é Dogster\n"
     ]
    }
   ],
   "source": [
    "dogster.latir()"
   ]
  },
  {
   "cell_type": "markdown",
   "id": "2575bea9",
   "metadata": {},
   "source": [
    "## 6.3 - Herança e polimorfismo\n",
    "\n",
    "\n",
    "\n",
    "\n",
    "<br/>\n",
    "\n",
    "\n",
    "```python\n",
    ">>> class Estudante(Pessoa):\n",
    "...     def __init__(self, nome, idade, curso):\n",
    "...         super().__init__(nome, idade, curso)\n",
    "...         self.idade = idade\n",
    ">>> rafael = Pessoa('Rafael', 29, 'Engenharia')\n",
    "```\n",
    "\n",
    "<br/>\n",
    "\n",
    "\n",
    "**nota:**\n",
    "<pre>A função super() faz com que a classe filha herde as propriedade e métodos da classe mãe </pre>\n",
    "\n",
    "<pre>O polimorfismo na herança é quando fazemos com que a classe filha tenha uma reação diferente de uma mesma função herdada da classe mãe. Nós sobrescrevemos a função. </pre>"
   ]
  },
  {
   "cell_type": "code",
   "execution_count": 1,
   "id": "3f90f22b",
   "metadata": {},
   "outputs": [],
   "source": [
    "class Animal():\n",
    "    def __init__(self, nome, cor):\n",
    "        self.nome = nome\n",
    "        self.cor = cor\n",
    "        \n",
    "    def reagir(self):\n",
    "        print('faz alguma coisa ...')"
   ]
  },
  {
   "cell_type": "code",
   "execution_count": 4,
   "id": "99b6b049",
   "metadata": {},
   "outputs": [],
   "source": [
    "class Gato(Animal):\n",
    "    def __init__(self, nome, cor, n_patas):\n",
    "        super().__init__(nome, cor)\n",
    "        self.n_patas = n_patas\n",
    "        \n",
    "    def reagir(self): # POLIMORFISMO (FAZ OUTRA COISA COM A MESMA FUNCAO)\n",
    "        print('miau')\n",
    "\n",
    "class Cachorro:\n",
    "    def __init__(self, nome, cor, n_patas):\n",
    "        super().__init__(nome, cor)\n",
    "        self.n_patas = n_patas\n",
    "        \n",
    "    def reagir(self):\n",
    "        print('auau')"
   ]
  },
  {
   "cell_type": "code",
   "execution_count": 5,
   "id": "67e1504e",
   "metadata": {},
   "outputs": [],
   "source": [
    "tarzan = Gato('Tarzan', 'marron', 5)"
   ]
  },
  {
   "cell_type": "code",
   "execution_count": 6,
   "id": "22d06ca8",
   "metadata": {},
   "outputs": [
    {
     "name": "stdout",
     "output_type": "stream",
     "text": [
      "miau\n"
     ]
    }
   ],
   "source": [
    "tarzan.reagir()"
   ]
  },
  {
   "cell_type": "code",
   "execution_count": 80,
   "id": "f8d88200",
   "metadata": {},
   "outputs": [
    {
     "name": "stdout",
     "output_type": "stream",
     "text": [
      "miau\n"
     ]
    }
   ],
   "source": [
    "tarzan.reagir()"
   ]
  },
  {
   "cell_type": "code",
   "execution_count": null,
   "id": "94764112",
   "metadata": {},
   "outputs": [],
   "source": []
  },
  {
   "cell_type": "code",
   "execution_count": null,
   "id": "0cda03f6",
   "metadata": {},
   "outputs": [],
   "source": []
  },
  {
   "cell_type": "markdown",
   "id": "46e86ae0",
   "metadata": {},
   "source": [
    "## 6.4 - Métodos mágicos (Dunder methods)\n",
    "\n",
    "Os métodos mágicos (dunder methods) são métodos especiais no Python. Nós não executamos eles da forma que são construídos, nós executamos ele, por exemplo, através de operadores ou outras ações e o Python executa a função internamente.\n",
    "\n",
    "\n",
    "<br/>\n",
    "\n",
    "### Alguns métodos mágicos\n",
    "\n",
    "<br/>\n",
    "\n",
    "| Método | Descrição |\n",
    "| :-- | :-- |\n",
    "| \\_\\_init\\_\\_ | método que inicializa a classe |\n",
    "| \\_\\_abs\\_\\_ | método que implementa a função built-in abs(), análogo para trunc(), round(), etc. |\n",
    "| \\_\\_iadd\\_\\_ | método que implementa a soma +=. Análogos: isub -=, imul \\*=, etc. |\n",
    "| \\_\\_int\\_\\_ | método que implementa a função built-in int(), mesma coisa para float(), complex(), etc.|\n",
    "| \\_\\_add\\_\\_ | operador +. Análogos: sub -, mul  \\*, pow  \\*\\*, etc. |\n",
    "| \\_\\_lt\\_\\_ |  operador <. Análogos: le <=, eq ==, ne !=, ge >=|\n",
    "| \\_\\_str\\_\\_ | retorna a representação de string (útil para chamarmos com a função print()) | \n",
    "| \\_\\_repr\\_\\_  | é a representação da classe, parecida com a função str | \n",
    "\n",
    "<br/>\n",
    "\n",
    "**nota:**\n",
    "<pre>Use a função dir() para acessar os métodos mágicos de determinada classe </pre>\n",
    "\n",
    "<pre> https://www.tutorialsteacher.com/python/magic-methods-in-python </pre>"
   ]
  },
  {
   "cell_type": "code",
   "execution_count": 38,
   "id": "1d06fce9",
   "metadata": {},
   "outputs": [],
   "source": [
    "class Vetor2d():\n",
    "    def __init__(self, x, y):\n",
    "        self.x = x\n",
    "        self.y = y\n",
    "    \n",
    "    def __add__(self, other):\n",
    "        x = self.x + other.x\n",
    "        y = self.y + other.y\n",
    "        return Vetor2d(x, y)\n",
    "    \n",
    "    def __repr__(self):\n",
    "        return f'Vetor2d({self.x}, {self.y})'\n",
    "    \n",
    "    def norma(self):\n",
    "        norma = (self.x**2+self.y**2) ** (1/2)\n",
    "        return norma\n",
    "    \n",
    "    def __lt__(self, other):\n",
    "        return self.norma() < other.norma()"
   ]
  },
  {
   "cell_type": "code",
   "execution_count": 39,
   "id": "7edca227",
   "metadata": {},
   "outputs": [],
   "source": [
    "v1 = Vetor2d(1, 2)\n",
    "v2 = Vetor2d(3, 3)"
   ]
  },
  {
   "cell_type": "code",
   "execution_count": 41,
   "id": "591de376",
   "metadata": {},
   "outputs": [
    {
     "data": {
      "text/plain": [
       "True"
      ]
     },
     "execution_count": 41,
     "metadata": {},
     "output_type": "execute_result"
    }
   ],
   "source": [
    "v1 < v2"
   ]
  },
  {
   "cell_type": "code",
   "execution_count": 43,
   "id": "2ed3e3da",
   "metadata": {},
   "outputs": [],
   "source": [
    "v1.x = 1000"
   ]
  },
  {
   "cell_type": "code",
   "execution_count": 45,
   "id": "338e876c",
   "metadata": {},
   "outputs": [
    {
     "data": {
      "text/plain": [
       "Vetor2d(1000, 2)"
      ]
     },
     "execution_count": 45,
     "metadata": {},
     "output_type": "execute_result"
    }
   ],
   "source": [
    "v1 #Nós resolveremos o problema do encapsulamento na próxima aula"
   ]
  },
  {
   "cell_type": "markdown",
   "id": "dd7e025a",
   "metadata": {},
   "source": [
    "## 6.5 - Encapsulamento\n",
    "\n",
    "<br/>\n",
    "\n",
    "Encapsulamento é uma forma de escondermos e protegermos uma propriedade caso não desejemos que ela seja vista e/ou modificada.\n",
    "\n",
    "<br/>\n",
    "\n",
    "- Utilizamos \\_\\_.nome para esconder a propriedade\n",
    "- Podemos utilizar o decorator @property para gerar uma propriedade encapsulada\n",
    "- Se a propriedade está decorada, podemos acessar também o @nome.setter e @nome.deleter\n"
   ]
  },
  {
   "cell_type": "code",
   "execution_count": 1,
   "id": "a8f30361",
   "metadata": {},
   "outputs": [],
   "source": [
    "class Pessoa():\n",
    "    def __init__(self, nome, salario):\n",
    "        self.nome = nome\n",
    "        self.__salario = salario\n",
    "        \n",
    "    def __repr__(self):\n",
    "        return f'{self.nome} ganha {self.__salario}'"
   ]
  },
  {
   "cell_type": "code",
   "execution_count": 2,
   "id": "d94ff41a",
   "metadata": {},
   "outputs": [],
   "source": [
    "p1 = Pessoa('Rafael', 30000)"
   ]
  },
  {
   "cell_type": "code",
   "execution_count": null,
   "id": "34af651b",
   "metadata": {},
   "outputs": [],
   "source": []
  },
  {
   "cell_type": "code",
   "execution_count": 5,
   "id": "0b7ad910",
   "metadata": {},
   "outputs": [],
   "source": [
    "class Pessoa():\n",
    "    def __init__(self, nome, salario):\n",
    "        self.nome = nome\n",
    "        self.__salario = salario\n",
    "    \n",
    "    @property\n",
    "    def salario(self):\n",
    "        return self.__salario\n",
    "    \n",
    "    @salario.setter\n",
    "    def salario(self, valor):\n",
    "        #self.__salario = valor\n",
    "        raise ValueError('Não pode aumentar o salário!')\n",
    "    \n",
    "    \n",
    "    def __repr__(self):\n",
    "        return f'{self.nome} ganha {self.salario}'"
   ]
  },
  {
   "cell_type": "code",
   "execution_count": 6,
   "id": "867e1836",
   "metadata": {},
   "outputs": [],
   "source": [
    "p1  = Pessoa('Rafael', 30000)"
   ]
  },
  {
   "cell_type": "code",
   "execution_count": 7,
   "id": "b0f5ab97",
   "metadata": {},
   "outputs": [
    {
     "ename": "ValueError",
     "evalue": "Não pode aumentar o salário!",
     "output_type": "error",
     "traceback": [
      "\u001b[1;31m---------------------------------------------------------------------------\u001b[0m",
      "\u001b[1;31mValueError\u001b[0m                                Traceback (most recent call last)",
      "\u001b[1;32m~\\AppData\\Local\\Temp/ipykernel_18316/1025704064.py\u001b[0m in \u001b[0;36m<module>\u001b[1;34m\u001b[0m\n\u001b[1;32m----> 1\u001b[1;33m \u001b[0mp1\u001b[0m\u001b[1;33m.\u001b[0m\u001b[0msalario\u001b[0m \u001b[1;33m=\u001b[0m \u001b[1;36m50000\u001b[0m\u001b[1;33m\u001b[0m\u001b[1;33m\u001b[0m\u001b[0m\n\u001b[0m",
      "\u001b[1;32m~\\AppData\\Local\\Temp/ipykernel_18316/3398648982.py\u001b[0m in \u001b[0;36msalario\u001b[1;34m(self, valor)\u001b[0m\n\u001b[0;32m     11\u001b[0m     \u001b[1;32mdef\u001b[0m \u001b[0msalario\u001b[0m\u001b[1;33m(\u001b[0m\u001b[0mself\u001b[0m\u001b[1;33m,\u001b[0m \u001b[0mvalor\u001b[0m\u001b[1;33m)\u001b[0m\u001b[1;33m:\u001b[0m\u001b[1;33m\u001b[0m\u001b[1;33m\u001b[0m\u001b[0m\n\u001b[0;32m     12\u001b[0m         \u001b[1;31m#self.__salario = valor\u001b[0m\u001b[1;33m\u001b[0m\u001b[1;33m\u001b[0m\u001b[0m\n\u001b[1;32m---> 13\u001b[1;33m         \u001b[1;32mraise\u001b[0m \u001b[0mValueError\u001b[0m\u001b[1;33m(\u001b[0m\u001b[1;34m'Não pode aumentar o salário!'\u001b[0m\u001b[1;33m)\u001b[0m\u001b[1;33m\u001b[0m\u001b[1;33m\u001b[0m\u001b[0m\n\u001b[0m\u001b[0;32m     14\u001b[0m \u001b[1;33m\u001b[0m\u001b[0m\n\u001b[0;32m     15\u001b[0m \u001b[1;33m\u001b[0m\u001b[0m\n",
      "\u001b[1;31mValueError\u001b[0m: Não pode aumentar o salário!"
     ]
    }
   ],
   "source": [
    "p1.salario = 50000"
   ]
  },
  {
   "cell_type": "code",
   "execution_count": null,
   "id": "3a3901b4",
   "metadata": {},
   "outputs": [],
   "source": []
  },
  {
   "cell_type": "code",
   "execution_count": 73,
   "id": "a9403445",
   "metadata": {},
   "outputs": [
    {
     "data": {
      "text/plain": [
       "Rafael ganha 50000"
      ]
     },
     "execution_count": 73,
     "metadata": {},
     "output_type": "execute_result"
    }
   ],
   "source": [
    "p1"
   ]
  },
  {
   "cell_type": "markdown",
   "id": "c52dfbe6",
   "metadata": {},
   "source": [
    "# Iterators"
   ]
  },
  {
   "cell_type": "markdown",
   "id": "c1082c0c",
   "metadata": {},
   "source": [
    "## 6.6 - O que são iterators\n",
    "\n",
    "<br/>\n",
    "\n",
    "Os iterators são iteráveis que produzem valores a cada vez que utilizamos a função next(), de maneira parecida que vimos em generators. Podemos criar iterators utilizando a função iter() e passando um iterável como argumento.\n",
    "\n",
    "```python\n",
    ">>> a = [i for i in range(10)]\n",
    ">>> b = iter(a)\n",
    ">>> next(b)\n",
    "```\n",
    "\n",
    "\n",
    "**nota:**\n",
    "<pre>Quando atingimos o limite de valores do iterator, um erro StopIteration será apresentado. </pre>\n",
    "<pre>Na próxima aula veremos com criar um objeto iterator. </pre>"
   ]
  },
  {
   "cell_type": "code",
   "execution_count": 8,
   "id": "f55bceef",
   "metadata": {},
   "outputs": [],
   "source": [
    "a = [i for i in range(10)]\n",
    "b = iter(a)"
   ]
  },
  {
   "cell_type": "code",
   "execution_count": 19,
   "id": "b25528bb",
   "metadata": {},
   "outputs": [
    {
     "ename": "StopIteration",
     "evalue": "",
     "output_type": "error",
     "traceback": [
      "\u001b[1;31m---------------------------------------------------------------------------\u001b[0m",
      "\u001b[1;31mStopIteration\u001b[0m                             Traceback (most recent call last)",
      "\u001b[1;32m~\\AppData\\Local\\Temp/ipykernel_13100/973617480.py\u001b[0m in \u001b[0;36m<module>\u001b[1;34m\u001b[0m\n\u001b[1;32m----> 1\u001b[1;33m \u001b[0mnext\u001b[0m\u001b[1;33m(\u001b[0m\u001b[0mb\u001b[0m\u001b[1;33m)\u001b[0m\u001b[1;33m\u001b[0m\u001b[1;33m\u001b[0m\u001b[0m\n\u001b[0m",
      "\u001b[1;31mStopIteration\u001b[0m: "
     ]
    }
   ],
   "source": [
    "next(b)"
   ]
  },
  {
   "cell_type": "code",
   "execution_count": null,
   "id": "47de5544",
   "metadata": {},
   "outputs": [],
   "source": []
  },
  {
   "cell_type": "markdown",
   "id": "5642ad21",
   "metadata": {},
   "source": [
    "## 6.7 - Criando um iterator\n",
    "\n",
    "<br/>\n",
    "\n",
    "Para criarmos um objeto iterator precisamos implementar o método __iter__ e o método __next__.\n",
    "\n",
    "\n",
    "\n",
    "| Método | Descrição |\n",
    "| :-- | :-- |\n",
    "| \\_\\_init\\_\\_ | método que cria o iterator, quando ele é chamado o iterator é inicializado |\n",
    "| \\_\\_next\\_\\_ | implementa o método que move para o próximo elemento |\n",
    "\n",
    "\n",
    "**nota:**\n",
    "<pre>Podemos implementar a excessão StopIteration. Na próxima seção iremos conhecer um pouco mais sobre as excessões em Python. </pre>"
   ]
  },
  {
   "cell_type": "code",
   "execution_count": 12,
   "id": "b9ee06e0",
   "metadata": {},
   "outputs": [],
   "source": [
    "class Iterador:\n",
    "    def __init__(self, n):\n",
    "        self.i = 0\n",
    "        self.n = n\n",
    "\n",
    "    def __iter__(self):\n",
    "        return self\n",
    "\n",
    "    def __next__(self):\n",
    "        if self.i < self.n:\n",
    "            i = self.i\n",
    "            self.i += 1\n",
    "            return i\n",
    "        else:\n",
    "            raise StopIteration('Atingimos o valor de n')"
   ]
  },
  {
   "cell_type": "code",
   "execution_count": 13,
   "id": "22cf592b",
   "metadata": {},
   "outputs": [],
   "source": [
    "a = Iterador(5)"
   ]
  },
  {
   "cell_type": "code",
   "execution_count": 15,
   "id": "b163ea85",
   "metadata": {},
   "outputs": [
    {
     "data": {
      "text/plain": [
       "1"
      ]
     },
     "execution_count": 15,
     "metadata": {},
     "output_type": "execute_result"
    }
   ],
   "source": [
    "next(a)"
   ]
  },
  {
   "attachments": {},
   "cell_type": "markdown",
   "id": "4ff9c078",
   "metadata": {},
   "source": [
    "## Descriptor for validation\n",
    "\n",
    "https://towardsdatascience.com/6-approaches-to-validate-class-attributes-in-python-b51cffb8c4ea\n",
    "\n"
   ]
  },
  {
   "cell_type": "code",
   "execution_count": 48,
   "id": "da010ce0",
   "metadata": {},
   "outputs": [],
   "source": [
    "import numbers\n",
    "\n",
    "class _NumberDescriptor:\n",
    "    def __init__(self, n_min=None, n_max=None):\n",
    "        self.n_min = n_min\n",
    "        self.n_max = n_max\n",
    "\n",
    "    def __set_name__(self, owner_class, name):\n",
    "        self.name = name\n",
    "\n",
    "    def __set__(self, instance, value):\n",
    "        if not isinstance(value, numbers.Real):\n",
    "            raise ValueError(f'{self.name} Must be a real number')\n",
    "        if self.n_min is not None and value < self.n_min:\n",
    "            raise ValueError(f'{self.name} must be at least {self.n_min}')\n",
    "        if self.n_max is not None and value > self.n_max:\n",
    "            raise ValueError(f'{self.name} cannot exceed {self.n_max}')\n",
    "        instance.__dict__[self.name] = value\n",
    "\n",
    "    def __get__(self, instance, owner_class):\n",
    "        if instance is None:\n",
    "            return self\n",
    "        else:\n",
    "            return instance.__dict__.get(self.name, None)\n"
   ]
  },
  {
   "cell_type": "code",
   "execution_count": 54,
   "id": "6da9866b",
   "metadata": {},
   "outputs": [],
   "source": [
    "class MakeProperty:\n",
    "    def __init__(self, fget=None, fset=None):\n",
    "        self.fget = fget\n",
    "        self.fset = fset\n",
    "        \n",
    "    def __set_name__(self, owner_class, prop_name):\n",
    "        self.prop_name = prop_name\n",
    "        \n",
    "    def __get__(self, instance, owner_class):\n",
    "        print('__get__ called...')\n",
    "        if instance is None:\n",
    "            return self\n",
    "        if self.fget is None:\n",
    "            raise AttributeError(f'{self.prop_name} is not readable.')\n",
    "        return self.fget(instance)\n",
    "            \n",
    "    def __set__(self, instance, value):\n",
    "        print('__set__ called...')\n",
    "        if self.fset is None:\n",
    "            raise AttributeError(f'{self.prop_name} is not writable.')\n",
    "        self.fset(instance, value)\n",
    "        \n",
    "    def setter(self, fset):\n",
    "        self.fset = fset\n",
    "        return self"
   ]
  },
  {
   "cell_type": "code",
   "execution_count": 57,
   "id": "699408fe",
   "metadata": {},
   "outputs": [],
   "source": [
    "class SimpleClass:\n",
    "    x = _NumberDescriptor(n_min=6, n_max=10)\n",
    "\n",
    "\n",
    "    def __init__(self, x, y):\n",
    "        self.x = x\n",
    "        self.y = y"
   ]
  },
  {
   "cell_type": "code",
   "execution_count": 58,
   "id": "88ba273d",
   "metadata": {},
   "outputs": [],
   "source": [
    "a = SimpleClass(7, 2)"
   ]
  },
  {
   "cell_type": "code",
   "execution_count": 46,
   "id": "b0ebd027",
   "metadata": {},
   "outputs": [],
   "source": [
    "a.x = 100"
   ]
  },
  {
   "cell_type": "markdown",
   "id": "840c3d12",
   "metadata": {},
   "source": [
    "# Exercícios"
   ]
  },
  {
   "cell_type": "code",
   "execution_count": null,
   "id": "ed15f1ba",
   "metadata": {},
   "outputs": [],
   "source": []
  },
  {
   "cell_type": "markdown",
   "id": "271a5cbb",
   "metadata": {},
   "source": [
    "## E6.1\n",
    "Crie um objeto conta, neste caso, se trata de uma conta bancária para guardar dinheiro.\n",
    "\n",
    "Este objeto deve ter as seguintes propriedades:\n",
    "- limite (valor fixo de dinheiro que cabe dentro da carteira)\n",
    "- saldo (valor que a carteira possui atualmente)"
   ]
  },
  {
   "cell_type": "code",
   "execution_count": 16,
   "id": "1d878a0f",
   "metadata": {},
   "outputs": [],
   "source": [
    "class Conta:\n",
    "    def __init__(self, limite, saldo):\n",
    "        self.limite = limite\n",
    "        self.saldo = saldo"
   ]
  },
  {
   "cell_type": "code",
   "execution_count": 17,
   "id": "92033b09",
   "metadata": {},
   "outputs": [],
   "source": [
    "minha_conta = Conta(200, 10)"
   ]
  },
  {
   "cell_type": "markdown",
   "id": "9ba14cd1",
   "metadata": {},
   "source": [
    "## E6.2\n",
    "Crie uma classe de conta personalizada que herde as propriedades da classe conta e que além disso possua outras duas propriedades:\n",
    "- limite_cripto  (valor fixo de criptomoedas que cabe dentro da carteira)\n",
    "- saldo_cripto  (valor de criptomoedas que a carteira possui atualmente)\n",
    "\n",
    "\n",
    "Crie também um método de representação para que possamos ver a carteira."
   ]
  },
  {
   "cell_type": "code",
   "execution_count": 10,
   "id": "1fd45d4e",
   "metadata": {},
   "outputs": [],
   "source": [
    "class ContaPersonalizada(Conta):\n",
    "    def __init__(self, limite, saldo, limite_cripto, saldo_cripto):\n",
    "        super().__init__(limite, saldo)\n",
    "        self.limite_cripto = limite_cripto\n",
    "        self.saldo_cripto = saldo_cripto\n",
    "        \n",
    "    def __str__(self):\n",
    "        conteudo = f'\\\n",
    "                    limite = {self.limite} R$ \\n\\\n",
    "                    saldo = {self.saldo} R$ \\n\\\n",
    "                    limite_cripto = {self.limite_cripto} \\n\\\n",
    "                    saldo_cripto = {self.saldo_cripto} \\n'\n",
    "        return conteudo"
   ]
  },
  {
   "cell_type": "code",
   "execution_count": 11,
   "id": "f0c4238e",
   "metadata": {},
   "outputs": [
    {
     "name": "stdout",
     "output_type": "stream",
     "text": [
      "                    limite = 1000 R$ \n",
      "                    saldo = 10 R$ \n",
      "                    limite_cripto = 2 \n",
      "                    saldo_cripto = 0.5 \n",
      "\n"
     ]
    }
   ],
   "source": [
    "minha_conta = ContaPersonalizada(1000, 10, 2, 0.5)\n",
    "print(minha_conta)"
   ]
  },
  {
   "cell_type": "markdown",
   "id": "1c906756",
   "metadata": {},
   "source": [
    "## E6.3\n",
    "Faça o encapsulamento das propriedades limite e limite_cripto, de forma que não possam ser modificadas."
   ]
  },
  {
   "cell_type": "code",
   "execution_count": null,
   "id": "9f1d88ea",
   "metadata": {},
   "outputs": [],
   "source": []
  },
  {
   "cell_type": "code",
   "execution_count": null,
   "id": "5c499e98",
   "metadata": {},
   "outputs": [],
   "source": []
  },
  {
   "cell_type": "markdown",
   "id": "3fba14c0",
   "metadata": {},
   "source": [
    "## E6.4\n",
    "Crie métodos para saque e depósito, esses métodos devem alterar o valor dos saldos tando na cripto quando no dinheiro."
   ]
  },
  {
   "cell_type": "code",
   "execution_count": null,
   "id": "3f3d19a6",
   "metadata": {},
   "outputs": [],
   "source": []
  }
 ],
 "metadata": {
  "kernelspec": {
   "display_name": "base",
   "language": "python",
   "name": "python3"
  },
  "language_info": {
   "codemirror_mode": {
    "name": "ipython",
    "version": 3
   },
   "file_extension": ".py",
   "mimetype": "text/x-python",
   "name": "python",
   "nbconvert_exporter": "python",
   "pygments_lexer": "ipython3",
   "version": "3.9.12 (main, Apr  4 2022, 05:22:27) [MSC v.1916 64 bit (AMD64)]"
  },
  "vscode": {
   "interpreter": {
    "hash": "c1590602456d7cb2bb11a9c056450b313acab0eb77422ae1a602feaa944934ec"
   }
  }
 },
 "nbformat": 4,
 "nbformat_minor": 5
}
