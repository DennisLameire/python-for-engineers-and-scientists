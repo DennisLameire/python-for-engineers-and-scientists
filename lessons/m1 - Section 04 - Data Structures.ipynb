{
 "cells": [
  {
   "cell_type": "markdown",
   "id": "357dcb4e",
   "metadata": {},
   "source": [
    "# PART 1\n",
    "# Section 4: Data Structures\n",
    "\n",
    "The collections we saw in the first section of the course have a much greater significance than just being a container; they are data structures. In this section, we will look at the methods applicable to these collections, delve deeper into data structures, and explore other structures available in Python.\n"
   ]
  },
  {
   "cell_type": "markdown",
   "id": "ccec5f6e",
   "metadata": {},
   "source": [
    "# LISTS"
   ]
  },
  {
   "cell_type": "markdown",
   "id": "de933058",
   "metadata": {},
   "source": [
    "## 4.1 - Methods for Lists\n",
    "\n",
    "| Method | Description |\n",
    "| :-- | :-- |\n",
    "| append(arg) | Adds the variable to the end |\n",
    "| extend(other_list) | Adds the elements to the end |\n",
    "| remove(arg) | Removes the first element with value arg |\n",
    "| count(arg) | Counts the number of elements with value arg |\n",
    "| sort() | Reorders elements in numerical or alphabetical order |\n",
    "| reverse() | Reverses the order of elements |\n",
    "| copy() | Returns a copy of the list |\n",
    "| index(arg) | Returns the index of the first occurrence of arg in the list |\n",
    "| clear() | Removes all elements from the list |\n",
    "| insert(position, arg) | Inserts the argument at the indicated position |\n",
    "| pop(position) | Removes the element at the specified position and returns the element |\n",
    "\n",
    "**note:**\n",
    "<pre>When using a method, find out if it modifies the object or if it generates a new object.</pre>"
   ]
  },
  {
   "cell_type": "code",
   "execution_count": null,
   "id": "72f54bd2",
   "metadata": {},
   "outputs": [],
   "source": []
  },
  {
   "cell_type": "code",
   "execution_count": null,
   "id": "a044a0c4",
   "metadata": {},
   "outputs": [],
   "source": []
  },
  {
   "cell_type": "markdown",
   "id": "326350c7",
   "metadata": {},
   "source": [
    "## 4.2 - List Comprehensions\n",
    "\n",
    "List comprehensions are cleaner, or more Pythonic, ways of doing what we often do with loops.\n",
    "\n",
    "#### Syntax for a list using **for**\n",
    "\n",
    "```python\n",
    ">>> my_list = []\n",
    ">>> for item in range(10):\n",
    "...    my_list.append(item**2) \n",
    "```\n",
    "\n",
    "#### Syntax for a list using **for**\n",
    "\n",
    "```python\n",
    ">>> my_list = [item**2 for item in range(10)]\n",
    "```"
   ]
  },
  {
   "cell_type": "code",
   "execution_count": null,
   "id": "29c97028",
   "metadata": {},
   "outputs": [],
   "source": []
  },
  {
   "cell_type": "code",
   "execution_count": null,
   "id": "648e60fc",
   "metadata": {},
   "outputs": [],
   "source": []
  },
  {
   "cell_type": "markdown",
   "id": "97822ed6",
   "metadata": {},
   "source": [
    "## 4.3 - List Indexing and Slicing\n",
    "\n",
    "| Syntax | Description |\n",
    "| :-- | :-- |\n",
    "| [ i ] | Returns the element at index i |\n",
    "| [ -i ] | Returns the i-th element from the end. In this case, -1 is the last element |\n",
    "| [ a:b ] | Returns the elements in the range $[a, b[$ = $\\{x \\in \\mathbb{Z}│a \\le x \\lt b\\}$ |\n",
    "| [ i ][ j ] | Returns the element at position $(i, j)$ for a two-dimensional list |\n",
    "\n",
    "**note:**\n",
    "<pre>Later in the course, we will learn about numpy arrays, which also have slicing operations,\n",
    "but handle multidimensionality in a broader way.</pre>"
   ]
  },
  {
   "cell_type": "code",
   "execution_count": 10,
   "id": "43bd381e",
   "metadata": {},
   "outputs": [],
   "source": [
    "a = [i**2 for i in range(10)]"
   ]
  },
  {
   "cell_type": "code",
   "execution_count": 26,
   "id": "6dfebc21",
   "metadata": {},
   "outputs": [],
   "source": [
    "b = [[1, 2, 3],\n",
    "    [5, 6, 7]]"
   ]
  },
  {
   "cell_type": "code",
   "execution_count": 27,
   "id": "7bc50e9d",
   "metadata": {},
   "outputs": [
    {
     "data": {
      "text/plain": [
       "[0, 1, 4, 9, 16, 25, 36, 49, 64, 81]"
      ]
     },
     "execution_count": 27,
     "metadata": {},
     "output_type": "execute_result"
    }
   ],
   "source": [
    "a"
   ]
  },
  {
   "cell_type": "code",
   "execution_count": 32,
   "id": "c92ce0ba",
   "metadata": {},
   "outputs": [
    {
     "data": {
      "text/plain": [
       "[49, 64]"
      ]
     },
     "execution_count": 32,
     "metadata": {},
     "output_type": "execute_result"
    }
   ],
   "source": [
    "a[-3:-1]"
   ]
  },
  {
   "cell_type": "markdown",
   "id": "be00b54e",
   "metadata": {},
   "source": [
    "# TUPLES"
   ]
  },
  {
   "cell_type": "markdown",
   "id": "a3f6c0a4",
   "metadata": {},
   "source": [
    "## 4.4 - Methods for Tuples\n",
    "\n",
    "| Method | Description |\n",
    "| :-- | :-- |\n",
    "| count(arg) | returns the number of times arg appears |\n",
    "| index(arg) | Returns the index of the first occurrence of arg in the tuple |\n"
   ]
  },
  {
   "cell_type": "code",
   "execution_count": null,
   "id": "40d58ed5",
   "metadata": {},
   "outputs": [],
   "source": []
  },
  {
   "cell_type": "code",
   "execution_count": null,
   "id": "2535891d",
   "metadata": {},
   "outputs": [],
   "source": []
  },
  {
   "cell_type": "code",
   "execution_count": null,
   "id": "5f9e6595",
   "metadata": {},
   "outputs": [],
   "source": []
  },
  {
   "cell_type": "markdown",
   "id": "58fffdf6",
   "metadata": {},
   "source": [
    "## 4.5 - Tuple Unpacking\n",
    "\n",
    "#### Unpacking Syntax\n",
    "\n",
    "```python\n",
    ">>> my_tuple = (1, 2, 3)\n",
    ">>> a, b, c = my_tuple\n",
    ">>> # a, b, c will receive the values of 1, 2, and 3, respectively\n",
    "```\n",
    "\n",
    "**Notes:**\n",
    "<pre>We can create a tuple using just commas (parentheses are not mandatory).</pre>\n",
    "<pre>Unpacking operations are used in various scenarios, such as: in functions, variable assignments, loops, etc.</pre>\n",
    "<pre>We can use unpacking to swap variables.</pre>"
   ]
  },
  {
   "cell_type": "code",
   "execution_count": 4,
   "id": "09e48cbd",
   "metadata": {},
   "outputs": [],
   "source": [
    "d, e, f = 1, 2, 3"
   ]
  },
  {
   "cell_type": "code",
   "execution_count": 9,
   "id": "b8cd45b0",
   "metadata": {},
   "outputs": [],
   "source": [
    "d, *l, f = 1, 2, 3, 4, 5"
   ]
  },
  {
   "cell_type": "code",
   "execution_count": 10,
   "id": "18291798",
   "metadata": {},
   "outputs": [
    {
     "data": {
      "text/plain": [
       "[2, 3, 4]"
      ]
     },
     "execution_count": 10,
     "metadata": {},
     "output_type": "execute_result"
    }
   ],
   "source": [
    "l"
   ]
  },
  {
   "cell_type": "code",
   "execution_count": 1,
   "id": "13675a79",
   "metadata": {
    "scrolled": true
   },
   "outputs": [],
   "source": [
    "#exemplo com enumerate"
   ]
  },
  {
   "cell_type": "markdown",
   "id": "24c33e56",
   "metadata": {},
   "source": [
    "## SETS"
   ]
  },
  {
   "cell_type": "markdown",
   "id": "35746e8b",
   "metadata": {},
   "source": [
    "## 4.6 - Methods for Sets\n",
    "\n",
    "| Method | Description |\n",
    "| :-- | :-- |\n",
    "| add(arg) | adds the argument to the set |\n",
    "| copy() | Returns a copy of the set |\n",
    "| clear() | removes all elements from the set |\n",
    "| discard(arg) | removes arg from the set |\n",
    "| pop() | removes a random element from the set |\n",
    "| remove(arg) | removes the element with value arg |\n",
    "| update(iterable) | updates the set with another set or an iterable |\n",
    "\n"
   ]
  },
  {
   "cell_type": "code",
   "execution_count": 4,
   "id": "fc8af356",
   "metadata": {},
   "outputs": [],
   "source": []
  },
  {
   "cell_type": "code",
   "execution_count": null,
   "id": "7df1d1f3",
   "metadata": {},
   "outputs": [],
   "source": []
  },
  {
   "cell_type": "code",
   "execution_count": null,
   "id": "02d41141",
   "metadata": {},
   "outputs": [],
   "source": []
  },
  {
   "cell_type": "markdown",
   "id": "3878c880",
   "metadata": {},
   "source": [
    "## 4.7 - Set Operations\n",
    "\n",
    "| Method | Operator | Description |\n",
    "| :-- | :-- | :-- |\n",
    "| s.issubset(t) | s <= t  | checks if all elements of s are in t and returns a bool |\n",
    "| s.issuperset(t) | s >= t | checks if all elements of t are in s and returns a bool |\n",
    "| s.union(t) | s \\| t | creates a new set with elements from s and t |\n",
    "| s.intersection(t) | s & t | creates a new set with elements common to both s and t |\n",
    "| s.difference(t) | s - t | creates a new set with elements in s but not in t |\n",
    "| s.symmetric_difference(t) | s ^ t | creates a new set with elements in s or t but not in both |\n"
   ]
  },
  {
   "cell_type": "code",
   "execution_count": null,
   "id": "aa72aaee",
   "metadata": {},
   "outputs": [],
   "source": []
  },
  {
   "cell_type": "code",
   "execution_count": null,
   "id": "d6844351",
   "metadata": {},
   "outputs": [],
   "source": []
  },
  {
   "cell_type": "code",
   "execution_count": null,
   "id": "7b78db7a",
   "metadata": {},
   "outputs": [],
   "source": []
  },
  {
   "cell_type": "markdown",
   "id": "b9c8f076",
   "metadata": {},
   "source": [
    "# DICTIONARIES"
   ]
  },
  {
   "cell_type": "markdown",
   "id": "4ed717ef",
   "metadata": {},
   "source": [
    "## 4.8 - Dictionary Methods\n",
    "\n",
    "| Method | Description |\n",
    "| :-- | :-- |\n",
    "| clear() | removes all elements from the dictionary |\n",
    "| copy() | Returns a copy of the dictionary |\n",
    "| pop(key) | removes the element at the specified position and returns the element |\n",
    "| dict.fromkeys(keys, value) | keys is an iterable and value is a fixed value. This method generates a dictionary |\n",
    "| get(key, optional_value) | returns a specified key, if the key does not exist, it returns the optional_value |\n",
    "| items() | returns a list containing tuples with the pairs (keys, value) |\n",
    "| keys() | returns a list containing the keys of the dictionary |\n",
    "| values() | returns a list with the values of the dictionary |\n",
    "| update(dictionary) | appends one dictionary to another |"
   ]
  },
  {
   "cell_type": "code",
   "execution_count": null,
   "id": "a905bce2",
   "metadata": {},
   "outputs": [],
   "source": []
  },
  {
   "cell_type": "code",
   "execution_count": null,
   "id": "16fa083e",
   "metadata": {},
   "outputs": [],
   "source": []
  },
  {
   "cell_type": "code",
   "execution_count": null,
   "id": "9c5989de",
   "metadata": {},
   "outputs": [],
   "source": []
  },
  {
   "cell_type": "markdown",
   "id": "b0978f12",
   "metadata": {},
   "source": [
    "# Applicable Built-in Functions"
   ]
  },
  {
   "cell_type": "markdown",
   "id": "74ab7bbf",
   "metadata": {},
   "source": [
    "## 4.9 - any and all\n",
    "\n",
    "| Function | Description |\n",
    "| :-- | :-- |\n",
    "| all() | Returns True if all values in the iterable are True (False otherwise). For an empty iterable, it returns True |\n",
    "| any() | Returns True if at least one value in the iterable is True (False otherwise). For an empty iterable, it returns False |\n",
    "\n",
    "**Notes:**\n",
    "<pre>The logical value of 0 is False and of 1 is True. This also applies to these built-in functions.</pre>\n"
   ]
  },
  {
   "cell_type": "code",
   "execution_count": 19,
   "id": "812afea7",
   "metadata": {},
   "outputs": [
    {
     "data": {
      "text/plain": [
       "True"
      ]
     },
     "execution_count": 19,
     "metadata": {},
     "output_type": "execute_result"
    }
   ],
   "source": [
    "all([True, True])"
   ]
  },
  {
   "cell_type": "code",
   "execution_count": null,
   "id": "5360cd2e",
   "metadata": {},
   "outputs": [],
   "source": []
  },
  {
   "cell_type": "markdown",
   "id": "8ba344be",
   "metadata": {},
   "source": [
    "## 4.10 - zip\n",
    "\n",
    "| Function | Description |\n",
    "| :-- | :-- |\n",
    "| zip(\\*iterables) | Packs values from iterables into a list of tuples. Similar to enumerate, dict.items |\n",
    "\n",
    "**Notes:**\n",
    "<pre>We can generate a dictionary from zip.</pre>\n",
    "<pre>We can generate a zip from a dictionary using items.</pre>\n",
    "<pre>zip(*zipped) is the unpacking operation of zip().</pre>"
   ]
  },
  {
   "cell_type": "code",
   "execution_count": 33,
   "id": "792a352c",
   "metadata": {},
   "outputs": [],
   "source": [
    "a = ['a', 'b', 'c']\n",
    "b = range(3)\n",
    "\n",
    "z = list(zip(a, b))"
   ]
  },
  {
   "cell_type": "code",
   "execution_count": 34,
   "id": "514d5115",
   "metadata": {},
   "outputs": [
    {
     "data": {
      "text/plain": [
       "[('a', 'b', 'c'), (0, 1, 2)]"
      ]
     },
     "execution_count": 34,
     "metadata": {},
     "output_type": "execute_result"
    }
   ],
   "source": [
    "list(zip(*z))"
   ]
  },
  {
   "cell_type": "code",
   "execution_count": null,
   "id": "70972d72",
   "metadata": {},
   "outputs": [],
   "source": []
  },
  {
   "cell_type": "markdown",
   "id": "dec49695",
   "metadata": {},
   "source": [
    "## 4.11 - map\n",
    "\n",
    "| Function | Description |\n",
    "| :-- | :-- |\n",
    "| map(func, iterable) | applies the function to each element of the iterable |\n",
    "\n",
    "**Notes:**\n",
    "<pre>Can be used with lambda functions, which we will see later on.</pre>"
   ]
  },
  {
   "cell_type": "code",
   "execution_count": 35,
   "id": "43fbe25d",
   "metadata": {},
   "outputs": [
    {
     "data": {
      "text/plain": [
       "'map(func, *iterables) --> map object\\n\\nMake an iterator that computes the function using arguments from\\neach of the iterables.  Stops when the shortest iterable is exhausted.'"
      ]
     },
     "execution_count": 35,
     "metadata": {},
     "output_type": "execute_result"
    }
   ],
   "source": [
    "map.__doc__"
   ]
  },
  {
   "cell_type": "code",
   "execution_count": 37,
   "id": "f72c9c05",
   "metadata": {},
   "outputs": [],
   "source": [
    "def quad(x):\n",
    "    return x**2"
   ]
  },
  {
   "cell_type": "code",
   "execution_count": 39,
   "id": "e66e48ef",
   "metadata": {},
   "outputs": [
    {
     "data": {
      "text/plain": [
       "[1, 4, 9, 16]"
      ]
     },
     "execution_count": 39,
     "metadata": {},
     "output_type": "execute_result"
    }
   ],
   "source": [
    "list(map(quad, [1, 2, 3, 4]))"
   ]
  },
  {
   "cell_type": "code",
   "execution_count": null,
   "id": "b84acc87",
   "metadata": {},
   "outputs": [],
   "source": []
  },
  {
   "cell_type": "code",
   "execution_count": null,
   "id": "0deacb24",
   "metadata": {},
   "outputs": [],
   "source": []
  },
  {
   "cell_type": "markdown",
   "id": "63792813",
   "metadata": {},
   "source": [
    "## 4.12 - filter\n",
    "\n",
    "| Function | Description |\n",
    "| :-- | :-- |\n",
    "| filter(func, iterable) | Applies the function to the elements of the iterable and returns an iterable with the True elements |\n",
    "\n"
   ]
  },
  {
   "cell_type": "code",
   "execution_count": 43,
   "id": "f99aeca0",
   "metadata": {},
   "outputs": [],
   "source": [
    "def func(x):\n",
    "    return x > 5"
   ]
  },
  {
   "cell_type": "code",
   "execution_count": 48,
   "id": "04d5c0a3",
   "metadata": {},
   "outputs": [
    {
     "data": {
      "text/plain": [
       "[10, 11, 12]"
      ]
     },
     "execution_count": 48,
     "metadata": {},
     "output_type": "execute_result"
    }
   ],
   "source": [
    "list(filter(func, [5, 10, 11, 3, 12,]))"
   ]
  },
  {
   "cell_type": "code",
   "execution_count": null,
   "id": "fb3e2360",
   "metadata": {},
   "outputs": [],
   "source": []
  },
  {
   "cell_type": "code",
   "execution_count": null,
   "id": "e7075d7e",
   "metadata": {},
   "outputs": [],
   "source": []
  },
  {
   "cell_type": "code",
   "execution_count": null,
   "id": "78c3665c",
   "metadata": {},
   "outputs": [],
   "source": []
  },
  {
   "cell_type": "markdown",
   "id": "059ca618",
   "metadata": {},
   "source": [
    "# Exercises"
   ]
  },
  {
   "cell_type": "markdown",
   "id": "87bb99d0",
   "metadata": {},
   "source": [
    "## E4.1\n",
    "Create a list of integers starting from 20 and ending at 0."
   ]
  },
  {
   "cell_type": "code",
   "execution_count": 1,
   "id": "8d53eae0",
   "metadata": {},
   "outputs": [
    {
     "data": {
      "text/plain": [
       "[0, 1, 2, 3, 4, 5, 6, 7, 8, 9, 10, 11, 12, 13, 14, 15, 16, 17, 18, 19, 20]"
      ]
     },
     "execution_count": 1,
     "metadata": {},
     "output_type": "execute_result"
    }
   ],
   "source": [
    "list(range(21))"
   ]
  },
  {
   "cell_type": "markdown",
   "id": "777b19ef",
   "metadata": {},
   "source": [
    "## E4.2\n",
    "Create a list with the squares of numbers from 0 to 10."
   ]
  },
  {
   "cell_type": "code",
   "execution_count": 15,
   "id": "73b0425b",
   "metadata": {},
   "outputs": [
    {
     "data": {
      "text/plain": [
       "[0, 1, 4, 9, 16, 25, 36, 49, 64, 81, 100]"
      ]
     },
     "execution_count": 15,
     "metadata": {},
     "output_type": "execute_result"
    }
   ],
   "source": [
    "a = [i**2 for i in range(11)]\n",
    "a"
   ]
  },
  {
   "cell_type": "markdown",
   "id": "48385451",
   "metadata": {},
   "source": [
    "## E4.3\n",
    "Perform the following operations:\n",
    "- Create a zip of numbers from 0 to 10 and the squares of these numbers.\n",
    "- Convert the zip into a list and see the result.\n",
    "- Then loop through the zip and print on the screen the number and its square."
   ]
  },
  {
   "cell_type": "code",
   "execution_count": 19,
   "id": "3528b636",
   "metadata": {},
   "outputs": [],
   "source": [
    "a = [i for i in range(11)]\n",
    "b = [i**2 for i in a]\n",
    "ab = zip(a, b)\n",
    "\n",
    "# list(ab)"
   ]
  },
  {
   "cell_type": "code",
   "execution_count": 20,
   "id": "95095036",
   "metadata": {},
   "outputs": [
    {
     "name": "stdout",
     "output_type": "stream",
     "text": [
      "a = 0        b = 0\n",
      "a = 1        b = 1\n",
      "a = 2        b = 4\n",
      "a = 3        b = 9\n",
      "a = 4        b = 16\n",
      "a = 5        b = 25\n",
      "a = 6        b = 36\n",
      "a = 7        b = 49\n",
      "a = 8        b = 64\n",
      "a = 9        b = 81\n",
      "a = 10        b = 100\n"
     ]
    }
   ],
   "source": [
    "for a_value, b_value in ab:\n",
    "    print(f'a = {a_value}        b = {b_value}')"
   ]
  },
  {
   "cell_type": "markdown",
   "id": "0ff73a1b",
   "metadata": {},
   "source": [
    "## E4.4\n",
    "Create a dictionary where the key is the integer and the value is the square of the number. Do it from 0 to 10."
   ]
  },
  {
   "cell_type": "code",
   "execution_count": 13,
   "id": "0e64d525",
   "metadata": {},
   "outputs": [
    {
     "data": {
      "text/plain": [
       "{0: 0, 1: 1, 2: 4, 3: 9, 4: 16, 5: 25, 6: 36, 7: 49, 8: 64, 9: 81, 10: 100}"
      ]
     },
     "execution_count": 13,
     "metadata": {},
     "output_type": "execute_result"
    }
   ],
   "source": [
    "key = list(range(11))\n",
    "value = [i**2 for i in key]\n",
    "resposta = {}\n",
    "\n",
    "for k, v in zip(key, value):\n",
    "    resposta[k] = v\n",
    "    \n",
    "resposta"
   ]
  },
  {
   "cell_type": "code",
   "execution_count": null,
   "id": "a5cd8014",
   "metadata": {},
   "outputs": [],
   "source": []
  },
  {
   "cell_type": "markdown",
   "id": "86694376",
   "metadata": {},
   "source": [
    "## E4.5\n",
    "Given the following list, remove duplicate values and then sort them in ascending order.\n",
    "\n",
    "```python\n",
    ">>> a = [1, 2, 3, 1, 2, 6, 2, 8, 1, 0]\n",
    "```"
   ]
  },
  {
   "cell_type": "code",
   "execution_count": 25,
   "id": "d54ee4ae",
   "metadata": {},
   "outputs": [
    {
     "data": {
      "text/plain": [
       "[0, 1, 2, 3, 6, 8]"
      ]
     },
     "execution_count": 25,
     "metadata": {},
     "output_type": "execute_result"
    }
   ],
   "source": [
    "a = [1, 2, 3, 1, 2, 6, 2, 8, 1, 0]\n",
    "a = set(a)\n",
    "a = list(a)\n",
    "a.sort()\n",
    "\n",
    "a"
   ]
  },
  {
   "cell_type": "markdown",
   "id": "c14402e8",
   "metadata": {},
   "source": [
    "## E4.6\n",
    "Given the list below, check if all values are True.\n",
    "\n",
    "```python\n",
    ">>> a = [True, True, False, True, False, True]\n",
    "```"
   ]
  },
  {
   "cell_type": "code",
   "execution_count": 28,
   "id": "defa79bb",
   "metadata": {},
   "outputs": [
    {
     "data": {
      "text/plain": [
       "False"
      ]
     },
     "execution_count": 28,
     "metadata": {},
     "output_type": "execute_result"
    }
   ],
   "source": [
    "a = [True, True, False, True, False, True]\n",
    "all(a)"
   ]
  },
  {
   "cell_type": "markdown",
   "id": "edec1253",
   "metadata": {},
   "source": [
    "## E4.7\n",
    "Given the list below, check if all values are equal to 'python'.\n",
    "\n",
    "Tips:\n",
    "- First use map to check if the values are equal to 'python'.\n",
    "- Then use the all function to check if all values are equal to 'python'.\n",
    "\n",
    "```python\n",
    ">>> a = ['python', 'python', 'pythom', 'python', 'python']\n",
    "```"
   ]
  },
  {
   "cell_type": "code",
   "execution_count": 35,
   "id": "e1594933",
   "metadata": {},
   "outputs": [],
   "source": [
    "def map_python(x):\n",
    "    return x == 'python'"
   ]
  },
  {
   "cell_type": "code",
   "execution_count": 36,
   "id": "b15c083f",
   "metadata": {},
   "outputs": [],
   "source": [
    "a = ['python', 'python', 'pythom', 'python', 'python']\n",
    "b = list(map(map_python, a))"
   ]
  },
  {
   "cell_type": "code",
   "execution_count": 37,
   "id": "130255b2",
   "metadata": {},
   "outputs": [
    {
     "data": {
      "text/plain": [
       "False"
      ]
     },
     "execution_count": 37,
     "metadata": {},
     "output_type": "execute_result"
    }
   ],
   "source": [
    "all(b)"
   ]
  },
  {
   "cell_type": "code",
   "execution_count": null,
   "id": "8214af5c",
   "metadata": {},
   "outputs": [],
   "source": []
  },
  {
   "cell_type": "markdown",
   "id": "797e94b1",
   "metadata": {},
   "source": [
    "# Projects"
   ]
  },
  {
   "cell_type": "markdown",
   "id": "54a02ca0",
   "metadata": {},
   "source": [
    "## P4.1 -\n",
    "\n",
    "Create a script that sums the sizes of files in a folder.\n",
    "\n",
    "Use the following functions:\n",
    "\n",
    "```python\n",
    ">>> import os  # import the os library\n",
    ">>> os.path.abspath(os.getcwd())  # returns the string of the current folder\n",
    ">>> os.listdir(<folder>)  # returns a list with files from a folder\n",
    ">>> os.path.getsize(<file>)  # returns the size in bytes of a file\n",
    "```"
   ]
  },
  {
   "cell_type": "markdown",
   "id": "eb5865bf",
   "metadata": {},
   "source": [
    "## P4.2 -\n",
    "\n",
    "Create a script that compares files in two folders and returns files that are equal."
   ]
  },
  {
   "cell_type": "code",
   "execution_count": null,
   "id": "76c977ba",
   "metadata": {},
   "outputs": [],
   "source": []
  },
  {
   "cell_type": "code",
   "execution_count": null,
   "id": "175c8ab5",
   "metadata": {},
   "outputs": [],
   "source": []
  },
  {
   "cell_type": "code",
   "execution_count": null,
   "id": "00e81714",
   "metadata": {},
   "outputs": [],
   "source": []
  }
 ],
 "metadata": {
  "kernelspec": {
   "display_name": "Python 3 (ipykernel)",
   "language": "python",
   "name": "python3"
  },
  "language_info": {
   "codemirror_mode": {
    "name": "ipython",
    "version": 3
   },
   "file_extension": ".py",
   "mimetype": "text/x-python",
   "name": "python",
   "nbconvert_exporter": "python",
   "pygments_lexer": "ipython3",
   "version": "3.9.13"
  }
 },
 "nbformat": 4,
 "nbformat_minor": 5
}
