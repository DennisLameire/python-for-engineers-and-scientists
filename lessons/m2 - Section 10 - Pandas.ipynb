{
 "cells": [
  {
   "cell_type": "markdown",
   "id": "0f7d1a54",
   "metadata": {},
   "source": [
    "# Desenvolvimento de Pacotes Científicos com Python\n",
    "\n",
    "**por**: Rafael Pereira da Silva"
   ]
  },
  {
   "cell_type": "markdown",
   "id": "b041496f",
   "metadata": {},
   "source": [
    "# PARTE 2\n",
    "# Seção 3: Pandas\n",
    "O pandas é uma biblioteca para trabalharmos com dados. Suas duas estruturas mais conhecidas são: ```Series``` e ```DataFrame```.\n",
    "\n",
    "É uma biblioteca que pode ser um potencial substituto ao Excel."
   ]
  },
  {
   "cell_type": "markdown",
   "id": "09ec6abe",
   "metadata": {},
   "source": [
    "## 3.1 - Series\n",
    "\n",
    "As ```Series``` são estruturas de dados muito similares a arrays unidimensionais.\n",
    "\n",
    "#### Formato\n",
    "```Series([data, index, dtype, name, copy, ...])```\n",
    "\n",
    "#### Sintaxe\n",
    "```python\n",
    ">>> import pandas as pd\n",
    ">>> a = [i for i in range(10)]\n",
    ">>> a_serie = pd.Series(a)\n",
    "```\n",
    "\n",
    "<br/>\n",
    "\n",
    "#### Algums atributos de Series\n",
    "\n",
    "<br/>\n",
    "\n",
    "| Atributo | Retorna  | Descrição |\n",
    "| :-- | :-- | :-- |\n",
    "| Series.index | RangeIndex | retorna um iterável com dos índices da série |\n",
    "| Series.dtype | dtype('object') | retorna o objeto dtype dos dados |\n",
    "| Series.size | int | retorna o número de elementos |\n",
    "| Series.name | str | retorna o nome da série, caso ```name='algumNome' ``` tenha sido definido |\n",
    "\n",
    "<br/>\n",
    "\n",
    "**nota:**\n",
    "\n",
    "```Muitos atributos são comuns entre Series e DataFrame. ```"
   ]
  },
  {
   "cell_type": "code",
   "execution_count": 1,
   "id": "2e489564",
   "metadata": {},
   "outputs": [],
   "source": [
    "import pandas as pd"
   ]
  },
  {
   "cell_type": "code",
   "execution_count": 8,
   "id": "783557e6",
   "metadata": {},
   "outputs": [],
   "source": [
    "a = [i for i in range(10)]\n",
    "a_series = pd.Series(a, name='serie a')"
   ]
  },
  {
   "cell_type": "code",
   "execution_count": 9,
   "id": "61b436df",
   "metadata": {},
   "outputs": [
    {
     "data": {
      "text/plain": [
       "'serie a'"
      ]
     },
     "execution_count": 9,
     "metadata": {},
     "output_type": "execute_result"
    }
   ],
   "source": [
    "a_series.name"
   ]
  },
  {
   "cell_type": "markdown",
   "id": "8d08bdb0",
   "metadata": {},
   "source": [
    "## 3.2 - DataFrame\n",
    "\n",
    "As ```DataFrame``` são estruturas de dados em formato de tabelas, possuindo várias funcionalidades similares ao Excel.\n",
    "\n",
    "<br/>\n",
    "\n",
    "#### Formato\n",
    "```DataFrame([data, index, columns, dtype, copy])```\n",
    "\n",
    "#### Sintaxe\n",
    "```python\n",
    ">>> import pandas as pd\n",
    ">>> a = [i for i in range(10)]\n",
    ">>> b = [i for i in range(10)]\n",
    ">>> dados = {\n",
    "    'colA': a,\n",
    "    'colB': b}\n",
    ">>> dados_df = pd.DataFrame(dados)\n",
    ">>> dados_df['colA'] # Retorna uma série com a coluna A\n",
    "```\n",
    "\n",
    "<br/>\n",
    "\n",
    "#### Algums atributos de DataFrame\n",
    "\n",
    "<br/>\n",
    "\n",
    "| Atributo | Retorna  | Descrição |\n",
    "| :-- | :-- | :-- |\n",
    "| DataFrame.index | RangeIndex | retorna um iterável com dos índices da série |\n",
    "| DataFrame.columns | Index | retorna um iterável com os nomes das colunas |\n",
    "| DataFrame.dtypes | Series | retorna uma série com os tipos de dados |\n",
    "| DataFrame.values | ndarray | retorna um array numpy com os valores |\n",
    "| DataFrame.size | int | retorna o número de valores do DataFrame |\n",
    "| DataFrame.shape | tuple | retorna uma tupla com o número de linhas e colunas do DataFrame |\n",
    "\n",
    "<br/>\n",
    "\n",
    "**Seleção de coluna(s):**\n",
    "\n",
    "```DataFrame[nomeDaColuna] retorna uma série com a coluna selecionada ```\n",
    "\n",
    "```DataFrame[[nomeDaColunaA, nomeDaColunaB, ...]] retorna um DataFrame com a coluna selecionada ```\n",
    "\n",
    "```DataFrame[novoNome] = novosDados --> adiciona uma série com a coluna selecionada ```"
   ]
  },
  {
   "cell_type": "code",
   "execution_count": 34,
   "id": "6e48829e",
   "metadata": {},
   "outputs": [],
   "source": [
    "import pandas as pd"
   ]
  },
  {
   "cell_type": "code",
   "execution_count": 35,
   "id": "f62ceaa4",
   "metadata": {},
   "outputs": [],
   "source": [
    "a = [i for i in range(10)]\n",
    "b = [i**2 for i in range(10)]\n",
    "c = [i**3 for i in range(10)]\n",
    "\n",
    "dados = {\n",
    "    'colA': a,\n",
    "    'colB': b,\n",
    "    'colC': c}\n",
    "dados_df = pd.DataFrame(dados)"
   ]
  },
  {
   "cell_type": "code",
   "execution_count": 40,
   "id": "209143b7",
   "metadata": {},
   "outputs": [
    {
     "data": {
      "text/html": [
       "<div>\n",
       "<style scoped>\n",
       "    .dataframe tbody tr th:only-of-type {\n",
       "        vertical-align: middle;\n",
       "    }\n",
       "\n",
       "    .dataframe tbody tr th {\n",
       "        vertical-align: top;\n",
       "    }\n",
       "\n",
       "    .dataframe thead th {\n",
       "        text-align: right;\n",
       "    }\n",
       "</style>\n",
       "<table border=\"1\" class=\"dataframe\">\n",
       "  <thead>\n",
       "    <tr style=\"text-align: right;\">\n",
       "      <th></th>\n",
       "      <th>colA</th>\n",
       "      <th>colC</th>\n",
       "    </tr>\n",
       "  </thead>\n",
       "  <tbody>\n",
       "    <tr>\n",
       "      <th>0</th>\n",
       "      <td>0</td>\n",
       "      <td>0</td>\n",
       "    </tr>\n",
       "    <tr>\n",
       "      <th>1</th>\n",
       "      <td>1</td>\n",
       "      <td>1</td>\n",
       "    </tr>\n",
       "    <tr>\n",
       "      <th>2</th>\n",
       "      <td>2</td>\n",
       "      <td>8</td>\n",
       "    </tr>\n",
       "    <tr>\n",
       "      <th>3</th>\n",
       "      <td>3</td>\n",
       "      <td>27</td>\n",
       "    </tr>\n",
       "    <tr>\n",
       "      <th>4</th>\n",
       "      <td>4</td>\n",
       "      <td>64</td>\n",
       "    </tr>\n",
       "    <tr>\n",
       "      <th>5</th>\n",
       "      <td>5</td>\n",
       "      <td>125</td>\n",
       "    </tr>\n",
       "    <tr>\n",
       "      <th>6</th>\n",
       "      <td>6</td>\n",
       "      <td>216</td>\n",
       "    </tr>\n",
       "    <tr>\n",
       "      <th>7</th>\n",
       "      <td>7</td>\n",
       "      <td>343</td>\n",
       "    </tr>\n",
       "    <tr>\n",
       "      <th>8</th>\n",
       "      <td>8</td>\n",
       "      <td>512</td>\n",
       "    </tr>\n",
       "    <tr>\n",
       "      <th>9</th>\n",
       "      <td>9</td>\n",
       "      <td>729</td>\n",
       "    </tr>\n",
       "  </tbody>\n",
       "</table>\n",
       "</div>"
      ],
      "text/plain": [
       "   colA  colC\n",
       "0     0     0\n",
       "1     1     1\n",
       "2     2     8\n",
       "3     3    27\n",
       "4     4    64\n",
       "5     5   125\n",
       "6     6   216\n",
       "7     7   343\n",
       "8     8   512\n",
       "9     9   729"
      ]
     },
     "execution_count": 40,
     "metadata": {},
     "output_type": "execute_result"
    }
   ],
   "source": [
    "dados_df[['colA', 'colC']]"
   ]
  },
  {
   "cell_type": "code",
   "execution_count": 55,
   "id": "92454add",
   "metadata": {},
   "outputs": [
    {
     "data": {
      "text/html": [
       "<div>\n",
       "<style scoped>\n",
       "    .dataframe tbody tr th:only-of-type {\n",
       "        vertical-align: middle;\n",
       "    }\n",
       "\n",
       "    .dataframe tbody tr th {\n",
       "        vertical-align: top;\n",
       "    }\n",
       "\n",
       "    .dataframe thead th {\n",
       "        text-align: right;\n",
       "    }\n",
       "</style>\n",
       "<table border=\"1\" class=\"dataframe\">\n",
       "  <thead>\n",
       "    <tr style=\"text-align: right;\">\n",
       "      <th></th>\n",
       "      <th>colA</th>\n",
       "      <th>colB</th>\n",
       "      <th>colC</th>\n",
       "    </tr>\n",
       "  </thead>\n",
       "  <tbody>\n",
       "    <tr>\n",
       "      <th>0</th>\n",
       "      <td>0</td>\n",
       "      <td>0</td>\n",
       "      <td>0</td>\n",
       "    </tr>\n",
       "    <tr>\n",
       "      <th>1</th>\n",
       "      <td>1</td>\n",
       "      <td>1</td>\n",
       "      <td>1</td>\n",
       "    </tr>\n",
       "    <tr>\n",
       "      <th>2</th>\n",
       "      <td>2</td>\n",
       "      <td>4</td>\n",
       "      <td>8</td>\n",
       "    </tr>\n",
       "  </tbody>\n",
       "</table>\n",
       "</div>"
      ],
      "text/plain": [
       "   colA  colB  colC\n",
       "0     0     0     0\n",
       "1     1     1     1\n",
       "2     2     4     8"
      ]
     },
     "execution_count": 55,
     "metadata": {},
     "output_type": "execute_result"
    }
   ],
   "source": [
    "dados_df.head(3)"
   ]
  },
  {
   "cell_type": "code",
   "execution_count": 62,
   "id": "f44ffa48",
   "metadata": {},
   "outputs": [
    {
     "data": {
      "text/plain": [
       "colA  colB  colC\n",
       "0     0     0       1\n",
       "1     1     1       1\n",
       "2     4     8       1\n",
       "3     9     27      1\n",
       "4     16    64      1\n",
       "5     25    125     1\n",
       "6     36    216     1\n",
       "7     49    343     1\n",
       "8     64    512     1\n",
       "9     81    729     1\n",
       "dtype: int64"
      ]
     },
     "execution_count": 62,
     "metadata": {},
     "output_type": "execute_result"
    }
   ],
   "source": [
    "dados_df.value_counts()"
   ]
  },
  {
   "cell_type": "code",
   "execution_count": null,
   "id": "e76697f5",
   "metadata": {},
   "outputs": [],
   "source": []
  },
  {
   "cell_type": "markdown",
   "id": "b9eade30",
   "metadata": {},
   "source": [
    "## 3.3 - Métodos básicos para DataFrames\n",
    "O DataFrame possui métodos que facilitam nossas análises. \n",
    "\n",
    "<br/>\n",
    "\n",
    "| Método | Descrição |\n",
    "| :-- | :-- |\n",
    "| DataFrame.head([n]) | retorna as n primeira linhas do DataFrame. Default = 10 |\n",
    "| DataFrame.tail([n]) | retorna as n últimas linhas do DataFrame. Default = 10 |\n",
    "| DataFrame.min([axis]) | axis=0 retorna min da coluna. axis=1 retorna min da linha. Default = 0 |\n",
    "| DataFrame.max([axis]) | axis=0 retorna max da coluna. axis=1 retorna max da linha. Default = 0 |\n",
    "| DataFrame.cumsum([axis]) | axis=0 retorna cumsum da coluna. axis=1 retorna cumsum da linha. Default = 0 |\n",
    "| DataFrame.value_counts() | retorna uma série com a contagem de valores únicos nas linhas do DataFrame |\n",
    "| DataFrame.sort_values(by) | ordena o Dataframe de acordo com o argumanto ```by='nomeColuna'``` |"
   ]
  },
  {
   "cell_type": "code",
   "execution_count": null,
   "id": "ee591f43",
   "metadata": {},
   "outputs": [],
   "source": []
  },
  {
   "cell_type": "code",
   "execution_count": null,
   "id": "4e1ccc41",
   "metadata": {},
   "outputs": [],
   "source": []
  },
  {
   "cell_type": "code",
   "execution_count": null,
   "id": "8adbf91c",
   "metadata": {},
   "outputs": [],
   "source": []
  },
  {
   "cell_type": "markdown",
   "id": "726ad0ed",
   "metadata": {},
   "source": [
    "## 3.4 - Leitura e escrita de arquivos\n",
    "\n",
    "<br/>\n",
    "\n",
    "#### Função para leitura de csv\n",
    "\n",
    "```pandas.read_csv(filepath, sep=NoDefault.no_default, encoding=None, ...) ```\n",
    "\n",
    "<br/>\n",
    "\n",
    "#### Métodos de escrita de csv e Excel\n",
    "\n",
    "<br/>\n",
    "\n",
    "```DataFrame.to_excel(path, sheet_name='Sheet1', ...) ```\n",
    "\n",
    "```DataFrame.to_csv(path, sep=',', ...) ```\n",
    "\n",
    "<br/>\n",
    "\n",
    "### Exemplo prático\n",
    "\n",
    "A partir dos dados de jogadores da NBA (https://www.kaggle.com/drgilermo/nba-players-stats), pede-se:\n",
    "\n",
    "- Qual a média de altura e de peso dos jogadores?\n",
    "- Crie uma nova coluna com o IMC dos jogadores. Onde $IMC = \\frac{peso}{altura^2}$\n",
    "- Qual a maior altura, o maior peso, a menor altura e menor peso?\n",
    "- Qual é o estado onde nasce o maior número de jogadores?\n",
    "- Qual o jogador mais alto?\n"
   ]
  },
  {
   "cell_type": "code",
   "execution_count": null,
   "id": "cf302bc7",
   "metadata": {},
   "outputs": [],
   "source": []
  },
  {
   "cell_type": "code",
   "execution_count": null,
   "id": "d3e03a14",
   "metadata": {},
   "outputs": [],
   "source": []
  },
  {
   "cell_type": "markdown",
   "id": "41e699a2",
   "metadata": {},
   "source": [
    "## 3.5 - Selecionando linhas e colunas com loc e iloc\n",
    "\n",
    "As ```loc``` e ```iloc``` são propriedades dos DataFrames. Elas são propriedades que nos permitem acessar linhas e colunas de forma similar ao fatiamento de listas.\n",
    "\n",
    "<br/>\n",
    "\n",
    "#### Propriedades loc e iloc\n",
    "\n",
    "| Propriedades | Descrição |\n",
    "| :-- | :-- |\n",
    "| loc[i, j] | onde i e j são os nomes dos índices selecionados |\n",
    "| iloc[i, j] |  onde i e j são os números dos índices |"
   ]
  },
  {
   "cell_type": "code",
   "execution_count": null,
   "id": "0f134683",
   "metadata": {},
   "outputs": [],
   "source": []
  },
  {
   "cell_type": "code",
   "execution_count": null,
   "id": "6d6b3519",
   "metadata": {},
   "outputs": [],
   "source": []
  },
  {
   "cell_type": "code",
   "execution_count": null,
   "id": "52335644",
   "metadata": {},
   "outputs": [],
   "source": []
  },
  {
   "cell_type": "code",
   "execution_count": null,
   "id": "1cafefe8",
   "metadata": {},
   "outputs": [],
   "source": []
  },
  {
   "cell_type": "code",
   "execution_count": null,
   "id": "a0f786f8",
   "metadata": {},
   "outputs": [],
   "source": []
  },
  {
   "cell_type": "code",
   "execution_count": null,
   "id": "dc6a4c84",
   "metadata": {},
   "outputs": [],
   "source": []
  },
  {
   "cell_type": "code",
   "execution_count": null,
   "id": "20c2e1c7",
   "metadata": {},
   "outputs": [],
   "source": []
  },
  {
   "cell_type": "markdown",
   "id": "6439ce99",
   "metadata": {},
   "source": [
    "## 3.6 - Filtros\n",
    "Os filtros de DataFrames podem ser criados a partir de uma série de booleanos.\n",
    "\n",
    "<br/>\n",
    "\n",
    "#### Sintaxe\n",
    "\n",
    "```python\n",
    ">>> filtro = DataFrame['colunaAFiltrar'] == 'valorDoFiltro' # série com booleanos\n",
    ">>> DataFrame[filtro] # Filtramos as linhas onde colunaAFiltrar = valorDoFiltro\n",
    "```\n"
   ]
  },
  {
   "cell_type": "code",
   "execution_count": null,
   "id": "121396cb",
   "metadata": {},
   "outputs": [],
   "source": []
  },
  {
   "cell_type": "markdown",
   "id": "d082bc07",
   "metadata": {},
   "source": [
    "## 3.7 - Limpeza de dados - pré-processamento\n",
    "\n",
    "Muitas vezes, antes de começarmos nossas análises, precisamos limpar/tratar os dados de um dataframe. Nesta aula iremos ver algumas ferramentas para fazermos isso.\n",
    "\n",
    "<br/>\n",
    "\n",
    "#### Métodos para tratar dados do DataFrame\n",
    "\n",
    "\n",
    "| Método | Descrição |\n",
    "| :-- | :-- |\n",
    "| DataFrame.drop(labels=None, axis=0, index=None, columns=None, level=None, inplace=False, errors='raise') | Remove uma série de dados especificada |\n",
    "| DataFrame.isnull(obj)/.notnull(obj) | cria uma série de booleanos |\n",
    "| DataFrame.dropna(axis=0, how='any', thresh=None, subset=None, inplace=False) | Deleta linha (axis=0) ou coluna (axis=1) com célula(s) nula(s) |\n",
    "| DataFrame.fillna(value=None, method=None, axis=None, inplace=False, limit=None, downcast=None) | Substitui o valor nulo por um valor determinado |\n",
    "| DataFrame.duplicated(subset=None, keep='first') | retorna um booleano com valores duplicados |\n",
    "| DataFrame.drop_duplicates(subset=None, keep='first', inplace=False, ignore_index=False) | deleta linhas com valores duplicados. Pode selecionar uma determinada coluna usando subset |\n",
    "\n",
    "<br/>\n",
    "\n",
    "**nota:**\n",
    "\n",
    "<pre>Esses métodos não modificam o DataFrame. Então, pode ser interessante armazenâ-los\n",
    "em nova variável. </pre>\n",
    "\n",
    "\n"
   ]
  },
  {
   "cell_type": "code",
   "execution_count": null,
   "id": "20c8254a",
   "metadata": {},
   "outputs": [],
   "source": []
  },
  {
   "cell_type": "code",
   "execution_count": null,
   "id": "50b4d99f",
   "metadata": {},
   "outputs": [],
   "source": []
  },
  {
   "cell_type": "code",
   "execution_count": null,
   "id": "535307d1",
   "metadata": {},
   "outputs": [],
   "source": []
  },
  {
   "cell_type": "markdown",
   "id": "20e0ba1f",
   "metadata": {},
   "source": [
    "## Juntando Tabelas"
   ]
  },
  {
   "cell_type": "markdown",
   "id": "a39d7c9f",
   "metadata": {},
   "source": [
    "## 3.8 - Método join\n",
    "\n",
    "O método join junta colunas de DataFrames. É interessante entender com cuidado como o utilizamos, pois é um método poderoso para juntar informações de bancos de dados.\n",
    "\n",
    "<br/>\n",
    "\n",
    "```python\n",
    "DataFrame.join(other, on=None, how='left', lsuffix='', rsuffix='', sort=False)\n",
    "```\n",
    "\n",
    "\n",
    "**Obervações:**\n",
    "\n",
    "- other - outro objeto (DataFrame, Serie ou lista de DataFrame)\n",
    "- how - left=índice do DataFrame; right=índice other; outer=união; inner=intersecção\n",
    "- l ou rsuffix - quando há colunas de nome repetidos, nós modificamos o sufixo de uma delas."
   ]
  },
  {
   "cell_type": "code",
   "execution_count": 33,
   "id": "226856d9",
   "metadata": {},
   "outputs": [],
   "source": [
    "import pandas as pd"
   ]
  },
  {
   "cell_type": "code",
   "execution_count": 34,
   "id": "023e7772",
   "metadata": {},
   "outputs": [
    {
     "data": {
      "text/html": [
       "<div>\n",
       "<style scoped>\n",
       "    .dataframe tbody tr th:only-of-type {\n",
       "        vertical-align: middle;\n",
       "    }\n",
       "\n",
       "    .dataframe tbody tr th {\n",
       "        vertical-align: top;\n",
       "    }\n",
       "\n",
       "    .dataframe thead th {\n",
       "        text-align: right;\n",
       "    }\n",
       "</style>\n",
       "<table border=\"1\" class=\"dataframe\">\n",
       "  <thead>\n",
       "    <tr style=\"text-align: right;\">\n",
       "      <th></th>\n",
       "      <th>key</th>\n",
       "      <th>A</th>\n",
       "    </tr>\n",
       "  </thead>\n",
       "  <tbody>\n",
       "    <tr>\n",
       "      <th>0</th>\n",
       "      <td>K0</td>\n",
       "      <td>A0</td>\n",
       "    </tr>\n",
       "    <tr>\n",
       "      <th>1</th>\n",
       "      <td>K1</td>\n",
       "      <td>A1</td>\n",
       "    </tr>\n",
       "    <tr>\n",
       "      <th>2</th>\n",
       "      <td>K2</td>\n",
       "      <td>A2</td>\n",
       "    </tr>\n",
       "    <tr>\n",
       "      <th>3</th>\n",
       "      <td>K3</td>\n",
       "      <td>A3</td>\n",
       "    </tr>\n",
       "    <tr>\n",
       "      <th>4</th>\n",
       "      <td>K4</td>\n",
       "      <td>A4</td>\n",
       "    </tr>\n",
       "    <tr>\n",
       "      <th>5</th>\n",
       "      <td>K5</td>\n",
       "      <td>A5</td>\n",
       "    </tr>\n",
       "  </tbody>\n",
       "</table>\n",
       "</div>"
      ],
      "text/plain": [
       "  key   A\n",
       "0  K0  A0\n",
       "1  K1  A1\n",
       "2  K2  A2\n",
       "3  K3  A3\n",
       "4  K4  A4\n",
       "5  K5  A5"
      ]
     },
     "execution_count": 34,
     "metadata": {},
     "output_type": "execute_result"
    }
   ],
   "source": [
    "df = pd.DataFrame({'key': ['K0', 'K1', 'K2', 'K3', 'K4', 'K5'],\n",
    "                   'A': ['A0', 'A1', 'A2', 'A3', 'A4', 'A5']})\n",
    "\n",
    "other = pd.DataFrame({'key': ['K0', 'K1', 'K2'],\n",
    "                      'B': ['B0', 'B1', 'B2']})\n",
    "\n",
    "df"
   ]
  },
  {
   "cell_type": "code",
   "execution_count": 35,
   "id": "c408a10e",
   "metadata": {},
   "outputs": [
    {
     "data": {
      "text/html": [
       "<div>\n",
       "<style scoped>\n",
       "    .dataframe tbody tr th:only-of-type {\n",
       "        vertical-align: middle;\n",
       "    }\n",
       "\n",
       "    .dataframe tbody tr th {\n",
       "        vertical-align: top;\n",
       "    }\n",
       "\n",
       "    .dataframe thead th {\n",
       "        text-align: right;\n",
       "    }\n",
       "</style>\n",
       "<table border=\"1\" class=\"dataframe\">\n",
       "  <thead>\n",
       "    <tr style=\"text-align: right;\">\n",
       "      <th></th>\n",
       "      <th>key</th>\n",
       "      <th>B</th>\n",
       "    </tr>\n",
       "  </thead>\n",
       "  <tbody>\n",
       "    <tr>\n",
       "      <th>0</th>\n",
       "      <td>K0</td>\n",
       "      <td>B0</td>\n",
       "    </tr>\n",
       "    <tr>\n",
       "      <th>1</th>\n",
       "      <td>K1</td>\n",
       "      <td>B1</td>\n",
       "    </tr>\n",
       "    <tr>\n",
       "      <th>2</th>\n",
       "      <td>K2</td>\n",
       "      <td>B2</td>\n",
       "    </tr>\n",
       "  </tbody>\n",
       "</table>\n",
       "</div>"
      ],
      "text/plain": [
       "  key   B\n",
       "0  K0  B0\n",
       "1  K1  B1\n",
       "2  K2  B2"
      ]
     },
     "execution_count": 35,
     "metadata": {},
     "output_type": "execute_result"
    }
   ],
   "source": [
    "other"
   ]
  },
  {
   "cell_type": "code",
   "execution_count": 45,
   "id": "52f88141",
   "metadata": {},
   "outputs": [
    {
     "data": {
      "text/html": [
       "<div>\n",
       "<style scoped>\n",
       "    .dataframe tbody tr th:only-of-type {\n",
       "        vertical-align: middle;\n",
       "    }\n",
       "\n",
       "    .dataframe tbody tr th {\n",
       "        vertical-align: top;\n",
       "    }\n",
       "\n",
       "    .dataframe thead th {\n",
       "        text-align: right;\n",
       "    }\n",
       "</style>\n",
       "<table border=\"1\" class=\"dataframe\">\n",
       "  <thead>\n",
       "    <tr style=\"text-align: right;\">\n",
       "      <th></th>\n",
       "      <th>keya</th>\n",
       "      <th>A</th>\n",
       "      <th>key</th>\n",
       "      <th>B</th>\n",
       "    </tr>\n",
       "  </thead>\n",
       "  <tbody>\n",
       "    <tr>\n",
       "      <th>0</th>\n",
       "      <td>K0</td>\n",
       "      <td>A0</td>\n",
       "      <td>K0</td>\n",
       "      <td>B0</td>\n",
       "    </tr>\n",
       "    <tr>\n",
       "      <th>1</th>\n",
       "      <td>K1</td>\n",
       "      <td>A1</td>\n",
       "      <td>K1</td>\n",
       "      <td>B1</td>\n",
       "    </tr>\n",
       "    <tr>\n",
       "      <th>2</th>\n",
       "      <td>K2</td>\n",
       "      <td>A2</td>\n",
       "      <td>K2</td>\n",
       "      <td>B2</td>\n",
       "    </tr>\n",
       "  </tbody>\n",
       "</table>\n",
       "</div>"
      ],
      "text/plain": [
       "  keya   A key   B\n",
       "0   K0  A0  K0  B0\n",
       "1   K1  A1  K1  B1\n",
       "2   K2  A2  K2  B2"
      ]
     },
     "execution_count": 45,
     "metadata": {},
     "output_type": "execute_result"
    }
   ],
   "source": [
    "df.join(other, lsuffix='a', how='right')"
   ]
  },
  {
   "cell_type": "markdown",
   "id": "8e9bceb1",
   "metadata": {},
   "source": [
    "## 3.9 - Função concat\n",
    "A função concat serve para concatenar (\"somar\") DataFrames, seja somar em termos de linhas (axis=0), seja em colunas (axis=1).\n",
    "\n",
    "<br/>\n",
    "\n",
    "```python\n",
    "pandas.concat(objs, axis=0, join='outer', ignore_index=False, keys=None, levels=None, names=None, verify_integrity=False, sort=False, copy=True)\n",
    "```\n",
    "\n",
    "<br/>\n",
    "\n",
    "**Obervações:**\n",
    "- objs - é um único argumento, portanto pode ser uma lista com DataFrames\n",
    "- ignore_index - renumera os índices\n",
    "- join - outer=união; inner=intersecção"
   ]
  },
  {
   "cell_type": "code",
   "execution_count": 1,
   "id": "7f33e683",
   "metadata": {},
   "outputs": [],
   "source": [
    "import pandas as pd"
   ]
  },
  {
   "cell_type": "code",
   "execution_count": 23,
   "id": "3c8dffd9",
   "metadata": {},
   "outputs": [],
   "source": [
    "df1 = pd.DataFrame(\n",
    "    {\n",
    "        \"A\": [\"A0\", \"A1\", \"A2\", \"A3\"],\n",
    "        \"B\": [\"B0\", \"B1\", \"B2\", \"B3\"],\n",
    "        \"C\": [\"C0\", \"C1\", \"C2\", \"C3\"],\n",
    "        \"D\": [\"D0\", \"D1\", \"D2\", \"D3\"],\n",
    "    }\n",
    ")\n",
    "\n",
    "\n",
    "df2 = pd.DataFrame(\n",
    "    {\n",
    "        \"A\": [\"A4\", \"A5\", \"A6\", \"A7\"],\n",
    "        \"B\": [\"B4\", \"B5\", \"B6\", \"B7\"],\n",
    "        \"C\": [\"C4\", \"C5\", \"C6\", \"C7\"],\n",
    "        \"E\": [\"D4\", \"D5\", \"D6\", \"D7\"],\n",
    "    }\n",
    ")\n",
    "\n",
    "\n",
    "df3 = pd.DataFrame(\n",
    "    {\n",
    "        \"A\": [\"A8\", \"A9\", \"A10\", \"A11\"],\n",
    "        \"B\": [\"B8\", \"B9\", \"B10\", \"B11\"],\n",
    "        \"C\": [\"C8\", \"C9\", \"C10\", \"C11\"],\n",
    "        \"E\": [\"D8\", \"D9\", \"D10\", \"D11\"],\n",
    "    }\n",
    ")\n",
    "\n",
    "\n"
   ]
  },
  {
   "cell_type": "code",
   "execution_count": 30,
   "id": "81d8b93f",
   "metadata": {},
   "outputs": [],
   "source": [
    "frames = [df1, df2, df3]\n",
    "\n",
    "result = pd.concat(frames, join='outer', ignore_index=True)"
   ]
  },
  {
   "cell_type": "code",
   "execution_count": 31,
   "id": "e7038620",
   "metadata": {},
   "outputs": [
    {
     "data": {
      "text/html": [
       "<div>\n",
       "<style scoped>\n",
       "    .dataframe tbody tr th:only-of-type {\n",
       "        vertical-align: middle;\n",
       "    }\n",
       "\n",
       "    .dataframe tbody tr th {\n",
       "        vertical-align: top;\n",
       "    }\n",
       "\n",
       "    .dataframe thead th {\n",
       "        text-align: right;\n",
       "    }\n",
       "</style>\n",
       "<table border=\"1\" class=\"dataframe\">\n",
       "  <thead>\n",
       "    <tr style=\"text-align: right;\">\n",
       "      <th></th>\n",
       "      <th>A</th>\n",
       "      <th>B</th>\n",
       "      <th>C</th>\n",
       "      <th>D</th>\n",
       "      <th>E</th>\n",
       "    </tr>\n",
       "  </thead>\n",
       "  <tbody>\n",
       "    <tr>\n",
       "      <th>0</th>\n",
       "      <td>A0</td>\n",
       "      <td>B0</td>\n",
       "      <td>C0</td>\n",
       "      <td>D0</td>\n",
       "      <td>NaN</td>\n",
       "    </tr>\n",
       "    <tr>\n",
       "      <th>1</th>\n",
       "      <td>A1</td>\n",
       "      <td>B1</td>\n",
       "      <td>C1</td>\n",
       "      <td>D1</td>\n",
       "      <td>NaN</td>\n",
       "    </tr>\n",
       "    <tr>\n",
       "      <th>2</th>\n",
       "      <td>A2</td>\n",
       "      <td>B2</td>\n",
       "      <td>C2</td>\n",
       "      <td>D2</td>\n",
       "      <td>NaN</td>\n",
       "    </tr>\n",
       "    <tr>\n",
       "      <th>3</th>\n",
       "      <td>A3</td>\n",
       "      <td>B3</td>\n",
       "      <td>C3</td>\n",
       "      <td>D3</td>\n",
       "      <td>NaN</td>\n",
       "    </tr>\n",
       "    <tr>\n",
       "      <th>4</th>\n",
       "      <td>A4</td>\n",
       "      <td>B4</td>\n",
       "      <td>C4</td>\n",
       "      <td>NaN</td>\n",
       "      <td>D4</td>\n",
       "    </tr>\n",
       "    <tr>\n",
       "      <th>5</th>\n",
       "      <td>A5</td>\n",
       "      <td>B5</td>\n",
       "      <td>C5</td>\n",
       "      <td>NaN</td>\n",
       "      <td>D5</td>\n",
       "    </tr>\n",
       "    <tr>\n",
       "      <th>6</th>\n",
       "      <td>A6</td>\n",
       "      <td>B6</td>\n",
       "      <td>C6</td>\n",
       "      <td>NaN</td>\n",
       "      <td>D6</td>\n",
       "    </tr>\n",
       "    <tr>\n",
       "      <th>7</th>\n",
       "      <td>A7</td>\n",
       "      <td>B7</td>\n",
       "      <td>C7</td>\n",
       "      <td>NaN</td>\n",
       "      <td>D7</td>\n",
       "    </tr>\n",
       "    <tr>\n",
       "      <th>8</th>\n",
       "      <td>A8</td>\n",
       "      <td>B8</td>\n",
       "      <td>C8</td>\n",
       "      <td>NaN</td>\n",
       "      <td>D8</td>\n",
       "    </tr>\n",
       "    <tr>\n",
       "      <th>9</th>\n",
       "      <td>A9</td>\n",
       "      <td>B9</td>\n",
       "      <td>C9</td>\n",
       "      <td>NaN</td>\n",
       "      <td>D9</td>\n",
       "    </tr>\n",
       "    <tr>\n",
       "      <th>10</th>\n",
       "      <td>A10</td>\n",
       "      <td>B10</td>\n",
       "      <td>C10</td>\n",
       "      <td>NaN</td>\n",
       "      <td>D10</td>\n",
       "    </tr>\n",
       "    <tr>\n",
       "      <th>11</th>\n",
       "      <td>A11</td>\n",
       "      <td>B11</td>\n",
       "      <td>C11</td>\n",
       "      <td>NaN</td>\n",
       "      <td>D11</td>\n",
       "    </tr>\n",
       "  </tbody>\n",
       "</table>\n",
       "</div>"
      ],
      "text/plain": [
       "      A    B    C    D    E\n",
       "0    A0   B0   C0   D0  NaN\n",
       "1    A1   B1   C1   D1  NaN\n",
       "2    A2   B2   C2   D2  NaN\n",
       "3    A3   B3   C3   D3  NaN\n",
       "4    A4   B4   C4  NaN   D4\n",
       "5    A5   B5   C5  NaN   D5\n",
       "6    A6   B6   C6  NaN   D6\n",
       "7    A7   B7   C7  NaN   D7\n",
       "8    A8   B8   C8  NaN   D8\n",
       "9    A9   B9   C9  NaN   D9\n",
       "10  A10  B10  C10  NaN  D10\n",
       "11  A11  B11  C11  NaN  D11"
      ]
     },
     "execution_count": 31,
     "metadata": {},
     "output_type": "execute_result"
    }
   ],
   "source": [
    "result"
   ]
  },
  {
   "cell_type": "code",
   "execution_count": null,
   "id": "025a85f5",
   "metadata": {},
   "outputs": [],
   "source": []
  },
  {
   "cell_type": "markdown",
   "id": "25c200c7",
   "metadata": {},
   "source": [
    "## 3.10 - Método merge\n",
    "O método merge serve para \"fundir\" DataFrames. Em essência ele identifica a coluna que for comum aos DataFrames e faz um \"procv\" nas outras informações. Caso não haja nenhuma coluna em comum, podemos forçar uma coluna utilizando o right_on e o left_on.\n",
    "\n",
    "<br/>\n",
    "\n",
    "```python\n",
    "DataFrame.merge(right, how='inner', on=None, left_on=None, right_on=None, left_index=False, right_index=False, sort=False, suffixes=('_x', '_y'), copy=True, indicator=False, validate=None)\n",
    "```\n",
    "<br/>\n",
    "\n",
    "**Obervações:**\n",
    "- validate - '1:1'=1 para um; '1:m'=um para muitos; 'm:m'=muitos para muitos."
   ]
  },
  {
   "cell_type": "code",
   "execution_count": 1,
   "id": "0ce42efa",
   "metadata": {},
   "outputs": [],
   "source": [
    "import pandas as pd"
   ]
  },
  {
   "cell_type": "code",
   "execution_count": 11,
   "id": "b98aedeb",
   "metadata": {},
   "outputs": [],
   "source": [
    "df1 = pd.DataFrame({'Nome': ['Rafael', 'Natália', 'Lucas', 'Gabriel'],\n",
    "                    'camiseta': ['preta', 'branca', 'preta', 'branca' ]})\n",
    "\n",
    "df2 = pd.DataFrame({'camiseta': ['preta', 'branca', 'azul'],\n",
    "                    'value': ['timeA', 'timeB', 'gandula']})"
   ]
  },
  {
   "cell_type": "code",
   "execution_count": 12,
   "id": "c7812a9d",
   "metadata": {},
   "outputs": [
    {
     "data": {
      "text/html": [
       "<div>\n",
       "<style scoped>\n",
       "    .dataframe tbody tr th:only-of-type {\n",
       "        vertical-align: middle;\n",
       "    }\n",
       "\n",
       "    .dataframe tbody tr th {\n",
       "        vertical-align: top;\n",
       "    }\n",
       "\n",
       "    .dataframe thead th {\n",
       "        text-align: right;\n",
       "    }\n",
       "</style>\n",
       "<table border=\"1\" class=\"dataframe\">\n",
       "  <thead>\n",
       "    <tr style=\"text-align: right;\">\n",
       "      <th></th>\n",
       "      <th>Nome</th>\n",
       "      <th>camiseta</th>\n",
       "    </tr>\n",
       "  </thead>\n",
       "  <tbody>\n",
       "    <tr>\n",
       "      <th>0</th>\n",
       "      <td>Rafael</td>\n",
       "      <td>preta</td>\n",
       "    </tr>\n",
       "    <tr>\n",
       "      <th>1</th>\n",
       "      <td>Natália</td>\n",
       "      <td>branca</td>\n",
       "    </tr>\n",
       "    <tr>\n",
       "      <th>2</th>\n",
       "      <td>Lucas</td>\n",
       "      <td>preta</td>\n",
       "    </tr>\n",
       "    <tr>\n",
       "      <th>3</th>\n",
       "      <td>Gabriel</td>\n",
       "      <td>branca</td>\n",
       "    </tr>\n",
       "  </tbody>\n",
       "</table>\n",
       "</div>"
      ],
      "text/plain": [
       "      Nome camiseta\n",
       "0   Rafael    preta\n",
       "1  Natália   branca\n",
       "2    Lucas    preta\n",
       "3  Gabriel   branca"
      ]
     },
     "execution_count": 12,
     "metadata": {},
     "output_type": "execute_result"
    }
   ],
   "source": [
    "df1"
   ]
  },
  {
   "cell_type": "code",
   "execution_count": 13,
   "id": "79053afc",
   "metadata": {},
   "outputs": [
    {
     "data": {
      "text/html": [
       "<div>\n",
       "<style scoped>\n",
       "    .dataframe tbody tr th:only-of-type {\n",
       "        vertical-align: middle;\n",
       "    }\n",
       "\n",
       "    .dataframe tbody tr th {\n",
       "        vertical-align: top;\n",
       "    }\n",
       "\n",
       "    .dataframe thead th {\n",
       "        text-align: right;\n",
       "    }\n",
       "</style>\n",
       "<table border=\"1\" class=\"dataframe\">\n",
       "  <thead>\n",
       "    <tr style=\"text-align: right;\">\n",
       "      <th></th>\n",
       "      <th>camiseta</th>\n",
       "      <th>value</th>\n",
       "    </tr>\n",
       "  </thead>\n",
       "  <tbody>\n",
       "    <tr>\n",
       "      <th>0</th>\n",
       "      <td>preta</td>\n",
       "      <td>timeA</td>\n",
       "    </tr>\n",
       "    <tr>\n",
       "      <th>1</th>\n",
       "      <td>branca</td>\n",
       "      <td>timeB</td>\n",
       "    </tr>\n",
       "    <tr>\n",
       "      <th>2</th>\n",
       "      <td>azul</td>\n",
       "      <td>gandula</td>\n",
       "    </tr>\n",
       "  </tbody>\n",
       "</table>\n",
       "</div>"
      ],
      "text/plain": [
       "  camiseta    value\n",
       "0    preta    timeA\n",
       "1   branca    timeB\n",
       "2     azul  gandula"
      ]
     },
     "execution_count": 13,
     "metadata": {},
     "output_type": "execute_result"
    }
   ],
   "source": [
    "df2"
   ]
  },
  {
   "cell_type": "code",
   "execution_count": 16,
   "id": "9cfc4b55",
   "metadata": {},
   "outputs": [
    {
     "data": {
      "text/html": [
       "<div>\n",
       "<style scoped>\n",
       "    .dataframe tbody tr th:only-of-type {\n",
       "        vertical-align: middle;\n",
       "    }\n",
       "\n",
       "    .dataframe tbody tr th {\n",
       "        vertical-align: top;\n",
       "    }\n",
       "\n",
       "    .dataframe thead th {\n",
       "        text-align: right;\n",
       "    }\n",
       "</style>\n",
       "<table border=\"1\" class=\"dataframe\">\n",
       "  <thead>\n",
       "    <tr style=\"text-align: right;\">\n",
       "      <th></th>\n",
       "      <th>Nome</th>\n",
       "      <th>camiseta</th>\n",
       "      <th>value</th>\n",
       "    </tr>\n",
       "  </thead>\n",
       "  <tbody>\n",
       "    <tr>\n",
       "      <th>0</th>\n",
       "      <td>Rafael</td>\n",
       "      <td>preta</td>\n",
       "      <td>timeA</td>\n",
       "    </tr>\n",
       "    <tr>\n",
       "      <th>1</th>\n",
       "      <td>Lucas</td>\n",
       "      <td>preta</td>\n",
       "      <td>timeA</td>\n",
       "    </tr>\n",
       "    <tr>\n",
       "      <th>2</th>\n",
       "      <td>Natália</td>\n",
       "      <td>branca</td>\n",
       "      <td>timeB</td>\n",
       "    </tr>\n",
       "    <tr>\n",
       "      <th>3</th>\n",
       "      <td>Gabriel</td>\n",
       "      <td>branca</td>\n",
       "      <td>timeB</td>\n",
       "    </tr>\n",
       "  </tbody>\n",
       "</table>\n",
       "</div>"
      ],
      "text/plain": [
       "      Nome camiseta  value\n",
       "0   Rafael    preta  timeA\n",
       "1    Lucas    preta  timeA\n",
       "2  Natália   branca  timeB\n",
       "3  Gabriel   branca  timeB"
      ]
     },
     "execution_count": 16,
     "metadata": {},
     "output_type": "execute_result"
    }
   ],
   "source": [
    "df1.merge(df2, on='camiseta')"
   ]
  },
  {
   "cell_type": "markdown",
   "id": "f1cc403a",
   "metadata": {},
   "source": [
    "## 3.11 - Tabela dinâmica (pivot table)\n",
    "\n",
    "A tabela dinâmica é uma ferramenta que nos permite fazermos diferentes agrupamentos das nossas informações. Ela facilita bastante alguns tipos de análises.\n",
    "\n",
    "<br/>\n",
    "\n",
    "```python\n",
    "pandas.pivot_table(data, values=None, index=None, columns=None, aggfunc='mean', fill_value=None, margins=False, dropna=True, margins_name='All', observed=False, sort=True)\n",
    "```"
   ]
  },
  {
   "cell_type": "code",
   "execution_count": 2,
   "id": "d1338eda",
   "metadata": {},
   "outputs": [],
   "source": [
    "import pandas as pd"
   ]
  },
  {
   "cell_type": "code",
   "execution_count": 3,
   "id": "0e392b13",
   "metadata": {},
   "outputs": [],
   "source": [
    "path = 'D:/repositories/notebooks/1-Desenvolvimento de Pacotes Científicos com Python/auxiliary_files/Acoes_ficticias.csv'"
   ]
  },
  {
   "cell_type": "code",
   "execution_count": 6,
   "id": "61fa6779",
   "metadata": {},
   "outputs": [
    {
     "data": {
      "text/html": [
       "<div>\n",
       "<style scoped>\n",
       "    .dataframe tbody tr th:only-of-type {\n",
       "        vertical-align: middle;\n",
       "    }\n",
       "\n",
       "    .dataframe tbody tr th {\n",
       "        vertical-align: top;\n",
       "    }\n",
       "\n",
       "    .dataframe thead th {\n",
       "        text-align: right;\n",
       "    }\n",
       "</style>\n",
       "<table border=\"1\" class=\"dataframe\">\n",
       "  <thead>\n",
       "    <tr style=\"text-align: right;\">\n",
       "      <th></th>\n",
       "      <th>Papel</th>\n",
       "      <th>preco_compra</th>\n",
       "      <th>Quantidade</th>\n",
       "    </tr>\n",
       "  </thead>\n",
       "  <tbody>\n",
       "    <tr>\n",
       "      <th>0</th>\n",
       "      <td>PETR4</td>\n",
       "      <td>92.114785</td>\n",
       "      <td>100</td>\n",
       "    </tr>\n",
       "    <tr>\n",
       "      <th>1</th>\n",
       "      <td>VVAR3</td>\n",
       "      <td>17.519059</td>\n",
       "      <td>100</td>\n",
       "    </tr>\n",
       "    <tr>\n",
       "      <th>2</th>\n",
       "      <td>ITSA4</td>\n",
       "      <td>56.375177</td>\n",
       "      <td>200</td>\n",
       "    </tr>\n",
       "    <tr>\n",
       "      <th>3</th>\n",
       "      <td>ITSA4</td>\n",
       "      <td>62.284332</td>\n",
       "      <td>300</td>\n",
       "    </tr>\n",
       "    <tr>\n",
       "      <th>4</th>\n",
       "      <td>EMBR3</td>\n",
       "      <td>80.626768</td>\n",
       "      <td>100</td>\n",
       "    </tr>\n",
       "    <tr>\n",
       "      <th>5</th>\n",
       "      <td>ITSA4</td>\n",
       "      <td>77.354576</td>\n",
       "      <td>300</td>\n",
       "    </tr>\n",
       "    <tr>\n",
       "      <th>6</th>\n",
       "      <td>PETR4</td>\n",
       "      <td>7.330583</td>\n",
       "      <td>100</td>\n",
       "    </tr>\n",
       "    <tr>\n",
       "      <th>7</th>\n",
       "      <td>PETR4</td>\n",
       "      <td>37.425152</td>\n",
       "      <td>200</td>\n",
       "    </tr>\n",
       "    <tr>\n",
       "      <th>8</th>\n",
       "      <td>EMBR3</td>\n",
       "      <td>62.691443</td>\n",
       "      <td>300</td>\n",
       "    </tr>\n",
       "    <tr>\n",
       "      <th>9</th>\n",
       "      <td>VVAR3</td>\n",
       "      <td>58.069377</td>\n",
       "      <td>100</td>\n",
       "    </tr>\n",
       "    <tr>\n",
       "      <th>10</th>\n",
       "      <td>VVAR3</td>\n",
       "      <td>18.877459</td>\n",
       "      <td>300</td>\n",
       "    </tr>\n",
       "    <tr>\n",
       "      <th>11</th>\n",
       "      <td>PETR4</td>\n",
       "      <td>84.616718</td>\n",
       "      <td>100</td>\n",
       "    </tr>\n",
       "    <tr>\n",
       "      <th>12</th>\n",
       "      <td>PETR4</td>\n",
       "      <td>26.778080</td>\n",
       "      <td>200</td>\n",
       "    </tr>\n",
       "    <tr>\n",
       "      <th>13</th>\n",
       "      <td>PETR4</td>\n",
       "      <td>12.494286</td>\n",
       "      <td>300</td>\n",
       "    </tr>\n",
       "    <tr>\n",
       "      <th>14</th>\n",
       "      <td>ITSA4</td>\n",
       "      <td>82.849075</td>\n",
       "      <td>100</td>\n",
       "    </tr>\n",
       "    <tr>\n",
       "      <th>15</th>\n",
       "      <td>EMBR3</td>\n",
       "      <td>32.090326</td>\n",
       "      <td>300</td>\n",
       "    </tr>\n",
       "    <tr>\n",
       "      <th>16</th>\n",
       "      <td>PETR4</td>\n",
       "      <td>86.766959</td>\n",
       "      <td>100</td>\n",
       "    </tr>\n",
       "    <tr>\n",
       "      <th>17</th>\n",
       "      <td>EMBR3</td>\n",
       "      <td>66.707810</td>\n",
       "      <td>200</td>\n",
       "    </tr>\n",
       "    <tr>\n",
       "      <th>18</th>\n",
       "      <td>VVAR3</td>\n",
       "      <td>31.385241</td>\n",
       "      <td>300</td>\n",
       "    </tr>\n",
       "  </tbody>\n",
       "</table>\n",
       "</div>"
      ],
      "text/plain": [
       "    Papel  preco_compra  Quantidade\n",
       "0   PETR4     92.114785         100\n",
       "1   VVAR3     17.519059         100\n",
       "2   ITSA4     56.375177         200\n",
       "3   ITSA4     62.284332         300\n",
       "4   EMBR3     80.626768         100\n",
       "5   ITSA4     77.354576         300\n",
       "6   PETR4      7.330583         100\n",
       "7   PETR4     37.425152         200\n",
       "8   EMBR3     62.691443         300\n",
       "9   VVAR3     58.069377         100\n",
       "10  VVAR3     18.877459         300\n",
       "11  PETR4     84.616718         100\n",
       "12  PETR4     26.778080         200\n",
       "13  PETR4     12.494286         300\n",
       "14  ITSA4     82.849075         100\n",
       "15  EMBR3     32.090326         300\n",
       "16  PETR4     86.766959         100\n",
       "17  EMBR3     66.707810         200\n",
       "18  VVAR3     31.385241         300"
      ]
     },
     "execution_count": 6,
     "metadata": {},
     "output_type": "execute_result"
    }
   ],
   "source": [
    "df = pd.read_csv(path, sep=';')\n",
    "df"
   ]
  },
  {
   "cell_type": "code",
   "execution_count": 10,
   "id": "51e3ee3b",
   "metadata": {},
   "outputs": [
    {
     "data": {
      "text/html": [
       "<div>\n",
       "<style scoped>\n",
       "    .dataframe tbody tr th:only-of-type {\n",
       "        vertical-align: middle;\n",
       "    }\n",
       "\n",
       "    .dataframe tbody tr th {\n",
       "        vertical-align: top;\n",
       "    }\n",
       "\n",
       "    .dataframe thead th {\n",
       "        text-align: right;\n",
       "    }\n",
       "</style>\n",
       "<table border=\"1\" class=\"dataframe\">\n",
       "  <thead>\n",
       "    <tr style=\"text-align: right;\">\n",
       "      <th></th>\n",
       "      <th>Quantidade</th>\n",
       "    </tr>\n",
       "    <tr>\n",
       "      <th>Papel</th>\n",
       "      <th></th>\n",
       "    </tr>\n",
       "  </thead>\n",
       "  <tbody>\n",
       "    <tr>\n",
       "      <th>EMBR3</th>\n",
       "      <td>900</td>\n",
       "    </tr>\n",
       "    <tr>\n",
       "      <th>ITSA4</th>\n",
       "      <td>900</td>\n",
       "    </tr>\n",
       "    <tr>\n",
       "      <th>PETR4</th>\n",
       "      <td>1100</td>\n",
       "    </tr>\n",
       "    <tr>\n",
       "      <th>VVAR3</th>\n",
       "      <td>800</td>\n",
       "    </tr>\n",
       "  </tbody>\n",
       "</table>\n",
       "</div>"
      ],
      "text/plain": [
       "       Quantidade\n",
       "Papel            \n",
       "EMBR3         900\n",
       "ITSA4         900\n",
       "PETR4        1100\n",
       "VVAR3         800"
      ]
     },
     "execution_count": 10,
     "metadata": {},
     "output_type": "execute_result"
    }
   ],
   "source": [
    "pd.pivot_table(df, index='Papel', values='Quantidade', aggfunc='sum')"
   ]
  },
  {
   "cell_type": "code",
   "execution_count": 11,
   "id": "de37787c",
   "metadata": {},
   "outputs": [],
   "source": [
    "df['valor_total'] = df['preco_compra'] * df['Quantidade']"
   ]
  },
  {
   "cell_type": "code",
   "execution_count": 12,
   "id": "ed77a6c5",
   "metadata": {},
   "outputs": [
    {
     "data": {
      "text/html": [
       "<div>\n",
       "<style scoped>\n",
       "    .dataframe tbody tr th:only-of-type {\n",
       "        vertical-align: middle;\n",
       "    }\n",
       "\n",
       "    .dataframe tbody tr th {\n",
       "        vertical-align: top;\n",
       "    }\n",
       "\n",
       "    .dataframe thead th {\n",
       "        text-align: right;\n",
       "    }\n",
       "</style>\n",
       "<table border=\"1\" class=\"dataframe\">\n",
       "  <thead>\n",
       "    <tr style=\"text-align: right;\">\n",
       "      <th></th>\n",
       "      <th>Papel</th>\n",
       "      <th>preco_compra</th>\n",
       "      <th>Quantidade</th>\n",
       "      <th>valor_total</th>\n",
       "    </tr>\n",
       "  </thead>\n",
       "  <tbody>\n",
       "    <tr>\n",
       "      <th>0</th>\n",
       "      <td>PETR4</td>\n",
       "      <td>92.114785</td>\n",
       "      <td>100</td>\n",
       "      <td>9211.478515</td>\n",
       "    </tr>\n",
       "    <tr>\n",
       "      <th>1</th>\n",
       "      <td>VVAR3</td>\n",
       "      <td>17.519059</td>\n",
       "      <td>100</td>\n",
       "      <td>1751.905894</td>\n",
       "    </tr>\n",
       "    <tr>\n",
       "      <th>2</th>\n",
       "      <td>ITSA4</td>\n",
       "      <td>56.375177</td>\n",
       "      <td>200</td>\n",
       "      <td>11275.035362</td>\n",
       "    </tr>\n",
       "    <tr>\n",
       "      <th>3</th>\n",
       "      <td>ITSA4</td>\n",
       "      <td>62.284332</td>\n",
       "      <td>300</td>\n",
       "      <td>18685.299477</td>\n",
       "    </tr>\n",
       "    <tr>\n",
       "      <th>4</th>\n",
       "      <td>EMBR3</td>\n",
       "      <td>80.626768</td>\n",
       "      <td>100</td>\n",
       "      <td>8062.676817</td>\n",
       "    </tr>\n",
       "    <tr>\n",
       "      <th>5</th>\n",
       "      <td>ITSA4</td>\n",
       "      <td>77.354576</td>\n",
       "      <td>300</td>\n",
       "      <td>23206.372683</td>\n",
       "    </tr>\n",
       "    <tr>\n",
       "      <th>6</th>\n",
       "      <td>PETR4</td>\n",
       "      <td>7.330583</td>\n",
       "      <td>100</td>\n",
       "      <td>733.058292</td>\n",
       "    </tr>\n",
       "    <tr>\n",
       "      <th>7</th>\n",
       "      <td>PETR4</td>\n",
       "      <td>37.425152</td>\n",
       "      <td>200</td>\n",
       "      <td>7485.030408</td>\n",
       "    </tr>\n",
       "    <tr>\n",
       "      <th>8</th>\n",
       "      <td>EMBR3</td>\n",
       "      <td>62.691443</td>\n",
       "      <td>300</td>\n",
       "      <td>18807.432765</td>\n",
       "    </tr>\n",
       "    <tr>\n",
       "      <th>9</th>\n",
       "      <td>VVAR3</td>\n",
       "      <td>58.069377</td>\n",
       "      <td>100</td>\n",
       "      <td>5806.937731</td>\n",
       "    </tr>\n",
       "    <tr>\n",
       "      <th>10</th>\n",
       "      <td>VVAR3</td>\n",
       "      <td>18.877459</td>\n",
       "      <td>300</td>\n",
       "      <td>5663.237736</td>\n",
       "    </tr>\n",
       "    <tr>\n",
       "      <th>11</th>\n",
       "      <td>PETR4</td>\n",
       "      <td>84.616718</td>\n",
       "      <td>100</td>\n",
       "      <td>8461.671786</td>\n",
       "    </tr>\n",
       "    <tr>\n",
       "      <th>12</th>\n",
       "      <td>PETR4</td>\n",
       "      <td>26.778080</td>\n",
       "      <td>200</td>\n",
       "      <td>5355.616074</td>\n",
       "    </tr>\n",
       "    <tr>\n",
       "      <th>13</th>\n",
       "      <td>PETR4</td>\n",
       "      <td>12.494286</td>\n",
       "      <td>300</td>\n",
       "      <td>3748.285710</td>\n",
       "    </tr>\n",
       "    <tr>\n",
       "      <th>14</th>\n",
       "      <td>ITSA4</td>\n",
       "      <td>82.849075</td>\n",
       "      <td>100</td>\n",
       "      <td>8284.907506</td>\n",
       "    </tr>\n",
       "    <tr>\n",
       "      <th>15</th>\n",
       "      <td>EMBR3</td>\n",
       "      <td>32.090326</td>\n",
       "      <td>300</td>\n",
       "      <td>9627.097887</td>\n",
       "    </tr>\n",
       "    <tr>\n",
       "      <th>16</th>\n",
       "      <td>PETR4</td>\n",
       "      <td>86.766959</td>\n",
       "      <td>100</td>\n",
       "      <td>8676.695859</td>\n",
       "    </tr>\n",
       "    <tr>\n",
       "      <th>17</th>\n",
       "      <td>EMBR3</td>\n",
       "      <td>66.707810</td>\n",
       "      <td>200</td>\n",
       "      <td>13341.561964</td>\n",
       "    </tr>\n",
       "    <tr>\n",
       "      <th>18</th>\n",
       "      <td>VVAR3</td>\n",
       "      <td>31.385241</td>\n",
       "      <td>300</td>\n",
       "      <td>9415.572348</td>\n",
       "    </tr>\n",
       "  </tbody>\n",
       "</table>\n",
       "</div>"
      ],
      "text/plain": [
       "    Papel  preco_compra  Quantidade   valor_total\n",
       "0   PETR4     92.114785         100   9211.478515\n",
       "1   VVAR3     17.519059         100   1751.905894\n",
       "2   ITSA4     56.375177         200  11275.035362\n",
       "3   ITSA4     62.284332         300  18685.299477\n",
       "4   EMBR3     80.626768         100   8062.676817\n",
       "5   ITSA4     77.354576         300  23206.372683\n",
       "6   PETR4      7.330583         100    733.058292\n",
       "7   PETR4     37.425152         200   7485.030408\n",
       "8   EMBR3     62.691443         300  18807.432765\n",
       "9   VVAR3     58.069377         100   5806.937731\n",
       "10  VVAR3     18.877459         300   5663.237736\n",
       "11  PETR4     84.616718         100   8461.671786\n",
       "12  PETR4     26.778080         200   5355.616074\n",
       "13  PETR4     12.494286         300   3748.285710\n",
       "14  ITSA4     82.849075         100   8284.907506\n",
       "15  EMBR3     32.090326         300   9627.097887\n",
       "16  PETR4     86.766959         100   8676.695859\n",
       "17  EMBR3     66.707810         200  13341.561964\n",
       "18  VVAR3     31.385241         300   9415.572348"
      ]
     },
     "execution_count": 12,
     "metadata": {},
     "output_type": "execute_result"
    }
   ],
   "source": [
    "df"
   ]
  },
  {
   "cell_type": "code",
   "execution_count": 15,
   "id": "2f6d54ff",
   "metadata": {},
   "outputs": [
    {
     "data": {
      "text/html": [
       "<div>\n",
       "<style scoped>\n",
       "    .dataframe tbody tr th:only-of-type {\n",
       "        vertical-align: middle;\n",
       "    }\n",
       "\n",
       "    .dataframe tbody tr th {\n",
       "        vertical-align: top;\n",
       "    }\n",
       "\n",
       "    .dataframe thead th {\n",
       "        text-align: right;\n",
       "    }\n",
       "</style>\n",
       "<table border=\"1\" class=\"dataframe\">\n",
       "  <thead>\n",
       "    <tr style=\"text-align: right;\">\n",
       "      <th></th>\n",
       "      <th>Quantidade</th>\n",
       "      <th>valor_total</th>\n",
       "    </tr>\n",
       "    <tr>\n",
       "      <th>Papel</th>\n",
       "      <th></th>\n",
       "      <th></th>\n",
       "    </tr>\n",
       "  </thead>\n",
       "  <tbody>\n",
       "    <tr>\n",
       "      <th>EMBR3</th>\n",
       "      <td>900</td>\n",
       "      <td>49838.769433</td>\n",
       "    </tr>\n",
       "    <tr>\n",
       "      <th>ITSA4</th>\n",
       "      <td>900</td>\n",
       "      <td>61451.615028</td>\n",
       "    </tr>\n",
       "    <tr>\n",
       "      <th>PETR4</th>\n",
       "      <td>1100</td>\n",
       "      <td>43671.836644</td>\n",
       "    </tr>\n",
       "    <tr>\n",
       "      <th>VVAR3</th>\n",
       "      <td>800</td>\n",
       "      <td>22637.653709</td>\n",
       "    </tr>\n",
       "  </tbody>\n",
       "</table>\n",
       "</div>"
      ],
      "text/plain": [
       "       Quantidade   valor_total\n",
       "Papel                          \n",
       "EMBR3         900  49838.769433\n",
       "ITSA4         900  61451.615028\n",
       "PETR4        1100  43671.836644\n",
       "VVAR3         800  22637.653709"
      ]
     },
     "execution_count": 15,
     "metadata": {},
     "output_type": "execute_result"
    }
   ],
   "source": [
    "papel = pd.pivot_table(df, index='Papel', values=['Quantidade', 'valor_total'], aggfunc='sum')\n",
    "papel"
   ]
  },
  {
   "cell_type": "code",
   "execution_count": 16,
   "id": "ca0d26de",
   "metadata": {},
   "outputs": [],
   "source": [
    "papel['pmedio'] = papel['valor_total'] / papel['Quantidade']"
   ]
  },
  {
   "cell_type": "code",
   "execution_count": 17,
   "id": "9bf8a6f1",
   "metadata": {},
   "outputs": [
    {
     "data": {
      "text/html": [
       "<div>\n",
       "<style scoped>\n",
       "    .dataframe tbody tr th:only-of-type {\n",
       "        vertical-align: middle;\n",
       "    }\n",
       "\n",
       "    .dataframe tbody tr th {\n",
       "        vertical-align: top;\n",
       "    }\n",
       "\n",
       "    .dataframe thead th {\n",
       "        text-align: right;\n",
       "    }\n",
       "</style>\n",
       "<table border=\"1\" class=\"dataframe\">\n",
       "  <thead>\n",
       "    <tr style=\"text-align: right;\">\n",
       "      <th></th>\n",
       "      <th>Quantidade</th>\n",
       "      <th>valor_total</th>\n",
       "      <th>pmedio</th>\n",
       "    </tr>\n",
       "    <tr>\n",
       "      <th>Papel</th>\n",
       "      <th></th>\n",
       "      <th></th>\n",
       "      <th></th>\n",
       "    </tr>\n",
       "  </thead>\n",
       "  <tbody>\n",
       "    <tr>\n",
       "      <th>EMBR3</th>\n",
       "      <td>900</td>\n",
       "      <td>49838.769433</td>\n",
       "      <td>55.376410</td>\n",
       "    </tr>\n",
       "    <tr>\n",
       "      <th>ITSA4</th>\n",
       "      <td>900</td>\n",
       "      <td>61451.615028</td>\n",
       "      <td>68.279572</td>\n",
       "    </tr>\n",
       "    <tr>\n",
       "      <th>PETR4</th>\n",
       "      <td>1100</td>\n",
       "      <td>43671.836644</td>\n",
       "      <td>39.701670</td>\n",
       "    </tr>\n",
       "    <tr>\n",
       "      <th>VVAR3</th>\n",
       "      <td>800</td>\n",
       "      <td>22637.653709</td>\n",
       "      <td>28.297067</td>\n",
       "    </tr>\n",
       "  </tbody>\n",
       "</table>\n",
       "</div>"
      ],
      "text/plain": [
       "       Quantidade   valor_total     pmedio\n",
       "Papel                                     \n",
       "EMBR3         900  49838.769433  55.376410\n",
       "ITSA4         900  61451.615028  68.279572\n",
       "PETR4        1100  43671.836644  39.701670\n",
       "VVAR3         800  22637.653709  28.297067"
      ]
     },
     "execution_count": 17,
     "metadata": {},
     "output_type": "execute_result"
    }
   ],
   "source": [
    "papel"
   ]
  },
  {
   "cell_type": "code",
   "execution_count": null,
   "id": "57589b2d",
   "metadata": {},
   "outputs": [],
   "source": []
  },
  {
   "cell_type": "markdown",
   "id": "ea4de69c",
   "metadata": {},
   "source": [
    "## 3.10 - Gráficos no pandas\n",
    "Os gráficos do pandas são gerados por meio de métodos.\n",
    "\n",
    "<br/>\n",
    "\n",
    "### Métodos para gráficos\n",
    "| Método | Descrição |\n",
    "| -:- | -:- |\n",
    "|df.plot(x='x',y='y')| gráfico de linha |\n",
    "|df.plot.bar(x='x',y='y')| gráfico de barras |\n",
    "|df.plot.pie(subplots=True ou y='y')| gráfico de pizza |\n",
    "|df.plot.scatter(x='x',y='y')| nuvem de pontos |\n",
    "\n",
    "\n",
    "Acesse: https://pandas.pydata.org/docs/user_guide/visualization.html#visualization-hist"
   ]
  },
  {
   "cell_type": "markdown",
   "id": "0b0c85dc",
   "metadata": {},
   "source": [
    "### Gráfico de linhas"
   ]
  },
  {
   "cell_type": "code",
   "execution_count": 45,
   "id": "13cdd776",
   "metadata": {},
   "outputs": [],
   "source": [
    "import pandas as pd\n",
    "import numpy as np\n",
    "\n",
    "arr = np.arange(10) **2\n",
    "serie1 = pd.Series(arr)"
   ]
  },
  {
   "cell_type": "code",
   "execution_count": 46,
   "id": "6d8d2184",
   "metadata": {},
   "outputs": [
    {
     "data": {
      "text/plain": [
       "<AxesSubplot:>"
      ]
     },
     "execution_count": 46,
     "metadata": {},
     "output_type": "execute_result"
    },
    {
     "data": {
      "image/png": "[encoded data removed]",
      "text/plain": [
       "<Figure size 432x288 with 1 Axes>"
      ]
     },
     "metadata": {
      "needs_background": "light"
     },
     "output_type": "display_data"
    }
   ],
   "source": [
    "serie1.plot()"
   ]
  },
  {
   "cell_type": "code",
   "execution_count": 36,
   "id": "0ba213a8",
   "metadata": {},
   "outputs": [
    {
     "data": {
      "text/plain": [
       "<AxesSubplot:xlabel='a'>"
      ]
     },
     "execution_count": 36,
     "metadata": {},
     "output_type": "execute_result"
    },
    {
     "data": {
      "image/png": "[encoded data removed]",
      "text/plain": [
       "<Figure size 432x288 with 1 Axes>"
      ]
     },
     "metadata": {
      "needs_background": "light"
     },
     "output_type": "display_data"
    }
   ],
   "source": [
    "df1 = pd.DataFrame({\n",
    "    'a': np.arange(50) ** 2,\n",
    "    'b': np.arange(50) ** 3,\n",
    "    'c': np.arange(50) **4\n",
    "})\n",
    "df1.plot(x='a', y=['b', 'c'])"
   ]
  },
  {
   "cell_type": "markdown",
   "id": "f9efaf57",
   "metadata": {},
   "source": [
    "### Gráfico de barras"
   ]
  },
  {
   "cell_type": "code",
   "execution_count": 37,
   "id": "c23e8739",
   "metadata": {},
   "outputs": [
    {
     "data": {
      "text/html": [
       "<div>\n",
       "<style scoped>\n",
       "    .dataframe tbody tr th:only-of-type {\n",
       "        vertical-align: middle;\n",
       "    }\n",
       "\n",
       "    .dataframe tbody tr th {\n",
       "        vertical-align: top;\n",
       "    }\n",
       "\n",
       "    .dataframe thead th {\n",
       "        text-align: right;\n",
       "    }\n",
       "</style>\n",
       "<table border=\"1\" class=\"dataframe\">\n",
       "  <thead>\n",
       "    <tr style=\"text-align: right;\">\n",
       "      <th></th>\n",
       "      <th>Quantidade</th>\n",
       "      <th>valor_total</th>\n",
       "      <th>pmedio</th>\n",
       "    </tr>\n",
       "    <tr>\n",
       "      <th>Papel</th>\n",
       "      <th></th>\n",
       "      <th></th>\n",
       "      <th></th>\n",
       "    </tr>\n",
       "  </thead>\n",
       "  <tbody>\n",
       "    <tr>\n",
       "      <th>EMBR3</th>\n",
       "      <td>900</td>\n",
       "      <td>49838.769433</td>\n",
       "      <td>55.376410</td>\n",
       "    </tr>\n",
       "    <tr>\n",
       "      <th>ITSA4</th>\n",
       "      <td>900</td>\n",
       "      <td>61451.615028</td>\n",
       "      <td>68.279572</td>\n",
       "    </tr>\n",
       "    <tr>\n",
       "      <th>PETR4</th>\n",
       "      <td>1100</td>\n",
       "      <td>43671.836644</td>\n",
       "      <td>39.701670</td>\n",
       "    </tr>\n",
       "    <tr>\n",
       "      <th>VVAR3</th>\n",
       "      <td>800</td>\n",
       "      <td>22637.653709</td>\n",
       "      <td>28.297067</td>\n",
       "    </tr>\n",
       "  </tbody>\n",
       "</table>\n",
       "</div>"
      ],
      "text/plain": [
       "       Quantidade   valor_total     pmedio\n",
       "Papel                                     \n",
       "EMBR3         900  49838.769433  55.376410\n",
       "ITSA4         900  61451.615028  68.279572\n",
       "PETR4        1100  43671.836644  39.701670\n",
       "VVAR3         800  22637.653709  28.297067"
      ]
     },
     "execution_count": 37,
     "metadata": {},
     "output_type": "execute_result"
    }
   ],
   "source": [
    "papel"
   ]
  },
  {
   "cell_type": "code",
   "execution_count": 40,
   "id": "612b97eb",
   "metadata": {},
   "outputs": [
    {
     "data": {
      "text/plain": [
       "<AxesSubplot:xlabel='Papel'>"
      ]
     },
     "execution_count": 40,
     "metadata": {},
     "output_type": "execute_result"
    },
    {
     "data": {
      "image/png": "[encoded data removed]",
      "text/plain": [
       "<Figure size 432x288 with 1 Axes>"
      ]
     },
     "metadata": {
      "needs_background": "light"
     },
     "output_type": "display_data"
    }
   ],
   "source": [
    "papel.plot.bar(y='Quantidade')"
   ]
  },
  {
   "cell_type": "markdown",
   "id": "0d5f68ff",
   "metadata": {},
   "source": [
    "### Gráfico de pizza"
   ]
  },
  {
   "cell_type": "code",
   "execution_count": 43,
   "id": "9080997a",
   "metadata": {},
   "outputs": [
    {
     "data": {
      "text/plain": [
       "<AxesSubplot:ylabel='Quantidade'>"
      ]
     },
     "execution_count": 43,
     "metadata": {},
     "output_type": "execute_result"
    },
    {
     "data": {
      "image/png": "[encoded data removed]",
      "text/plain": [
       "<Figure size 432x288 with 1 Axes>"
      ]
     },
     "metadata": {},
     "output_type": "display_data"
    }
   ],
   "source": [
    "papel.plot.pie(y='Quantidade')"
   ]
  },
  {
   "cell_type": "markdown",
   "id": "0664ab25",
   "metadata": {},
   "source": [
    "### Scatter"
   ]
  },
  {
   "cell_type": "code",
   "execution_count": 47,
   "id": "cbcf696e",
   "metadata": {},
   "outputs": [
    {
     "ename": "NameError",
     "evalue": "name 'df2' is not defined",
     "output_type": "error",
     "traceback": [
      "\u001b[1;31m---------------------------------------------------------------------------\u001b[0m",
      "\u001b[1;31mNameError\u001b[0m                                 Traceback (most recent call last)",
      "\u001b[1;32m~\\AppData\\Local\\Temp/ipykernel_6468/4218311044.py\u001b[0m in \u001b[0;36m<module>\u001b[1;34m\u001b[0m\n\u001b[1;32m----> 1\u001b[1;33m \u001b[0mdf2\u001b[0m\u001b[1;33m.\u001b[0m\u001b[0mplot\u001b[0m\u001b[1;33m.\u001b[0m\u001b[0mscatter\u001b[0m\u001b[1;33m(\u001b[0m\u001b[0mx\u001b[0m\u001b[1;33m=\u001b[0m\u001b[1;34m'weight'\u001b[0m\u001b[1;33m,\u001b[0m \u001b[0my\u001b[0m\u001b[1;33m=\u001b[0m\u001b[1;34m'height'\u001b[0m\u001b[1;33m)\u001b[0m\u001b[1;33m\u001b[0m\u001b[1;33m\u001b[0m\u001b[0m\n\u001b[0m",
      "\u001b[1;31mNameError\u001b[0m: name 'df2' is not defined"
     ]
    }
   ],
   "source": [
    "df2.plot.scatter(x='weight', y='height')"
   ]
  },
  {
   "cell_type": "code",
   "execution_count": null,
   "id": "807aa628",
   "metadata": {},
   "outputs": [],
   "source": []
  },
  {
   "cell_type": "code",
   "execution_count": null,
   "id": "941598e1",
   "metadata": {},
   "outputs": [],
   "source": []
  },
  {
   "cell_type": "code",
   "execution_count": null,
   "id": "478e1f93",
   "metadata": {},
   "outputs": [],
   "source": []
  },
  {
   "cell_type": "code",
   "execution_count": null,
   "id": "d1478d32",
   "metadata": {},
   "outputs": [],
   "source": []
  }
 ],
 "metadata": {
  "kernelspec": {
   "display_name": "Python 3 (ipykernel)",
   "language": "python",
   "name": "python3"
  },
  "language_info": {
   "codemirror_mode": {
    "name": "ipython",
    "version": 3
   },
   "file_extension": ".py",
   "mimetype": "text/x-python",
   "name": "python",
   "nbconvert_exporter": "python",
   "pygments_lexer": "ipython3",
   "version": "3.9.12"
  }
 },
 "nbformat": 4,
 "nbformat_minor": 5
}
