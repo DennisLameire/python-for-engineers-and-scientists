{
 "cells": [
  {
   "cell_type": "markdown",
   "id": "f275aaf8",
   "metadata": {},
   "source": [
    "## Part 1\n",
    "\n",
    "# Section 9 - Python Built-in Libraries\n",
    "\n",
    "\n",
    "# Importing a library\n",
    "\n",
    "Below are listed 3 ways to import a library in Python. When we do this import, we bring everything the library has to offer to our project.\n",
    "\n",
    "### Syntax for importing a library\n",
    "\n",
    "```python\n",
    ">>> import math\n",
    ">>> import math as m # import the library with the abbreviation m\n",
    ">>> from math import cos # import only the cosine function\n",
    "```\n",
    "\n",
    "### Some pre-built libraries in Python\n",
    "\n",
    "| Library | Description |\n",
    "| ------- | ----------- |\n",
    "| math | contains mathematical functions |\n",
    "| collections | module with container options. Ex. NamedTuple. |\n",
    "| random | generates random numbers |\n",
    "| os.path | module for file path manipulation |\n",
    "| time | module for time measurement data manipulation |\n",
    "\n",
    "**Note:**\n",
    "<pre>https://docs.python.org/3/library/</pre>\n",
    "<pre>My recommendation is not to try to learn everything at once, but rather on demand.</pre>\n"
   ]
  },
  {
   "cell_type": "markdown",
   "id": "b7630c02",
   "metadata": {},
   "source": [
    "## math"
   ]
  },
  {
   "cell_type": "code",
   "execution_count": 1,
   "id": "d25c9b84",
   "metadata": {},
   "outputs": [],
   "source": [
    "import math"
   ]
  },
  {
   "cell_type": "code",
   "execution_count": 2,
   "id": "082f1032",
   "metadata": {},
   "outputs": [
    {
     "data": {
      "text/plain": [
       "3.141592653589793"
      ]
     },
     "execution_count": 2,
     "metadata": {},
     "output_type": "execute_result"
    }
   ],
   "source": [
    "math.pi"
   ]
  },
  {
   "cell_type": "code",
   "execution_count": 4,
   "id": "d283cf43",
   "metadata": {},
   "outputs": [
    {
     "data": {
      "text/plain": [
       "1.0"
      ]
     },
     "execution_count": 4,
     "metadata": {},
     "output_type": "execute_result"
    }
   ],
   "source": [
    "math.cos(0)"
   ]
  },
  {
   "cell_type": "code",
   "execution_count": 5,
   "id": "885cc21b",
   "metadata": {},
   "outputs": [
    {
     "data": {
      "text/plain": [
       "7.38905609893065"
      ]
     },
     "execution_count": 5,
     "metadata": {},
     "output_type": "execute_result"
    }
   ],
   "source": [
    "math.exp(2)"
   ]
  },
  {
   "cell_type": "code",
   "execution_count": 6,
   "id": "11b49ca5",
   "metadata": {},
   "outputs": [
    {
     "data": {
      "text/plain": [
       "2.0"
      ]
     },
     "execution_count": 6,
     "metadata": {},
     "output_type": "execute_result"
    }
   ],
   "source": [
    "math.sqrt(4)"
   ]
  },
  {
   "cell_type": "markdown",
   "id": "a19dec8e",
   "metadata": {},
   "source": [
    "## Collections"
   ]
  },
  {
   "cell_type": "code",
   "execution_count": 5,
   "id": "511ace97",
   "metadata": {},
   "outputs": [],
   "source": [
    "from collections import namedtuple"
   ]
  },
  {
   "cell_type": "code",
   "execution_count": 6,
   "id": "96361e3b",
   "metadata": {},
   "outputs": [],
   "source": [
    "Coordenadas = namedtuple('Coordenadas', 'x, y')"
   ]
  },
  {
   "cell_type": "code",
   "execution_count": 7,
   "id": "76e89dfe",
   "metadata": {},
   "outputs": [],
   "source": [
    "p1 = Coordenadas(1, 3)"
   ]
  },
  {
   "cell_type": "code",
   "execution_count": 8,
   "id": "cae4a5ce",
   "metadata": {},
   "outputs": [
    {
     "data": {
      "text/plain": [
       "Coordenadas(x=1, y=3)"
      ]
     },
     "execution_count": 8,
     "metadata": {},
     "output_type": "execute_result"
    }
   ],
   "source": [
    "p1"
   ]
  },
  {
   "cell_type": "markdown",
   "id": "0ce19a4b",
   "metadata": {},
   "source": [
    "## Random"
   ]
  },
  {
   "cell_type": "code",
   "execution_count": 36,
   "id": "8ab913a2",
   "metadata": {},
   "outputs": [],
   "source": [
    "from random import random, choices"
   ]
  },
  {
   "cell_type": "code",
   "execution_count": 38,
   "id": "c69a350c",
   "metadata": {},
   "outputs": [
    {
     "data": {
      "text/plain": [
       "0.4763317948844562"
      ]
     },
     "execution_count": 38,
     "metadata": {},
     "output_type": "execute_result"
    }
   ],
   "source": [
    "random()"
   ]
  },
  {
   "cell_type": "code",
   "execution_count": 42,
   "id": "616ec659",
   "metadata": {},
   "outputs": [
    {
     "data": {
      "text/plain": [
       "['Gabriel']"
      ]
     },
     "execution_count": 42,
     "metadata": {},
     "output_type": "execute_result"
    }
   ],
   "source": [
    "choices(['Rafael', 'Lucas', 'Natália', 'Gabriel'])"
   ]
  },
  {
   "cell_type": "markdown",
   "id": "5e0153c6",
   "metadata": {},
   "source": [
    "## os.path"
   ]
  },
  {
   "cell_type": "code",
   "execution_count": 1,
   "id": "e0b3ddff",
   "metadata": {},
   "outputs": [],
   "source": [
    "import os.path"
   ]
  },
  {
   "cell_type": "code",
   "execution_count": 2,
   "id": "40fd1af3",
   "metadata": {},
   "outputs": [],
   "source": [
    "path = 'C:'\n",
    "newpath = os.path.abspath(path)"
   ]
  },
  {
   "cell_type": "code",
   "execution_count": 3,
   "id": "ec4433c3",
   "metadata": {},
   "outputs": [],
   "source": [
    "newpath = os.path.join(newpath, 'Caminho')"
   ]
  },
  {
   "cell_type": "code",
   "execution_count": 4,
   "id": "78eb8660",
   "metadata": {},
   "outputs": [
    {
     "data": {
      "text/plain": [
       "'C:\\\\Caminho'"
      ]
     },
     "execution_count": 4,
     "metadata": {},
     "output_type": "execute_result"
    }
   ],
   "source": [
    "newpath"
   ]
  },
  {
   "cell_type": "markdown",
   "id": "7996e7ad",
   "metadata": {},
   "source": [
    "## time"
   ]
  },
  {
   "cell_type": "code",
   "execution_count": 52,
   "id": "4a42b7a7",
   "metadata": {},
   "outputs": [],
   "source": [
    "from time import time"
   ]
  },
  {
   "cell_type": "code",
   "execution_count": 53,
   "id": "9bd399e4",
   "metadata": {},
   "outputs": [
    {
     "data": {
      "text/plain": [
       "1643671941.034991"
      ]
     },
     "execution_count": 53,
     "metadata": {},
     "output_type": "execute_result"
    }
   ],
   "source": [
    "time()"
   ]
  },
  {
   "cell_type": "code",
   "execution_count": 56,
   "id": "78a19ea9",
   "metadata": {},
   "outputs": [
    {
     "name": "stdout",
     "output_type": "stream",
     "text": [
      "2.977421283721924\n"
     ]
    }
   ],
   "source": [
    "it = time()\n",
    "\n",
    "for i in range(10**7):\n",
    "    a = i**2 + i++3\n",
    "    \n",
    "ft = time()\n",
    "print(ft-it)"
   ]
  },
  {
   "cell_type": "code",
   "execution_count": null,
   "id": "ee76d9a2",
   "metadata": {},
   "outputs": [],
   "source": []
  }
 ],
 "metadata": {
  "kernelspec": {
   "display_name": "Python 3 (ipykernel)",
   "language": "python",
   "name": "python3"
  },
  "language_info": {
   "codemirror_mode": {
    "name": "ipython",
    "version": 3
   },
   "file_extension": ".py",
   "mimetype": "text/x-python",
   "name": "python",
   "nbconvert_exporter": "python",
   "pygments_lexer": "ipython3",
   "version": "3.9.7"
  }
 },
 "nbformat": 4,
 "nbformat_minor": 5
}
