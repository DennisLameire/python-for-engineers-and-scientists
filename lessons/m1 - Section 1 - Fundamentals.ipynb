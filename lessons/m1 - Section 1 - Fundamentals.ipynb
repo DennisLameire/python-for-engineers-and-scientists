{
 "cells": [
  {
   "cell_type": "markdown",
   "id": "3bf6dd5b",
   "metadata": {},
   "source": [
    "# Desenvolvimento de Pacotes Científicos com Python\n",
    "\n",
    "**por**: Rafael Pereira da Silva"
   ]
  },
  {
   "cell_type": "markdown",
   "id": "c9fe696f",
   "metadata": {},
   "source": [
    "# PART 1\n",
    "# Section 1: Python Overview\n",
    "\n",
    "In this section we see the basic syntax of Python. Typically, students from STEM (science, technology, engineering and mathematics) courses already have the basic knowledge of logic and algorithms. Said that, the objective of this section is to remember these concepts and training Python syntax in practice."
   ]
  },
  {
   "cell_type": "markdown",
   "id": "14b34449",
   "metadata": {},
   "source": [
    "## 1.1 - built-in types\n",
    "\n",
    "<br/>\n",
    "\n",
    "| type | Description|\n",
    "|:-- | :-- |\n",
    "|int|integer number|\n",
    "|float|real number with 16 digits precision|\n",
    "|str|text|\n",
    "|bool|boolean type (True or False)| \n",
    "\n",
    "<br/>\n",
    "\n",
    "#### Syntax of built-in types\n",
    "\n",
    "```python\n",
    ">>> int_number = 1\n",
    ">>> real_number1 = 1.\n",
    ">>> real_number2 = 1.1\n",
    ">>> text_variable1 = 'Python'\n",
    ">>> text_varible2 = \"Python\"\n",
    ">>> bool_type = True\n",
    "# The values are stored inside the variables and the hashtag line is a comment. \n",
    "```\n",
    "\n",
    "### First functions\n",
    "\n",
    "<br/>\n",
    "\n",
    "| Function | Description |\n",
    "| :-- | :-- |\n",
    "| print() | print a value on the screen|\n",
    "| input()                  | returns a **string** given by the user |\n",
    "| int(), float(), str() | converts the type |\n",
    "| type()                   | returns the type of the object |"
   ]
  },
  {
   "cell_type": "code",
   "execution_count": 9,
   "id": "101b2534",
   "metadata": {},
   "outputs": [],
   "source": [
    "a = 5"
   ]
  },
  {
   "cell_type": "code",
   "execution_count": 10,
   "id": "5b582b53",
   "metadata": {},
   "outputs": [
    {
     "name": "stdout",
     "output_type": "stream",
     "text": [
      "5\n"
     ]
    }
   ],
   "source": [
    "print(a)"
   ]
  },
  {
   "cell_type": "code",
   "execution_count": 11,
   "id": "8136d27a",
   "metadata": {},
   "outputs": [
    {
     "data": {
      "text/plain": [
       "int"
      ]
     },
     "execution_count": 11,
     "metadata": {},
     "output_type": "execute_result"
    }
   ],
   "source": [
    "type(a)"
   ]
  },
  {
   "cell_type": "code",
   "execution_count": 15,
   "id": "66c4351c",
   "metadata": {},
   "outputs": [
    {
     "data": {
      "text/plain": [
       "6.0123"
      ]
     },
     "execution_count": 15,
     "metadata": {},
     "output_type": "execute_result"
    }
   ],
   "source": [
    "b = 6.0123\n",
    "b"
   ]
  },
  {
   "cell_type": "code",
   "execution_count": 24,
   "id": "4ad79662",
   "metadata": {},
   "outputs": [
    {
     "data": {
      "text/plain": [
       "'Olá, mundo!'"
      ]
     },
     "execution_count": 24,
     "metadata": {},
     "output_type": "execute_result"
    }
   ],
   "source": [
    "c = 'Olá, mundo!'\n",
    "c"
   ]
  },
  {
   "cell_type": "code",
   "execution_count": 25,
   "id": "0aa8bcb6",
   "metadata": {},
   "outputs": [
    {
     "data": {
      "text/plain": [
       "bool"
      ]
     },
     "execution_count": 25,
     "metadata": {},
     "output_type": "execute_result"
    }
   ],
   "source": [
    "d = False\n",
    "type(d)"
   ]
  },
  {
   "cell_type": "code",
   "execution_count": 26,
   "id": "95f4bdee",
   "metadata": {},
   "outputs": [
    {
     "data": {
      "text/plain": [
       "True"
      ]
     },
     "execution_count": 26,
     "metadata": {},
     "output_type": "execute_result"
    }
   ],
   "source": [
    "True"
   ]
  },
  {
   "cell_type": "code",
   "execution_count": 28,
   "id": "625b2c9a",
   "metadata": {},
   "outputs": [
    {
     "name": "stdout",
     "output_type": "stream",
     "text": [
      "Digite um numero5.1\n"
     ]
    }
   ],
   "source": [
    "e = input('Digite um numero')"
   ]
  },
  {
   "cell_type": "code",
   "execution_count": 31,
   "id": "baabdc85",
   "metadata": {},
   "outputs": [
    {
     "data": {
      "text/plain": [
       "str"
      ]
     },
     "execution_count": 31,
     "metadata": {},
     "output_type": "execute_result"
    }
   ],
   "source": [
    "type(e)"
   ]
  },
  {
   "cell_type": "code",
   "execution_count": 36,
   "id": "6c3c9e83",
   "metadata": {},
   "outputs": [
    {
     "data": {
      "text/plain": [
       "float"
      ]
     },
     "execution_count": 36,
     "metadata": {},
     "output_type": "execute_result"
    }
   ],
   "source": [
    "f = float(e)\n",
    "type(f)"
   ]
  },
  {
   "cell_type": "code",
   "execution_count": 38,
   "id": "f04d28f3",
   "metadata": {},
   "outputs": [
    {
     "data": {
      "text/plain": [
       "5"
      ]
     },
     "execution_count": 38,
     "metadata": {},
     "output_type": "execute_result"
    }
   ],
   "source": [
    "g = 5.0\n",
    "int(g)"
   ]
  },
  {
   "cell_type": "markdown",
   "id": "204fd502",
   "metadata": {},
   "source": [
    "## 1.2 - Basic math operations\n",
    "\n",
    "<br/>\n",
    "\n",
    "### Operations and functions\n",
    "\n",
    "<br/>\n",
    "\n",
    "| Symbol | Description |\n",
    "| :-- | :-- |\n",
    "| + | sum |\n",
    "| - | subtraction |\n",
    "| \\* | multiplication |\n",
    "| /| division |\n",
    "| // | integer part of the division |\n",
    "| % | rest of the integer division |\n",
    "| \\*\\* | power |\n",
    "| += | adds to the variable |\n",
    "| \\*= | multiply to the variable |\n",
    "| abs() | returns the absolute value|\n",
    "| complex(re, im) | returns a complex number|\n",
    "| round(x\\, \\[n\\])| round the value for a given precision |\n",
    "\n",
    "<br/>\n",
    "\n",
    "#### Syntax of complex numbers\n",
    "\n",
    "```python\n",
    ">>> x_complex = 1 + 1j\n",
    "```\n",
    "\n",
    "**note:**\n",
    "\n",
    "<pre> The complex is also a built-in type.</pre>\n"
   ]
  },
  {
   "cell_type": "code",
   "execution_count": 47,
   "id": "9f4ab495",
   "metadata": {},
   "outputs": [
    {
     "name": "stdout",
     "output_type": "stream",
     "text": [
      "16\n"
     ]
    }
   ],
   "source": [
    "a = (5 + 3) * 2\n",
    "print(a)"
   ]
  },
  {
   "cell_type": "code",
   "execution_count": 50,
   "id": "7ba732d3",
   "metadata": {},
   "outputs": [
    {
     "data": {
      "text/plain": [
       "int"
      ]
     },
     "execution_count": 50,
     "metadata": {},
     "output_type": "execute_result"
    }
   ],
   "source": [
    "b = 7 // 2\n",
    "type(b)"
   ]
  },
  {
   "cell_type": "code",
   "execution_count": 51,
   "id": "89b0c98c",
   "metadata": {},
   "outputs": [
    {
     "data": {
      "text/plain": [
       "1"
      ]
     },
     "execution_count": 51,
     "metadata": {},
     "output_type": "execute_result"
    }
   ],
   "source": [
    "7 % 2"
   ]
  },
  {
   "cell_type": "code",
   "execution_count": 53,
   "id": "3168890d",
   "metadata": {},
   "outputs": [
    {
     "name": "stdout",
     "output_type": "stream",
     "text": [
      "8\n"
     ]
    }
   ],
   "source": [
    "c = 2**3\n",
    "print(c)"
   ]
  },
  {
   "cell_type": "code",
   "execution_count": 57,
   "id": "d23c0e1e",
   "metadata": {},
   "outputs": [
    {
     "data": {
      "text/plain": [
       "6"
      ]
     },
     "execution_count": 57,
     "metadata": {},
     "output_type": "execute_result"
    }
   ],
   "source": [
    "d = 4\n",
    "d = d + 2\n",
    "d"
   ]
  },
  {
   "cell_type": "code",
   "execution_count": 59,
   "id": "68d44582",
   "metadata": {},
   "outputs": [
    {
     "name": "stdout",
     "output_type": "stream",
     "text": [
      "8\n"
     ]
    }
   ],
   "source": [
    "e = 5\n",
    "e += 3 # isso é igual a e = e + 3\n",
    "print(e)"
   ]
  },
  {
   "cell_type": "code",
   "execution_count": 66,
   "id": "68b356c3",
   "metadata": {},
   "outputs": [
    {
     "data": {
      "text/plain": [
       "3"
      ]
     },
     "execution_count": 66,
     "metadata": {},
     "output_type": "execute_result"
    }
   ],
   "source": [
    "f = -5 +2\n",
    "g = abs(f)\n",
    "g"
   ]
  },
  {
   "cell_type": "code",
   "execution_count": 72,
   "id": "4a86ccda",
   "metadata": {},
   "outputs": [
    {
     "data": {
      "text/plain": [
       "complex"
      ]
     },
     "execution_count": 72,
     "metadata": {},
     "output_type": "execute_result"
    }
   ],
   "source": [
    "h = 1 - 1j\n",
    "type(h)"
   ]
  },
  {
   "cell_type": "code",
   "execution_count": 73,
   "id": "6a6e5300",
   "metadata": {},
   "outputs": [
    {
     "data": {
      "text/plain": [
       "(-1+0j)"
      ]
     },
     "execution_count": 73,
     "metadata": {},
     "output_type": "execute_result"
    }
   ],
   "source": [
    "i = 1j\n",
    "i ** 2"
   ]
  },
  {
   "cell_type": "code",
   "execution_count": 74,
   "id": "e933215d",
   "metadata": {},
   "outputs": [
    {
     "data": {
      "text/plain": [
       "(2+3j)"
      ]
     },
     "execution_count": 74,
     "metadata": {},
     "output_type": "execute_result"
    }
   ],
   "source": [
    "complex(2, 3)"
   ]
  },
  {
   "cell_type": "code",
   "execution_count": null,
   "id": "76551c33",
   "metadata": {},
   "outputs": [],
   "source": []
  },
  {
   "cell_type": "code",
   "execution_count": null,
   "id": "44eb1245",
   "metadata": {},
   "outputs": [],
   "source": []
  },
  {
   "cell_type": "markdown",
   "id": "7f683914",
   "metadata": {},
   "source": [
    "## 1.3 - Basic operations with strings (texts)\n",
    "\n",
    "<br/>\n",
    "\n",
    "### Operations and functions\n",
    "\n",
    "<br/>\n",
    "\n",
    "| Symbol | Type |Description |\n",
    "| :-- | :-- | :-- |\n",
    "| + | operator |sum or concatenate texts |\n",
    "| \\* | operator |multiplies a text by a integer number |\n",
    "| len() | built-in function|checks the length of the string |\n",
    "\n",
    "\n",
    "<br/>\n",
    "\n",
    "**note:**\n",
    "\n",
    "<pre> '\\n' is a special character to break a line </pre>\n",
    "<pre> strings are indexable </pre>"
   ]
  },
  {
   "cell_type": "code",
   "execution_count": 76,
   "id": "7d033220",
   "metadata": {},
   "outputs": [],
   "source": [
    "nome = 'Rafael '\n",
    "sobrenome = 'Pereira da Silva'"
   ]
  },
  {
   "cell_type": "code",
   "execution_count": 79,
   "id": "e6807abb",
   "metadata": {},
   "outputs": [
    {
     "name": "stdout",
     "output_type": "stream",
     "text": [
      "Rafael Pereira da Silva\n"
     ]
    }
   ],
   "source": [
    "meuNome = nome + sobrenome\n",
    "print(meuNome)"
   ]
  },
  {
   "cell_type": "code",
   "execution_count": 89,
   "id": "da4e5dcc",
   "metadata": {},
   "outputs": [
    {
     "data": {
      "text/plain": [
       "'--------------------inicio--------------------'"
      ]
     },
     "execution_count": 89,
     "metadata": {},
     "output_type": "execute_result"
    }
   ],
   "source": [
    "cabecalho = '-' * 20 + 'inicio' + '-' * 20 \n",
    "cabecalho"
   ]
  },
  {
   "cell_type": "code",
   "execution_count": 91,
   "id": "381fa31d",
   "metadata": {},
   "outputs": [
    {
     "data": {
      "text/plain": [
       "46"
      ]
     },
     "execution_count": 91,
     "metadata": {},
     "output_type": "execute_result"
    }
   ],
   "source": [
    "len(cabecalho)"
   ]
  },
  {
   "cell_type": "code",
   "execution_count": 97,
   "id": "f2c1955a",
   "metadata": {},
   "outputs": [
    {
     "name": "stdout",
     "output_type": "stream",
     "text": [
      "Ola pessoal.\n",
      "Me chamo Rafael\n"
     ]
    }
   ],
   "source": [
    "texto = 'Ola pessoal.\\nMe chamo Rafael'\n",
    "print(texto)"
   ]
  },
  {
   "cell_type": "markdown",
   "id": "1f594a44",
   "metadata": {},
   "source": [
    "## 1.4 Boolean values (*bool*)\n",
    "\n",
    "Stores a **True** or **False** variable. Boolean values can be used directly, generated by comparisons or generated by a function.\n",
    "\n",
    "<br/>\n",
    "\n",
    "### Comparisons\n",
    "\n",
    "<br/>\n",
    "\n",
    "| Comparison | Description |\n",
    "| :-- | :-- |\n",
    "| < | Less than |\n",
    "| <= | Less or equal than |\n",
    "| > | bigger than |\n",
    "| >= | bigger or equal than |\n",
    "| == | equan than |\n",
    "| != | different than |\n",
    "\n",
    "<br/>\n",
    "\n",
    "**nota**:\n",
    "<pre> If we convert booleans to numbers we have 1 for True and 0 for False </pre>\n",
    "<pre> Attention when comparing real numbers. Prefer using the close function </pre>\n",
    "<pre> There are other ways of obtain boolean values like the function isinstance() or using **in** or **is**</pre>"
   ]
  },
  {
   "cell_type": "code",
   "execution_count": 128,
   "id": "ad1147a4",
   "metadata": {},
   "outputs": [
    {
     "name": "stdout",
     "output_type": "stream",
     "text": [
      "True\n"
     ]
    }
   ],
   "source": [
    "a = 5 >= 3\n",
    "print(a)"
   ]
  },
  {
   "cell_type": "code",
   "execution_count": 131,
   "id": "d7a90c7f",
   "metadata": {},
   "outputs": [
    {
     "ename": "TypeError",
     "evalue": "'>' not supported between instances of 'float' and 'str'",
     "output_type": "error",
     "traceback": [
      "\u001b[1;31m---------------------------------------------------------------------------\u001b[0m",
      "\u001b[1;31mTypeError\u001b[0m                                 Traceback (most recent call last)",
      "\u001b[1;32m~\\AppData\\Local\\Temp/ipykernel_6192/2077691439.py\u001b[0m in \u001b[0;36m<module>\u001b[1;34m\u001b[0m\n\u001b[0;32m      1\u001b[0m \u001b[0mb\u001b[0m \u001b[1;33m=\u001b[0m \u001b[1;36m5.1\u001b[0m\u001b[1;33m\u001b[0m\u001b[1;33m\u001b[0m\u001b[0m\n\u001b[0;32m      2\u001b[0m \u001b[0mc\u001b[0m \u001b[1;33m=\u001b[0m \u001b[1;34m'python'\u001b[0m\u001b[1;33m\u001b[0m\u001b[1;33m\u001b[0m\u001b[0m\n\u001b[1;32m----> 3\u001b[1;33m \u001b[0mb\u001b[0m \u001b[1;33m>\u001b[0m \u001b[0mc\u001b[0m\u001b[1;33m\u001b[0m\u001b[1;33m\u001b[0m\u001b[0m\n\u001b[0m",
      "\u001b[1;31mTypeError\u001b[0m: '>' not supported between instances of 'float' and 'str'"
     ]
    }
   ],
   "source": [
    "b = 5.1\n",
    "c = 'python'\n",
    "b > c"
   ]
  },
  {
   "cell_type": "code",
   "execution_count": 134,
   "id": "23fc7316",
   "metadata": {},
   "outputs": [
    {
     "data": {
      "text/plain": [
       "True"
      ]
     },
     "execution_count": 134,
     "metadata": {},
     "output_type": "execute_result"
    }
   ],
   "source": [
    "a = 'python'\n",
    "b = 'Python'\n",
    "\n",
    "a != b"
   ]
  },
  {
   "cell_type": "code",
   "execution_count": 138,
   "id": "0cdc0d3a",
   "metadata": {},
   "outputs": [
    {
     "data": {
      "text/plain": [
       "False"
      ]
     },
     "execution_count": 138,
     "metadata": {},
     "output_type": "execute_result"
    }
   ],
   "source": [
    "bool(0)"
   ]
  },
  {
   "cell_type": "code",
   "execution_count": 140,
   "id": "ee520d6d",
   "metadata": {},
   "outputs": [
    {
     "data": {
      "text/plain": [
       "0"
      ]
     },
     "execution_count": 140,
     "metadata": {},
     "output_type": "execute_result"
    }
   ],
   "source": [
    "int(False)"
   ]
  },
  {
   "cell_type": "code",
   "execution_count": 144,
   "id": "411e6ed5",
   "metadata": {},
   "outputs": [
    {
     "data": {
      "text/plain": [
       "False"
      ]
     },
     "execution_count": 144,
     "metadata": {},
     "output_type": "execute_result"
    }
   ],
   "source": [
    "a = 0.3\n",
    "b = 0.1 + 0.1 + 0.1\n",
    "\n",
    "a == b"
   ]
  },
  {
   "cell_type": "code",
   "execution_count": 145,
   "id": "a982b911",
   "metadata": {},
   "outputs": [],
   "source": [
    "from math import isclose"
   ]
  },
  {
   "cell_type": "code",
   "execution_count": 146,
   "id": "d61aad86",
   "metadata": {},
   "outputs": [
    {
     "data": {
      "text/plain": [
       "True"
      ]
     },
     "execution_count": 146,
     "metadata": {},
     "output_type": "execute_result"
    }
   ],
   "source": [
    "isclose(a, b)"
   ]
  },
  {
   "cell_type": "markdown",
   "id": "ff8be3dc",
   "metadata": {},
   "source": [
    "## 1.5 Collections\n",
    "Collections are containers. They are objects that store values.\n",
    "\n",
    "<br/>\n",
    "\n",
    "### Built-in types\n",
    "\n",
    "<br/>\n",
    "\n",
    "| Type | Description | \n",
    "| :-- | :-- |\n",
    "| list | An indexable sequence |\n",
    "| tuple | An imutable sequence|\n",
    "| set | elements are not indexed and do not repeat themselfs  |\n",
    "| dict | Dictionnaries are indexed by keys |\n",
    "\n",
    "<br/>\n",
    "\n",
    "#### syntaxe:\n",
    "```python\n",
    ">>> number = [0, 1, 2, 3, 4, 5, 6, 7, 8, 9] # lista (list)\n",
    ">>> vowels = ('a', 'e', 'i', 'o', 'u') # tupla (tuple)\n",
    ">>> alg_decimais = {0,1,2,3,4,5,6,7,8,9} # conjunto (set)\n",
    ">>> alg_romanos = {'I':1,\"II\":2,'III':3,'IV':4,'V':5,'X':10} # dicionário (dict)\n",
    "```\n",
    "\n",
    "\n",
    "<br/>\n",
    "\n",
    "**nota:**\n",
    "<pre>Mais adiante, veremos que essas coleções tem definições e propósitos muito mais \n",
    "profundos. Elas são estruturas de dados. Também iremos ver com detalhes como podemos gerar, manipular e utilizá-las. </pre>"
   ]
  },
  {
   "cell_type": "markdown",
   "id": "ef2a3ebe",
   "metadata": {},
   "source": [
    "## Listas"
   ]
  },
  {
   "cell_type": "code",
   "execution_count": 152,
   "id": "e35ffb5c",
   "metadata": {},
   "outputs": [],
   "source": [
    "a = [1, 2, 3, 6, 8]\n",
    "b = [3, 5, 8]\n",
    "c = a + b"
   ]
  },
  {
   "cell_type": "code",
   "execution_count": 155,
   "id": "4b883966",
   "metadata": {},
   "outputs": [
    {
     "data": {
      "text/plain": [
       "[1, 2, 3, 6, 8, 3, 5, 8]"
      ]
     },
     "execution_count": 155,
     "metadata": {},
     "output_type": "execute_result"
    }
   ],
   "source": [
    "c"
   ]
  },
  {
   "cell_type": "code",
   "execution_count": 159,
   "id": "35c755a2",
   "metadata": {},
   "outputs": [
    {
     "data": {
      "text/plain": [
       "[1, 2, 3, 6, 8, 3, 5, 8, 10, 10]"
      ]
     },
     "execution_count": 159,
     "metadata": {},
     "output_type": "execute_result"
    }
   ],
   "source": [
    "c.append(10)\n",
    "c"
   ]
  },
  {
   "cell_type": "markdown",
   "id": "9ed4e73f",
   "metadata": {},
   "source": [
    "## Tuplas"
   ]
  },
  {
   "cell_type": "code",
   "execution_count": 165,
   "id": "10f8751f",
   "metadata": {},
   "outputs": [
    {
     "data": {
      "text/plain": [
       "'python'"
      ]
     },
     "execution_count": 165,
     "metadata": {},
     "output_type": "execute_result"
    }
   ],
   "source": [
    "a = (1, 2, 3, 'python', [2, 3])\n",
    "a[3]"
   ]
  },
  {
   "cell_type": "code",
   "execution_count": 169,
   "id": "e4868fe8",
   "metadata": {},
   "outputs": [
    {
     "data": {
      "text/plain": [
       "tuple"
      ]
     },
     "execution_count": 169,
     "metadata": {},
     "output_type": "execute_result"
    }
   ],
   "source": [
    "coordena = (0.1, 0.2, 'Brazil')\n",
    "type(coordena)"
   ]
  },
  {
   "cell_type": "markdown",
   "id": "7263ce28",
   "metadata": {},
   "source": [
    "## Conjuntos (set)"
   ]
  },
  {
   "cell_type": "code",
   "execution_count": 173,
   "id": "594dce28",
   "metadata": {},
   "outputs": [],
   "source": [
    "a = {1, 2, 'python', 1, 2}"
   ]
  },
  {
   "cell_type": "code",
   "execution_count": 174,
   "id": "d5b4b1f8",
   "metadata": {},
   "outputs": [
    {
     "data": {
      "text/plain": [
       "{1, 2, 'python'}"
      ]
     },
     "execution_count": 174,
     "metadata": {},
     "output_type": "execute_result"
    }
   ],
   "source": [
    "a"
   ]
  },
  {
   "cell_type": "markdown",
   "id": "8c2c3d1b",
   "metadata": {},
   "source": [
    "## Dicionários"
   ]
  },
  {
   "cell_type": "code",
   "execution_count": 175,
   "id": "38d6806f",
   "metadata": {},
   "outputs": [],
   "source": [
    "b = {'a':1, 'b':12}"
   ]
  },
  {
   "cell_type": "code",
   "execution_count": 179,
   "id": "4503e9bc",
   "metadata": {},
   "outputs": [],
   "source": [
    "b['b'] = 10"
   ]
  },
  {
   "cell_type": "code",
   "execution_count": 180,
   "id": "9b7798a6",
   "metadata": {},
   "outputs": [
    {
     "data": {
      "text/plain": [
       "{'a': 1, 'b': 10}"
      ]
     },
     "execution_count": 180,
     "metadata": {},
     "output_type": "execute_result"
    }
   ],
   "source": [
    "b"
   ]
  },
  {
   "cell_type": "markdown",
   "id": "cc346c1c",
   "metadata": {},
   "source": [
    "## 1.6 - Estruturas condicionais\n",
    "\n",
    "<br/>\n",
    "\n",
    "As estruturas condicionais executam determinados comandos se uma condição retorna verdadeira.\n",
    "\n",
    "<br/>\n",
    "\n",
    "#### Sintaxe de estruturas condicionais\n",
    "\n",
    "<br/>\n",
    "\n",
    "```python\n",
    "# condicao deve ser do tipo bool (True ou False)\n",
    ">>> if condicao:\n",
    "...     print('executando o if ...')\n",
    ">>> elif outra_condicao:\n",
    "...     print('executando o elif ...')\n",
    ">>> else:\n",
    "...     print('executando o else ...')\n",
    "```\n",
    "\n",
    "**nota:**\n",
    "<pre>Mais adiante iremos ver que existem uma série de recursos para controlar as\n",
    "estruturas condicionais. </pre>"
   ]
  },
  {
   "cell_type": "code",
   "execution_count": 195,
   "id": "1335fc0a",
   "metadata": {},
   "outputs": [
    {
     "name": "stdout",
     "output_type": "stream",
     "text": [
      "repeti de ano\n"
     ]
    }
   ],
   "source": [
    "nota = 3\n",
    "\n",
    "if nota >= 9:\n",
    "    print('passei de ano com excelência')\n",
    "    print('estou feliz')\n",
    "elif nota >= 6:\n",
    "    print('passei de ano')\n",
    "elif nota >= 4:\n",
    "    print('estou de recuperação')\n",
    "else:\n",
    "    print('repeti de ano')"
   ]
  },
  {
   "cell_type": "code",
   "execution_count": 197,
   "id": "6157a8f7",
   "metadata": {},
   "outputs": [],
   "source": [
    "if False:\n",
    "    a = 4\n",
    "    b = 5\n",
    "    print(a + b)"
   ]
  },
  {
   "cell_type": "markdown",
   "id": "7a627e5e",
   "metadata": {},
   "source": [
    "## 1.7 - Estruturas de repetição: **for**\n",
    "\n",
    "<br/>\n",
    "\n",
    "A estrutura de repetição **for** executa determinados comandos enquanto permanecermos dentro do iterável.\n",
    "\n",
    "<br/>\n",
    "\n",
    "#### Sintaxe da estrutura de repetição **for**\n",
    "\n",
    "<br/>\n",
    "\n",
    "```python\n",
    ">>> for i in iteravel:\n",
    "...     print(i)\n",
    "```\n",
    "\n",
    "**nota:**\n",
    "<pre>Mais adiante iremos ver com detalhes uma variedade grande de objetos que podem ser iterados. Iterar sob objetos faz com que possamos escrever um código python bastante limpo.</pre>"
   ]
  },
  {
   "cell_type": "code",
   "execution_count": 198,
   "id": "0109a6fc",
   "metadata": {},
   "outputs": [
    {
     "data": {
      "text/plain": [
       "range(0, 10)"
      ]
     },
     "execution_count": 198,
     "metadata": {},
     "output_type": "execute_result"
    }
   ],
   "source": [
    "range(10)"
   ]
  },
  {
   "cell_type": "code",
   "execution_count": 202,
   "id": "0a076b6c",
   "metadata": {},
   "outputs": [],
   "source": [
    "a = 0\n",
    "\n",
    "for i in range(20):\n",
    "    a += i"
   ]
  },
  {
   "cell_type": "code",
   "execution_count": 203,
   "id": "d149ed5d",
   "metadata": {},
   "outputs": [
    {
     "name": "stdout",
     "output_type": "stream",
     "text": [
      "190\n"
     ]
    }
   ],
   "source": [
    "print(a)"
   ]
  },
  {
   "cell_type": "code",
   "execution_count": 205,
   "id": "541613a4",
   "metadata": {},
   "outputs": [
    {
     "name": "stdout",
     "output_type": "stream",
     "text": [
      "1\n",
      "3\n",
      "python\n",
      "rafael\n"
     ]
    }
   ],
   "source": [
    "b = [1, 3, 'python', 'rafael']\n",
    "tamanho = 0\n",
    "\n",
    "for j in b:\n",
    "    print(j)\n",
    "    tamanho += 1"
   ]
  },
  {
   "cell_type": "code",
   "execution_count": 207,
   "id": "ef08ce0f",
   "metadata": {},
   "outputs": [
    {
     "data": {
      "text/plain": [
       "4"
      ]
     },
     "execution_count": 207,
     "metadata": {},
     "output_type": "execute_result"
    }
   ],
   "source": [
    "len(b)"
   ]
  },
  {
   "cell_type": "code",
   "execution_count": 209,
   "id": "9ad1b421",
   "metadata": {},
   "outputs": [
    {
     "name": "stdout",
     "output_type": "stream",
     "text": [
      "P\n",
      "y\n",
      "t\n",
      "h\n",
      "o\n",
      "n\n",
      "é\n",
      "l\n",
      "e\n",
      "g\n",
      "a\n",
      "l\n"
     ]
    }
   ],
   "source": [
    "p = 'Python é legal'\n",
    "\n",
    "for letra in p:\n",
    "    if letra != ' ':\n",
    "        print(letra)"
   ]
  },
  {
   "cell_type": "markdown",
   "id": "728309c0",
   "metadata": {},
   "source": [
    "## 1.8 - Estruturas de repetição: **while**\n",
    "\n",
    "<br/>\n",
    "\n",
    "A estrutura de repetição **while** executa determinados comandos enquanto determinada condição for verdadeira.\n",
    "\n",
    "<br/>\n",
    "\n",
    "#### Sintaxe da estrutura de repetição **for**\n",
    "\n",
    "<br/>\n",
    "\n",
    "```python\n",
    ">>> i = 10\n",
    ">>> while i > 0:\n",
    "...     print(i)\n",
    "...     i -= 1\n",
    "```\n",
    "\n",
    "**nota:**\n",
    "<pre>Mais adiante iremos ver que existem uma série de recursos para controlar as estruturas de repetição while. </pre>"
   ]
  },
  {
   "cell_type": "code",
   "execution_count": 217,
   "id": "b97f8891",
   "metadata": {},
   "outputs": [
    {
     "name": "stdout",
     "output_type": "stream",
     "text": [
      "n ainda é menor do que 20\n",
      "0\n",
      "\n",
      "\n",
      "n ainda é menor do que 20\n",
      "-2\n",
      "\n",
      "\n",
      "-4\n",
      "PARADA OBRIGATORIA\n"
     ]
    }
   ],
   "source": [
    "n = 0\n",
    "\n",
    "while n < 20:\n",
    "    print('n ainda é menor do que 20')\n",
    "    print(n)\n",
    "    n -= 2\n",
    "    print('\\n')\n",
    "    \n",
    "    if n == -4:\n",
    "        print(n)\n",
    "        print('PARADA OBRIGATORIA')\n",
    "        break"
   ]
  },
  {
   "cell_type": "markdown",
   "id": "37d0b8a8",
   "metadata": {},
   "source": [
    "## 1.9 - Funções\n",
    "\n",
    "<br/>\n",
    "\n",
    "As funções no python contém determinadas instruções e elas executam essas instruções no momento em que são chamadas no programa.\n",
    "\n",
    "\n",
    "#### Sintaxe da função\n",
    "\n",
    "<br/>\n",
    "\n",
    "```python\n",
    ">>> def soma(a, b):\n",
    "...     return a + b\n",
    ">>> soma(1, 2)\n",
    "```\n",
    "\n",
    "**nota:**\n",
    "<pre>A declaração return não é obrigatória </pre>\n",
    "\n",
    "<pre>Mais adiante iremos tudas as nuances que as funções possuem e explorar os potenciais como *args, **kwargs, docstrings, etc. </pre>\n"
   ]
  },
  {
   "cell_type": "code",
   "execution_count": 218,
   "id": "d78531bb",
   "metadata": {},
   "outputs": [],
   "source": [
    "def multiplica(a, b):\n",
    "    resposta = a * b\n",
    "    return resposta"
   ]
  },
  {
   "cell_type": "code",
   "execution_count": 221,
   "id": "5bbd232a",
   "metadata": {},
   "outputs": [
    {
     "data": {
      "text/plain": [
       "8"
      ]
     },
     "execution_count": 221,
     "metadata": {},
     "output_type": "execute_result"
    }
   ],
   "source": [
    "c = multiplica(2, 4)\n",
    "c"
   ]
  },
  {
   "cell_type": "code",
   "execution_count": 223,
   "id": "01f4ce76",
   "metadata": {},
   "outputs": [],
   "source": [
    "def dizer_oi(nome):\n",
    "    print('oi ' + nome)"
   ]
  },
  {
   "cell_type": "code",
   "execution_count": 224,
   "id": "a2fe8320",
   "metadata": {},
   "outputs": [
    {
     "name": "stdout",
     "output_type": "stream",
     "text": [
      "oi Rafael\n"
     ]
    }
   ],
   "source": [
    "dizer_oi('Rafael')"
   ]
  },
  {
   "cell_type": "code",
   "execution_count": 225,
   "id": "ba0f24ce",
   "metadata": {},
   "outputs": [],
   "source": [
    "def soma_elementos(a):\n",
    "    soma = 0\n",
    "    for n in a:\n",
    "        soma += n\n",
    "    return soma"
   ]
  },
  {
   "cell_type": "code",
   "execution_count": 226,
   "id": "372af7f0",
   "metadata": {},
   "outputs": [
    {
     "data": {
      "text/plain": [
       "8"
      ]
     },
     "execution_count": 226,
     "metadata": {},
     "output_type": "execute_result"
    }
   ],
   "source": [
    "b = [1, 2, 5]\n",
    "\n",
    "soma_elementos(b)"
   ]
  },
  {
   "cell_type": "code",
   "execution_count": 227,
   "id": "56fc3a27",
   "metadata": {},
   "outputs": [],
   "source": [
    "def media_elementos(a):\n",
    "    soma = 0\n",
    "    n_elementos = len(a)\n",
    "    \n",
    "    for n in a:\n",
    "        soma += n\n",
    "    return soma / n_elementos"
   ]
  },
  {
   "cell_type": "code",
   "execution_count": 230,
   "id": "dd08d8a2",
   "metadata": {},
   "outputs": [
    {
     "data": {
      "text/plain": [
       "4.0"
      ]
     },
     "execution_count": 230,
     "metadata": {},
     "output_type": "execute_result"
    }
   ],
   "source": [
    "d = [2, 4, 6, 4]\n",
    "media_elementos(d)\n"
   ]
  },
  {
   "cell_type": "markdown",
   "id": "91e2d87c",
   "metadata": {},
   "source": [
    "## 1.10 - Classes (objetos)\n",
    "\n",
    "<br/>\n",
    "\n",
    "Os objetos em Python são uma maneira de \n",
    "\n",
    "\n",
    "#### Sintaxe da classe\n",
    "\n",
    "<br/>\n",
    "\n",
    "```python\n",
    ">>> class Cachorro():\n",
    "...     def __init__(self, nome):\n",
    "...         self.nome = nome\n",
    "...     def latir(self):\n",
    "...         print('auauau')\n",
    "```\n",
    "\n",
    "**nota:**\n",
    "<pre>Existem muito outros conceitos a serem explorados como herança, polimorfismos, encapsulamento.</pre>\n"
   ]
  },
  {
   "cell_type": "code",
   "execution_count": 231,
   "id": "cfc9b62c",
   "metadata": {},
   "outputs": [],
   "source": [
    "class Carro():\n",
    "    def __init__(self, marca, modelo, ano, cor, dono):\n",
    "        self.marca = marca\n",
    "        self.modelo = modelo\n",
    "        self.ano = ano\n",
    "        self.cor = cor\n",
    "        self.dono = dono"
   ]
  },
  {
   "cell_type": "code",
   "execution_count": 232,
   "id": "37dc5a70",
   "metadata": {},
   "outputs": [],
   "source": [
    "corsa = Carro('Chevrolet', 'corsa', 2015, 'branco', 'Rafael')"
   ]
  },
  {
   "cell_type": "code",
   "execution_count": 236,
   "id": "b4fa08ed",
   "metadata": {},
   "outputs": [
    {
     "data": {
      "text/plain": [
       "'Rafael'"
      ]
     },
     "execution_count": 236,
     "metadata": {},
     "output_type": "execute_result"
    }
   ],
   "source": [
    "corsa.dono"
   ]
  },
  {
   "cell_type": "code",
   "execution_count": 237,
   "id": "230a6a72",
   "metadata": {},
   "outputs": [],
   "source": [
    "march = Carro('Nissan', 'march', 2019, 'cinza', 'Natalia')"
   ]
  },
  {
   "cell_type": "code",
   "execution_count": 240,
   "id": "cfa9e6ee",
   "metadata": {},
   "outputs": [
    {
     "data": {
      "text/plain": [
       "2019"
      ]
     },
     "execution_count": 240,
     "metadata": {},
     "output_type": "execute_result"
    }
   ],
   "source": [
    "march.ano"
   ]
  },
  {
   "cell_type": "code",
   "execution_count": 251,
   "id": "14e8a73b",
   "metadata": {},
   "outputs": [],
   "source": [
    "class Vetor2D():\n",
    "    def __init__(self, x, y):\n",
    "        self.x = x\n",
    "        self.y = y\n",
    "        \n",
    "    def norma(self):\n",
    "        n = (self.x ** 2 + self.y **2)**(1/2)\n",
    "        return n\n",
    "    \n",
    "    def __repr__(self):\n",
    "        representacao = f'Vetor2D({self.x}, {self.y})'\n",
    "        return representacao"
   ]
  },
  {
   "cell_type": "code",
   "execution_count": 252,
   "id": "0942975b",
   "metadata": {},
   "outputs": [],
   "source": [
    "v1 = Vetor2D(1,2)"
   ]
  },
  {
   "cell_type": "code",
   "execution_count": 253,
   "id": "c247238f",
   "metadata": {},
   "outputs": [
    {
     "data": {
      "text/plain": [
       "2.23606797749979"
      ]
     },
     "execution_count": 253,
     "metadata": {},
     "output_type": "execute_result"
    }
   ],
   "source": [
    "v1.norma()"
   ]
  },
  {
   "cell_type": "code",
   "execution_count": 254,
   "id": "bf397693",
   "metadata": {},
   "outputs": [
    {
     "data": {
      "text/plain": [
       "Vetor2D(1, 2)"
      ]
     },
     "execution_count": 254,
     "metadata": {},
     "output_type": "execute_result"
    }
   ],
   "source": [
    "v1"
   ]
  },
  {
   "cell_type": "code",
   "execution_count": null,
   "id": "c66cdc62",
   "metadata": {},
   "outputs": [],
   "source": []
  },
  {
   "cell_type": "markdown",
   "id": "f275aaf8",
   "metadata": {},
   "source": [
    "## 1.11 - Bibliotecas Built-in Python\n",
    "Abaixo são listadas 3 maneiras de importarmos uma biblioteca no Python. Quando fazemos essa importação, trazemos tudo que a biblioteca tem a oferecer para nosso projeto.\n",
    "\n",
    "<br/>\n",
    "\n",
    "#### Sintaxe para importar uma biblioteca\n",
    "```python\n",
    ">>> import math\n",
    ">>> import math as m # importamos a biblioteca com a abreviação m\n",
    ">>> from math import cos # importamos somente a função cosseno\n",
    "```\n",
    "\n",
    "<br/>\n",
    "\n",
    "#### Algumas bibliotecas pré-construídas no python\n",
    "\n",
    "| Biblioteca | Descrição |\n",
    "| -:- | -:-|\n",
    "| math | contém funções matemáticas |\n",
    "| collections | módulo com opções de containers. Ex. NamedTuple. |\n",
    "| random | gera números aleatórios |\n",
    "|  os.path | módulo para manipulação de caminhos de arquivos |\n",
    "| time | módulo para manipulação de dados de medição de tempo |\n",
    "\n",
    "**nota:**\n",
    "<pre>https://docs.python.org/3/library/</pre>\n",
    "<pre>Minha recomendação é que não tentem aprender tudo de uma vez, mas sim por demanda.</pre>\n"
   ]
  },
  {
   "cell_type": "markdown",
   "id": "b7630c02",
   "metadata": {},
   "source": [
    "## math"
   ]
  },
  {
   "cell_type": "code",
   "execution_count": 1,
   "id": "d25c9b84",
   "metadata": {},
   "outputs": [],
   "source": [
    "import math"
   ]
  },
  {
   "cell_type": "code",
   "execution_count": 2,
   "id": "082f1032",
   "metadata": {},
   "outputs": [
    {
     "data": {
      "text/plain": [
       "3.141592653589793"
      ]
     },
     "execution_count": 2,
     "metadata": {},
     "output_type": "execute_result"
    }
   ],
   "source": [
    "math.pi"
   ]
  },
  {
   "cell_type": "code",
   "execution_count": 4,
   "id": "d283cf43",
   "metadata": {},
   "outputs": [
    {
     "data": {
      "text/plain": [
       "1.0"
      ]
     },
     "execution_count": 4,
     "metadata": {},
     "output_type": "execute_result"
    }
   ],
   "source": [
    "math.cos(0)"
   ]
  },
  {
   "cell_type": "code",
   "execution_count": 5,
   "id": "885cc21b",
   "metadata": {},
   "outputs": [
    {
     "data": {
      "text/plain": [
       "7.38905609893065"
      ]
     },
     "execution_count": 5,
     "metadata": {},
     "output_type": "execute_result"
    }
   ],
   "source": [
    "math.exp(2)"
   ]
  },
  {
   "cell_type": "code",
   "execution_count": 6,
   "id": "11b49ca5",
   "metadata": {},
   "outputs": [
    {
     "data": {
      "text/plain": [
       "2.0"
      ]
     },
     "execution_count": 6,
     "metadata": {},
     "output_type": "execute_result"
    }
   ],
   "source": [
    "math.sqrt(4)"
   ]
  },
  {
   "cell_type": "markdown",
   "id": "a19dec8e",
   "metadata": {},
   "source": [
    "## Collections"
   ]
  },
  {
   "cell_type": "code",
   "execution_count": 5,
   "id": "511ace97",
   "metadata": {},
   "outputs": [],
   "source": [
    "from collections import namedtuple"
   ]
  },
  {
   "cell_type": "code",
   "execution_count": 6,
   "id": "96361e3b",
   "metadata": {},
   "outputs": [],
   "source": [
    "Coordenadas = namedtuple('Coordenadas', 'x, y')"
   ]
  },
  {
   "cell_type": "code",
   "execution_count": 7,
   "id": "76e89dfe",
   "metadata": {},
   "outputs": [],
   "source": [
    "p1 = Coordenadas(1, 3)"
   ]
  },
  {
   "cell_type": "code",
   "execution_count": 8,
   "id": "cae4a5ce",
   "metadata": {},
   "outputs": [
    {
     "data": {
      "text/plain": [
       "Coordenadas(x=1, y=3)"
      ]
     },
     "execution_count": 8,
     "metadata": {},
     "output_type": "execute_result"
    }
   ],
   "source": [
    "p1"
   ]
  },
  {
   "cell_type": "markdown",
   "id": "0ce19a4b",
   "metadata": {},
   "source": [
    "## Random"
   ]
  },
  {
   "cell_type": "code",
   "execution_count": 36,
   "id": "8ab913a2",
   "metadata": {},
   "outputs": [],
   "source": [
    "from random import random, choices"
   ]
  },
  {
   "cell_type": "code",
   "execution_count": 38,
   "id": "c69a350c",
   "metadata": {},
   "outputs": [
    {
     "data": {
      "text/plain": [
       "0.4763317948844562"
      ]
     },
     "execution_count": 38,
     "metadata": {},
     "output_type": "execute_result"
    }
   ],
   "source": [
    "random()"
   ]
  },
  {
   "cell_type": "code",
   "execution_count": 42,
   "id": "616ec659",
   "metadata": {},
   "outputs": [
    {
     "data": {
      "text/plain": [
       "['Gabriel']"
      ]
     },
     "execution_count": 42,
     "metadata": {},
     "output_type": "execute_result"
    }
   ],
   "source": [
    "choices(['Rafael', 'Lucas', 'Natália', 'Gabriel'])"
   ]
  },
  {
   "cell_type": "markdown",
   "id": "5e0153c6",
   "metadata": {},
   "source": [
    "## os.path"
   ]
  },
  {
   "cell_type": "code",
   "execution_count": 1,
   "id": "e0b3ddff",
   "metadata": {},
   "outputs": [],
   "source": [
    "import os.path"
   ]
  },
  {
   "cell_type": "code",
   "execution_count": 2,
   "id": "40fd1af3",
   "metadata": {},
   "outputs": [],
   "source": [
    "path = 'C:'\n",
    "newpath = os.path.abspath(path)"
   ]
  },
  {
   "cell_type": "code",
   "execution_count": 3,
   "id": "ec4433c3",
   "metadata": {},
   "outputs": [],
   "source": [
    "newpath = os.path.join(newpath, 'Caminho')"
   ]
  },
  {
   "cell_type": "code",
   "execution_count": 4,
   "id": "78eb8660",
   "metadata": {},
   "outputs": [
    {
     "data": {
      "text/plain": [
       "'C:\\\\Caminho'"
      ]
     },
     "execution_count": 4,
     "metadata": {},
     "output_type": "execute_result"
    }
   ],
   "source": [
    "newpath"
   ]
  },
  {
   "cell_type": "markdown",
   "id": "7996e7ad",
   "metadata": {},
   "source": [
    "## time"
   ]
  },
  {
   "cell_type": "code",
   "execution_count": 52,
   "id": "4a42b7a7",
   "metadata": {},
   "outputs": [],
   "source": [
    "from time import time"
   ]
  },
  {
   "cell_type": "code",
   "execution_count": 53,
   "id": "9bd399e4",
   "metadata": {},
   "outputs": [
    {
     "data": {
      "text/plain": [
       "1643671941.034991"
      ]
     },
     "execution_count": 53,
     "metadata": {},
     "output_type": "execute_result"
    }
   ],
   "source": [
    "time()"
   ]
  },
  {
   "cell_type": "code",
   "execution_count": 56,
   "id": "78a19ea9",
   "metadata": {},
   "outputs": [
    {
     "name": "stdout",
     "output_type": "stream",
     "text": [
      "2.977421283721924\n"
     ]
    }
   ],
   "source": [
    "it = time()\n",
    "\n",
    "for i in range(10**7):\n",
    "    a = i**2 + i++3\n",
    "    \n",
    "ft = time()\n",
    "print(ft-it)"
   ]
  },
  {
   "cell_type": "markdown",
   "id": "394a323a",
   "metadata": {},
   "source": [
    "## 1.12 - Numpy\n",
    "A biblioteca numpy fornece o objeto de array multidimensional. Esse array pode ser um vetor, uma matriz ou mesmo assumir outras dimensões se necessário. O numpy oferece boa performance em comparação com o built-in do Pyhon, pois parte de sua estrutura é escrita é C. \n",
    "\n",
    "Além disso, o numpy oferece funções da matetmática, solvers para álgebra linear, leitura de imagens, etc.\n",
    "\n",
    "<br/>\n",
    "\n",
    "### Forma comum de importação\n",
    "```python\n",
    ">>> import numpy as np\n",
    "```"
   ]
  },
  {
   "cell_type": "code",
   "execution_count": 57,
   "id": "19b1068e",
   "metadata": {},
   "outputs": [],
   "source": [
    "import numpy as np"
   ]
  },
  {
   "cell_type": "code",
   "execution_count": 58,
   "id": "f427329c",
   "metadata": {},
   "outputs": [
    {
     "data": {
      "text/plain": [
       "3.141592653589793"
      ]
     },
     "execution_count": 58,
     "metadata": {},
     "output_type": "execute_result"
    }
   ],
   "source": [
    "np.pi"
   ]
  },
  {
   "cell_type": "code",
   "execution_count": 60,
   "id": "e3ce1458",
   "metadata": {},
   "outputs": [
    {
     "data": {
      "text/plain": [
       "-1.0"
      ]
     },
     "execution_count": 60,
     "metadata": {},
     "output_type": "execute_result"
    }
   ],
   "source": [
    "np.cos(np.pi)"
   ]
  },
  {
   "cell_type": "code",
   "execution_count": 69,
   "id": "bbb7dc37",
   "metadata": {},
   "outputs": [],
   "source": [
    "a = np.linspace(0, 10, 6).reshape(3, 2)"
   ]
  },
  {
   "cell_type": "code",
   "execution_count": 71,
   "id": "7aad6aa9",
   "metadata": {},
   "outputs": [
    {
     "data": {
      "text/plain": [
       "array([[ 0.,  4.,  8.],\n",
       "       [ 2.,  6., 10.]])"
      ]
     },
     "execution_count": 71,
     "metadata": {},
     "output_type": "execute_result"
    }
   ],
   "source": [
    "a.T"
   ]
  },
  {
   "cell_type": "code",
   "execution_count": 75,
   "id": "bf3c4649",
   "metadata": {},
   "outputs": [
    {
     "data": {
      "text/plain": [
       "array([[  4.,  12.,  20.],\n",
       "       [ 12.,  52.,  92.],\n",
       "       [ 20.,  92., 164.]])"
      ]
     },
     "execution_count": 75,
     "metadata": {},
     "output_type": "execute_result"
    }
   ],
   "source": [
    "a @ a.T"
   ]
  },
  {
   "cell_type": "markdown",
   "id": "b7689414",
   "metadata": {},
   "source": [
    "## 1.13 - matplotlib\n",
    "\n",
    "O matplotlib é uma biblioteca para criação de gráficos.\n",
    "\n",
    "<br/>\n",
    "\n",
    "### Forma comum de importação\n",
    "```python\n",
    ">>> import matplotlib.pyplot as plt\n",
    "```\n"
   ]
  },
  {
   "cell_type": "code",
   "execution_count": 78,
   "id": "0f0dfe89",
   "metadata": {},
   "outputs": [],
   "source": [
    "import matplotlib.pyplot as plt"
   ]
  },
  {
   "cell_type": "code",
   "execution_count": 79,
   "id": "be98d7ce",
   "metadata": {},
   "outputs": [],
   "source": [
    "x = np.linspace(0, 10, 100)\n",
    "y = x ** 2"
   ]
  },
  {
   "cell_type": "code",
   "execution_count": 86,
   "id": "08b67c87",
   "metadata": {},
   "outputs": [
    {
     "data": {
      "image/png": "[encoded data removed]",
      "text/plain": [
       "<Figure size 432x288 with 1 Axes>"
      ]
     },
     "metadata": {
      "needs_background": "light"
     },
     "output_type": "display_data"
    }
   ],
   "source": [
    "plt.plot(x, y, label='x**2')\n",
    "plt.legend()\n",
    "plt.grid()\n",
    "plt.xlabel('x')\n",
    "plt.ylabel('y')\n",
    "plt.show()"
   ]
  },
  {
   "cell_type": "markdown",
   "id": "f9938512",
   "metadata": {},
   "source": [
    "## 1.14 - Pandas\n",
    "\n",
    "O pandas é uma biblioteca que trabalha com objetos do tipo DataFrame (tabela) e Series (vetor). Ele é conhecido pelo seu potencial para tratamento de dados.\n",
    "\n",
    "<br/>\n",
    "\n",
    "### Forma comum de importação\n",
    "```python\n",
    ">>> import pandas as pd\n",
    "```\n",
    "\n",
    "<br/>\n",
    "\n",
    "https://www.kaggle.com/dhruvildave/spotify-charts?select=charts.csv\n",
    "\n",
    "This is a complete dataset of all the \"Top 200\" and \"Viral 50\" charts published globally by Spotify. Spotify publishes a new chart every 2-3 days. This is its entire collection since January 1, 2017.\n"
   ]
  },
  {
   "cell_type": "code",
   "execution_count": 88,
   "id": "c742f4fd",
   "metadata": {},
   "outputs": [],
   "source": [
    "import pandas as pd\n",
    "import numpy as np"
   ]
  },
  {
   "cell_type": "code",
   "execution_count": 91,
   "id": "6f667614",
   "metadata": {},
   "outputs": [],
   "source": [
    "a = np.linspace(0 ,10, 100)\n",
    "b = a **2\n",
    "\n",
    "dados = {'a': a,\n",
    "      'b': b}\n",
    "\n",
    "dados_df = pd.DataFrame(dados)\n"
   ]
  },
  {
   "cell_type": "code",
   "execution_count": 95,
   "id": "49f8e5c2",
   "metadata": {},
   "outputs": [
    {
     "data": {
      "text/html": [
       "<div>\n",
       "<style scoped>\n",
       "    .dataframe tbody tr th:only-of-type {\n",
       "        vertical-align: middle;\n",
       "    }\n",
       "\n",
       "    .dataframe tbody tr th {\n",
       "        vertical-align: top;\n",
       "    }\n",
       "\n",
       "    .dataframe thead th {\n",
       "        text-align: right;\n",
       "    }\n",
       "</style>\n",
       "<table border=\"1\" class=\"dataframe\">\n",
       "  <thead>\n",
       "    <tr style=\"text-align: right;\">\n",
       "      <th></th>\n",
       "      <th>a</th>\n",
       "      <th>b</th>\n",
       "    </tr>\n",
       "  </thead>\n",
       "  <tbody>\n",
       "    <tr>\n",
       "      <th>0</th>\n",
       "      <td>0.00000</td>\n",
       "      <td>0.000000</td>\n",
       "    </tr>\n",
       "    <tr>\n",
       "      <th>1</th>\n",
       "      <td>0.10101</td>\n",
       "      <td>0.010203</td>\n",
       "    </tr>\n",
       "    <tr>\n",
       "      <th>2</th>\n",
       "      <td>0.20202</td>\n",
       "      <td>0.040812</td>\n",
       "    </tr>\n",
       "    <tr>\n",
       "      <th>3</th>\n",
       "      <td>0.30303</td>\n",
       "      <td>0.091827</td>\n",
       "    </tr>\n",
       "    <tr>\n",
       "      <th>4</th>\n",
       "      <td>0.40404</td>\n",
       "      <td>0.163249</td>\n",
       "    </tr>\n",
       "  </tbody>\n",
       "</table>\n",
       "</div>"
      ],
      "text/plain": [
       "         a         b\n",
       "0  0.00000  0.000000\n",
       "1  0.10101  0.010203\n",
       "2  0.20202  0.040812\n",
       "3  0.30303  0.091827\n",
       "4  0.40404  0.163249"
      ]
     },
     "execution_count": 95,
     "metadata": {},
     "output_type": "execute_result"
    }
   ],
   "source": [
    "dados_df.head()"
   ]
  },
  {
   "cell_type": "code",
   "execution_count": 96,
   "id": "0a9ab818",
   "metadata": {},
   "outputs": [],
   "source": [
    "dados_df['c'] = dados_df['b'] ** 2"
   ]
  },
  {
   "cell_type": "code",
   "execution_count": 97,
   "id": "b4a8a12b",
   "metadata": {},
   "outputs": [
    {
     "data": {
      "text/html": [
       "<div>\n",
       "<style scoped>\n",
       "    .dataframe tbody tr th:only-of-type {\n",
       "        vertical-align: middle;\n",
       "    }\n",
       "\n",
       "    .dataframe tbody tr th {\n",
       "        vertical-align: top;\n",
       "    }\n",
       "\n",
       "    .dataframe thead th {\n",
       "        text-align: right;\n",
       "    }\n",
       "</style>\n",
       "<table border=\"1\" class=\"dataframe\">\n",
       "  <thead>\n",
       "    <tr style=\"text-align: right;\">\n",
       "      <th></th>\n",
       "      <th>a</th>\n",
       "      <th>b</th>\n",
       "      <th>c</th>\n",
       "    </tr>\n",
       "  </thead>\n",
       "  <tbody>\n",
       "    <tr>\n",
       "      <th>0</th>\n",
       "      <td>0.00000</td>\n",
       "      <td>0.000000</td>\n",
       "      <td>0.000000</td>\n",
       "    </tr>\n",
       "    <tr>\n",
       "      <th>1</th>\n",
       "      <td>0.10101</td>\n",
       "      <td>0.010203</td>\n",
       "      <td>0.000104</td>\n",
       "    </tr>\n",
       "    <tr>\n",
       "      <th>2</th>\n",
       "      <td>0.20202</td>\n",
       "      <td>0.040812</td>\n",
       "      <td>0.001666</td>\n",
       "    </tr>\n",
       "    <tr>\n",
       "      <th>3</th>\n",
       "      <td>0.30303</td>\n",
       "      <td>0.091827</td>\n",
       "      <td>0.008432</td>\n",
       "    </tr>\n",
       "    <tr>\n",
       "      <th>4</th>\n",
       "      <td>0.40404</td>\n",
       "      <td>0.163249</td>\n",
       "      <td>0.026650</td>\n",
       "    </tr>\n",
       "    <tr>\n",
       "      <th>...</th>\n",
       "      <td>...</td>\n",
       "      <td>...</td>\n",
       "      <td>...</td>\n",
       "    </tr>\n",
       "    <tr>\n",
       "      <th>95</th>\n",
       "      <td>9.59596</td>\n",
       "      <td>92.082441</td>\n",
       "      <td>8479.175861</td>\n",
       "    </tr>\n",
       "    <tr>\n",
       "      <th>96</th>\n",
       "      <td>9.69697</td>\n",
       "      <td>94.031221</td>\n",
       "      <td>8841.870580</td>\n",
       "    </tr>\n",
       "    <tr>\n",
       "      <th>97</th>\n",
       "      <td>9.79798</td>\n",
       "      <td>96.000408</td>\n",
       "      <td>9216.078360</td>\n",
       "    </tr>\n",
       "    <tr>\n",
       "      <th>98</th>\n",
       "      <td>9.89899</td>\n",
       "      <td>97.990001</td>\n",
       "      <td>9602.040300</td>\n",
       "    </tr>\n",
       "    <tr>\n",
       "      <th>99</th>\n",
       "      <td>10.00000</td>\n",
       "      <td>100.000000</td>\n",
       "      <td>10000.000000</td>\n",
       "    </tr>\n",
       "  </tbody>\n",
       "</table>\n",
       "<p>100 rows × 3 columns</p>\n",
       "</div>"
      ],
      "text/plain": [
       "           a           b             c\n",
       "0    0.00000    0.000000      0.000000\n",
       "1    0.10101    0.010203      0.000104\n",
       "2    0.20202    0.040812      0.001666\n",
       "3    0.30303    0.091827      0.008432\n",
       "4    0.40404    0.163249      0.026650\n",
       "..       ...         ...           ...\n",
       "95   9.59596   92.082441   8479.175861\n",
       "96   9.69697   94.031221   8841.870580\n",
       "97   9.79798   96.000408   9216.078360\n",
       "98   9.89899   97.990001   9602.040300\n",
       "99  10.00000  100.000000  10000.000000\n",
       "\n",
       "[100 rows x 3 columns]"
      ]
     },
     "execution_count": 97,
     "metadata": {},
     "output_type": "execute_result"
    }
   ],
   "source": [
    "dados_df"
   ]
  },
  {
   "cell_type": "code",
   "execution_count": 99,
   "id": "eaff986c",
   "metadata": {},
   "outputs": [],
   "source": [
    "path = 'D:/repositories/notebooks/1-Python para Engenheiros e Cientistas - Professional/auxiliary_files/charts.csv'\n",
    "spotfy_df = pd.read_csv(path)"
   ]
  },
  {
   "cell_type": "code",
   "execution_count": 113,
   "id": "c3fbe21c",
   "metadata": {},
   "outputs": [
    {
     "data": {
      "text/plain": [
       "Ed Sheeran                 387294\n",
       "Billie Eilish              251467\n",
       "Post Malone                210781\n",
       "Bad Bunny                  202874\n",
       "Ariana Grande              189581\n",
       "                            ...  \n",
       "Oxymorrons                      1\n",
       "Jennifer Denali                 1\n",
       "Peso Peso, Fenix Flexin         1\n",
       "Undecided Future                1\n",
       "Iris Kukka                      1\n",
       "Name: artist, Length: 95368, dtype: int64"
      ]
     },
     "execution_count": 113,
     "metadata": {},
     "output_type": "execute_result"
    }
   ],
   "source": [
    "spotfy_df['artist'].value_counts()"
   ]
  },
  {
   "cell_type": "code",
   "execution_count": 118,
   "id": "e4039014",
   "metadata": {
    "scrolled": true
   },
   "outputs": [
    {
     "data": {
      "text/html": [
       "<div>\n",
       "<style scoped>\n",
       "    .dataframe tbody tr th:only-of-type {\n",
       "        vertical-align: middle;\n",
       "    }\n",
       "\n",
       "    .dataframe tbody tr th {\n",
       "        vertical-align: top;\n",
       "    }\n",
       "\n",
       "    .dataframe thead th {\n",
       "        text-align: right;\n",
       "    }\n",
       "</style>\n",
       "<table border=\"1\" class=\"dataframe\">\n",
       "  <thead>\n",
       "    <tr style=\"text-align: right;\">\n",
       "      <th></th>\n",
       "      <th>title</th>\n",
       "      <th>rank</th>\n",
       "      <th>date</th>\n",
       "      <th>artist</th>\n",
       "      <th>url</th>\n",
       "      <th>region</th>\n",
       "      <th>chart</th>\n",
       "      <th>trend</th>\n",
       "      <th>streams</th>\n",
       "    </tr>\n",
       "  </thead>\n",
       "  <tbody>\n",
       "    <tr>\n",
       "      <th>0</th>\n",
       "      <td>Felices los 4</td>\n",
       "      <td>1</td>\n",
       "      <td>2017-06-01</td>\n",
       "      <td>Maluma</td>\n",
       "      <td>https://open.spotify.com/track/0qYTZCo5Bwh1nsU...</td>\n",
       "      <td>Argentina</td>\n",
       "      <td>top200</td>\n",
       "      <td>SAME_POSITION</td>\n",
       "      <td>246580.0</td>\n",
       "    </tr>\n",
       "    <tr>\n",
       "      <th>1</th>\n",
       "      <td>Me Rehúso</td>\n",
       "      <td>2</td>\n",
       "      <td>2017-06-01</td>\n",
       "      <td>Danny Ocean</td>\n",
       "      <td>https://open.spotify.com/track/6Zosz8w6CmdGMZM...</td>\n",
       "      <td>Argentina</td>\n",
       "      <td>top200</td>\n",
       "      <td>SAME_POSITION</td>\n",
       "      <td>168235.0</td>\n",
       "    </tr>\n",
       "    <tr>\n",
       "      <th>2</th>\n",
       "      <td>Ahora Dice</td>\n",
       "      <td>3</td>\n",
       "      <td>2017-06-01</td>\n",
       "      <td>Chris Jedi, J Balvin, Ozuna, Arcangel</td>\n",
       "      <td>https://open.spotify.com/track/22eADXu8DfOAUED...</td>\n",
       "      <td>Argentina</td>\n",
       "      <td>top200</td>\n",
       "      <td>SAME_POSITION</td>\n",
       "      <td>165683.0</td>\n",
       "    </tr>\n",
       "    <tr>\n",
       "      <th>3</th>\n",
       "      <td>Hey DJ</td>\n",
       "      <td>4</td>\n",
       "      <td>2017-06-01</td>\n",
       "      <td>CNCO, Yandel</td>\n",
       "      <td>https://open.spotify.com/track/209gZgcfLq2aUuu...</td>\n",
       "      <td>Argentina</td>\n",
       "      <td>top200</td>\n",
       "      <td>MOVE_UP</td>\n",
       "      <td>148050.0</td>\n",
       "    </tr>\n",
       "    <tr>\n",
       "      <th>4</th>\n",
       "      <td>Escápate Conmigo</td>\n",
       "      <td>5</td>\n",
       "      <td>2017-06-01</td>\n",
       "      <td>Wisin, Ozuna</td>\n",
       "      <td>https://open.spotify.com/track/2cnKEkpVUSV4wnj...</td>\n",
       "      <td>Argentina</td>\n",
       "      <td>top200</td>\n",
       "      <td>MOVE_DOWN</td>\n",
       "      <td>147183.0</td>\n",
       "    </tr>\n",
       "    <tr>\n",
       "      <th>...</th>\n",
       "      <td>...</td>\n",
       "      <td>...</td>\n",
       "      <td>...</td>\n",
       "      <td>...</td>\n",
       "      <td>...</td>\n",
       "      <td>...</td>\n",
       "      <td>...</td>\n",
       "      <td>...</td>\n",
       "      <td>...</td>\n",
       "    </tr>\n",
       "    <tr>\n",
       "      <th>26013867</th>\n",
       "      <td>It's You</td>\n",
       "      <td>46</td>\n",
       "      <td>2019-08-31</td>\n",
       "      <td>Ali Gatie</td>\n",
       "      <td>https://open.spotify.com/track/6moU77g9RQyMzHN...</td>\n",
       "      <td>Vietnam</td>\n",
       "      <td>viral50</td>\n",
       "      <td>MOVE_DOWN</td>\n",
       "      <td>NaN</td>\n",
       "    </tr>\n",
       "    <tr>\n",
       "      <th>26013868</th>\n",
       "      <td>Goodbyes (Feat. Young Thug)</td>\n",
       "      <td>47</td>\n",
       "      <td>2019-08-31</td>\n",
       "      <td>Post Malone</td>\n",
       "      <td>https://open.spotify.com/track/6vBdBCoOhKHiYDD...</td>\n",
       "      <td>Vietnam</td>\n",
       "      <td>viral50</td>\n",
       "      <td>MOVE_DOWN</td>\n",
       "      <td>NaN</td>\n",
       "    </tr>\n",
       "    <tr>\n",
       "      <th>26013869</th>\n",
       "      <td>bad guy</td>\n",
       "      <td>48</td>\n",
       "      <td>2019-08-31</td>\n",
       "      <td>Billie Eilish</td>\n",
       "      <td>https://open.spotify.com/track/2Fxmhks0bxGSBdJ...</td>\n",
       "      <td>Vietnam</td>\n",
       "      <td>viral50</td>\n",
       "      <td>NEW_ENTRY</td>\n",
       "      <td>NaN</td>\n",
       "    </tr>\n",
       "    <tr>\n",
       "      <th>26013870</th>\n",
       "      <td>DTAT</td>\n",
       "      <td>49</td>\n",
       "      <td>2019-08-31</td>\n",
       "      <td>NHA</td>\n",
       "      <td>https://open.spotify.com/track/2fltaaY8cvuhFCq...</td>\n",
       "      <td>Vietnam</td>\n",
       "      <td>viral50</td>\n",
       "      <td>NEW_ENTRY</td>\n",
       "      <td>NaN</td>\n",
       "    </tr>\n",
       "    <tr>\n",
       "      <th>26013871</th>\n",
       "      <td>Next Level</td>\n",
       "      <td>50</td>\n",
       "      <td>2019-08-31</td>\n",
       "      <td>A$ton Wyld</td>\n",
       "      <td>https://open.spotify.com/track/6FvqPu7bb27XSFB...</td>\n",
       "      <td>Vietnam</td>\n",
       "      <td>viral50</td>\n",
       "      <td>SAME_POSITION</td>\n",
       "      <td>NaN</td>\n",
       "    </tr>\n",
       "  </tbody>\n",
       "</table>\n",
       "<p>26013872 rows × 9 columns</p>\n",
       "</div>"
      ],
      "text/plain": [
       "                                title  rank        date  \\\n",
       "0                       Felices los 4     1  2017-06-01   \n",
       "1                           Me Rehúso     2  2017-06-01   \n",
       "2                          Ahora Dice     3  2017-06-01   \n",
       "3                              Hey DJ     4  2017-06-01   \n",
       "4                    Escápate Conmigo     5  2017-06-01   \n",
       "...                               ...   ...         ...   \n",
       "26013867                     It's You    46  2019-08-31   \n",
       "26013868  Goodbyes (Feat. Young Thug)    47  2019-08-31   \n",
       "26013869                      bad guy    48  2019-08-31   \n",
       "26013870                         DTAT    49  2019-08-31   \n",
       "26013871                   Next Level    50  2019-08-31   \n",
       "\n",
       "                                         artist  \\\n",
       "0                                        Maluma   \n",
       "1                                   Danny Ocean   \n",
       "2         Chris Jedi, J Balvin, Ozuna, Arcangel   \n",
       "3                                  CNCO, Yandel   \n",
       "4                                  Wisin, Ozuna   \n",
       "...                                         ...   \n",
       "26013867                              Ali Gatie   \n",
       "26013868                            Post Malone   \n",
       "26013869                          Billie Eilish   \n",
       "26013870                                    NHA   \n",
       "26013871                             A$ton Wyld   \n",
       "\n",
       "                                                        url     region  \\\n",
       "0         https://open.spotify.com/track/0qYTZCo5Bwh1nsU...  Argentina   \n",
       "1         https://open.spotify.com/track/6Zosz8w6CmdGMZM...  Argentina   \n",
       "2         https://open.spotify.com/track/22eADXu8DfOAUED...  Argentina   \n",
       "3         https://open.spotify.com/track/209gZgcfLq2aUuu...  Argentina   \n",
       "4         https://open.spotify.com/track/2cnKEkpVUSV4wnj...  Argentina   \n",
       "...                                                     ...        ...   \n",
       "26013867  https://open.spotify.com/track/6moU77g9RQyMzHN...    Vietnam   \n",
       "26013868  https://open.spotify.com/track/6vBdBCoOhKHiYDD...    Vietnam   \n",
       "26013869  https://open.spotify.com/track/2Fxmhks0bxGSBdJ...    Vietnam   \n",
       "26013870  https://open.spotify.com/track/2fltaaY8cvuhFCq...    Vietnam   \n",
       "26013871  https://open.spotify.com/track/6FvqPu7bb27XSFB...    Vietnam   \n",
       "\n",
       "            chart          trend   streams  \n",
       "0          top200  SAME_POSITION  246580.0  \n",
       "1          top200  SAME_POSITION  168235.0  \n",
       "2          top200  SAME_POSITION  165683.0  \n",
       "3          top200        MOVE_UP  148050.0  \n",
       "4          top200      MOVE_DOWN  147183.0  \n",
       "...           ...            ...       ...  \n",
       "26013867  viral50      MOVE_DOWN       NaN  \n",
       "26013868  viral50      MOVE_DOWN       NaN  \n",
       "26013869  viral50      NEW_ENTRY       NaN  \n",
       "26013870  viral50      NEW_ENTRY       NaN  \n",
       "26013871  viral50  SAME_POSITION       NaN  \n",
       "\n",
       "[26013872 rows x 9 columns]"
      ]
     },
     "execution_count": 118,
     "metadata": {},
     "output_type": "execute_result"
    }
   ],
   "source": [
    "spotfy_df"
   ]
  },
  {
   "cell_type": "markdown",
   "id": "c953d0a5",
   "metadata": {},
   "source": [
    "## 1.15 - Sympy\n",
    "O sympy é uma biblioteca para matemática simbólica no Python. Além disso, oferece uma variedade de funções, solvers, constantes e outros módulos.\n",
    "\n",
    "<br/>\n",
    "\n",
    "### Forma comum de importação\n",
    "\n",
    "```python\n",
    ">>> import sympy as sp\n",
    "```"
   ]
  },
  {
   "cell_type": "code",
   "execution_count": 119,
   "id": "f5cacc83",
   "metadata": {},
   "outputs": [],
   "source": [
    "import sympy as sp"
   ]
  },
  {
   "cell_type": "code",
   "execution_count": 128,
   "id": "532eb05e",
   "metadata": {},
   "outputs": [],
   "source": [
    "x = sp.symbols('x')\n",
    "a, b, c = sp.symbols(['a', 'b', 'c'])"
   ]
  },
  {
   "cell_type": "code",
   "execution_count": 129,
   "id": "969de257",
   "metadata": {},
   "outputs": [
    {
     "data": {
      "text/latex": [
       "$\\displaystyle a x^{2} + b x + c$"
      ],
      "text/plain": [
       "a*x**2 + b*x + c"
      ]
     },
     "execution_count": 129,
     "metadata": {},
     "output_type": "execute_result"
    }
   ],
   "source": [
    "eq = a * x **2 + b * x + c\n",
    "eq"
   ]
  },
  {
   "cell_type": "code",
   "execution_count": 130,
   "id": "89c6d6ca",
   "metadata": {},
   "outputs": [
    {
     "data": {
      "text/latex": [
       "$\\displaystyle \\left\\{- \\frac{b}{2 a} - \\frac{\\sqrt{- 4 a c + b^{2}}}{2 a}, - \\frac{b}{2 a} + \\frac{\\sqrt{- 4 a c + b^{2}}}{2 a}\\right\\}$"
      ],
      "text/plain": [
       "{-b/(2*a) - sqrt(-4*a*c + b**2)/(2*a), -b/(2*a) + sqrt(-4*a*c + b**2)/(2*a)}"
      ]
     },
     "execution_count": 130,
     "metadata": {},
     "output_type": "execute_result"
    }
   ],
   "source": [
    "sp.solveset(eq, (x))"
   ]
  },
  {
   "cell_type": "code",
   "execution_count": null,
   "id": "ee76d9a2",
   "metadata": {},
   "outputs": [],
   "source": []
  }
 ],
 "metadata": {
  "kernelspec": {
   "display_name": "Python 3 (ipykernel)",
   "language": "python",
   "name": "python3"
  },
  "language_info": {
   "codemirror_mode": {
    "name": "ipython",
    "version": 3
   },
   "file_extension": ".py",
   "mimetype": "text/x-python",
   "name": "python",
   "nbconvert_exporter": "python",
   "pygments_lexer": "ipython3",
   "version": "3.9.7"
  }
 },
 "nbformat": 4,
 "nbformat_minor": 5
}
