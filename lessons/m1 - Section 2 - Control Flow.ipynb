{
 "cells": [
  {
   "cell_type": "markdown",
   "id": "6d50560f",
   "metadata": {},
   "source": [
    "# Desenvolvimento de Pacotes Científicos com Python\n",
    "\n",
    "**por**: Rafael Pereira da Silva"
   ]
  },
  {
   "cell_type": "markdown",
   "id": "5caf2549",
   "metadata": {},
   "source": [
    "# PARTE 1\n",
    "# Seção 2: Estruturas de controle: recursos extras"
   ]
  },
  {
   "cell_type": "markdown",
   "id": "c2a490cb",
   "metadata": {},
   "source": [
    "## 2.1 - Operações booleanas\n",
    "\n",
    "<br/>\n",
    "\n",
    "Além das comparações, que já vimos na primeira seção, temos as operações booleanas. Essas operações ajudam a enriquecer nossa maleta de ferramentas.\n",
    "\n",
    "| Declaração | Descrição |\n",
    "| :-- | :-- |\n",
    "| **or** | Operação entre dois booleanos. Se um dos dois for True, a operação retorna True |\n",
    "| **and** | Operação entre dois booleanos. Se todos os valores forem True, a operação retorna True |\n",
    "\n"
   ]
  },
  {
   "cell_type": "code",
   "execution_count": 9,
   "id": "61f262c1",
   "metadata": {},
   "outputs": [
    {
     "name": "stdout",
     "output_type": "stream",
     "text": [
      "x não está entre 5 e 10\n"
     ]
    }
   ],
   "source": [
    "# Exemplo com intervalos\n",
    "\n",
    "x = 11\n",
    "if x >= 5 and x <= 10:\n",
    "    print('x está entre 5 e 10')\n",
    "else:\n",
    "    print('x não está entre 5 e 10')"
   ]
  },
  {
   "cell_type": "code",
   "execution_count": 11,
   "id": "c4f3f1de",
   "metadata": {},
   "outputs": [
    {
     "name": "stdout",
     "output_type": "stream",
     "text": [
      "o módulo de x é maior do que 5\n"
     ]
    }
   ],
   "source": [
    "# Exemplo de valor absoluto\n",
    "\n",
    "x = -10\n",
    "\n",
    "if x > 5 or x < -5:\n",
    "    print('o módulo de x é maior do que 5')"
   ]
  },
  {
   "cell_type": "code",
   "execution_count": 14,
   "id": "e1a3256d",
   "metadata": {},
   "outputs": [
    {
     "data": {
      "text/plain": [
       "True"
      ]
     },
     "execution_count": 14,
     "metadata": {},
     "output_type": "execute_result"
    }
   ],
   "source": [
    "True and True and True and True"
   ]
  },
  {
   "cell_type": "code",
   "execution_count": 15,
   "id": "171f1df1",
   "metadata": {},
   "outputs": [
    {
     "data": {
      "text/plain": [
       "True"
      ]
     },
     "execution_count": 15,
     "metadata": {},
     "output_type": "execute_result"
    }
   ],
   "source": [
    "False or False or True or False"
   ]
  },
  {
   "cell_type": "code",
   "execution_count": null,
   "id": "8736db85",
   "metadata": {},
   "outputs": [],
   "source": []
  },
  {
   "cell_type": "code",
   "execution_count": null,
   "id": "d24a85d2",
   "metadata": {},
   "outputs": [],
   "source": []
  },
  {
   "cell_type": "markdown",
   "id": "81b3fc4b",
   "metadata": {},
   "source": [
    "## 2.2 - Outras formas de gerar booleanos: isintance(), in, is\n",
    "\n",
    "<br/>\n",
    "\n",
    "Aqui estão mais alguns recursos para gerarmos valores booleanos e enriquecer o leque de opções para estruturas condicionais.\n",
    "\n",
    "<br/>\n",
    "\n",
    "| Declaração | Tipo | Descrição |\n",
    "| :-- | :-- | :-- |\n",
    "| **is** | operador| Checa se dois objetos são a mesma instância |\n",
    "| **in** |  operador | Checa se um valor específico é elemento de uma sequência |\n",
    "| **not**| operador | A declaração **not** pode ser combinada em operações booleanas para gerar o resultado inverso |\n",
    "| **isinstance(objeto, classe)** | função built-in | Checa se determinado objeto é instância de determinada classe |\n",
    "\n",
    "\n",
    "**nota:**\n",
    "<pre>Para fazermos uma comparação == entre floats, podemos usar a função isclose da\n",
    "biblioteca built-in math. A comparação direta gera problemas por conta da construção\n",
    "binária dos floats<pre\\>"
   ]
  },
  {
   "cell_type": "code",
   "execution_count": 22,
   "id": "f05f5c6c",
   "metadata": {},
   "outputs": [],
   "source": [
    "a = [1, 2, 3]\n",
    "b = a"
   ]
  },
  {
   "cell_type": "code",
   "execution_count": 26,
   "id": "4d0b3167",
   "metadata": {},
   "outputs": [],
   "source": [
    "a[1] = 2"
   ]
  },
  {
   "cell_type": "code",
   "execution_count": 37,
   "id": "2c615513",
   "metadata": {},
   "outputs": [
    {
     "data": {
      "text/plain": [
       "True"
      ]
     },
     "execution_count": 37,
     "metadata": {},
     "output_type": "execute_result"
    }
   ],
   "source": [
    "a is b"
   ]
  },
  {
   "cell_type": "code",
   "execution_count": 36,
   "id": "85d3b37e",
   "metadata": {},
   "outputs": [
    {
     "data": {
      "text/plain": [
       "True"
      ]
     },
     "execution_count": 36,
     "metadata": {},
     "output_type": "execute_result"
    }
   ],
   "source": [
    "isinstance('1', str)"
   ]
  },
  {
   "cell_type": "code",
   "execution_count": 1,
   "id": "94ee97e8",
   "metadata": {},
   "outputs": [],
   "source": [
    "from math import isclose"
   ]
  },
  {
   "cell_type": "code",
   "execution_count": 4,
   "id": "7454f2b3",
   "metadata": {},
   "outputs": [
    {
     "data": {
      "text/plain": [
       "True"
      ]
     },
     "execution_count": 4,
     "metadata": {},
     "output_type": "execute_result"
    }
   ],
   "source": [
    "isclose(0.3, 0.1+0.1+0.1)"
   ]
  },
  {
   "cell_type": "code",
   "execution_count": 5,
   "id": "7821d50f",
   "metadata": {},
   "outputs": [
    {
     "data": {
      "text/plain": [
       "False"
      ]
     },
     "execution_count": 5,
     "metadata": {},
     "output_type": "execute_result"
    }
   ],
   "source": [
    "0.3 == 0.1+0.1+0.1"
   ]
  },
  {
   "cell_type": "code",
   "execution_count": null,
   "id": "9bff3088",
   "metadata": {},
   "outputs": [],
   "source": []
  },
  {
   "cell_type": "markdown",
   "id": "edf31b23",
   "metadata": {},
   "source": [
    "## 2.3 - Iteráveis\n",
    "\n",
    "<br/>\n",
    "\n",
    "Quando fazemos um loop **for** é comum o uso do objeto range(n), mas existem uma série de objetos com as mesmas características, os iteráveis. Um iterável em Python é qualquer tipo que aceite iterações sobre ele. O Python tem uma sintaxe muito simples para fazermos loopings em tipos iteráveis.\n",
    "\n",
    "Exemplos de tipos iteráveis: listas, tuplas, dicionários, strings, arrays numpy, series de pandas, etc.\n",
    "\n",
    "<br/>\n",
    "\n",
    "#### Sintaxe de loopings usando um iterável\n",
    "\n",
    "```python\n",
    ">>> a = [1, 2, 3, 4, 5]\n",
    ">>> for i in a:\n",
    "...     print(i)\n",
    "```\n",
    "\n",
    "<br/>\n",
    "\n",
    "**nota:**\n",
    "\n",
    "<pre>Em essência, o que faz um objeto ser iterável é a implementação do\n",
    "método __iter__ na classe. </pre>\n",
    "\n",
    "<pre>Objetos iteráveis podem ser transformados em iterators por meio da\n",
    "função iter(). Veremos ela com mais detalhes adiante no curso </pre>"
   ]
  },
  {
   "cell_type": "code",
   "execution_count": null,
   "id": "f3d646b4",
   "metadata": {},
   "outputs": [],
   "source": []
  },
  {
   "cell_type": "code",
   "execution_count": null,
   "id": "98842fc5",
   "metadata": {},
   "outputs": [],
   "source": []
  },
  {
   "cell_type": "code",
   "execution_count": null,
   "id": "2f05408d",
   "metadata": {},
   "outputs": [],
   "source": []
  },
  {
   "cell_type": "code",
   "execution_count": null,
   "id": "bdc3a038",
   "metadata": {},
   "outputs": [],
   "source": []
  },
  {
   "cell_type": "markdown",
   "id": "04d50255",
   "metadata": {},
   "source": [
    "## 2.4 - enumerate()\n",
    "\n",
    "<br/>\n",
    "\n",
    "A função *enumerate()* gera um objeto iterável que contém um par de informações a cada iteração *(i, value)*. Esse par de informações tornam nosso código python mais limpo e eficiente quando convém.\n",
    "\n",
    "<br/>\n",
    "\n",
    "```python\n",
    ">>> a = [1, 2, 3, 4, 5]\n",
    ">>> for i in enumerate(a):\n",
    "...     print(i)\n",
    "```\n",
    "\n",
    "<br/>\n",
    "\n",
    "**nota:**\n",
    "<pre>As tuplas possuem operações de unpacking, que nós veremos mais adiante no\n",
    "curso e que são interessantes para usarmos com o enumerate. É isso que torna\n",
    "o enumerate tão limpo. </pre>\n"
   ]
  },
  {
   "cell_type": "code",
   "execution_count": null,
   "id": "19f796fd",
   "metadata": {},
   "outputs": [],
   "source": []
  },
  {
   "cell_type": "code",
   "execution_count": null,
   "id": "9a5bd29a",
   "metadata": {},
   "outputs": [],
   "source": []
  },
  {
   "cell_type": "code",
   "execution_count": null,
   "id": "7465063a",
   "metadata": {},
   "outputs": [],
   "source": []
  },
  {
   "cell_type": "code",
   "execution_count": null,
   "id": "047cf947",
   "metadata": {},
   "outputs": [],
   "source": []
  },
  {
   "cell_type": "markdown",
   "id": "1b3d3e9e",
   "metadata": {},
   "source": [
    "## 2.5 - Declarações break, continue e pass\n",
    "\n",
    "<br/>\n",
    "\n",
    "Essas declarações nos ajudam a controlar os loops **for** e **while**.\n",
    "\n",
    "<br/>\n",
    "\n",
    "| Declaração | Descrição |\n",
    "| :-- | :-- |\n",
    "| **break** | Quando essa instrução é executada dentro de uma estrutura de repetição, a estrutura para, quebra |\n",
    "| **continue** | Quando essa instrução é executada dentro de uma estrutura de repetição, nós paramos de executar as instruções seguintes e continuamos a contagem  |\n",
    "| **pass** | Quando essa instrução é executada o loop não é impactado |\n",
    "\n",
    "<br/>\n",
    "\n",
    "**nota:**\n",
    "<pre>A declaração pass, em essência, não muda nada no código, mas ela é muito\n",
    "interessante para gerar template para uma função, classe, etc, a ser implementada. </pre>"
   ]
  },
  {
   "cell_type": "code",
   "execution_count": null,
   "id": "ec9640cb",
   "metadata": {},
   "outputs": [],
   "source": []
  },
  {
   "cell_type": "code",
   "execution_count": null,
   "id": "8b4cabeb",
   "metadata": {},
   "outputs": [],
   "source": []
  },
  {
   "cell_type": "markdown",
   "id": "a2c87b61",
   "metadata": {},
   "source": [
    "# Exercícios"
   ]
  },
  {
   "cell_type": "markdown",
   "id": "8624ce8c",
   "metadata": {},
   "source": [
    "## E2.1 \n",
    "\n",
    "Crie um condicional que, dada uma variável, faça o seguinte print:\n",
    "- Se for número positivo, imprime \"Número positivo\"\n",
    "- Se for número negativo, imprime \"Número negativo\"\n",
    "- Se for zero, imprime \"zero\"\n",
    "- Se não for número, imprime \"Não é um número\""
   ]
  },
  {
   "cell_type": "code",
   "execution_count": 1,
   "id": "140d1d77",
   "metadata": {},
   "outputs": [
    {
     "name": "stdout",
     "output_type": "stream",
     "text": [
      "x não é um número\n"
     ]
    }
   ],
   "source": [
    "x = 'python'\n",
    "\n",
    "if not isinstance(x, int) or not isinstance(x, float):\n",
    "    print('x não é um número')\n",
    "elif x"
   ]
  },
  {
   "cell_type": "markdown",
   "id": "4f3b08e2",
   "metadata": {},
   "source": [
    "## E2.2\n",
    "Faça um laço de repetição que some todos os elementos de uma lista qualquer."
   ]
  },
  {
   "cell_type": "code",
   "execution_count": 54,
   "id": "cde94c67",
   "metadata": {},
   "outputs": [
    {
     "data": {
      "text/plain": [
       "[0, 1, 2, 3, 4, 5, 6, 7, 8, 9]"
      ]
     },
     "execution_count": 54,
     "metadata": {},
     "output_type": "execute_result"
    }
   ],
   "source": [
    "a = list(range(10))\n",
    "a"
   ]
  },
  {
   "cell_type": "code",
   "execution_count": 53,
   "id": "d49339ee",
   "metadata": {},
   "outputs": [
    {
     "name": "stdout",
     "output_type": "stream",
     "text": [
      "45\n"
     ]
    }
   ],
   "source": [
    "soma = 0\n",
    "for i in a:\n",
    "    soma += i\n",
    "\n",
    "print(soma)"
   ]
  },
  {
   "cell_type": "code",
   "execution_count": 52,
   "id": "050deb31",
   "metadata": {},
   "outputs": [
    {
     "data": {
      "text/plain": [
       "45"
      ]
     },
     "execution_count": 52,
     "metadata": {},
     "output_type": "execute_result"
    }
   ],
   "source": [
    "sum(a)"
   ]
  },
  {
   "cell_type": "markdown",
   "id": "691a1457",
   "metadata": {},
   "source": [
    "## E2.3\n",
    "Dado um número inteiro, faça um operador while que calcule o fatorial desse número."
   ]
  },
  {
   "cell_type": "code",
   "execution_count": 2,
   "id": "516faee6",
   "metadata": {},
   "outputs": [
    {
     "data": {
      "text/plain": [
       "120"
      ]
     },
     "execution_count": 2,
     "metadata": {},
     "output_type": "execute_result"
    }
   ],
   "source": [
    "x = 5\n",
    "fact_x = 1\n",
    "\n",
    "while x > 0:\n",
    "    fact_x *= x\n",
    "    x -= 1\n",
    "fact_x"
   ]
  },
  {
   "cell_type": "code",
   "execution_count": null,
   "id": "79d529fe",
   "metadata": {},
   "outputs": [],
   "source": []
  },
  {
   "cell_type": "markdown",
   "id": "054b073c",
   "metadata": {},
   "source": [
    "## E2.4\n",
    "\n",
    "Crie uma lógica que retorne o nésimo número na sequência de Fibonacci.\n",
    "\n",
    "A sequência de Fibonacci obedesce a seguinte regra: \n",
    "$$ F_n = F_{n-1} + F_{n-2}$$\n",
    "\n",
    "```\n",
    "Fibo = 0, 1, 1, 2, 3, 5, 8, 13, 21, 34, 55, 89, 144, 233...\n",
    "```"
   ]
  },
  {
   "cell_type": "code",
   "execution_count": 22,
   "id": "eef23c02",
   "metadata": {},
   "outputs": [],
   "source": [
    "nesimo = 14\n",
    "contador = 0\n",
    "fibo = [0, 1, 1]\n",
    "\n",
    "while len(fibo) < nesimo:\n",
    "    fibo.append(\n",
    "        fibo[-1] + fibo[-2]\n",
    "    )\n"
   ]
  },
  {
   "cell_type": "code",
   "execution_count": 23,
   "id": "cbdc94aa",
   "metadata": {},
   "outputs": [
    {
     "data": {
      "text/plain": [
       "[0, 1, 1, 2, 3, 5, 8, 13, 21, 34, 55, 89, 144, 233]"
      ]
     },
     "execution_count": 23,
     "metadata": {},
     "output_type": "execute_result"
    }
   ],
   "source": [
    "fibo"
   ]
  },
  {
   "cell_type": "code",
   "execution_count": 21,
   "id": "47a17680",
   "metadata": {},
   "outputs": [
    {
     "data": {
      "text/plain": [
       "233"
      ]
     },
     "execution_count": 21,
     "metadata": {},
     "output_type": "execute_result"
    }
   ],
   "source": [
    "89 + 144"
   ]
  },
  {
   "cell_type": "code",
   "execution_count": null,
   "id": "a936dcd0",
   "metadata": {},
   "outputs": [],
   "source": []
  },
  {
   "cell_type": "markdown",
   "id": "d7c8fa76",
   "metadata": {},
   "source": [
    "## E2.5\n",
    "Dado um número cheque se ele é divisível por 6.\n",
    "\n",
    "<br/>\n",
    "\n",
    "**Notas:**\n",
    "<pre>Um número divisível por 6 deve ser divisível por 2 e por 3 ao mesmo tempo.</pre>\n",
    "<pre>Sugestão: utilize a operação de resto de divisão %. </pre>"
   ]
  },
  {
   "cell_type": "code",
   "execution_count": 13,
   "id": "510e87e3",
   "metadata": {},
   "outputs": [
    {
     "name": "stdout",
     "output_type": "stream",
     "text": [
      "36 é divisível por 2 e por 3\n"
     ]
    }
   ],
   "source": [
    "x = 36\n",
    "\n",
    "a = x % 2\n",
    "b = x % 3\n",
    "\n",
    "if a == 0 and b == 0 :\n",
    "    print(f'{x} é divisível por 2 e por 3')\n",
    "else:\n",
    "    print(f'{x} NÃO é divisível por 2 e por 3')"
   ]
  },
  {
   "cell_type": "code",
   "execution_count": null,
   "id": "743be2b7",
   "metadata": {},
   "outputs": [],
   "source": []
  },
  {
   "cell_type": "markdown",
   "id": "20d98214",
   "metadata": {},
   "source": [
    "## E2.6\n",
    "Dado a lista a seguir, retorne o primeiro número negativo e sua posição correspondente.\n",
    "\n",
    "```python\n",
    "numeros = [0, 1, 2, 5, -8, 2, -3, 5]\n",
    "```"
   ]
  },
  {
   "cell_type": "code",
   "execution_count": 17,
   "id": "b340efc7",
   "metadata": {},
   "outputs": [
    {
     "name": "stdout",
     "output_type": "stream",
     "text": [
      "numero = -8 e indice = 4\n"
     ]
    }
   ],
   "source": [
    "numeros = [0, 1, 2, 5, -8, 2, -3, 5]\n",
    "\n",
    "for i, numero in enumerate(numeros):\n",
    "    if numero < 0:\n",
    "        print(f'numero = {numero} e indice = {i}')\n",
    "        break"
   ]
  },
  {
   "cell_type": "code",
   "execution_count": null,
   "id": "71eed026",
   "metadata": {},
   "outputs": [],
   "source": []
  }
 ],
 "metadata": {
  "kernelspec": {
   "display_name": "Python 3 (ipykernel)",
   "language": "python",
   "name": "python3"
  },
  "language_info": {
   "codemirror_mode": {
    "name": "ipython",
    "version": 3
   },
   "file_extension": ".py",
   "mimetype": "text/x-python",
   "name": "python",
   "nbconvert_exporter": "python",
   "pygments_lexer": "ipython3",
   "version": "3.9.7"
  }
 },
 "nbformat": 4,
 "nbformat_minor": 5
}
