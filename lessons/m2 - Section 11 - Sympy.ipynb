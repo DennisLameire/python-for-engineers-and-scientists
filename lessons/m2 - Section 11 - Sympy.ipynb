{
 "cells": [
  {
   "cell_type": "markdown",
   "id": "92980023",
   "metadata": {},
   "source": [
    "# Desenvolvimento de Pacotes Científicos com Python\n",
    "\n",
    "**por**: Rafael Pereira da Silva"
   ]
  },
  {
   "cell_type": "markdown",
   "id": "ade90b6b",
   "metadata": {},
   "source": [
    "# PARTE 2\n",
    "# Seção 4: Sympy\n",
    "\n",
    "O sympy é uma biblioteca para matemática simbólica no Python. Além disso, oferece uma variedade de funções, solvers, constantes e outros módulos."
   ]
  },
  {
   "cell_type": "markdown",
   "id": "15375dd9",
   "metadata": {},
   "source": [
    "## 4.1 - Operações Básicas\n",
    "\n",
    "\n",
    "\n",
    "| Função / método | Descrição |\n",
    "| -:- | -:- |\n",
    "| sp.symbols(arg) | função que gera os valores simbólicos |\n",
    "|  sp.simplify(arg) | função que simplifica uma expressão |\n",
    "| sp.init_printing() | repr que printa no formato latex |\n",
    "| eq.subs(simb, val) | método que substitui o simbólico por um valor |\n",
    "\n",
    "<br/>\n",
    "\n",
    "**notas:**\n",
    "<pre>Operações booleanas funcionam com simbólicos.</pre>\n",
    "<pre>O simpy possui funções e constantes da matemática como cos(), sin(), pi</pre>"
   ]
  },
  {
   "cell_type": "code",
   "execution_count": 4,
   "id": "4887fb5b",
   "metadata": {},
   "outputs": [],
   "source": [
    "import sympy as sp"
   ]
  },
  {
   "cell_type": "code",
   "execution_count": 15,
   "id": "f9bfb176",
   "metadata": {},
   "outputs": [],
   "source": [
    "x, y = sp.symbols(['x', 'y'])"
   ]
  },
  {
   "cell_type": "code",
   "execution_count": 16,
   "id": "1ae20c73",
   "metadata": {},
   "outputs": [
    {
     "data": {
      "text/latex": [
       "$\\displaystyle x^{2} + y^{2}$"
      ],
      "text/plain": [
       "x**2 + y**2"
      ]
     },
     "execution_count": 16,
     "metadata": {},
     "output_type": "execute_result"
    }
   ],
   "source": [
    "eq = x **2 + y **2 \n",
    "eq"
   ]
  },
  {
   "cell_type": "code",
   "execution_count": 17,
   "id": "1d38cd4e",
   "metadata": {},
   "outputs": [
    {
     "data": {
      "text/latex": [
       "$\\displaystyle 20$"
      ],
      "text/plain": [
       "20"
      ]
     },
     "execution_count": 17,
     "metadata": {},
     "output_type": "execute_result"
    }
   ],
   "source": [
    "eq.subs([(x, 2), (y, 4)])"
   ]
  },
  {
   "cell_type": "code",
   "execution_count": null,
   "id": "69c06e58",
   "metadata": {},
   "outputs": [],
   "source": []
  },
  {
   "cell_type": "markdown",
   "id": "ce68b77a",
   "metadata": {},
   "source": [
    "## 4.2 - Matrizes\n",
    "\n",
    "<br/>\n",
    "\n",
    "### Funções\n",
    "| Função | Descrição |\n",
    "| -:- | -:- |\n",
    "| sp.Matrix(args) | cria um objeto do tipo Matriz |\n",
    "| sp.eye(n) | cria uma matriz $n \\times n$ com zeros |\n",
    "| sp.ones(n) | cria uma matriz $n \\times n$ com uns |\n",
    "| sp.diag(arg) | cria uma matriz diagonal a partir de uma lista (para matriz não sparsa, unpack) |\n",
    "\n",
    "<br/>\n",
    "\n",
    "### Atributos\n",
    "| Atributo | Descrição |\n",
    "| -:- | -:- |\n",
    "| M.shape | propriedade que retorna o tamanho da matriz |\n",
    "| M.det() | método que retorna a determinante da matriz |\n",
    "| M.T | propriedade que retorna a matriz transposta |\n",
    "\n",
    "<br/>\n",
    "\n",
    "**notas:**\n",
    "<pre>Para retornar a matriz inversa eleve M a -1 </pre>\n",
    "<pre>Use * para multiplicação matricial. </pre>\n",
    "<pre>Matrizes de mesmo tamanho aceitam soma e subtração.</pre>"
   ]
  },
  {
   "cell_type": "code",
   "execution_count": 22,
   "id": "fc7cffc6",
   "metadata": {},
   "outputs": [
    {
     "data": {
      "text/latex": [
       "$\\displaystyle \\left[\\begin{matrix}1\\\\2\\\\3\\end{matrix}\\right]$"
      ],
      "text/plain": [
       "Matrix([\n",
       "[1],\n",
       "[2],\n",
       "[3]])"
      ]
     },
     "execution_count": 22,
     "metadata": {},
     "output_type": "execute_result"
    }
   ],
   "source": [
    "sp.diag([1, 2, 3])"
   ]
  },
  {
   "cell_type": "code",
   "execution_count": null,
   "id": "d094eb57",
   "metadata": {},
   "outputs": [],
   "source": []
  },
  {
   "cell_type": "code",
   "execution_count": null,
   "id": "858c823f",
   "metadata": {},
   "outputs": [],
   "source": []
  },
  {
   "cell_type": "markdown",
   "id": "73359ed1",
   "metadata": {},
   "source": [
    "## 4.3 - Funções do Cálculo\n",
    "\n",
    "<br/>\n",
    "\n",
    "### Funções\n",
    "| Função | Descrição |\n",
    "| -:- | -:- |\n",
    "| sp.diff(eq, vars) | faz a derivada da equação eq com relação a vars |\n",
    "| sp.integrate(eq, (var, inicio, fim)) | faz a integração da equação eq com relação a vars |\n",
    "\n",
    "<br/>\n",
    "**notas:**\n",
    "<pre>O sympy também possui funções para cálculo de limites, expansão em \n",
    "séries e diferenças finitas. </pre>"
   ]
  },
  {
   "cell_type": "code",
   "execution_count": 1,
   "id": "e9d8c078",
   "metadata": {},
   "outputs": [],
   "source": [
    "import sympy as sp"
   ]
  },
  {
   "cell_type": "code",
   "execution_count": 6,
   "id": "d4bff1fc",
   "metadata": {},
   "outputs": [],
   "source": [
    "x = sp.symbols('x')\n",
    "y = sp.sin(x)\n",
    "dydx = sp.diff(y, x)\n",
    "d2ydx2 = sp.diff(y, x, x)"
   ]
  },
  {
   "cell_type": "code",
   "execution_count": 7,
   "id": "95f0b62a",
   "metadata": {},
   "outputs": [
    {
     "data": {
      "text/latex": [
       "$\\displaystyle - \\sin{\\left(x \\right)}$"
      ],
      "text/plain": [
       "-sin(x)"
      ]
     },
     "execution_count": 7,
     "metadata": {},
     "output_type": "execute_result"
    }
   ],
   "source": [
    "d2ydx2"
   ]
  },
  {
   "cell_type": "code",
   "execution_count": 8,
   "id": "aa63136d",
   "metadata": {},
   "outputs": [
    {
     "data": {
      "text/latex": [
       "$\\displaystyle 2 x + 1$"
      ],
      "text/plain": [
       "2*x + 1"
      ]
     },
     "execution_count": 8,
     "metadata": {},
     "output_type": "execute_result"
    }
   ],
   "source": [
    "y = x ** 2 + x\n",
    "sp.diff(y, x)"
   ]
  },
  {
   "cell_type": "code",
   "execution_count": 13,
   "id": "8e04cd9a",
   "metadata": {},
   "outputs": [
    {
     "data": {
      "text/latex": [
       "$\\displaystyle c + \\frac{x^{3}}{3} + \\frac{x^{2}}{2}$"
      ],
      "text/plain": [
       "c + x**3/3 + x**2/2"
      ]
     },
     "execution_count": 13,
     "metadata": {},
     "output_type": "execute_result"
    }
   ],
   "source": [
    "c = sp.symbols('c')\n",
    "\n",
    "iy = sp.integrate(y, x)\n",
    "iy + c"
   ]
  },
  {
   "cell_type": "code",
   "execution_count": 14,
   "id": "ec32040b",
   "metadata": {},
   "outputs": [
    {
     "data": {
      "text/latex": [
       "$\\displaystyle \\frac{5}{6}$"
      ],
      "text/plain": [
       "5/6"
      ]
     },
     "execution_count": 14,
     "metadata": {},
     "output_type": "execute_result"
    }
   ],
   "source": [
    "sp.integrate(y, (x, 0, 1))"
   ]
  },
  {
   "cell_type": "code",
   "execution_count": 15,
   "id": "4c54c176",
   "metadata": {},
   "outputs": [
    {
     "data": {
      "text/latex": [
       "$\\displaystyle \\infty$"
      ],
      "text/plain": [
       "oo"
      ]
     },
     "execution_count": 15,
     "metadata": {},
     "output_type": "execute_result"
    }
   ],
   "source": [
    "sp.oo"
   ]
  },
  {
   "cell_type": "code",
   "execution_count": 16,
   "id": "8eea63d3",
   "metadata": {},
   "outputs": [
    {
     "data": {
      "text/latex": [
       "$\\displaystyle e^{- x}$"
      ],
      "text/plain": [
       "exp(-x)"
      ]
     },
     "execution_count": 16,
     "metadata": {},
     "output_type": "execute_result"
    }
   ],
   "source": [
    "y = sp.exp(-x)\n",
    "y"
   ]
  },
  {
   "cell_type": "code",
   "execution_count": 17,
   "id": "986cacb5",
   "metadata": {},
   "outputs": [
    {
     "data": {
      "text/latex": [
       "$\\displaystyle 1$"
      ],
      "text/plain": [
       "1"
      ]
     },
     "execution_count": 17,
     "metadata": {},
     "output_type": "execute_result"
    }
   ],
   "source": [
    "sp.integrate(y, (x, 0, sp.oo))"
   ]
  },
  {
   "cell_type": "code",
   "execution_count": null,
   "id": "ff093dc1",
   "metadata": {},
   "outputs": [],
   "source": []
  },
  {
   "cell_type": "code",
   "execution_count": null,
   "id": "dc7d9de6",
   "metadata": {},
   "outputs": [],
   "source": []
  },
  {
   "cell_type": "code",
   "execution_count": null,
   "id": "d00eb6bf",
   "metadata": {},
   "outputs": [],
   "source": []
  },
  {
   "cell_type": "markdown",
   "id": "7ba75a40",
   "metadata": {},
   "source": [
    "## 4.4 - Solvers (algébrico, sistemas lineares e não lineares)\n",
    "\n",
    "<br/>\n",
    "\n",
    "### Funções\n",
    "| Função | Descrição |\n",
    "| -:- | -:- |\n",
    "| sp.solveset(eq, var) | resolve equações algébricas (é a solução mais moderna do sympy) |\n",
    "| sp.linsolve(eqs, vars) | resolve sistemas lineares |\n",
    "| sp.nonlinsolve(eqs, vars) | resolve sistemas não lineares |\n",
    "| sp.solve(eqs, vars) | resolve todos os anteriores, mas será OBSOLETA no futuro |\n",
    "\n",
    "<br/>\n",
    "**notas:**\n",
    "<pre>O sympy está constantemente trabalhando nos solvers. Essa aula é para o sympy 1.9,\n",
    "futuramente irão implementar o linsolve dentro do solveset. </pre>\n",
    "<pre>As novas formas não são capazes de resolver certos tipos de equações, para \n",
    "estes casos utilize o solve. </pre>"
   ]
  },
  {
   "cell_type": "code",
   "execution_count": 18,
   "id": "6731a12a",
   "metadata": {},
   "outputs": [],
   "source": [
    "import sympy as sp\n"
   ]
  },
  {
   "cell_type": "code",
   "execution_count": 22,
   "id": "09a15638",
   "metadata": {},
   "outputs": [
    {
     "data": {
      "text/latex": [
       "$\\displaystyle \\left\\{- \\frac{2}{5}, 0\\right\\}$"
      ],
      "text/plain": [
       "{-2/5, 0}"
      ]
     },
     "execution_count": 22,
     "metadata": {},
     "output_type": "execute_result"
    }
   ],
   "source": [
    "# solveset\n",
    "x = sp.symbols('x')\n",
    "y = 5 * x**2 + 2*x\n",
    "sp.solveset(y, x)"
   ]
  },
  {
   "cell_type": "code",
   "execution_count": 27,
   "id": "bc80ec4d",
   "metadata": {},
   "outputs": [
    {
     "data": {
      "text/latex": [
       "$\\displaystyle \\left\\{- \\frac{1}{2} - \\frac{\\sqrt{19} i}{2}, - \\frac{1}{2} + \\frac{\\sqrt{19} i}{2}\\right\\}$"
      ],
      "text/plain": [
       "{-1/2 - sqrt(19)*I/2, -1/2 + sqrt(19)*I/2}"
      ]
     },
     "execution_count": 27,
     "metadata": {},
     "output_type": "execute_result"
    }
   ],
   "source": [
    "y = x ** 2 + x + 5\n",
    "sp.solveset(y, x)"
   ]
  },
  {
   "cell_type": "code",
   "execution_count": 39,
   "id": "8e669046",
   "metadata": {},
   "outputs": [
    {
     "data": {
      "text/latex": [
       "$\\displaystyle \\left\\{\\left( -3, \\  5, \\  0\\right)\\right\\}$"
      ],
      "text/plain": [
       "{(-3, 5, 0)}"
      ]
     },
     "execution_count": 39,
     "metadata": {},
     "output_type": "execute_result"
    }
   ],
   "source": [
    "# linsolve\n",
    "x1, x2, x3 = sp.symbols(['x1', 'x2', 'x3'])\n",
    "A = sp.Matrix([[3, 2, 4],\n",
    "               [1, 1, 2],\n",
    "               [4, 3, -2]])\n",
    "X = sp.Matrix([x1, x2, x3])\n",
    "B = sp.Matrix([1, 2, 3])\n",
    "\n",
    "sistema = A*X - B\n",
    "sp.linsolve(sistema, (x1, x2, x3))"
   ]
  },
  {
   "cell_type": "markdown",
   "id": "2b191b76",
   "metadata": {},
   "source": [
    "## 4.5 - Solver (equações diferenciais)\n",
    "\n",
    "<br/>\n",
    "\n",
    "### Objetos aplicáveis\n",
    "| Objeto | Descrição |\n",
    "| -:- | -:- |\n",
    "| sp.Function(nome) | cria um objeto Function |\n",
    "| sp.Derivative(y_x(x), x) | Cria um objeto Derivative |\n",
    "\n",
    "<br/>\n",
    "\n",
    "### Função\n",
    "| Objeto | Descrição |\n",
    "| -:- | -:- |\n",
    "| sp.dsolve(eq) | acha a solução da equação diferencial |\n",
    "\n",
    "\n",
    "<br/>\n",
    "**notas:**\n",
    "<pre>Caso não seja possível achar uma solução analítica, podemos achar uma solução\n",
    "numérica com a biclioteca scipy como veremos mais adiante. </pre>"
   ]
  },
  {
   "cell_type": "code",
   "execution_count": 40,
   "id": "7c784231",
   "metadata": {},
   "outputs": [],
   "source": [
    "import sympy as sp"
   ]
  },
  {
   "cell_type": "code",
   "execution_count": 41,
   "id": "5d93a503",
   "metadata": {},
   "outputs": [],
   "source": [
    "x = sp.symbols('x')"
   ]
  },
  {
   "cell_type": "code",
   "execution_count": 52,
   "id": "12718e2c",
   "metadata": {},
   "outputs": [
    {
     "data": {
      "text/latex": [
       "$\\displaystyle y{\\left(x \\right)}$"
      ],
      "text/plain": [
       "y(x)"
      ]
     },
     "execution_count": 52,
     "metadata": {},
     "output_type": "execute_result"
    }
   ],
   "source": [
    "y = sp.Function('y')\n",
    "y(x)"
   ]
  },
  {
   "cell_type": "code",
   "execution_count": 55,
   "id": "9e1be791",
   "metadata": {},
   "outputs": [
    {
     "data": {
      "text/latex": [
       "$\\displaystyle \\frac{d^{2}}{d x^{2}} y{\\left(x \\right)}$"
      ],
      "text/plain": [
       "Derivative(y(x), (x, 2))"
      ]
     },
     "execution_count": 55,
     "metadata": {},
     "output_type": "execute_result"
    }
   ],
   "source": [
    "dy2dx2 = sp.Derivative(y(x), x, x)\n",
    "dy2dx2"
   ]
  },
  {
   "cell_type": "code",
   "execution_count": 56,
   "id": "c6fa2299",
   "metadata": {},
   "outputs": [
    {
     "data": {
      "text/latex": [
       "$\\displaystyle y{\\left(x \\right)} = C_{1} + C_{2} x + \\frac{5 x^{2}}{2}$"
      ],
      "text/plain": [
       "Eq(y(x), C1 + C2*x + 5*x**2/2)"
      ]
     },
     "execution_count": 56,
     "metadata": {},
     "output_type": "execute_result"
    }
   ],
   "source": [
    "eq = dy2dx2 - 5\n",
    "sp.dsolve(eq)"
   ]
  },
  {
   "cell_type": "code",
   "execution_count": null,
   "id": "e31f226e",
   "metadata": {},
   "outputs": [],
   "source": []
  },
  {
   "cell_type": "code",
   "execution_count": null,
   "id": "9f3a4858",
   "metadata": {},
   "outputs": [],
   "source": []
  },
  {
   "cell_type": "markdown",
   "id": "7d8d9b1e",
   "metadata": {},
   "source": [
    "## E4.1\n",
    "Dadas as matrizes A,B, C e D, calcule, para cada uma, o determinante, a matriz transposta e a matriz inversa.\n",
    "\n",
    "$$ A=\n",
    " \\begin{bmatrix}\n",
    "   1 & 2 \\\\\\\\\n",
    "   4 & 5\n",
    "  \\end{bmatrix}\n",
    "$$\n",
    "\n",
    "$$ B=\n",
    " \\begin{bmatrix}\n",
    "   cos(\\pi/4) & -sen(\\pi/4) \\\\\\\\\n",
    "   sen(\\pi/4) & cos(\\pi/4)\n",
    "  \\end{bmatrix}\n",
    "$$\n",
    "\n",
    "$$ C=\n",
    " \\begin{bmatrix}\n",
    "   2 & -2 \\\\\\\\\n",
    "   -2 & 5\n",
    "  \\end{bmatrix}\n",
    "$$\n",
    "\n",
    "$$\n",
    "D=\n",
    " \\begin{bmatrix}\n",
    "   2 & 2 \\\\\\\\\n",
    "   4 & 4\n",
    "  \\end{bmatrix}\n",
    "$$\n",
    "\n",
    "\n",
    "Notas:\n",
    "- A tem determinante diferente de zero\n",
    "- B é uma matriz orgonal, sua inversa é igual a sua transposta, e seu det deve ser + ou -1\n",
    "- C é uma matriz simétrica, ela é igual a sua transposta\n",
    "- D possui determinante igual a zero, portanto não é inversível"
   ]
  },
  {
   "cell_type": "code",
   "execution_count": null,
   "id": "8fdd634b",
   "metadata": {},
   "outputs": [],
   "source": []
  },
  {
   "cell_type": "code",
   "execution_count": null,
   "id": "1d58ab7c",
   "metadata": {},
   "outputs": [],
   "source": []
  },
  {
   "cell_type": "code",
   "execution_count": null,
   "id": "f8b1a8c3",
   "metadata": {},
   "outputs": [],
   "source": []
  },
  {
   "cell_type": "code",
   "execution_count": null,
   "id": "e9fac31b",
   "metadata": {},
   "outputs": [],
   "source": []
  },
  {
   "cell_type": "code",
   "execution_count": null,
   "id": "59300532",
   "metadata": {},
   "outputs": [],
   "source": []
  },
  {
   "cell_type": "code",
   "execution_count": null,
   "id": "56e778c0",
   "metadata": {},
   "outputs": [],
   "source": []
  },
  {
   "cell_type": "markdown",
   "id": "7bd7562f",
   "metadata": {},
   "source": [
    "## E4.2 - \n",
    "Dadas as funções, calcule sua derivada de primeira ordem e sua primitiva (integral sem limites de integração).\n",
    "$$ A(x) = e^x $$\n",
    "\n",
    "$$ B(x) = x^3 $$\n",
    "\n",
    "$$ C(x) = 1/x $$\n",
    "\n",
    "Nota: O sympy não acrescenta constantes para integrais indefinidas, elas devem ser acrescentadas manualmente."
   ]
  },
  {
   "cell_type": "code",
   "execution_count": null,
   "id": "d237c885",
   "metadata": {},
   "outputs": [],
   "source": []
  },
  {
   "cell_type": "code",
   "execution_count": null,
   "id": "955f900e",
   "metadata": {},
   "outputs": [],
   "source": []
  },
  {
   "cell_type": "markdown",
   "id": "870d8e5b",
   "metadata": {},
   "source": [
    "## E4.3 - \n",
    "Calcule a integral dupla:\n",
    "$$ A(x,y) = \\iint_{A}dx.dy   $$\n",
    "\n",
    "Considere: $ 0 \\le x \\le 3 $ e $ 0 \\le y \\le 4 $\n"
   ]
  },
  {
   "cell_type": "code",
   "execution_count": null,
   "id": "b9f88e02",
   "metadata": {},
   "outputs": [],
   "source": []
  },
  {
   "cell_type": "code",
   "execution_count": null,
   "id": "e2345658",
   "metadata": {},
   "outputs": [],
   "source": []
  },
  {
   "cell_type": "code",
   "execution_count": null,
   "id": "a5677d74",
   "metadata": {},
   "outputs": [],
   "source": []
  },
  {
   "cell_type": "markdown",
   "id": "4846b276",
   "metadata": {},
   "source": [
    "## E4.4 - \n",
    "\n",
    "Ache as raízes das equações:\n",
    "\n",
    "$$ A(x) = x^3 + 5x^2  $$\n",
    "\n",
    "$$ B(x) = x^2 + 9 $$\n",
    "\n",
    "$$ C(x) = sen(x) $$\n",
    "\n",
    "$$ D(x) = x^2 + cos(x) $$"
   ]
  },
  {
   "cell_type": "code",
   "execution_count": null,
   "id": "49eb7653",
   "metadata": {},
   "outputs": [],
   "source": []
  },
  {
   "cell_type": "code",
   "execution_count": null,
   "id": "e0d93103",
   "metadata": {},
   "outputs": [],
   "source": []
  },
  {
   "cell_type": "code",
   "execution_count": null,
   "id": "6eca48bd",
   "metadata": {},
   "outputs": [],
   "source": []
  },
  {
   "cell_type": "markdown",
   "id": "0af892a9",
   "metadata": {},
   "source": [
    "## E4.5 - \n",
    "Dadas as matrizes, resolva o sistema de equação $[A].\\{X\\} = \\{B\\}$\n",
    "\n",
    "$$ A=\n",
    " \\begin{bmatrix}\n",
    "   1 & 1 & 1 \\\\\\\\\n",
    "   1 & 2 & 2 \\\\\\\\\n",
    "   2 & 1 & 3 \n",
    "\\end{bmatrix}\n",
    "$$\n",
    "\n",
    "$$ X=\n",
    " \\begin{bmatrix}\n",
    "   x_1 \\\\\\\\\n",
    "   x_2 \\\\\\\\\n",
    "   x_3 \n",
    "\\end{bmatrix}\n",
    "$$\n",
    "\n",
    "$$ B=\n",
    " \\begin{bmatrix}\n",
    "   6 \\\\\\\\\n",
    "   9 \\\\\\\\\n",
    "   11 \n",
    "\\end{bmatrix}\n",
    "$$"
   ]
  },
  {
   "cell_type": "code",
   "execution_count": null,
   "id": "4e546d20",
   "metadata": {},
   "outputs": [],
   "source": []
  },
  {
   "cell_type": "code",
   "execution_count": null,
   "id": "6fca4aa3",
   "metadata": {},
   "outputs": [],
   "source": []
  },
  {
   "cell_type": "code",
   "execution_count": null,
   "id": "b3a036d6",
   "metadata": {},
   "outputs": [],
   "source": []
  },
  {
   "cell_type": "markdown",
   "id": "659ea495",
   "metadata": {},
   "source": [
    "## E4.6 - \n",
    "Resolva a EDO:\n",
    "$$ \\ \\ \\frac{dy}{dx} = \\frac{x^2}{y} $$"
   ]
  },
  {
   "cell_type": "code",
   "execution_count": null,
   "id": "23b0a88d",
   "metadata": {},
   "outputs": [],
   "source": []
  },
  {
   "cell_type": "code",
   "execution_count": null,
   "id": "e7830b33",
   "metadata": {},
   "outputs": [],
   "source": []
  },
  {
   "cell_type": "markdown",
   "id": "1f1e12a0",
   "metadata": {},
   "source": [
    "## E4.7 - \n",
    "Resolva a EDO:\n",
    "\n",
    "$$ B)\\ \\ m\\ddot{x}(t) + c\\dot{x}(t) + kx(t)=0; \\ \\ com\\ x(0) = x_0 \\ e\\  \\dot{x}(0) = v_0   $$"
   ]
  },
  {
   "cell_type": "code",
   "execution_count": null,
   "id": "770d76e1",
   "metadata": {},
   "outputs": [],
   "source": []
  },
  {
   "cell_type": "code",
   "execution_count": null,
   "id": "64a3da45",
   "metadata": {},
   "outputs": [],
   "source": []
  },
  {
   "cell_type": "markdown",
   "id": "bcfa3148",
   "metadata": {},
   "source": [
    "## E4.8 - \n",
    "Resolver a EDO a seguir utilizando o sympy e adotando os valores. No capítulo de scipy nós faremos esse exercício novamente.\n",
    "\n",
    "\n",
    "$$ \\ \\ m\\ddot{x}(t) + c\\dot{x}(t) + kx(t)=0; \\ \\ com\\ x(0) = x_0 \\ e\\  \\dot{x}(0) = v_0   $$\n",
    "\n",
    "Para fazer a comparação, iremos adotar os valores:\n",
    "$$ \\ \\ 10\\ddot{x}(t) + 20\\dot{x}(t) + 50x(t)=0; \\ \\ com\\ x(0) = 10 \\ e\\  \\dot{x}(0) = 0   $$"
   ]
  },
  {
   "cell_type": "code",
   "execution_count": null,
   "id": "7134c9d6",
   "metadata": {},
   "outputs": [],
   "source": []
  }
 ],
 "metadata": {
  "kernelspec": {
   "display_name": "Python 3 (ipykernel)",
   "language": "python",
   "name": "python3"
  },
  "language_info": {
   "codemirror_mode": {
    "name": "ipython",
    "version": 3
   },
   "file_extension": ".py",
   "mimetype": "text/x-python",
   "name": "python",
   "nbconvert_exporter": "python",
   "pygments_lexer": "ipython3",
   "version": "3.9.7"
  }
 },
 "nbformat": 4,
 "nbformat_minor": 5
}
