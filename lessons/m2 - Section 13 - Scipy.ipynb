{
 "cells": [
  {
   "cell_type": "markdown",
   "id": "6f828eb7",
   "metadata": {},
   "source": [
    "# Desenvolvimento de Pacotes Científicos com Python\n",
    "\n",
    "**por**: Rafael Pereira da Silva"
   ]
  },
  {
   "cell_type": "markdown",
   "id": "26751ce4",
   "metadata": {},
   "source": [
    "# PARTE 2\n",
    "# Seção 5: Scipy\n",
    "Scipy não é somente uma biblioteca, é um software. Um software para matemática, ciência e engenharia. Ele inclui módulos para estatística, otimização, cálculo, álgebra linear, transformadas de Fourrier, tratamento de sinal e imagem, solvers para equações diferenciais e muito mais.\n",
    "\n",
    "Scipy tem muitas funções criadas em Fortran e em C, criadas por cientistas. E com isso consegue unir a performance dessas linguagens com a facilidade do Python.\n",
    "\n",
    "Além disso, o Scipy é muito baseado em numpy, por isso usar as duas bibliotecas juntas é uma ótima pedida.\n",
    "\n",
    "Boa diversão!"
   ]
  },
  {
   "cell_type": "markdown",
   "id": "82143d59",
   "metadata": {},
   "source": [
    "# scipy.linalg (Álgebra Linear)"
   ]
  },
  {
   "cell_type": "markdown",
   "id": "451d8544",
   "metadata": {},
   "source": [
    "## 5.1 - Funções para matrizes\n",
    "\n",
    "<br/>\n",
    "\n",
    "```python\n",
    ">>> from scipy import linalg\n",
    "```\n",
    "\n",
    "<br/>\n",
    "\n",
    "#### Funções para álgebra linear\n",
    "\n",
    "\n",
    "| Funções | Descrição |\n",
    "| :-- | :-- |\n",
    "| linalg.inv(arg) | Retona a inversa de uma matriz  |\n",
    "| linalg.det(arg) | Acha o determinante de uma matriz  |\n",
    "| linalg.norm(arg) | Acha a norma de um vetor |\n",
    "\n",
    "<br/>\n",
    "\n",
    "**notas:**\n",
    "\n",
    "<pre>O numpy também contém um submódulo para álgebra linear (numpy.linalg). Porém o\n",
    "módulo do scipy contém tudo o que o numpy contém e mais (segundo a documentação).</pre>"
   ]
  },
  {
   "cell_type": "code",
   "execution_count": null,
   "id": "e670aeb7",
   "metadata": {},
   "outputs": [],
   "source": []
  },
  {
   "cell_type": "code",
   "execution_count": null,
   "id": "2967bde2",
   "metadata": {},
   "outputs": [],
   "source": []
  },
  {
   "cell_type": "code",
   "execution_count": null,
   "id": "c23253fd",
   "metadata": {},
   "outputs": [],
   "source": []
  },
  {
   "cell_type": "code",
   "execution_count": null,
   "id": "021d8048",
   "metadata": {},
   "outputs": [],
   "source": []
  },
  {
   "cell_type": "markdown",
   "id": "45ba333f",
   "metadata": {},
   "source": [
    "## 5.2 - Sistemas lineares\n",
    "\n",
    "<br/>\n",
    "\n",
    "\n",
    "#### Funções\n",
    "\n",
    "\n",
    "| Funções | Descrição |\n",
    "| :-- | :-- |\n",
    "| linalg.solve(A, B) | Resolve um sistema linear do tipo $ A.X = B $  |\n",
    "\n",
    "\n",
    "**notas:**\n",
    "\n",
    "<pre>A e B são matrizes numpy. A contém o sistema e B contém o resultado.\n",
    "A saída dessa operação é o vetor X.</pre>"
   ]
  },
  {
   "cell_type": "code",
   "execution_count": null,
   "id": "4a3fa0fd",
   "metadata": {},
   "outputs": [],
   "source": []
  },
  {
   "cell_type": "code",
   "execution_count": null,
   "id": "e0b2107e",
   "metadata": {},
   "outputs": [],
   "source": []
  },
  {
   "cell_type": "code",
   "execution_count": null,
   "id": "fb5c988d",
   "metadata": {},
   "outputs": [],
   "source": []
  },
  {
   "cell_type": "markdown",
   "id": "c1a9346a",
   "metadata": {},
   "source": [
    "## 5.3 - Autovalores e autovetores\n",
    "\n",
    "<br/>\n",
    "\n",
    "O problema de autovalor consiste em encontrar os valores de $ \\{\\lambda_1, \\lambda_2, \\lambda_3\\}$.\n",
    "\n",
    "Relembre: https://www.youtube.com/watch?v=PFDu9oVAE-g&ab_channel=3Blue1Brown\n",
    "\n",
    "<br/>\n",
    "\n",
    "#### Funções\n",
    "\n",
    "\n",
    "| Funções | Descrição |\n",
    "| :-- | :-- |\n",
    "| linalg.eig(A) | retorna os autovalores e autovetores da matrix $A$ |\n",
    "\n",
    "<br/>\n",
    "O problema de autovalor e autovetor é descrito abaixo:\n",
    "\n",
    "<br/>\n",
    "\n",
    "$$ A=\n",
    " \\begin{bmatrix}\n",
    "   a & b \\\\\\\\\n",
    "   c & d\n",
    "  \\end{bmatrix}\n",
    "  \\rightarrow DET[A - \\lambda I]=0 \\rightarrow\n",
    " DET \\begin{bmatrix}\n",
    "   a - \\lambda & b \\\\\\\\\n",
    "   c & d - \\lambda\n",
    "  \\end{bmatrix} = 0 \\rightarrow \\{\\lambda_1, \\lambda_2, \\lambda_3\\}\n",
    "$$"
   ]
  },
  {
   "cell_type": "code",
   "execution_count": null,
   "id": "b7561e95",
   "metadata": {},
   "outputs": [],
   "source": []
  },
  {
   "cell_type": "markdown",
   "id": "e9a3cec8",
   "metadata": {},
   "source": []
  },
  {
   "cell_type": "code",
   "execution_count": null,
   "id": "bac39929",
   "metadata": {},
   "outputs": [],
   "source": []
  },
  {
   "cell_type": "code",
   "execution_count": null,
   "id": "3e770fa5",
   "metadata": {},
   "outputs": [],
   "source": []
  },
  {
   "cell_type": "code",
   "execution_count": null,
   "id": "dc66019e",
   "metadata": {},
   "outputs": [],
   "source": []
  },
  {
   "cell_type": "markdown",
   "id": "3c987f5e",
   "metadata": {},
   "source": [
    "# scipy.integrate (Cálculo)"
   ]
  },
  {
   "cell_type": "markdown",
   "id": "f598ad77",
   "metadata": {},
   "source": [
    "## 5.4 - Derivada\n",
    "\n",
    "<br/>\n",
    "\n",
    "```python\n",
    ">>> from scipy. misc import derivative\n",
    "```\n",
    "\n",
    "<br/>\n",
    "\n",
    "\n",
    "| Funções | Descrição |\n",
    "| :-- | :-- |\n",
    "| scipy.misc.derivative(func, x0, dx=1.0, n=1, args=(), order=3) | Calcula a derivada de um valor, dada uma função  |\n",
    "| numpy.diff(a, n=1, axis=-1, prepend=\\<no value>, append=\\<no value>) | Calcula a derivada de um array  |"
   ]
  },
  {
   "cell_type": "code",
   "execution_count": 24,
   "id": "84e0f58e",
   "metadata": {},
   "outputs": [],
   "source": [
    "import numpy as np\n",
    "import matplotlib.pyplot as plt\n",
    "\n",
    "from scipy.misc import derivative"
   ]
  },
  {
   "cell_type": "code",
   "execution_count": 25,
   "id": "0ab39bf6",
   "metadata": {},
   "outputs": [],
   "source": [
    "def f_x(x):\n",
    "    return x ** 3\n",
    "\n",
    "# 3 x **2\n",
    "# 6 x"
   ]
  },
  {
   "cell_type": "code",
   "execution_count": 26,
   "id": "45e1a001",
   "metadata": {},
   "outputs": [
    {
     "data": {
      "text/plain": [
       "7501.0"
      ]
     },
     "execution_count": 26,
     "metadata": {},
     "output_type": "execute_result"
    }
   ],
   "source": [
    "derivative(f_x, 50, n=1)"
   ]
  },
  {
   "cell_type": "code",
   "execution_count": 27,
   "id": "c7f09b8c",
   "metadata": {},
   "outputs": [],
   "source": [
    "arr = np.linspace(0, 50, 50)\n",
    "arr2 = arr **3\n",
    "darr_1 = [derivative(f_x, i) for i in arr]\n",
    "darr_2 = np.diff(arr2)"
   ]
  },
  {
   "cell_type": "code",
   "execution_count": 28,
   "id": "9966a5ba",
   "metadata": {},
   "outputs": [
    {
     "data": {
      "text/plain": [
       "(49,)"
      ]
     },
     "execution_count": 28,
     "metadata": {},
     "output_type": "execute_result"
    }
   ],
   "source": [
    "arr3 = np.linspace(0, 50, 49)\n",
    "darr_2.shape"
   ]
  },
  {
   "cell_type": "code",
   "execution_count": 29,
   "id": "8027c927",
   "metadata": {},
   "outputs": [
    {
     "data": {
      "image/png": "[encoded data removed]",
      "text/plain": [
       "<Figure size 432x288 with 1 Axes>"
      ]
     },
     "metadata": {
      "needs_background": "light"
     },
     "output_type": "display_data"
    }
   ],
   "source": [
    "plt.plot(arr, darr_1, 'k', label='scipy')\n",
    "plt.plot(arr3, darr_2, 'r', label='numpy')\n",
    "plt.show()"
   ]
  },
  {
   "cell_type": "markdown",
   "id": "3a20cc1e",
   "metadata": {},
   "source": [
    "## 5.4 - Integral\n",
    "\n",
    "<br/>\n",
    "\n",
    "```python\n",
    ">>> from scipy.integrate import quad, dblquad\n",
    "```\n",
    "\n",
    "<br/>\n",
    "\n",
    "\n",
    "| Funções | Descrição |\n",
    "| :-- | :-- |\n",
    "| integrate.quad(func, a, b) | Calcula a integral de uma função  |\n",
    "| integrate.dblquad(func, a, b, gfun, hfun) | Calcula a integral dupla de uma função  |"
   ]
  },
  {
   "cell_type": "code",
   "execution_count": null,
   "id": "a6180916",
   "metadata": {},
   "outputs": [],
   "source": []
  },
  {
   "cell_type": "code",
   "execution_count": 1,
   "id": "04969f6c",
   "metadata": {},
   "outputs": [],
   "source": [
    "import numpy as np\n",
    "\n",
    "from scipy.integrate import quad, dblquad"
   ]
  },
  {
   "cell_type": "code",
   "execution_count": 11,
   "id": "b0dc0ed4",
   "metadata": {},
   "outputs": [],
   "source": [
    "def f_x(x):\n",
    "    return x**2\n",
    "\n",
    "f_X = lambda x: x**2"
   ]
  },
  {
   "cell_type": "code",
   "execution_count": 12,
   "id": "5116ad2c",
   "metadata": {},
   "outputs": [
    {
     "data": {
      "text/plain": [
       "(333.33333333333326, 3.700743415417188e-12)"
      ]
     },
     "execution_count": 12,
     "metadata": {},
     "output_type": "execute_result"
    }
   ],
   "source": [
    "quad(f_x, 0, 10)"
   ]
  },
  {
   "cell_type": "code",
   "execution_count": 13,
   "id": "01582e9b",
   "metadata": {},
   "outputs": [
    {
     "data": {
      "text/plain": [
       "333.3333333333333"
      ]
     },
     "execution_count": 13,
     "metadata": {},
     "output_type": "execute_result"
    }
   ],
   "source": [
    "I_x = lambda x: x**3 / 3\n",
    "I_x(10) - I_x(0)"
   ]
  },
  {
   "cell_type": "code",
   "execution_count": 17,
   "id": "8f63c545",
   "metadata": {},
   "outputs": [],
   "source": [
    "def f_xy(x, y):\n",
    "    return x * y"
   ]
  },
  {
   "cell_type": "code",
   "execution_count": 21,
   "id": "4ceb503c",
   "metadata": {},
   "outputs": [
    {
     "data": {
      "text/plain": [
       "(624.9999999999999, 6.938893903907227e-12)"
      ]
     },
     "execution_count": 21,
     "metadata": {},
     "output_type": "execute_result"
    }
   ],
   "source": [
    "dblquad(f_xy, 0, 5, 0, 10)"
   ]
  },
  {
   "cell_type": "code",
   "execution_count": 22,
   "id": "77a8b185",
   "metadata": {},
   "outputs": [],
   "source": [
    "I_xy = lambda x, y: (x**2/2) * (y**2/2)"
   ]
  },
  {
   "cell_type": "code",
   "execution_count": 23,
   "id": "6bd320ea",
   "metadata": {
    "scrolled": true
   },
   "outputs": [
    {
     "data": {
      "text/plain": [
       "625.0"
      ]
     },
     "execution_count": 23,
     "metadata": {},
     "output_type": "execute_result"
    }
   ],
   "source": [
    "I_xy(5, 10) - I_xy(0, 0)"
   ]
  },
  {
   "cell_type": "markdown",
   "id": "b9ca7daf",
   "metadata": {},
   "source": [
    "## 5.5 - EDO\n",
    "\n",
    "<br/>\n",
    "\n",
    "```python\n",
    ">>> from scipy.integrate import odeint\n",
    "```\n",
    "\n",
    "<br/>\n",
    "\n",
    "\n",
    "| Funções | Descrição |\n",
    "| :-- | :-- |\n",
    "| integrate.odeint(func, y0, t) | Calcula a dada equação diferencial  |"
   ]
  },
  {
   "cell_type": "code",
   "execution_count": null,
   "id": "2efc342a",
   "metadata": {},
   "outputs": [],
   "source": []
  },
  {
   "cell_type": "code",
   "execution_count": null,
   "id": "6582e237",
   "metadata": {},
   "outputs": [],
   "source": []
  },
  {
   "cell_type": "code",
   "execution_count": null,
   "id": "e73832ec",
   "metadata": {},
   "outputs": [],
   "source": []
  },
  {
   "cell_type": "code",
   "execution_count": null,
   "id": "3425853b",
   "metadata": {},
   "outputs": [],
   "source": []
  },
  {
   "cell_type": "code",
   "execution_count": null,
   "id": "cf8dfb8b",
   "metadata": {},
   "outputs": [],
   "source": []
  },
  {
   "cell_type": "code",
   "execution_count": null,
   "id": "0ef609df",
   "metadata": {},
   "outputs": [],
   "source": []
  },
  {
   "cell_type": "markdown",
   "id": "d0684c66",
   "metadata": {},
   "source": [
    "## E5.1 - \n",
    "## 11.1.2 Exercício 1\n",
    "Dadas as matrizes A,B, C e D, calcule, para cada uma, o determinante, a matriz transposta e a matriz inversa.\n",
    "\n",
    "$$ A=\n",
    " \\begin{bmatrix}\n",
    "   1 & 2 \\\\\\\\\n",
    "   4 & 5\n",
    "  \\end{bmatrix}\n",
    "$$\n",
    "\n",
    "$$ B=\n",
    " \\begin{bmatrix}\n",
    "   cos(\\pi/4) & -sen(\\pi/4) \\\\\\\\\n",
    "   sen(\\pi/4) & cos(\\pi/4)\n",
    "  \\end{bmatrix}\n",
    "$$\n",
    "\n",
    "$$ C=\n",
    " \\begin{bmatrix}\n",
    "   2 & -2 \\\\\\\\\n",
    "   -2 & 5\n",
    "  \\end{bmatrix}\n",
    "$$\n",
    "\n",
    "$$\n",
    "D=\n",
    " \\begin{bmatrix}\n",
    "   2 & 2 \\\\\\\\\n",
    "   4 & 4\n",
    "  \\end{bmatrix}\n",
    "$$\n",
    "\n",
    "\n",
    "Notas:\n",
    "- A tem determinante diferente de zero\n",
    "- B é uma matriz ortogonal, sua inversa é igual a sua transposta, e seu det deve ser + ou -1\n",
    "- C é uma matriz simétrica, ela é igual a sua transposta\n",
    "- D possui determinante igual a zero, portanto não é inversível"
   ]
  },
  {
   "cell_type": "code",
   "execution_count": null,
   "id": "a561ff36",
   "metadata": {},
   "outputs": [],
   "source": []
  },
  {
   "cell_type": "code",
   "execution_count": null,
   "id": "086ba6b9",
   "metadata": {},
   "outputs": [],
   "source": []
  },
  {
   "cell_type": "code",
   "execution_count": null,
   "id": "5bc4ec11",
   "metadata": {},
   "outputs": [],
   "source": []
  },
  {
   "cell_type": "markdown",
   "id": "56f1db02",
   "metadata": {},
   "source": [
    "## E5.2 -\n",
    "## 11.1.3 Exercício 2\n",
    "Dadas as matrizes, resolva o sistema de equação $[A].\\{X\\} = \\{B\\}$\n",
    "\n",
    "$$ A=\n",
    " \\begin{bmatrix}\n",
    "   1 & 1 & 1 \\\\\\\\\n",
    "   1 & 2 & 2 \\\\\\\\\n",
    "   2 & 1 & 3 \n",
    "\\end{bmatrix}\n",
    "$$\n",
    "\n",
    "$$ X=\n",
    " \\begin{bmatrix}\n",
    "   x_1 \\\\\\\\\n",
    "   x_2 \\\\\\\\\n",
    "   x_3 \n",
    "\\end{bmatrix}\n",
    "$$\n",
    "\n",
    "$$ B=\n",
    " \\begin{bmatrix}\n",
    "   6 \\\\\\\\\n",
    "   9 \\\\\\\\\n",
    "   11 \n",
    "\\end{bmatrix}\n",
    "$$\n"
   ]
  },
  {
   "cell_type": "code",
   "execution_count": null,
   "id": "c45f4195",
   "metadata": {},
   "outputs": [],
   "source": []
  },
  {
   "cell_type": "code",
   "execution_count": null,
   "id": "2401db0c",
   "metadata": {},
   "outputs": [],
   "source": []
  },
  {
   "cell_type": "markdown",
   "id": "5668accf",
   "metadata": {},
   "source": [
    "## E5.3 - \n",
    "Ache os autovalores e autovetores para a matriz abaixo e depois cheque se os resultados estão corretos.\n",
    "\n",
    "$$ A=\n",
    " \\begin{bmatrix}\n",
    "   -1 & 6 \\\\\\\\\n",
    "   0 & 5\n",
    "  \\end{bmatrix}\n",
    "$$\n",
    "\n",
    "\n",
    "\n",
    "O autovalor e autovetor se associam à matriz da seguinte forma:\n",
    "\n",
    "$$ [A] \\{X\\} = \\lambda \\{X\\} $$"
   ]
  },
  {
   "cell_type": "code",
   "execution_count": null,
   "id": "3c62ba28",
   "metadata": {},
   "outputs": [],
   "source": []
  },
  {
   "cell_type": "code",
   "execution_count": null,
   "id": "17adb635",
   "metadata": {},
   "outputs": [],
   "source": []
  },
  {
   "cell_type": "markdown",
   "id": "32ff2921",
   "metadata": {},
   "source": [
    "## E5.4 - \n",
    "Dadas as funções, calcule sua integral com  x variando de 0 a 10: \n",
    "$$ A(x) = e^x $$\n",
    "\n",
    "$$ B(x) = x^3 $$\n",
    "\n",
    "$$ C(x) = 1/x $$\n"
   ]
  },
  {
   "cell_type": "code",
   "execution_count": null,
   "id": "82b7cab0",
   "metadata": {},
   "outputs": [],
   "source": []
  },
  {
   "cell_type": "code",
   "execution_count": null,
   "id": "ae0aa9de",
   "metadata": {},
   "outputs": [],
   "source": []
  },
  {
   "cell_type": "markdown",
   "id": "ceb91ac4",
   "metadata": {},
   "source": [
    "## E5.5 - \n",
    "Calcule a integral dupla:\n",
    "$$ A(x,y) = \\iint_{A}dx.dy   $$\n",
    "\n",
    "Considere: $ 0 \\le x \\le 3 $ e $ 0 \\le y \\le 4 $"
   ]
  },
  {
   "cell_type": "code",
   "execution_count": null,
   "id": "fb8af87c",
   "metadata": {},
   "outputs": [],
   "source": []
  },
  {
   "cell_type": "code",
   "execution_count": null,
   "id": "1cac888d",
   "metadata": {},
   "outputs": [],
   "source": []
  },
  {
   "cell_type": "markdown",
   "id": "457ebd89",
   "metadata": {},
   "source": [
    "## E5.5 - \n",
    "Resolva a EDO:\n",
    "$$ \\ \\ \\frac{dy}{dx} = \\frac{x^2}{y} $$"
   ]
  },
  {
   "cell_type": "code",
   "execution_count": null,
   "id": "f6ddc2a5",
   "metadata": {},
   "outputs": [],
   "source": []
  },
  {
   "cell_type": "code",
   "execution_count": null,
   "id": "f9e547a5",
   "metadata": {},
   "outputs": [],
   "source": []
  },
  {
   "cell_type": "markdown",
   "id": "a0445d55",
   "metadata": {},
   "source": [
    "## E5.6 - \n",
    "\n",
    "Resolver a EDO a seguir utilizando o Scipy.\n",
    "\n",
    "\n",
    "$$ \\ \\ m\\ddot{x}(t) + c\\dot{x}(t) + kx(t)=0; \\ \\ com\\ x(0) = x_0 \\ e\\  \\dot{x}(0) = v_0   $$\n",
    "\n",
    "Para fazer a comparação, iremos adotar os valores:\n",
    "$$ \\ \\ 10\\ddot{x}(t) + 50\\dot{x}(t) + 20x(t)=0; \\ \\ com\\ x(0) = 10 \\ e\\  \\dot{x}(0) = 0   $$"
   ]
  },
  {
   "cell_type": "code",
   "execution_count": null,
   "id": "bd2feed5",
   "metadata": {},
   "outputs": [],
   "source": []
  },
  {
   "cell_type": "code",
   "execution_count": null,
   "id": "de71842a",
   "metadata": {},
   "outputs": [],
   "source": []
  },
  {
   "cell_type": "code",
   "execution_count": null,
   "id": "ac58c2f0",
   "metadata": {},
   "outputs": [],
   "source": []
  }
 ],
 "metadata": {
  "kernelspec": {
   "display_name": "Python 3 (ipykernel)",
   "language": "python",
   "name": "python3"
  },
  "language_info": {
   "codemirror_mode": {
    "name": "ipython",
    "version": 3
   },
   "file_extension": ".py",
   "mimetype": "text/x-python",
   "name": "python",
   "nbconvert_exporter": "python",
   "pygments_lexer": "ipython3",
   "version": "3.9.7"
  }
 },
 "nbformat": 4,
 "nbformat_minor": 5
}
