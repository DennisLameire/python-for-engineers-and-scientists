{
 "cells": [
  {
   "cell_type": "markdown",
   "id": "d9ebb79d",
   "metadata": {},
   "source": [
    "# Desenvolvimento de Pacotes Científicos com Python\n",
    "\n",
    "**por**: Rafael Pereira da Silva"
   ]
  },
  {
   "cell_type": "markdown",
   "id": "9f980914",
   "metadata": {},
   "source": [
    "# PARTE 1\n",
    "# Seção 7: Tratamento de Erros (error handling)\n",
    "Quando programamos para que alguém use o que estamos produzindo (inclusive nós mesmos), podemos fazer um tratamento de erros para dar mais robustez ao código."
   ]
  },
  {
   "cell_type": "markdown",
   "id": "843a86c9",
   "metadata": {},
   "source": [
    "## 7.1 - Declarações Try e Except\n",
    "\n",
    "As declarações Try e Except servem para tratar e capturar os erros.\n",
    "\n",
    "<br/>\n",
    "\n",
    "#### Sintaxe\n",
    "\n",
    "```python\n",
    ">>> a = [1, 2, 3, 4]\n",
    ">>> try:\n",
    "...     a[5]\n",
    "...     print('a lista tem pelo menos 5 elementos')\n",
    ">>> except:\n",
    "...     print('A variável a não é indexável ou não possui o quinto elemento')\n",
    "```\n",
    "\n",
    "<br/>\n",
    "\n",
    "**nota:**\n",
    "<pre>Uma boa prática, que veremos mais adiante, é prevermos o(s) tipo de erro que pode acontecer. Caso aconteça um erro inexperado, nós podemos deixar que ele interrompa o programa. </pre>"
   ]
  },
  {
   "cell_type": "code",
   "execution_count": null,
   "id": "5732094a",
   "metadata": {},
   "outputs": [],
   "source": []
  },
  {
   "cell_type": "code",
   "execution_count": null,
   "id": "fdbb7203",
   "metadata": {},
   "outputs": [],
   "source": []
  },
  {
   "cell_type": "code",
   "execution_count": null,
   "id": "9ae2e923",
   "metadata": {},
   "outputs": [],
   "source": []
  },
  {
   "cell_type": "code",
   "execution_count": null,
   "id": "8ad13b2f",
   "metadata": {},
   "outputs": [],
   "source": []
  },
  {
   "cell_type": "code",
   "execution_count": null,
   "id": "599afcad",
   "metadata": {},
   "outputs": [],
   "source": []
  },
  {
   "cell_type": "code",
   "execution_count": null,
   "id": "0785dc76",
   "metadata": {},
   "outputs": [],
   "source": []
  },
  {
   "cell_type": "code",
   "execution_count": null,
   "id": "728a35b8",
   "metadata": {},
   "outputs": [],
   "source": []
  },
  {
   "cell_type": "markdown",
   "id": "46e86ae0",
   "metadata": {},
   "source": [
    "## 7.2 - Exceções built-in do Python\n",
    "\n",
    "O Python possui uma série de exceções pré-construídas e que podemos lidar com uma certa frequência.\n",
    "\n",
    "\n",
    "<br/>\n",
    "\n",
    "### Algumas excessões\n",
    "\n",
    "<br/>\n",
    "\n",
    "| Excessão | Causa do Erro |\n",
    "| :-- | :-- |\n",
    "| AttributeError | Quando há a falha de atribuição de um atributo |\n",
    "| FileNotFoundError | Quando um arquivo não é encontrado no caminho especificado |\n",
    "| IndexError | Quando um índice está fora do range do objeto |\n",
    "| KeyError | Quando uma chave não é encontrada em um dicionário |\n",
    "| MemoryError | Quando o processo atinge o limite da memória RAM. Podemos minimizar esses riscos com Generator e Iterators |\n",
    "| ModuleNotFoundError | Quando um módulo que tentamos importar não é encontrado |\n",
    "| NameError | Quando a variável não é encontrada, não existe |\n",
    "| SyntaxeError | Quando há alguma escrita incorreta |\n",
    "| TypeError | Quando uma função recebe um argumento do tipo errado |\n",
    "| ZeroDivisionError | Quando há divisão por 0 |\n",
    "\n",
    "\n",
    "<br/>\n",
    "\n"
   ]
  },
  {
   "cell_type": "code",
   "execution_count": null,
   "id": "27afe31d",
   "metadata": {},
   "outputs": [],
   "source": []
  },
  {
   "cell_type": "code",
   "execution_count": null,
   "id": "f7ba6fd5",
   "metadata": {},
   "outputs": [],
   "source": []
  },
  {
   "cell_type": "code",
   "execution_count": null,
   "id": "3a68fc93",
   "metadata": {},
   "outputs": [],
   "source": []
  },
  {
   "cell_type": "markdown",
   "id": "dd7e025a",
   "metadata": {},
   "source": [
    "## 7.3 - Try, Except Error\n",
    "\n",
    "<br/>\n",
    "\n",
    "Aqui vemos a sintaxe de um erro que já prevemos que pode acontecer\n",
    "\n",
    "<br/>\n",
    "\n",
    "#### Sintaxe\n",
    "\n",
    "\n",
    "```python\n",
    ">>> a = 0.0\n",
    ">>> try:\n",
    "...     b = 5 / a\n",
    ">>> except ZeroDivisionError:\n",
    "...     print('A variável deve ser diferente de zero')\n",
    "```\n",
    "\n",
    "**nota:**\n",
    "<pre>Podemos forçar o erro e exibir uma mensagem para o usuário utilizando raise </pre>"
   ]
  },
  {
   "cell_type": "code",
   "execution_count": 21,
   "id": "45524748",
   "metadata": {},
   "outputs": [
    {
     "name": "stdout",
     "output_type": "stream",
     "text": [
      "1.0\n"
     ]
    }
   ],
   "source": [
    "a = 5\n",
    "try:\n",
    "    b = 5 / a\n",
    "except ZeroDivisionError:\n",
    "    b = 'infinito'\n",
    "\n",
    "print(b)"
   ]
  },
  {
   "cell_type": "code",
   "execution_count": 23,
   "id": "7c524a25",
   "metadata": {},
   "outputs": [
    {
     "data": {
      "text/plain": [
       "mappingproxy({'__repr__': <slot wrapper '__repr__' of 'object' objects>,\n",
       "              '__hash__': <slot wrapper '__hash__' of 'object' objects>,\n",
       "              '__str__': <slot wrapper '__str__' of 'object' objects>,\n",
       "              '__getattribute__': <slot wrapper '__getattribute__' of 'object' objects>,\n",
       "              '__setattr__': <slot wrapper '__setattr__' of 'object' objects>,\n",
       "              '__delattr__': <slot wrapper '__delattr__' of 'object' objects>,\n",
       "              '__lt__': <slot wrapper '__lt__' of 'object' objects>,\n",
       "              '__le__': <slot wrapper '__le__' of 'object' objects>,\n",
       "              '__eq__': <slot wrapper '__eq__' of 'object' objects>,\n",
       "              '__ne__': <slot wrapper '__ne__' of 'object' objects>,\n",
       "              '__gt__': <slot wrapper '__gt__' of 'object' objects>,\n",
       "              '__ge__': <slot wrapper '__ge__' of 'object' objects>,\n",
       "              '__init__': <slot wrapper '__init__' of 'object' objects>,\n",
       "              '__new__': <function object.__new__(*args, **kwargs)>,\n",
       "              '__reduce_ex__': <method '__reduce_ex__' of 'object' objects>,\n",
       "              '__reduce__': <method '__reduce__' of 'object' objects>,\n",
       "              '__subclasshook__': <method '__subclasshook__' of 'object' objects>,\n",
       "              '__init_subclass__': <method '__init_subclass__' of 'object' objects>,\n",
       "              '__format__': <method '__format__' of 'object' objects>,\n",
       "              '__sizeof__': <method '__sizeof__' of 'object' objects>,\n",
       "              '__dir__': <method '__dir__' of 'object' objects>,\n",
       "              '__class__': <attribute '__class__' of 'object' objects>,\n",
       "              '__doc__': 'The base class of the class hierarchy.\\n\\nWhen called, it accepts no arguments and returns a new featureless\\ninstance that has no instance attributes and cannot be given any.\\n'})"
      ]
     },
     "execution_count": 23,
     "metadata": {},
     "output_type": "execute_result"
    }
   ],
   "source": [
    "object.__dict__"
   ]
  },
  {
   "cell_type": "code",
   "execution_count": null,
   "id": "b739e44e",
   "metadata": {},
   "outputs": [],
   "source": []
  },
  {
   "cell_type": "code",
   "execution_count": null,
   "id": "7ec18172",
   "metadata": {},
   "outputs": [],
   "source": []
  },
  {
   "cell_type": "markdown",
   "id": "c7c2f072",
   "metadata": {},
   "source": [
    "## 7.4 - Exceções customizadas\n",
    "\n",
    "<br/>\n",
    "\n",
    "Podemos criar exceções customizadas caso haja a necessidade. Para isso, devemos herdar da classe Exceptions.\n",
    "\n",
    "<br/>\n",
    "\n",
    "#### Sintaxe\n",
    "\n",
    "```python\n",
    ">>> class ErroBlabla(Exception):\n",
    "...    pass\n",
    "```\n",
    "\n",
    "**nota:**\n",
    "<pre>A classe Exception possui um atributo útil que é o message </pre>"
   ]
  },
  {
   "cell_type": "code",
   "execution_count": 32,
   "id": "6d829cb8",
   "metadata": {},
   "outputs": [],
   "source": [
    "class DivisaoPorZero(Exception):\n",
    "    pass"
   ]
  },
  {
   "cell_type": "code",
   "execution_count": 34,
   "id": "351c1065",
   "metadata": {},
   "outputs": [
    {
     "ename": "DivisaoPorZero",
     "evalue": "Valor foi dividido por zero",
     "output_type": "error",
     "traceback": [
      "\u001b[1;31m---------------------------------------------------------------------------\u001b[0m",
      "\u001b[1;31mZeroDivisionError\u001b[0m                         Traceback (most recent call last)",
      "\u001b[1;32m~\\AppData\\Local\\Temp/ipykernel_14520/3271613489.py\u001b[0m in \u001b[0;36m<module>\u001b[1;34m\u001b[0m\n\u001b[0;32m      2\u001b[0m \u001b[1;32mtry\u001b[0m\u001b[1;33m:\u001b[0m\u001b[1;33m\u001b[0m\u001b[1;33m\u001b[0m\u001b[0m\n\u001b[1;32m----> 3\u001b[1;33m     \u001b[1;36m5\u001b[0m \u001b[1;33m/\u001b[0m \u001b[0ma\u001b[0m\u001b[1;33m\u001b[0m\u001b[1;33m\u001b[0m\u001b[0m\n\u001b[0m\u001b[0;32m      4\u001b[0m \u001b[1;32mexcept\u001b[0m \u001b[0mZeroDivisionError\u001b[0m\u001b[1;33m:\u001b[0m\u001b[1;33m\u001b[0m\u001b[1;33m\u001b[0m\u001b[0m\n",
      "\u001b[1;31mZeroDivisionError\u001b[0m: float division by zero",
      "\nDuring handling of the above exception, another exception occurred:\n",
      "\u001b[1;31mDivisaoPorZero\u001b[0m                            Traceback (most recent call last)",
      "\u001b[1;32m~\\AppData\\Local\\Temp/ipykernel_14520/3271613489.py\u001b[0m in \u001b[0;36m<module>\u001b[1;34m\u001b[0m\n\u001b[0;32m      3\u001b[0m     \u001b[1;36m5\u001b[0m \u001b[1;33m/\u001b[0m \u001b[0ma\u001b[0m\u001b[1;33m\u001b[0m\u001b[1;33m\u001b[0m\u001b[0m\n\u001b[0;32m      4\u001b[0m \u001b[1;32mexcept\u001b[0m \u001b[0mZeroDivisionError\u001b[0m\u001b[1;33m:\u001b[0m\u001b[1;33m\u001b[0m\u001b[1;33m\u001b[0m\u001b[0m\n\u001b[1;32m----> 5\u001b[1;33m     \u001b[1;32mraise\u001b[0m \u001b[0mDivisaoPorZero\u001b[0m\u001b[1;33m(\u001b[0m\u001b[1;34m'Valor foi dividido por zero'\u001b[0m\u001b[1;33m)\u001b[0m\u001b[1;33m\u001b[0m\u001b[1;33m\u001b[0m\u001b[0m\n\u001b[0m",
      "\u001b[1;31mDivisaoPorZero\u001b[0m: Valor foi dividido por zero"
     ]
    }
   ],
   "source": [
    "a = 0.\n",
    "try:\n",
    "    5 / a\n",
    "except ZeroDivisionError:\n",
    "    raise DivisaoPorZero('Valor foi dividido por zero')"
   ]
  },
  {
   "cell_type": "code",
   "execution_count": 11,
   "id": "45c9eaa1",
   "metadata": {},
   "outputs": [],
   "source": [
    "class ErroSalarial(Exception):\n",
    "    def __init__(self, salario):\n",
    "        self.salario = salario\n",
    "        self.message = f'{self.salario} não está entre'\n",
    "        super().__init__(self.message)\n"
   ]
  },
  {
   "cell_type": "code",
   "execution_count": 12,
   "id": "e9e09968",
   "metadata": {},
   "outputs": [
    {
     "ename": "ErroSalarial",
     "evalue": "100 não está entre",
     "output_type": "error",
     "traceback": [
      "\u001b[1;31m---------------------------------------------------------------------------\u001b[0m",
      "\u001b[1;31mErroSalarial\u001b[0m                              Traceback (most recent call last)",
      "\u001b[1;32m~\\AppData\\Local\\Temp/ipykernel_1572/1783461614.py\u001b[0m in \u001b[0;36m<module>\u001b[1;34m\u001b[0m\n\u001b[0;32m      2\u001b[0m \u001b[1;33m\u001b[0m\u001b[0m\n\u001b[0;32m      3\u001b[0m \u001b[1;32mif\u001b[0m \u001b[0ms\u001b[0m \u001b[1;33m<\u001b[0m \u001b[1;36m1000\u001b[0m \u001b[1;32mor\u001b[0m \u001b[0ms\u001b[0m \u001b[1;33m>\u001b[0m \u001b[1;36m100000\u001b[0m\u001b[1;33m:\u001b[0m\u001b[1;33m\u001b[0m\u001b[1;33m\u001b[0m\u001b[0m\n\u001b[1;32m----> 4\u001b[1;33m     \u001b[1;32mraise\u001b[0m \u001b[0mErroSalarial\u001b[0m\u001b[1;33m(\u001b[0m\u001b[0ms\u001b[0m\u001b[1;33m)\u001b[0m\u001b[1;33m\u001b[0m\u001b[1;33m\u001b[0m\u001b[0m\n\u001b[0m",
      "\u001b[1;31mErroSalarial\u001b[0m: 100 não está entre"
     ]
    }
   ],
   "source": [
    "s = 100\n",
    "\n",
    "if s < 1000 or s > 100000:\n",
    "    raise ErroSalarial(s)"
   ]
  },
  {
   "cell_type": "code",
   "execution_count": null,
   "id": "6c758859",
   "metadata": {},
   "outputs": [],
   "source": []
  },
  {
   "cell_type": "code",
   "execution_count": null,
   "id": "017b5b66",
   "metadata": {},
   "outputs": [],
   "source": []
  }
 ],
 "metadata": {
  "kernelspec": {
   "display_name": "Python 3 (ipykernel)",
   "language": "python",
   "name": "python3"
  },
  "language_info": {
   "codemirror_mode": {
    "name": "ipython",
    "version": 3
   },
   "file_extension": ".py",
   "mimetype": "text/x-python",
   "name": "python",
   "nbconvert_exporter": "python",
   "pygments_lexer": "ipython3",
   "version": "3.9.7"
  }
 },
 "nbformat": 4,
 "nbformat_minor": 5
}
