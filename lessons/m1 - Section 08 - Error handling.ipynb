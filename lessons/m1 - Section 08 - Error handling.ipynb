{
 "cells": [
  {
   "cell_type": "markdown",
   "id": "9f980914",
   "metadata": {},
   "source": [
    "# PART 1\n",
    "# Section 8: Error Handling\n",
    "When we program for someone to use what we are producing (including ourselves), we can handle errors to make the code more robust."
   ]
  },
  {
   "cell_type": "markdown",
   "id": "843a86c9",
   "metadata": {},
   "source": [
    "## 8.1 - Try and Except Statements\n",
    "\n",
    "The Try and Except statements are used to handle and catch errors.\n",
    "\n",
    "#### Syntax\n",
    "\n",
    "```python\n",
    ">>> a = [1, 2, 3, 4]\n",
    ">>> try:\n",
    "...     a[5]\n",
    "...     print('The list has at least 5 elements')\n",
    ">>> except:\n",
    "...     print('Variable a is not indexable or does not have the fifth element')\n",
    "```\n",
    "\n",
    "**Note:**\n",
    "<pre>A good practice, which we will see later, is to anticipate the type(s) of error that may occur. If an unexpected error occurs, we can let it interrupt the program. </pre>"
   ]
  },
  {
   "cell_type": "code",
   "execution_count": null,
   "id": "5732094a",
   "metadata": {},
   "outputs": [],
   "source": []
  },
  {
   "cell_type": "code",
   "execution_count": null,
   "id": "fdbb7203",
   "metadata": {},
   "outputs": [],
   "source": []
  },
  {
   "cell_type": "markdown",
   "id": "46e86ae0",
   "metadata": {},
   "source": [
    "## 8.2 - Python's Built-in Exceptions\n",
    "\n",
    "Python has a series of pre-built exceptions that we frequently encounter.\n",
    "\n",
    "### Some Exceptions\n",
    "\n",
    "| Exception | Cause of Error |\n",
    "| :-- | :-- |\n",
    "| AttributeError | When there's a failed attribute assignment |\n",
    "| FileNotFoundError | When a file is not found in the specified path |\n",
    "| IndexError | When an index is out of the object's range |\n",
    "| KeyError | When a key is not found in a dictionary |\n",
    "| MemoryError | When the process reaches the RAM memory limit. We can minimize these risks with Generators and Iterators |\n",
    "| ModuleNotFoundError | When a module we try to import is not found |\n",
    "| NameError | When the variable is not found, doesn't exist |\n",
    "| SyntaxError | When there's some incorrect syntax |\n",
    "| TypeError | When a function receives an argument of the wrong type |\n",
    "| ZeroDivisionError | When there's a division by zero |\n",
    "\n"
   ]
  },
  {
   "cell_type": "code",
   "execution_count": null,
   "id": "27afe31d",
   "metadata": {},
   "outputs": [],
   "source": []
  },
  {
   "cell_type": "code",
   "execution_count": null,
   "id": "f7ba6fd5",
   "metadata": {},
   "outputs": [],
   "source": []
  },
  {
   "cell_type": "code",
   "execution_count": null,
   "id": "3a68fc93",
   "metadata": {},
   "outputs": [],
   "source": []
  },
  {
   "cell_type": "markdown",
   "id": "dd7e025a",
   "metadata": {},
   "source": [
    "## 8.3 - Try, Except Error\n",
    "\n",
    "Here we see the syntax of an error that we anticipate may occur.\n",
    "\n",
    "#### Syntax\n",
    "\n",
    "```python\n",
    ">>> a = 0.0\n",
    ">>> try:\n",
    "...     b = 5 / a\n",
    ">>> except ZeroDivisionError:\n",
    "...     print('The variable must be different from zero')\n",
    "```\n",
    "\n",
    "**Note:**\n",
    "<pre>We can force the error and display a message to the user using raise</pre>"
   ]
  },
  {
   "cell_type": "code",
   "execution_count": 21,
   "id": "45524748",
   "metadata": {},
   "outputs": [
    {
     "name": "stdout",
     "output_type": "stream",
     "text": [
      "1.0\n"
     ]
    }
   ],
   "source": [
    "a = 5\n",
    "try:\n",
    "    b = 5 / a\n",
    "except ZeroDivisionError:\n",
    "    b = 'infinito'\n",
    "\n",
    "print(b)"
   ]
  },
  {
   "cell_type": "code",
   "execution_count": 23,
   "id": "7c524a25",
   "metadata": {},
   "outputs": [
    {
     "data": {
      "text/plain": [
       "mappingproxy({'__repr__': <slot wrapper '__repr__' of 'object' objects>,\n",
       "              '__hash__': <slot wrapper '__hash__' of 'object' objects>,\n",
       "              '__str__': <slot wrapper '__str__' of 'object' objects>,\n",
       "              '__getattribute__': <slot wrapper '__getattribute__' of 'object' objects>,\n",
       "              '__setattr__': <slot wrapper '__setattr__' of 'object' objects>,\n",
       "              '__delattr__': <slot wrapper '__delattr__' of 'object' objects>,\n",
       "              '__lt__': <slot wrapper '__lt__' of 'object' objects>,\n",
       "              '__le__': <slot wrapper '__le__' of 'object' objects>,\n",
       "              '__eq__': <slot wrapper '__eq__' of 'object' objects>,\n",
       "              '__ne__': <slot wrapper '__ne__' of 'object' objects>,\n",
       "              '__gt__': <slot wrapper '__gt__' of 'object' objects>,\n",
       "              '__ge__': <slot wrapper '__ge__' of 'object' objects>,\n",
       "              '__init__': <slot wrapper '__init__' of 'object' objects>,\n",
       "              '__new__': <function object.__new__(*args, **kwargs)>,\n",
       "              '__reduce_ex__': <method '__reduce_ex__' of 'object' objects>,\n",
       "              '__reduce__': <method '__reduce__' of 'object' objects>,\n",
       "              '__subclasshook__': <method '__subclasshook__' of 'object' objects>,\n",
       "              '__init_subclass__': <method '__init_subclass__' of 'object' objects>,\n",
       "              '__format__': <method '__format__' of 'object' objects>,\n",
       "              '__sizeof__': <method '__sizeof__' of 'object' objects>,\n",
       "              '__dir__': <method '__dir__' of 'object' objects>,\n",
       "              '__class__': <attribute '__class__' of 'object' objects>,\n",
       "              '__doc__': 'The base class of the class hierarchy.\\n\\nWhen called, it accepts no arguments and returns a new featureless\\ninstance that has no instance attributes and cannot be given any.\\n'})"
      ]
     },
     "execution_count": 23,
     "metadata": {},
     "output_type": "execute_result"
    }
   ],
   "source": [
    "object.__dict__"
   ]
  },
  {
   "cell_type": "code",
   "execution_count": null,
   "id": "b739e44e",
   "metadata": {},
   "outputs": [],
   "source": []
  },
  {
   "cell_type": "code",
   "execution_count": null,
   "id": "7ec18172",
   "metadata": {},
   "outputs": [],
   "source": []
  },
  {
   "cell_type": "markdown",
   "id": "c7c2f072",
   "metadata": {},
   "source": [
    "## 8.4 - Custom Exceptions\n",
    "\n",
    "We can create custom exceptions if needed. To do this, we must inherit from the Exception class.\n",
    "\n",
    "#### Syntax\n",
    "\n",
    "```python\n",
    ">>> class BlablaError(Exception):\n",
    "...    pass\n",
    "```\n",
    "\n",
    "**Note:**\n",
    "<pre>The Exception class has a useful attribute which is message</pre>"
   ]
  },
  {
   "cell_type": "code",
   "execution_count": 32,
   "id": "6d829cb8",
   "metadata": {},
   "outputs": [],
   "source": [
    "class DivisaoPorZero(Exception):\n",
    "    pass"
   ]
  },
  {
   "cell_type": "code",
   "execution_count": 34,
   "id": "351c1065",
   "metadata": {},
   "outputs": [
    {
     "ename": "DivisaoPorZero",
     "evalue": "Valor foi dividido por zero",
     "output_type": "error",
     "traceback": [
      "\u001b[1;31m---------------------------------------------------------------------------\u001b[0m",
      "\u001b[1;31mZeroDivisionError\u001b[0m                         Traceback (most recent call last)",
      "\u001b[1;32m~\\AppData\\Local\\Temp/ipykernel_14520/3271613489.py\u001b[0m in \u001b[0;36m<module>\u001b[1;34m\u001b[0m\n\u001b[0;32m      2\u001b[0m \u001b[1;32mtry\u001b[0m\u001b[1;33m:\u001b[0m\u001b[1;33m\u001b[0m\u001b[1;33m\u001b[0m\u001b[0m\n\u001b[1;32m----> 3\u001b[1;33m     \u001b[1;36m5\u001b[0m \u001b[1;33m/\u001b[0m \u001b[0ma\u001b[0m\u001b[1;33m\u001b[0m\u001b[1;33m\u001b[0m\u001b[0m\n\u001b[0m\u001b[0;32m      4\u001b[0m \u001b[1;32mexcept\u001b[0m \u001b[0mZeroDivisionError\u001b[0m\u001b[1;33m:\u001b[0m\u001b[1;33m\u001b[0m\u001b[1;33m\u001b[0m\u001b[0m\n",
      "\u001b[1;31mZeroDivisionError\u001b[0m: float division by zero",
      "\nDuring handling of the above exception, another exception occurred:\n",
      "\u001b[1;31mDivisaoPorZero\u001b[0m                            Traceback (most recent call last)",
      "\u001b[1;32m~\\AppData\\Local\\Temp/ipykernel_14520/3271613489.py\u001b[0m in \u001b[0;36m<module>\u001b[1;34m\u001b[0m\n\u001b[0;32m      3\u001b[0m     \u001b[1;36m5\u001b[0m \u001b[1;33m/\u001b[0m \u001b[0ma\u001b[0m\u001b[1;33m\u001b[0m\u001b[1;33m\u001b[0m\u001b[0m\n\u001b[0;32m      4\u001b[0m \u001b[1;32mexcept\u001b[0m \u001b[0mZeroDivisionError\u001b[0m\u001b[1;33m:\u001b[0m\u001b[1;33m\u001b[0m\u001b[1;33m\u001b[0m\u001b[0m\n\u001b[1;32m----> 5\u001b[1;33m     \u001b[1;32mraise\u001b[0m \u001b[0mDivisaoPorZero\u001b[0m\u001b[1;33m(\u001b[0m\u001b[1;34m'Valor foi dividido por zero'\u001b[0m\u001b[1;33m)\u001b[0m\u001b[1;33m\u001b[0m\u001b[1;33m\u001b[0m\u001b[0m\n\u001b[0m",
      "\u001b[1;31mDivisaoPorZero\u001b[0m: Valor foi dividido por zero"
     ]
    }
   ],
   "source": [
    "a = 0.\n",
    "try:\n",
    "    5 / a\n",
    "except ZeroDivisionError:\n",
    "    raise DivisaoPorZero('Valor foi dividido por zero')"
   ]
  },
  {
   "cell_type": "code",
   "execution_count": 11,
   "id": "45c9eaa1",
   "metadata": {},
   "outputs": [],
   "source": [
    "class ErroSalarial(Exception):\n",
    "    def __init__(self, salario):\n",
    "        self.salario = salario\n",
    "        self.message = f'{self.salario} não está entre'\n",
    "        super().__init__(self.message)\n"
   ]
  },
  {
   "cell_type": "code",
   "execution_count": 12,
   "id": "e9e09968",
   "metadata": {},
   "outputs": [
    {
     "ename": "ErroSalarial",
     "evalue": "100 não está entre",
     "output_type": "error",
     "traceback": [
      "\u001b[1;31m---------------------------------------------------------------------------\u001b[0m",
      "\u001b[1;31mErroSalarial\u001b[0m                              Traceback (most recent call last)",
      "\u001b[1;32m~\\AppData\\Local\\Temp/ipykernel_1572/1783461614.py\u001b[0m in \u001b[0;36m<module>\u001b[1;34m\u001b[0m\n\u001b[0;32m      2\u001b[0m \u001b[1;33m\u001b[0m\u001b[0m\n\u001b[0;32m      3\u001b[0m \u001b[1;32mif\u001b[0m \u001b[0ms\u001b[0m \u001b[1;33m<\u001b[0m \u001b[1;36m1000\u001b[0m \u001b[1;32mor\u001b[0m \u001b[0ms\u001b[0m \u001b[1;33m>\u001b[0m \u001b[1;36m100000\u001b[0m\u001b[1;33m:\u001b[0m\u001b[1;33m\u001b[0m\u001b[1;33m\u001b[0m\u001b[0m\n\u001b[1;32m----> 4\u001b[1;33m     \u001b[1;32mraise\u001b[0m \u001b[0mErroSalarial\u001b[0m\u001b[1;33m(\u001b[0m\u001b[0ms\u001b[0m\u001b[1;33m)\u001b[0m\u001b[1;33m\u001b[0m\u001b[1;33m\u001b[0m\u001b[0m\n\u001b[0m",
      "\u001b[1;31mErroSalarial\u001b[0m: 100 não está entre"
     ]
    }
   ],
   "source": [
    "s = 100\n",
    "\n",
    "if s < 1000 or s > 100000:\n",
    "    raise ErroSalarial(s)"
   ]
  },
  {
   "cell_type": "code",
   "execution_count": null,
   "id": "6c758859",
   "metadata": {},
   "outputs": [],
   "source": []
  },
  {
   "cell_type": "code",
   "execution_count": null,
   "id": "017b5b66",
   "metadata": {},
   "outputs": [],
   "source": []
  }
 ],
 "metadata": {
  "kernelspec": {
   "display_name": "Python 3 (ipykernel)",
   "language": "python",
   "name": "python3"
  },
  "language_info": {
   "codemirror_mode": {
    "name": "ipython",
    "version": 3
   },
   "file_extension": ".py",
   "mimetype": "text/x-python",
   "name": "python",
   "nbconvert_exporter": "python",
   "pygments_lexer": "ipython3",
   "version": "3.9.7"
  }
 },
 "nbformat": 4,
 "nbformat_minor": 5
}
