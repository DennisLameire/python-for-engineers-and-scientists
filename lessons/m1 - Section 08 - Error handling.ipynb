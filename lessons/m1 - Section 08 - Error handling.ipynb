{
 "cells": [
  {
   "cell_type": "markdown",
   "id": "9f980914",
   "metadata": {},
   "source": [
    "# PART 1\n",
    "# Section 8: Error Handling\n",
    "When we program for someone to use what we are producing (including ourselves), we can handle errors to make the code more robust."
   ]
  },
  {
   "cell_type": "markdown",
   "id": "843a86c9",
   "metadata": {},
   "source": [
    "## 8.1 - Try and Except Statements\n",
    "\n",
    "The Try and Except statements are used to handle and catch errors.\n",
    "\n",
    "#### Syntax\n",
    "\n",
    "```python\n",
    ">>> a = [1, 2, 3, 4]\n",
    ">>> try:\n",
    "...     a[5]\n",
    "...     print('The list has at least 5 elements')\n",
    ">>> except:\n",
    "...     print('Variable a is not indexable or does not have the fifth element')\n",
    "```\n",
    "\n",
    "**Note:**\n",
    "<pre>A good practice, which we will see later, is to anticipate the type(s) of error that may occur. If an unexpected error occurs, we can let it interrupt the program. </pre>"
   ]
  },
  {
   "cell_type": "code",
   "execution_count": 4,
   "id": "5732094a",
   "metadata": {},
   "outputs": [
    {
     "ename": "IndexError",
     "evalue": "list index out of range",
     "output_type": "error",
     "traceback": [
      "\u001b[1;31m---------------------------------------------------------------------------\u001b[0m",
      "\u001b[1;31mIndexError\u001b[0m                                Traceback (most recent call last)",
      "Cell \u001b[1;32mIn[4], line 2\u001b[0m\n\u001b[0;32m      1\u001b[0m a \u001b[38;5;241m=\u001b[39m [\u001b[38;5;241m1\u001b[39m, \u001b[38;5;241m2\u001b[39m, \u001b[38;5;241m3\u001b[39m, \u001b[38;5;241m4\u001b[39m]\n\u001b[1;32m----> 2\u001b[0m \u001b[43ma\u001b[49m\u001b[43m[\u001b[49m\u001b[38;5;241;43m4\u001b[39;49m\u001b[43m]\u001b[49m\n\u001b[0;32m      3\u001b[0m \u001b[38;5;28mprint\u001b[39m(\u001b[38;5;124m'\u001b[39m\u001b[38;5;124mprint somehthing\u001b[39m\u001b[38;5;124m'\u001b[39m)\n",
      "\u001b[1;31mIndexError\u001b[0m: list index out of range"
     ]
    }
   ],
   "source": [
    "a = [1, 2, 3, 4]\n",
    "a[4]\n",
    "print('print somehthing')"
   ]
  },
  {
   "cell_type": "code",
   "execution_count": 7,
   "id": "af1da1df",
   "metadata": {},
   "outputs": [
    {
     "name": "stdout",
     "output_type": "stream",
     "text": [
      "4\n",
      "perform other operations\n"
     ]
    }
   ],
   "source": [
    "myIndex = 3\n",
    "\n",
    "try:\n",
    "    print(a[myIndex])\n",
    "except:\n",
    "    print(f'a[{myIndex}] is not being printed')\n",
    "\n",
    "print('perform other operations')"
   ]
  },
  {
   "cell_type": "markdown",
   "id": "46e86ae0",
   "metadata": {},
   "source": [
    "## 8.2 - Python's Built-in Exceptions\n",
    "\n",
    "Python has a series of pre-built exceptions that we frequently encounter.\n",
    "\n",
    "### Some Exceptions\n",
    "\n",
    "| Exception | Cause of Error |\n",
    "| :-- | :-- |\n",
    "| AttributeError | When there's a failed attribute assignment |\n",
    "| FileNotFoundError | When a file is not found in the specified path |\n",
    "| IndexError | When an index is out of the object's range |\n",
    "| KeyError | When a key is not found in a dictionary |\n",
    "| MemoryError | When the process reaches the RAM memory limit. We can minimize these risks with Generators and Iterators |\n",
    "| ModuleNotFoundError | When a module we try to import is not found |\n",
    "| NameError | When the variable is not found, doesn't exist |\n",
    "| SyntaxError | When there's some incorrect syntax |\n",
    "| TypeError | When a function receives an argument of the wrong type |\n",
    "| ZeroDivisionError | When there's a division by zero |\n",
    "\n"
   ]
  },
  {
   "cell_type": "code",
   "execution_count": 8,
   "id": "27afe31d",
   "metadata": {},
   "outputs": [
    {
     "ename": "IndexError",
     "evalue": "list index out of range",
     "output_type": "error",
     "traceback": [
      "\u001b[1;31m---------------------------------------------------------------------------\u001b[0m",
      "\u001b[1;31mIndexError\u001b[0m                                Traceback (most recent call last)",
      "Cell \u001b[1;32mIn[8], line 2\u001b[0m\n\u001b[0;32m      1\u001b[0m b \u001b[38;5;241m=\u001b[39m [\u001b[38;5;241m1\u001b[39m, \u001b[38;5;241m2\u001b[39m, \u001b[38;5;241m3\u001b[39m, \u001b[38;5;241m4\u001b[39m, \u001b[38;5;241m5\u001b[39m]\n\u001b[1;32m----> 2\u001b[0m \u001b[43mb\u001b[49m\u001b[43m[\u001b[49m\u001b[38;5;241;43m5\u001b[39;49m\u001b[43m]\u001b[49m\n",
      "\u001b[1;31mIndexError\u001b[0m: list index out of range"
     ]
    }
   ],
   "source": [
    "b = [1, 2, 3, 4, 5]\n",
    "b[5]"
   ]
  },
  {
   "cell_type": "code",
   "execution_count": 9,
   "id": "236ac604",
   "metadata": {},
   "outputs": [
    {
     "ename": "ZeroDivisionError",
     "evalue": "division by zero",
     "output_type": "error",
     "traceback": [
      "\u001b[1;31m---------------------------------------------------------------------------\u001b[0m",
      "\u001b[1;31mZeroDivisionError\u001b[0m                         Traceback (most recent call last)",
      "Cell \u001b[1;32mIn[9], line 1\u001b[0m\n\u001b[1;32m----> 1\u001b[0m \u001b[38;5;241;43m1\u001b[39;49m\u001b[43m \u001b[49m\u001b[38;5;241;43m/\u001b[39;49m\u001b[43m \u001b[49m\u001b[38;5;241;43m0\u001b[39;49m\n",
      "\u001b[1;31mZeroDivisionError\u001b[0m: division by zero"
     ]
    }
   ],
   "source": [
    "1 / 0"
   ]
  },
  {
   "cell_type": "code",
   "execution_count": 14,
   "id": "f7ba6fd5",
   "metadata": {},
   "outputs": [
    {
     "ename": "KeyError",
     "evalue": "3",
     "output_type": "error",
     "traceback": [
      "\u001b[1;31m---------------------------------------------------------------------------\u001b[0m",
      "\u001b[1;31mKeyError\u001b[0m                                  Traceback (most recent call last)",
      "Cell \u001b[1;32mIn[14], line 2\u001b[0m\n\u001b[0;32m      1\u001b[0m c \u001b[38;5;241m=\u001b[39m {\u001b[38;5;241m1\u001b[39m: \u001b[38;5;124m'\u001b[39m\u001b[38;5;124ma\u001b[39m\u001b[38;5;124m'\u001b[39m, \u001b[38;5;241m2\u001b[39m: \u001b[38;5;124m'\u001b[39m\u001b[38;5;124mb\u001b[39m\u001b[38;5;124m'\u001b[39m}\n\u001b[1;32m----> 2\u001b[0m \u001b[43mc\u001b[49m\u001b[43m[\u001b[49m\u001b[38;5;241;43m3\u001b[39;49m\u001b[43m]\u001b[49m\n",
      "\u001b[1;31mKeyError\u001b[0m: 3"
     ]
    }
   ],
   "source": [
    "c = {1: 'a', 2: 'b'}\n",
    "c[3]"
   ]
  },
  {
   "cell_type": "code",
   "execution_count": 17,
   "id": "3a68fc93",
   "metadata": {},
   "outputs": [
    {
     "data": {
      "text/plain": [
       "type"
      ]
     },
     "execution_count": 17,
     "metadata": {},
     "output_type": "execute_result"
    }
   ],
   "source": [
    "type(KeyError)"
   ]
  },
  {
   "cell_type": "code",
   "execution_count": 18,
   "id": "964ff6f5",
   "metadata": {},
   "outputs": [
    {
     "data": {
      "text/plain": [
       "KeyError('a does not  has the key 4')"
      ]
     },
     "execution_count": 18,
     "metadata": {},
     "output_type": "execute_result"
    }
   ],
   "source": [
    "KeyError(f'a does not  has the key {4}')"
   ]
  },
  {
   "cell_type": "markdown",
   "id": "dd7e025a",
   "metadata": {},
   "source": [
    "## 8.3 - Try, Except Error\n",
    "\n",
    "Here we see the syntax of an error that we anticipate may occur.\n",
    "\n",
    "#### Syntax\n",
    "\n",
    "```python\n",
    ">>> a = 0.0\n",
    ">>> try:\n",
    "...     b = 5 / a\n",
    ">>> except ZeroDivisionError:\n",
    "...     print('The variable must be different from zero')\n",
    "```\n",
    "\n",
    "**Note:**\n",
    "<pre>We can force the error and display a message to the user using raise</pre>"
   ]
  },
  {
   "cell_type": "code",
   "execution_count": 26,
   "id": "b739e44e",
   "metadata": {},
   "outputs": [
    {
     "ename": "TypeError",
     "evalue": "unsupported operand type(s) for /: 'int' and 'str'",
     "output_type": "error",
     "traceback": [
      "\u001b[1;31m---------------------------------------------------------------------------\u001b[0m",
      "\u001b[1;31mTypeError\u001b[0m                                 Traceback (most recent call last)",
      "Cell \u001b[1;32mIn[26], line 5\u001b[0m\n\u001b[0;32m      2\u001b[0m b \u001b[38;5;241m=\u001b[39m \u001b[38;5;124m'\u001b[39m\u001b[38;5;124mRafael\u001b[39m\u001b[38;5;124m'\u001b[39m\n\u001b[0;32m      4\u001b[0m \u001b[38;5;28;01mtry\u001b[39;00m:\n\u001b[1;32m----> 5\u001b[0m     \u001b[38;5;28mprint\u001b[39m(\u001b[43ma\u001b[49m\u001b[38;5;241;43m/\u001b[39;49m\u001b[43mb\u001b[49m)\n\u001b[0;32m      6\u001b[0m \u001b[38;5;28;01mexcept\u001b[39;00m \u001b[38;5;167;01mZeroDivisionError\u001b[39;00m:\n\u001b[0;32m      7\u001b[0m     \u001b[38;5;28mprint\u001b[39m(\u001b[38;5;124m'\u001b[39m\u001b[38;5;124minfinite\u001b[39m\u001b[38;5;124m'\u001b[39m)\n",
      "\u001b[1;31mTypeError\u001b[0m: unsupported operand type(s) for /: 'int' and 'str'"
     ]
    }
   ],
   "source": [
    "a = 1\n",
    "b = 'Rafael'\n",
    "\n",
    "try:\n",
    "    print(a/b)\n",
    "except ZeroDivisionError:\n",
    "    print('infinite')\n",
    "\n",
    "\n",
    "\n",
    "print('code continuing ...')"
   ]
  },
  {
   "cell_type": "code",
   "execution_count": 29,
   "id": "4e7a4a89",
   "metadata": {},
   "outputs": [
    {
     "name": "stdout",
     "output_type": "stream",
     "text": [
      "something ir wrong here\n"
     ]
    },
    {
     "ename": "TypeError",
     "evalue": "you can not input Rafael",
     "output_type": "error",
     "traceback": [
      "\u001b[1;31m---------------------------------------------------------------------------\u001b[0m",
      "\u001b[1;31mTypeError\u001b[0m                                 Traceback (most recent call last)",
      "Cell \u001b[1;32mIn[29], line 5\u001b[0m\n\u001b[0;32m      4\u001b[0m \u001b[38;5;28;01mtry\u001b[39;00m:\n\u001b[1;32m----> 5\u001b[0m     \u001b[38;5;28mprint\u001b[39m(\u001b[43ma\u001b[49m\u001b[38;5;241;43m/\u001b[39;49m\u001b[43mb\u001b[49m)\n\u001b[0;32m      6\u001b[0m \u001b[38;5;28;01mexcept\u001b[39;00m \u001b[38;5;167;01mTypeError\u001b[39;00m:\n",
      "\u001b[1;31mTypeError\u001b[0m: unsupported operand type(s) for /: 'int' and 'str'",
      "\nDuring handling of the above exception, another exception occurred:\n",
      "\u001b[1;31mTypeError\u001b[0m                                 Traceback (most recent call last)",
      "Cell \u001b[1;32mIn[29], line 8\u001b[0m\n\u001b[0;32m      6\u001b[0m \u001b[38;5;28;01mexcept\u001b[39;00m \u001b[38;5;167;01mTypeError\u001b[39;00m:\n\u001b[0;32m      7\u001b[0m     \u001b[38;5;28mprint\u001b[39m(\u001b[38;5;124m'\u001b[39m\u001b[38;5;124msomething ir wrong here\u001b[39m\u001b[38;5;124m'\u001b[39m)\n\u001b[1;32m----> 8\u001b[0m     \u001b[38;5;28;01mraise\u001b[39;00m \u001b[38;5;167;01mTypeError\u001b[39;00m(\u001b[38;5;124mf\u001b[39m\u001b[38;5;124m'\u001b[39m\u001b[38;5;124myou can not input \u001b[39m\u001b[38;5;132;01m{\u001b[39;00mb\u001b[38;5;132;01m}\u001b[39;00m\u001b[38;5;124m'\u001b[39m)\n\u001b[0;32m     10\u001b[0m \u001b[38;5;28mprint\u001b[39m(\u001b[38;5;124m'\u001b[39m\u001b[38;5;124mcode continuing ...\u001b[39m\u001b[38;5;124m'\u001b[39m)\n",
      "\u001b[1;31mTypeError\u001b[0m: you can not input Rafael"
     ]
    }
   ],
   "source": [
    "a = 1\n",
    "b = 'Rafael'\n",
    "\n",
    "try:\n",
    "    print(a/b)\n",
    "except TypeError:\n",
    "    #print('something ir wrong here')\n",
    "    raise TypeError(f'you can not input {b}')\n",
    "\n",
    "print('code continuing ...')"
   ]
  },
  {
   "cell_type": "markdown",
   "id": "c7c2f072",
   "metadata": {},
   "source": [
    "## 8.4 - Custom Exceptions\n",
    "\n",
    "We can create custom exceptions if needed. To do this, we must inherit from the Exception class.\n",
    "\n",
    "#### Syntax\n",
    "\n",
    "```python\n",
    ">>> class BlablaError(Exception):\n",
    "...    pass\n",
    "```\n",
    "\n",
    "**Note:**\n",
    "<pre>The Exception class has a useful attribute which is message</pre>"
   ]
  },
  {
   "cell_type": "code",
   "execution_count": 32,
   "id": "6c758859",
   "metadata": {},
   "outputs": [],
   "source": [
    "class IntegralError(Exception):\n",
    "    pass"
   ]
  },
  {
   "cell_type": "code",
   "execution_count": 34,
   "id": "085bd68d",
   "metadata": {},
   "outputs": [
    {
     "ename": "IntegralError",
     "evalue": "this integral is not defined",
     "output_type": "error",
     "traceback": [
      "\u001b[1;31m---------------------------------------------------------------------------\u001b[0m",
      "\u001b[1;31mIntegralError\u001b[0m                             Traceback (most recent call last)",
      "Cell \u001b[1;32mIn[34], line 1\u001b[0m\n\u001b[1;32m----> 1\u001b[0m \u001b[38;5;28;01mraise\u001b[39;00m IntegralError(\u001b[38;5;124m'\u001b[39m\u001b[38;5;124mthis integral is not defined\u001b[39m\u001b[38;5;124m'\u001b[39m)\n",
      "\u001b[1;31mIntegralError\u001b[0m: this integral is not defined"
     ]
    }
   ],
   "source": [
    "raise IntegralError('this integral is not defined')"
   ]
  },
  {
   "cell_type": "code",
   "execution_count": 43,
   "id": "9f960e22",
   "metadata": {},
   "outputs": [],
   "source": [
    "class SalaryError(Exception):\n",
    "    def __init__(self, salary):\n",
    "        self.salary = salary\n",
    "        self.message = f'salary can\\' t be {self.salary}'\n",
    "        super().__init__(self.message)"
   ]
  },
  {
   "cell_type": "code",
   "execution_count": 46,
   "id": "017b5b66",
   "metadata": {},
   "outputs": [],
   "source": [
    "s = 10000\n",
    "\n",
    "if s < 1000:\n",
    "    raise SalaryError(s)"
   ]
  },
  {
   "cell_type": "code",
   "execution_count": null,
   "id": "c3ac51d2",
   "metadata": {},
   "outputs": [],
   "source": []
  }
 ],
 "metadata": {
  "kernelspec": {
   "display_name": "Python 3 (ipykernel)",
   "language": "python",
   "name": "python3"
  },
  "language_info": {
   "codemirror_mode": {
    "name": "ipython",
    "version": 3
   },
   "file_extension": ".py",
   "mimetype": "text/x-python",
   "name": "python",
   "nbconvert_exporter": "python",
   "pygments_lexer": "ipython3",
   "version": "3.9.13"
  }
 },
 "nbformat": 4,
 "nbformat_minor": 5
}
