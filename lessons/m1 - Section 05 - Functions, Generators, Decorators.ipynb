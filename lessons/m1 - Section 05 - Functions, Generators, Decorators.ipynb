{
 "cells": [
  {
   "cell_type": "markdown",
   "id": "36886a2d",
   "metadata": {},
   "source": [
    "# PART 1\n",
    "# Section 5: Functions, Generators, Decorators"
   ]
  },
  {
   "cell_type": "markdown",
   "id": "5a1cf986",
   "metadata": {},
   "source": [
    "# FUNCTIONS"
   ]
  },
  {
   "cell_type": "markdown",
   "id": "b54c2dc5",
   "metadata": {},
   "source": [
    "## 5.1 - Functions\n",
    "\n",
    "Functions in Python contain certain instructions, and they execute these instructions when called in the program.\n",
    "\n",
    "#### Function Syntax\n",
    "\n",
    "```python\n",
    ">>> def sum(a, b):\n",
    "...     return a + b\n",
    ">>> sum(1, 2)\n",
    "```\n",
    "\n",
    "**note:**\n",
    "<pre>The return statement is not mandatory.</pre>\n",
    "\n",
    "<pre>Later on, we will study all the nuances that functions have and explore their potential, such as *args, **kwargs, docstrings, etc.</pre>\n"
   ]
  },
  {
   "cell_type": "code",
   "execution_count": 4,
   "id": "f9614551",
   "metadata": {},
   "outputs": [],
   "source": [
    "def multiplica(a, b):\n",
    "    resposta = a * b\n",
    "    return resposta\n"
   ]
  },
  {
   "cell_type": "code",
   "execution_count": 5,
   "id": "aac82005",
   "metadata": {},
   "outputs": [
    {
     "data": {
      "text/plain": [
       "8"
      ]
     },
     "execution_count": 5,
     "metadata": {},
     "output_type": "execute_result"
    }
   ],
   "source": [
    "c = multiplica(2, 4)\n",
    "c"
   ]
  },
  {
   "cell_type": "code",
   "execution_count": 6,
   "id": "a732b77b",
   "metadata": {},
   "outputs": [],
   "source": [
    "def dizer_oi(nome):\n",
    "    print('oi ' + nome)"
   ]
  },
  {
   "cell_type": "code",
   "execution_count": 7,
   "id": "efb3b815",
   "metadata": {},
   "outputs": [
    {
     "name": "stdout",
     "output_type": "stream",
     "text": [
      "oi Rafael\n"
     ]
    }
   ],
   "source": [
    "dizer_oi('Rafael')"
   ]
  },
  {
   "cell_type": "code",
   "execution_count": 8,
   "id": "d3899399",
   "metadata": {},
   "outputs": [],
   "source": [
    "def soma_elementos(a):\n",
    "    soma = 0\n",
    "    for n in a:\n",
    "        soma += n\n",
    "    return soma"
   ]
  },
  {
   "cell_type": "code",
   "execution_count": 9,
   "id": "aca88769",
   "metadata": {},
   "outputs": [
    {
     "data": {
      "text/plain": [
       "8"
      ]
     },
     "execution_count": 9,
     "metadata": {},
     "output_type": "execute_result"
    }
   ],
   "source": [
    "b = [1, 2, 5]\n",
    "\n",
    "soma_elementos(b)"
   ]
  },
  {
   "cell_type": "markdown",
   "id": "e19ba351",
   "metadata": {},
   "source": [
    "## 5.2 - Functions and Keyword (Named) Arguments\n",
    "\n",
    "Functions in Python contain certain instructions, and they execute these instructions when called in the program. Keyword arguments are parameters that we leave predefined or default if the user does not enter any arguments.\n",
    "\n",
    "#### Function Syntax\n",
    "\n",
    "```python\n",
    ">>> def coordinates(x, y, z=0):\n",
    "...     print(f'x = {x}')\n",
    "...     print(f'y = {y}')\n",
    "...     print(f'z = {z}')\n",
    ">>> # z has a predetermined value and entering a new value is optional\n",
    "```"
   ]
  },
  {
   "cell_type": "code",
   "execution_count": null,
   "id": "82a154d3",
   "metadata": {},
   "outputs": [],
   "source": []
  },
  {
   "cell_type": "code",
   "execution_count": null,
   "id": "9cf3debc",
   "metadata": {},
   "outputs": [],
   "source": []
  },
  {
   "cell_type": "markdown",
   "id": "aec0c544",
   "metadata": {},
   "source": [
    "## 5.3 - \\*args\n",
    "\n",
    "The \\*args is a way to pack argument inputs into a tuple. This allows us to enter as many arguments as necessary. You will encounter this symbol when using famous libraries.\n",
    "\n",
    "#### Function Syntax\n",
    "\n",
    "```python\n",
    ">>> def create_list(*args):\n",
    "...     my_list = []\n",
    "...     for i in args:\n",
    "...        my_list.append(i)\n",
    "...     return my_list\n",
    "```\n",
    "\n",
    "**note:**\n",
    "<pre>args, in the end, is a tuple.</pre>\n",
    "\n",
    "<pre>args is not a reserved word in Python; it is just a convention.</pre>"
   ]
  },
  {
   "cell_type": "code",
   "execution_count": 1,
   "id": "b1feda9d",
   "metadata": {},
   "outputs": [],
   "source": [
    "def criar_lista(*args):\n",
    "    lista = []\n",
    "    for i in args:\n",
    "        lista.append(i)\n",
    "    return lista"
   ]
  },
  {
   "cell_type": "code",
   "execution_count": 2,
   "id": "51d38811",
   "metadata": {},
   "outputs": [
    {
     "data": {
      "text/plain": [
       "[1, 2, 3]"
      ]
     },
     "execution_count": 2,
     "metadata": {},
     "output_type": "execute_result"
    }
   ],
   "source": [
    "criar_lista(1, 2, 3)"
   ]
  },
  {
   "cell_type": "code",
   "execution_count": 3,
   "id": "e1678a17",
   "metadata": {},
   "outputs": [],
   "source": [
    "def args(*args):\n",
    "    print(type(args))"
   ]
  },
  {
   "cell_type": "code",
   "execution_count": 4,
   "id": "408773b7",
   "metadata": {},
   "outputs": [
    {
     "name": "stdout",
     "output_type": "stream",
     "text": [
      "<class 'tuple'>\n"
     ]
    }
   ],
   "source": [
    "args(1, 2, 3)"
   ]
  },
  {
   "cell_type": "code",
   "execution_count": null,
   "id": "d4b4e5c0",
   "metadata": {},
   "outputs": [],
   "source": []
  },
  {
   "cell_type": "markdown",
   "id": "f4a281ad",
   "metadata": {},
   "source": [
    "## 5.4 - \\*\\*kwargs\n",
    "\n",
    "The \\*\\*kwargs is a way to pack argument inputs into a dictionary. This allows us to enter as many arguments as necessary. You will encounter this symbol when using famous libraries.\n",
    "\n",
    "#### Function Syntax\n",
    "\n",
    "```python\n",
    ">>> def print_dictionary(**kwargs):\n",
    "...     for key, value in kwargs.items():\n",
    "...        print(f'{key} = {value}')\n",
    "```\n",
    "\n",
    "**note:**\n",
    "<pre>kwargs, in the end, is a dictionary.</pre>"
   ]
  },
  {
   "cell_type": "code",
   "execution_count": 16,
   "id": "8f7bc3de",
   "metadata": {},
   "outputs": [],
   "source": [
    "def meudicionario(**kwargs):\n",
    "    print(kwargs)"
   ]
  },
  {
   "cell_type": "code",
   "execution_count": 11,
   "id": "1554adcc",
   "metadata": {},
   "outputs": [
    {
     "name": "stdout",
     "output_type": "stream",
     "text": [
      "{'a': 1, 'b': 2}\n"
     ]
    }
   ],
   "source": [
    "meudicionario(a=1, b=2)"
   ]
  },
  {
   "cell_type": "code",
   "execution_count": 14,
   "id": "bd9bbaa6",
   "metadata": {},
   "outputs": [],
   "source": [
    "def print_dicionario(**kwargs):\n",
    "    for key, value in kwargs.items():\n",
    "        print(f'{key} = {value}')"
   ]
  },
  {
   "cell_type": "code",
   "execution_count": 15,
   "id": "9984e1bc",
   "metadata": {},
   "outputs": [
    {
     "name": "stdout",
     "output_type": "stream",
     "text": [
      "a = 1\n",
      "b = 2\n"
     ]
    }
   ],
   "source": [
    "print_dicionario(a=1, b=2)"
   ]
  },
  {
   "cell_type": "code",
   "execution_count": null,
   "id": "6ee22254",
   "metadata": {},
   "outputs": [],
   "source": []
  },
  {
   "cell_type": "markdown",
   "id": "d118cb8d",
   "metadata": {},
   "source": [
    "## 5.5 - Docstring\n",
    "\n",
    "Docstrings are used for documentation. We need to document our code so that other people understand it and so that we ourselves understand it in the future.\n",
    "\n",
    "#### Function Syntax\n",
    "\n",
    "```python\n",
    ">>> def sum(a, b):\n",
    "...     ''' This function adds a + b '''\n",
    "...     return a + b\n",
    "```\n",
    "\n",
    "**note:**\n",
    "<pre>Docstrings can also be used to document modules and classes.</pre>\n",
    "<pre>They can be accessed through the __doc__ property.</pre>"
   ]
  },
  {
   "cell_type": "code",
   "execution_count": null,
   "id": "32ee8656",
   "metadata": {},
   "outputs": [],
   "source": []
  },
  {
   "cell_type": "code",
   "execution_count": null,
   "id": "d02eafe5",
   "metadata": {},
   "outputs": [],
   "source": []
  },
  {
   "cell_type": "markdown",
   "id": "a5f63490",
   "metadata": {},
   "source": [
    "## 5.6 - Lambda Functions\n",
    "\n",
    "Lambda functions, also known as anonymous functions, are functions that we can define in a single line. They are typically used in the functional paradigm.\n",
    "\n",
    "#### Syntax\n",
    "\n",
    "```python\n",
    ">>> sum = lambda a, b: x + y\n",
    "```\n",
    "\n"
   ]
  },
  {
   "cell_type": "code",
   "execution_count": 105,
   "id": "cf7388cc",
   "metadata": {},
   "outputs": [],
   "source": [
    "soma = lambda a, b: a + b"
   ]
  },
  {
   "cell_type": "code",
   "execution_count": 106,
   "id": "47c10956",
   "metadata": {},
   "outputs": [
    {
     "data": {
      "text/plain": [
       "5"
      ]
     },
     "execution_count": 106,
     "metadata": {},
     "output_type": "execute_result"
    }
   ],
   "source": [
    "soma(2, 3)"
   ]
  },
  {
   "cell_type": "code",
   "execution_count": null,
   "id": "65f06cdf",
   "metadata": {},
   "outputs": [],
   "source": []
  },
  {
   "cell_type": "markdown",
   "id": "66c09e8e",
   "metadata": {},
   "source": [
    "# Exercises"
   ]
  },
  {
   "cell_type": "markdown",
   "id": "a0ec4c72",
   "metadata": {},
   "source": [
    "## E5.1\n",
    "Create a function that adds 3 numbers. If the user does not enter any arguments, this function should return 0. The user can also enter one or two arguments."
   ]
  },
  {
   "cell_type": "code",
   "execution_count": 2,
   "id": "48fcd9d0",
   "metadata": {},
   "outputs": [],
   "source": [
    "def soma(x=0, y=0, z=0):\n",
    "    return x + y + z"
   ]
  },
  {
   "cell_type": "markdown",
   "id": "ff14a284",
   "metadata": {},
   "source": [
    "## E5.2\n",
    "Create a function that adds numbers. In this function, the user can enter as many arguments as they want."
   ]
  },
  {
   "cell_type": "code",
   "execution_count": 3,
   "id": "0f642830",
   "metadata": {},
   "outputs": [],
   "source": [
    "def soma(*args):\n",
    "    resultado = [i for i in args]\n",
    "    return sum(resultado)"
   ]
  },
  {
   "cell_type": "code",
   "execution_count": 4,
   "id": "b35316c4",
   "metadata": {},
   "outputs": [
    {
     "data": {
      "text/plain": [
       "48"
      ]
     },
     "execution_count": 4,
     "metadata": {},
     "output_type": "execute_result"
    }
   ],
   "source": [
    "soma(1, 43, 3, 1)"
   ]
  },
  {
   "cell_type": "markdown",
   "id": "b7c735e4",
   "metadata": {},
   "source": [
    "## E5.3\n",
    "Create a lambda function that multiplies two numbers. Test it."
   ]
  },
  {
   "cell_type": "code",
   "execution_count": 6,
   "id": "c3a00ef0",
   "metadata": {},
   "outputs": [],
   "source": [
    "multiplica = lambda x, y: x * y"
   ]
  },
  {
   "cell_type": "code",
   "execution_count": 7,
   "id": "471d25d8",
   "metadata": {},
   "outputs": [
    {
     "data": {
      "text/plain": [
       "12"
      ]
     },
     "execution_count": 7,
     "metadata": {},
     "output_type": "execute_result"
    }
   ],
   "source": [
    "multiplica(3, 4)"
   ]
  },
  {
   "cell_type": "code",
   "execution_count": null,
   "id": "42abe4a8",
   "metadata": {},
   "outputs": [],
   "source": []
  }
 ],
 "metadata": {
  "kernelspec": {
   "display_name": "Python 3 (ipykernel)",
   "language": "python",
   "name": "python3"
  },
  "language_info": {
   "codemirror_mode": {
    "name": "ipython",
    "version": 3
   },
   "file_extension": ".py",
   "mimetype": "text/x-python",
   "name": "python",
   "nbconvert_exporter": "python",
   "pygments_lexer": "ipython3",
   "version": "3.9.13"
  }
 },
 "nbformat": 4,
 "nbformat_minor": 5
}
