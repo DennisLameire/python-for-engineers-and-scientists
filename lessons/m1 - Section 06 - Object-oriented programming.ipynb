{
 "cells": [
  {
   "cell_type": "markdown",
   "id": "9f980914",
   "metadata": {},
   "source": [
    "# PART 1\n",
    "# Section 6: Object-Oriented Programming\n",
    "\n",
    "Classes are capable of grouping data and functions. They make our lives much easier because we can \"package\" a class and create an instance (an object) whenever we need to use these data and functions."
   ]
  },
  {
   "cell_type": "markdown",
   "id": "43c87575",
   "metadata": {},
   "source": [
    "# OOP"
   ]
  },
  {
   "cell_type": "markdown",
   "id": "843a86c9",
   "metadata": {},
   "source": [
    "## 6.1 - Introduction to OOP (object-oriented programming)\n",
    "\n",
    "```python\n",
    ">>> class Person():\n",
    "...     def __init__(self, name, age):\n",
    "...         self.name = name\n",
    "...         self.age = age\n",
    ">>> rafael = Person('Rafael', 32)\n",
    "```\n",
    "\n",
    "**note:**\n",
    "- The \\_\\_init\\_\\_ method initializes the class.\n",
    "- In OOP terminology, Person is a class and rafael is an object (or an instance).\n",
    "- It is a good practice to define class names with the first letter capitalized, see PEP8."
   ]
  },
  {
   "cell_type": "code",
   "execution_count": 11,
   "id": "cb3c0943",
   "metadata": {},
   "outputs": [],
   "source": [
    "class Dog():\n",
    "    def __init__(self, name, age, breed):\n",
    "        self.name = name\n",
    "        self.age = age\n",
    "        self.breed = breed\n",
    "\n",
    "    def bark(self):\n",
    "        print(f'woof woof my name is {self.name}')\n",
    "\n",
    "    def birthday(self):\n",
    "        print(\"Today is dog's birthday\")\n",
    "        self.age += 1"
   ]
  },
  {
   "cell_type": "code",
   "execution_count": 12,
   "id": "e08e1d6f",
   "metadata": {},
   "outputs": [],
   "source": [
    "dogster = Dog('Dogster', 5, 'German Shepherd')"
   ]
  },
  {
   "cell_type": "code",
   "execution_count": 13,
   "id": "ce07cb65",
   "metadata": {},
   "outputs": [
    {
     "data": {
      "text/plain": [
       "'German Shepherd'"
      ]
     },
     "execution_count": 13,
     "metadata": {},
     "output_type": "execute_result"
    }
   ],
   "source": [
    "dogster.breed"
   ]
  },
  {
   "cell_type": "code",
   "execution_count": 14,
   "id": "499ccab1",
   "metadata": {},
   "outputs": [
    {
     "name": "stdout",
     "output_type": "stream",
     "text": [
      "woof woof my name is Dogster\n"
     ]
    }
   ],
   "source": [
    "dogster.bark()"
   ]
  },
  {
   "cell_type": "code",
   "execution_count": 15,
   "id": "a5d97f5b",
   "metadata": {},
   "outputs": [
    {
     "data": {
      "text/plain": [
       "5"
      ]
     },
     "execution_count": 15,
     "metadata": {},
     "output_type": "execute_result"
    }
   ],
   "source": [
    "dogster.age"
   ]
  },
  {
   "cell_type": "code",
   "execution_count": 16,
   "id": "8e9e708f",
   "metadata": {},
   "outputs": [
    {
     "name": "stdout",
     "output_type": "stream",
     "text": [
      "Today is dog's birthday\n"
     ]
    }
   ],
   "source": [
    "dogster.birthday()"
   ]
  },
  {
   "cell_type": "code",
   "execution_count": 17,
   "id": "29579812",
   "metadata": {},
   "outputs": [
    {
     "data": {
      "text/plain": [
       "6"
      ]
     },
     "execution_count": 17,
     "metadata": {},
     "output_type": "execute_result"
    }
   ],
   "source": [
    "dogster.age"
   ]
  },
  {
   "cell_type": "markdown",
   "id": "2575bea9",
   "metadata": {},
   "source": [
    "## 6.2 - Inheritance and Polymorphism\n",
    "\n",
    "```python\n",
    ">>> class Student(Person):\n",
    "...     def __init__(self, name, age, course):\n",
    "...         super().__init__(name, age)\n",
    "...         self.course = course\n",
    ">>> rafael = Person('Rafael', 29, 'Engineering')\n",
    "```\n",
    "\n",
    "**note:**\n",
    "- The super() function allows the child class to inherit properties and methods from the parent class.\n",
    "- Polymorphism in inheritance is when we make the child class have a different reaction from the same function inherited from the parent class. We override the function."
   ]
  },
  {
   "cell_type": "code",
   "execution_count": 6,
   "id": "67755ca0",
   "metadata": {},
   "outputs": [],
   "source": [
    "class Animal():\n",
    "    def __init__(self, name, color):\n",
    "        self.name = name\n",
    "        self.color = color\n",
    "    \n",
    "    def react(self):\n",
    "        print('do something ...')"
   ]
  },
  {
   "cell_type": "code",
   "execution_count": 8,
   "id": "a54e536f",
   "metadata": {},
   "outputs": [
    {
     "name": "stdout",
     "output_type": "stream",
     "text": [
      "do something ...\n"
     ]
    }
   ],
   "source": [
    "unknown_animal1 = Animal('Monster', 'brown')\n",
    "unknown_animal1.react()"
   ]
  },
  {
   "cell_type": "code",
   "execution_count": 14,
   "id": "4b511b5d",
   "metadata": {},
   "outputs": [],
   "source": [
    "class Cat(Animal):\n",
    "    def __init__(self, name, color):\n",
    "        super().__init__(name, color)\n",
    "    \n",
    "    def react(self):\n",
    "        print('meow meow')\n",
    "\n",
    "class Dog(Animal):\n",
    "    def __init__(self, name, color, breed):\n",
    "        super().__init__(name, color)\n",
    "        self.breed = breed\n",
    "    \n",
    "    def react(self):\n",
    "        print('woof woof')"
   ]
  },
  {
   "cell_type": "code",
   "execution_count": 13,
   "id": "610a0ef6",
   "metadata": {},
   "outputs": [
    {
     "name": "stdout",
     "output_type": "stream",
     "text": [
      "meow meow\n"
     ]
    }
   ],
   "source": [
    "tarzan = Cat('Tarzan', 'black')\n",
    "tarzan.react()"
   ]
  },
  {
   "cell_type": "markdown",
   "id": "46e86ae0",
   "metadata": {},
   "source": [
    "## 6.3 - Magic Methods (Dunder methods)\n",
    "\n",
    "Magic methods (dunder methods) are special methods in Python. We don't execute them in the way they are built; instead, we execute them, for example, through operators or other actions, and Python internally executes the function.\n",
    "\n",
    "### Some Magic Methods\n",
    "\n",
    "| Method | Description |\n",
    "| :-- | :-- |\n",
    "| `__init__` | method that initializes the class |\n",
    "| `__abs__` | method that implements the built-in function abs(), analogous to trunc(), round(), etc. |\n",
    "| `__iadd__` | method that implements addition +=. Analogous: isub -=, imul \\*=, etc. |\n",
    "| `__int__` | method that implements the built-in function int(), same for float(), complex(), etc.|\n",
    "| `__add__` | operator +. Analogous: sub -, mul  \\*, pow  \\*\\*, etc. |\n",
    "| `__lt__` |  operator <. Analogous: le <=, eq ==, ne !=, ge >=|\n",
    "| `__str__` | returns the string representation (useful for calling with the print() function) | \n",
    "| `__repr__`  | the representation of the class, similar to the str function | \n",
    "\n",
    "**Note:**\n",
    "- Use the dir() function to access the magic methods of a particular class.\n",
    "- More details can be found at: [Magic Methods in Python](https://www.tutorialsteacher.com/python/magic-methods-in-python)"
   ]
  },
  {
   "cell_type": "code",
   "execution_count": 38,
   "id": "1d06fce9",
   "metadata": {},
   "outputs": [],
   "source": [
    "class Vetor2d():\n",
    "    def __init__(self, x, y):\n",
    "        self.x = x\n",
    "        self.y = y\n",
    "    \n",
    "    def __add__(self, other):\n",
    "        x = self.x + other.x\n",
    "        y = self.y + other.y\n",
    "        return Vetor2d(x, y)\n",
    "    \n",
    "    def __repr__(self):\n",
    "        return f'Vetor2d({self.x}, {self.y})'\n",
    "    \n",
    "    def norma(self):\n",
    "        norma = (self.x**2+self.y**2) ** (1/2)\n",
    "        return norma\n",
    "    \n",
    "    def __lt__(self, other):\n",
    "        return self.norma() < other.norma()"
   ]
  },
  {
   "cell_type": "code",
   "execution_count": 39,
   "id": "7edca227",
   "metadata": {},
   "outputs": [],
   "source": [
    "v1 = Vetor2d(1, 2)\n",
    "v2 = Vetor2d(3, 3)"
   ]
  },
  {
   "cell_type": "code",
   "execution_count": 41,
   "id": "591de376",
   "metadata": {},
   "outputs": [
    {
     "data": {
      "text/plain": [
       "True"
      ]
     },
     "execution_count": 41,
     "metadata": {},
     "output_type": "execute_result"
    }
   ],
   "source": [
    "v1 < v2"
   ]
  },
  {
   "cell_type": "code",
   "execution_count": 43,
   "id": "2ed3e3da",
   "metadata": {},
   "outputs": [],
   "source": [
    "v1.x = 1000"
   ]
  },
  {
   "cell_type": "code",
   "execution_count": 45,
   "id": "338e876c",
   "metadata": {},
   "outputs": [
    {
     "data": {
      "text/plain": [
       "Vetor2d(1000, 2)"
      ]
     },
     "execution_count": 45,
     "metadata": {},
     "output_type": "execute_result"
    }
   ],
   "source": [
    "v1 #Nós resolveremos o problema do encapsulamento na próxima aula"
   ]
  },
  {
   "cell_type": "markdown",
   "id": "dd7e025a",
   "metadata": {},
   "source": [
    "## 6.4 - Encapsulation\n",
    "\n",
    "Encapsulation is a way to hide and protect a property if we do not want it to be seen and/or modified.\n",
    "\n",
    "- We use `__name` to hide the property.\n",
    "- We can use the decorator `@property` to generate an encapsulated property.\n",
    "- If the property is decorated, we can also access `@name.setter` and `@name.deleter`.\n"
   ]
  },
  {
   "cell_type": "code",
   "execution_count": 1,
   "id": "a8f30361",
   "metadata": {},
   "outputs": [],
   "source": [
    "class Pessoa():\n",
    "    def __init__(self, nome, salario):\n",
    "        self.nome = nome\n",
    "        self.__salario = salario\n",
    "        \n",
    "    def __repr__(self):\n",
    "        return f'{self.nome} ganha {self.__salario}'"
   ]
  },
  {
   "cell_type": "code",
   "execution_count": 2,
   "id": "d94ff41a",
   "metadata": {},
   "outputs": [],
   "source": [
    "p1 = Pessoa('Rafael', 30000)"
   ]
  },
  {
   "cell_type": "code",
   "execution_count": null,
   "id": "34af651b",
   "metadata": {},
   "outputs": [],
   "source": []
  },
  {
   "cell_type": "code",
   "execution_count": 5,
   "id": "0b7ad910",
   "metadata": {},
   "outputs": [],
   "source": [
    "class Pessoa():\n",
    "    def __init__(self, nome, salario):\n",
    "        self.nome = nome\n",
    "        self.__salario = salario\n",
    "    \n",
    "    @property\n",
    "    def salario(self):\n",
    "        return self.__salario\n",
    "    \n",
    "    @salario.setter\n",
    "    def salario(self, valor):\n",
    "        #self.__salario = valor\n",
    "        raise ValueError('Não pode aumentar o salário!')\n",
    "    \n",
    "    \n",
    "    def __repr__(self):\n",
    "        return f'{self.nome} ganha {self.salario}'"
   ]
  },
  {
   "cell_type": "code",
   "execution_count": 6,
   "id": "867e1836",
   "metadata": {},
   "outputs": [],
   "source": [
    "p1  = Pessoa('Rafael', 30000)"
   ]
  },
  {
   "cell_type": "code",
   "execution_count": 7,
   "id": "b0f5ab97",
   "metadata": {},
   "outputs": [
    {
     "ename": "ValueError",
     "evalue": "Não pode aumentar o salário!",
     "output_type": "error",
     "traceback": [
      "\u001b[1;31m---------------------------------------------------------------------------\u001b[0m",
      "\u001b[1;31mValueError\u001b[0m                                Traceback (most recent call last)",
      "\u001b[1;32m~\\AppData\\Local\\Temp/ipykernel_18316/1025704064.py\u001b[0m in \u001b[0;36m<module>\u001b[1;34m\u001b[0m\n\u001b[1;32m----> 1\u001b[1;33m \u001b[0mp1\u001b[0m\u001b[1;33m.\u001b[0m\u001b[0msalario\u001b[0m \u001b[1;33m=\u001b[0m \u001b[1;36m50000\u001b[0m\u001b[1;33m\u001b[0m\u001b[1;33m\u001b[0m\u001b[0m\n\u001b[0m",
      "\u001b[1;32m~\\AppData\\Local\\Temp/ipykernel_18316/3398648982.py\u001b[0m in \u001b[0;36msalario\u001b[1;34m(self, valor)\u001b[0m\n\u001b[0;32m     11\u001b[0m     \u001b[1;32mdef\u001b[0m \u001b[0msalario\u001b[0m\u001b[1;33m(\u001b[0m\u001b[0mself\u001b[0m\u001b[1;33m,\u001b[0m \u001b[0mvalor\u001b[0m\u001b[1;33m)\u001b[0m\u001b[1;33m:\u001b[0m\u001b[1;33m\u001b[0m\u001b[1;33m\u001b[0m\u001b[0m\n\u001b[0;32m     12\u001b[0m         \u001b[1;31m#self.__salario = valor\u001b[0m\u001b[1;33m\u001b[0m\u001b[1;33m\u001b[0m\u001b[0m\n\u001b[1;32m---> 13\u001b[1;33m         \u001b[1;32mraise\u001b[0m \u001b[0mValueError\u001b[0m\u001b[1;33m(\u001b[0m\u001b[1;34m'Não pode aumentar o salário!'\u001b[0m\u001b[1;33m)\u001b[0m\u001b[1;33m\u001b[0m\u001b[1;33m\u001b[0m\u001b[0m\n\u001b[0m\u001b[0;32m     14\u001b[0m \u001b[1;33m\u001b[0m\u001b[0m\n\u001b[0;32m     15\u001b[0m \u001b[1;33m\u001b[0m\u001b[0m\n",
      "\u001b[1;31mValueError\u001b[0m: Não pode aumentar o salário!"
     ]
    }
   ],
   "source": [
    "p1.salario = 50000"
   ]
  },
  {
   "cell_type": "code",
   "execution_count": null,
   "id": "3a3901b4",
   "metadata": {},
   "outputs": [],
   "source": []
  },
  {
   "cell_type": "markdown",
   "id": "840c3d12",
   "metadata": {},
   "source": [
    "# Exercises"
   ]
  },
  {
   "cell_type": "markdown",
   "id": "271a5cbb",
   "metadata": {},
   "source": [
    "## E6.1\n",
    "Create an account object, in this case, it's a bank account to hold money.\n",
    "\n",
    "This object should have the following properties:\n",
    "- limit (fixed value of money that fits in the wallet)\n",
    "- balance (current amount of money in the wallet)"
   ]
  },
  {
   "cell_type": "code",
   "execution_count": 16,
   "id": "1d878a0f",
   "metadata": {},
   "outputs": [],
   "source": [
    "class Conta:\n",
    "    def __init__(self, limite, saldo):\n",
    "        self.limite = limite\n",
    "        self.saldo = saldo"
   ]
  },
  {
   "cell_type": "code",
   "execution_count": 17,
   "id": "92033b09",
   "metadata": {},
   "outputs": [],
   "source": [
    "minha_conta = Conta(200, 10)"
   ]
  },
  {
   "cell_type": "markdown",
   "id": "9ba14cd1",
   "metadata": {},
   "source": [
    "## E6.2\n",
    "Create a custom account class that inherits the properties from the account class and also has two additional properties:\n",
    "- crypto_limit (fixed value of cryptocurrencies that fits in the wallet)\n",
    "- crypto_balance (current amount of cryptocurrencies in the wallet)\n",
    "\n",
    "Also, create a representation method so that we can see the wallet."
   ]
  },
  {
   "cell_type": "code",
   "execution_count": 10,
   "id": "1fd45d4e",
   "metadata": {},
   "outputs": [],
   "source": [
    "class ContaPersonalizada(Conta):\n",
    "    def __init__(self, limite, saldo, limite_cripto, saldo_cripto):\n",
    "        super().__init__(limite, saldo)\n",
    "        self.limite_cripto = limite_cripto\n",
    "        self.saldo_cripto = saldo_cripto\n",
    "        \n",
    "    def __str__(self):\n",
    "        conteudo = f'\\\n",
    "                    limite = {self.limite} R$ \\n\\\n",
    "                    saldo = {self.saldo} R$ \\n\\\n",
    "                    limite_cripto = {self.limite_cripto} \\n\\\n",
    "                    saldo_cripto = {self.saldo_cripto} \\n'\n",
    "        return conteudo"
   ]
  },
  {
   "cell_type": "code",
   "execution_count": 11,
   "id": "f0c4238e",
   "metadata": {},
   "outputs": [
    {
     "name": "stdout",
     "output_type": "stream",
     "text": [
      "                    limite = 1000 R$ \n",
      "                    saldo = 10 R$ \n",
      "                    limite_cripto = 2 \n",
      "                    saldo_cripto = 0.5 \n",
      "\n"
     ]
    }
   ],
   "source": [
    "minha_conta = ContaPersonalizada(1000, 10, 2, 0.5)\n",
    "print(minha_conta)"
   ]
  },
  {
   "cell_type": "markdown",
   "id": "1c906756",
   "metadata": {},
   "source": [
    "## E6.3\n",
    "Encapsulate the properties `limit` and `crypto_limit` so that they cannot be modified."
   ]
  },
  {
   "cell_type": "code",
   "execution_count": null,
   "id": "9f1d88ea",
   "metadata": {},
   "outputs": [],
   "source": []
  },
  {
   "cell_type": "code",
   "execution_count": null,
   "id": "5c499e98",
   "metadata": {},
   "outputs": [],
   "source": []
  },
  {
   "cell_type": "markdown",
   "id": "3fba14c0",
   "metadata": {},
   "source": [
    "## E6.4\n",
    "Create methods for withdrawal and deposit, these methods should update the balance values for both money and crypto."
   ]
  },
  {
   "cell_type": "code",
   "execution_count": null,
   "id": "3f3d19a6",
   "metadata": {},
   "outputs": [],
   "source": []
  }
 ],
 "metadata": {
  "kernelspec": {
   "display_name": "base",
   "language": "python",
   "name": "python3"
  },
  "language_info": {
   "codemirror_mode": {
    "name": "ipython",
    "version": 3
   },
   "file_extension": ".py",
   "mimetype": "text/x-python",
   "name": "python",
   "nbconvert_exporter": "python",
   "pygments_lexer": "ipython3",
   "version": "3.9.13"
  },
  "vscode": {
   "interpreter": {
    "hash": "c1590602456d7cb2bb11a9c056450b313acab0eb77422ae1a602feaa944934ec"
   }
  }
 },
 "nbformat": 4,
 "nbformat_minor": 5
}
