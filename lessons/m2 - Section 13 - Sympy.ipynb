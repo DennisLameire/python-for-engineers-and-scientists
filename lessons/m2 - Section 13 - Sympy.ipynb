{
 "cells": [
  {
   "cell_type": "markdown",
   "id": "ade90b6b",
   "metadata": {},
   "source": [
    "# PART 2\n",
    "# Section 13: Sympy\n",
    "\n",
    "Sympy is a library for symbolic mathematics in Python. Additionally, it offers a variety of functions, solvers, constants, and other modules."
   ]
  },
  {
   "cell_type": "markdown",
   "id": "15375dd9",
   "metadata": {},
   "source": [
    "## 13.1 - Basic Operations\n",
    "\n",
    "\n",
    "| Function / Method | Description |\n",
    "|-------------------|-------------|\n",
    "| sp.symbols(arg)   | function that generates symbolic values |\n",
    "| sp.simplify(arg)  | function that simplifies an expression |\n",
    "| sp.init_printing()| repr that prints in latex format |\n",
    "| eq.subs(sym, val)| method that substitutes the symbolic by a value |\n",
    "\n",
    "\n",
    "**Notes:**\n",
    "<pre>Boolean operations work with symbolic.</pre>\n",
    "<pre>Sympy has mathematical functions and constants like cos(), sin(), pi</pre>"
   ]
  },
  {
   "cell_type": "code",
   "execution_count": 15,
   "id": "b72fed19",
   "metadata": {},
   "outputs": [],
   "source": [
    "import sympy as sp\n"
   ]
  },
  {
   "cell_type": "code",
   "execution_count": 16,
   "id": "ccaf283b",
   "metadata": {},
   "outputs": [],
   "source": [
    "x, y = sp.symbols(['x', 'y'])"
   ]
  },
  {
   "cell_type": "code",
   "execution_count": 17,
   "id": "0bfac41b",
   "metadata": {},
   "outputs": [
    {
     "data": {
      "image/png": "[encoded data removed]",
      "text/latex": [
       "$\\displaystyle x^{3} + x^{2} + 2 x + y^{2}$"
      ],
      "text/plain": [
       " 3    2          2\n",
       "x  + x  + 2⋅x + y "
      ]
     },
     "execution_count": 17,
     "metadata": {},
     "output_type": "execute_result"
    }
   ],
   "source": [
    "eq1 = x + x + x - x + x * x * x + x*x + y*y\n",
    "eq1"
   ]
  },
  {
   "cell_type": "code",
   "execution_count": 19,
   "id": "edd391af",
   "metadata": {},
   "outputs": [],
   "source": [
    "eq2 = x**2 + y"
   ]
  },
  {
   "cell_type": "code",
   "execution_count": 23,
   "id": "494d3b9c",
   "metadata": {},
   "outputs": [
    {
     "data": {
      "image/png": "[encoded data removed]",
      "text/latex": [
       "$\\displaystyle 1145$"
      ],
      "text/plain": [
       "1145"
      ]
     },
     "execution_count": 23,
     "metadata": {},
     "output_type": "execute_result"
    }
   ],
   "source": [
    "eq1.subs(x, 10).subs(y, 5)"
   ]
  },
  {
   "cell_type": "markdown",
   "id": "ce68b77a",
   "metadata": {},
   "source": [
    "## 13.2 - Matrices\n",
    "\n",
    "### Functions\n",
    "| Function | Description |\n",
    "|----------|-------------|\n",
    "| sp.Matrix(args) | creates a Matrix object |\n",
    "| sp.eye(n) | creates an $n \\times n$ matrix with zeros |\n",
    "| sp.ones(n) | creates an $n \\times n$ matrix with ones |\n",
    "| sp.diag(arg) | creates a diagonal matrix from a list (for non-sparse matrix, unpack) |\n",
    "\n",
    "### Attributes\n",
    "| Attribute | Description |\n",
    "|-----------|-------------|\n",
    "| M.shape | property that returns the size of the matrix |\n",
    "| M.det() | method that returns the determinant of the matrix |\n",
    "| M.T | property that returns the transpose matrix |\n",
    "\n",
    "**Notes:**\n",
    "- To return the inverse matrix, raise M to -1.\n",
    "- Use * for matrix multiplication.\n",
    "- Matrices of the same size accept addition and subtraction."
   ]
  },
  {
   "cell_type": "code",
   "execution_count": 27,
   "id": "f59aaafd",
   "metadata": {},
   "outputs": [],
   "source": [
    "import sympy as sp"
   ]
  },
  {
   "cell_type": "code",
   "execution_count": 30,
   "id": "bd487873",
   "metadata": {},
   "outputs": [],
   "source": [
    "x, y = sp.symbols(['x', 'y'])"
   ]
  },
  {
   "cell_type": "code",
   "execution_count": 32,
   "id": "96060dc3",
   "metadata": {},
   "outputs": [
    {
     "data": {
      "text/latex": [
       "$\\displaystyle \\left[\\begin{matrix}0 & x^{2} & 2\\\\3 & 4 & 5\\end{matrix}\\right]$"
      ],
      "text/plain": [
       "⎡    2   ⎤\n",
       "⎢0  x   2⎥\n",
       "⎢        ⎥\n",
       "⎣3  4   5⎦"
      ]
     },
     "execution_count": 32,
     "metadata": {},
     "output_type": "execute_result"
    }
   ],
   "source": [
    "A = sp.Matrix([[0, x*x, 2],\n",
    "               [3, 4, 5]])\n",
    "\n",
    "A"
   ]
  },
  {
   "cell_type": "code",
   "execution_count": 35,
   "id": "eb38d2d9",
   "metadata": {},
   "outputs": [
    {
     "data": {
      "text/latex": [
       "$\\displaystyle \\left[\\begin{matrix}0 & 3\\\\x^{2} & 4\\\\2 & 5\\end{matrix}\\right]$"
      ],
      "text/plain": [
       "⎡0   3⎤\n",
       "⎢     ⎥\n",
       "⎢ 2   ⎥\n",
       "⎢x   4⎥\n",
       "⎢     ⎥\n",
       "⎣2   5⎦"
      ]
     },
     "execution_count": 35,
     "metadata": {},
     "output_type": "execute_result"
    }
   ],
   "source": [
    "A.T"
   ]
  },
  {
   "cell_type": "code",
   "execution_count": 37,
   "id": "5f7a6817",
   "metadata": {},
   "outputs": [
    {
     "data": {
      "text/latex": [
       "$\\displaystyle \\left[\\begin{matrix}1 & 0 & 0\\\\0 & 1 & 0\\\\0 & 0 & 1\\end{matrix}\\right]$"
      ],
      "text/plain": [
       "⎡1  0  0⎤\n",
       "⎢       ⎥\n",
       "⎢0  1  0⎥\n",
       "⎢       ⎥\n",
       "⎣0  0  1⎦"
      ]
     },
     "execution_count": 37,
     "metadata": {},
     "output_type": "execute_result"
    }
   ],
   "source": [
    "I = sp.eye(3)\n",
    "I"
   ]
  },
  {
   "cell_type": "code",
   "execution_count": 44,
   "id": "6ce9dde2",
   "metadata": {},
   "outputs": [
    {
     "data": {
      "text/latex": [
       "$\\displaystyle \\left[\\begin{matrix}2 & 0 & 0 & 0\\\\0 & y & 0 & 0\\\\0 & 0 & 5 & 0\\\\0 & 0 & 0 & x\\end{matrix}\\right]$"
      ],
      "text/plain": [
       "⎡2  0  0  0⎤\n",
       "⎢          ⎥\n",
       "⎢0  y  0  0⎥\n",
       "⎢          ⎥\n",
       "⎢0  0  5  0⎥\n",
       "⎢          ⎥\n",
       "⎣0  0  0  x⎦"
      ]
     },
     "execution_count": 44,
     "metadata": {},
     "output_type": "execute_result"
    }
   ],
   "source": [
    "D = sp.diag([2, y, 5, x], unpack=True)\n",
    "D"
   ]
  },
  {
   "cell_type": "code",
   "execution_count": 45,
   "id": "a2e3ae0a",
   "metadata": {},
   "outputs": [
    {
     "data": {
      "image/png": "[encoded data removed]",
      "text/latex": [
       "$\\displaystyle 10 x y$"
      ],
      "text/plain": [
       "10⋅x⋅y"
      ]
     },
     "execution_count": 45,
     "metadata": {},
     "output_type": "execute_result"
    }
   ],
   "source": [
    "D.det()"
   ]
  },
  {
   "cell_type": "code",
   "execution_count": 46,
   "id": "da527d8b",
   "metadata": {},
   "outputs": [
    {
     "data": {
      "text/latex": [
       "$\\displaystyle \\left[\\begin{matrix}\\frac{1}{2} & 0 & 0 & 0\\\\0 & \\frac{1}{y} & 0 & 0\\\\0 & 0 & \\frac{1}{5} & 0\\\\0 & 0 & 0 & \\frac{1}{x}\\end{matrix}\\right]$"
      ],
      "text/plain": [
       "⎡1/2  0   0   0⎤\n",
       "⎢              ⎥\n",
       "⎢     1        ⎥\n",
       "⎢ 0   ─   0   0⎥\n",
       "⎢     y        ⎥\n",
       "⎢              ⎥\n",
       "⎢ 0   0  1/5  0⎥\n",
       "⎢              ⎥\n",
       "⎢             1⎥\n",
       "⎢ 0   0   0   ─⎥\n",
       "⎣             x⎦"
      ]
     },
     "execution_count": 46,
     "metadata": {},
     "output_type": "execute_result"
    }
   ],
   "source": [
    "D ** (-1)"
   ]
  },
  {
   "cell_type": "markdown",
   "id": "73359ed1",
   "metadata": {},
   "source": [
    "## 13.3 - Calculus Functions\n",
    "\n",
    "### Functions\n",
    "| Function | Description |\n",
    "|----------|-------------|\n",
    "| sp.diff(eq, vars) | computes the derivative of equation eq with respect to vars |\n",
    "| sp.integrate(eq, (var, start, end)) | computes the integration of equation eq with respect to var |\n",
    "\n",
    "**Notes:**\n",
    "- Sympy also provides functions for calculating limits, series expansion, and finite differences."
   ]
  },
  {
   "cell_type": "code",
   "execution_count": 19,
   "id": "e9d8c078",
   "metadata": {},
   "outputs": [],
   "source": [
    "import sympy as sp"
   ]
  },
  {
   "cell_type": "code",
   "execution_count": 39,
   "id": "3b06acf5",
   "metadata": {},
   "outputs": [],
   "source": [
    "x, y = sp.symbols(['x', 'y'])"
   ]
  },
  {
   "cell_type": "code",
   "execution_count": 47,
   "id": "19bd8248",
   "metadata": {},
   "outputs": [
    {
     "data": {
      "text/latex": [
       "$\\displaystyle x^{2} - 5 x + 10$"
      ],
      "text/plain": [
       "x**2 - 5*x + 10"
      ]
     },
     "execution_count": 47,
     "metadata": {},
     "output_type": "execute_result"
    }
   ],
   "source": [
    "eq1 = x**2 -5*x + 10\n",
    "eq1"
   ]
  },
  {
   "cell_type": "code",
   "execution_count": 46,
   "id": "d83e9eea",
   "metadata": {},
   "outputs": [
    {
     "data": {
      "text/latex": [
       "$\\displaystyle 2 x$"
      ],
      "text/plain": [
       "2*x"
      ]
     },
     "execution_count": 46,
     "metadata": {},
     "output_type": "execute_result"
    }
   ],
   "source": [
    "sp.diff(eq1, x, y)"
   ]
  },
  {
   "cell_type": "code",
   "execution_count": 48,
   "id": "2d5b4068",
   "metadata": {},
   "outputs": [
    {
     "data": {
      "text/latex": [
       "$\\displaystyle \\frac{x^{3}}{3} - \\frac{5 x^{2}}{2} + 10 x$"
      ],
      "text/plain": [
       "x**3/3 - 5*x**2/2 + 10*x"
      ]
     },
     "execution_count": 48,
     "metadata": {},
     "output_type": "execute_result"
    }
   ],
   "source": [
    "sp.integrate(eq1, x)"
   ]
  },
  {
   "cell_type": "code",
   "execution_count": 49,
   "id": "44be5a42",
   "metadata": {},
   "outputs": [
    {
     "data": {
      "text/latex": [
       "$\\displaystyle e^{- x}$"
      ],
      "text/plain": [
       "exp(-x)"
      ]
     },
     "execution_count": 49,
     "metadata": {},
     "output_type": "execute_result"
    }
   ],
   "source": [
    "eq2 = sp.exp(-x)\n",
    "eq2"
   ]
  },
  {
   "cell_type": "code",
   "execution_count": 50,
   "id": "c7b73fa2",
   "metadata": {},
   "outputs": [
    {
     "data": {
      "text/latex": [
       "$\\displaystyle \\infty$"
      ],
      "text/plain": [
       "oo"
      ]
     },
     "execution_count": 50,
     "metadata": {},
     "output_type": "execute_result"
    }
   ],
   "source": [
    "sp.oo"
   ]
  },
  {
   "cell_type": "code",
   "execution_count": 51,
   "id": "df78c8a2",
   "metadata": {},
   "outputs": [
    {
     "data": {
      "text/latex": [
       "$\\displaystyle 1$"
      ],
      "text/plain": [
       "1"
      ]
     },
     "execution_count": 51,
     "metadata": {},
     "output_type": "execute_result"
    }
   ],
   "source": [
    "sp.integrate(eq2, (x, 0, sp.oo))"
   ]
  },
  {
   "cell_type": "markdown",
   "id": "7ba75a40",
   "metadata": {},
   "source": [
    "## 13.4 - Solvers (Algebraic, Linear and Nonlinear Systems)\n",
    "\n",
    "### Functions\n",
    "| Function | Description |\n",
    "|----------|-------------|\n",
    "| sp.solveset(eq, var) | solves algebraic equations (it is the most modern solution in sympy) |\n",
    "| sp.linsolve(eqs, vars) | solves linear systems |\n",
    "| sp.nonlinsolve(eqs, vars) | solves nonlinear systems |\n",
    "| sp.solve(eqs, vars) | solves all the above, but will be OBSOLETE in the future |\n",
    "\n",
    "**Notes:**\n",
    "- Sympy is constantly working on solvers. This lesson is for sympy 1.9, in the future they will implement linsolve within solveset.\n",
    "- The new forms are not capable of solving certain types of equations, for these cases use solve."
   ]
  },
  {
   "cell_type": "code",
   "execution_count": 1,
   "id": "6731a12a",
   "metadata": {},
   "outputs": [],
   "source": [
    "import sympy as sp\n"
   ]
  },
  {
   "cell_type": "code",
   "execution_count": 2,
   "id": "813afa96",
   "metadata": {},
   "outputs": [
    {
     "data": {
      "text/latex": [
       "$\\displaystyle 5 x^{2} + 2 x$"
      ],
      "text/plain": [
       "5*x**2 + 2*x"
      ]
     },
     "execution_count": 2,
     "metadata": {},
     "output_type": "execute_result"
    }
   ],
   "source": [
    "x = sp.symbols('x')\n",
    "y = 5 * x**2 + 2*x\n",
    "y"
   ]
  },
  {
   "cell_type": "code",
   "execution_count": 3,
   "id": "200f10c4",
   "metadata": {},
   "outputs": [
    {
     "data": {
      "text/latex": [
       "$\\displaystyle \\left\\{- \\frac{2}{5}, 0\\right\\}$"
      ],
      "text/plain": [
       "{-2/5, 0}"
      ]
     },
     "execution_count": 3,
     "metadata": {},
     "output_type": "execute_result"
    }
   ],
   "source": [
    "sp.solveset(y, x)"
   ]
  },
  {
   "cell_type": "code",
   "execution_count": 4,
   "id": "bf977712",
   "metadata": {},
   "outputs": [
    {
     "data": {
      "text/latex": [
       "$\\displaystyle \\left\\{- \\frac{1}{2} - \\frac{\\sqrt{19} i}{2}, - \\frac{1}{2} + \\frac{\\sqrt{19} i}{2}\\right\\}$"
      ],
      "text/plain": [
       "{-1/2 - sqrt(19)*I/2, -1/2 + sqrt(19)*I/2}"
      ]
     },
     "execution_count": 4,
     "metadata": {},
     "output_type": "execute_result"
    }
   ],
   "source": [
    "y = x**2 + x + 5\n",
    "sp.solveset(y, x)"
   ]
  },
  {
   "cell_type": "code",
   "execution_count": 5,
   "id": "12066cb9",
   "metadata": {},
   "outputs": [
    {
     "data": {
      "text/latex": [
       "$\\displaystyle \\left\\{\\left( -3, \\  5, \\  0\\right)\\right\\}$"
      ],
      "text/plain": [
       "{(-3, 5, 0)}"
      ]
     },
     "execution_count": 5,
     "metadata": {},
     "output_type": "execute_result"
    }
   ],
   "source": [
    "x1, x2, x3 = sp.symbols(['x1', 'x2', 'x3'])\n",
    "A = sp.Matrix([[3, 2, 4],\n",
    "               [1, 1, 2],\n",
    "               [4, 3, -2]])\n",
    "x = sp.Matrix([x1, x2, x3])\n",
    "B = sp.Matrix([1, 2, 3])\n",
    "system = A*x - B\n",
    "\n",
    "sp.linsolve(system, (x1, x2, x3))"
   ]
  },
  {
   "cell_type": "code",
   "execution_count": 81,
   "id": "cb36e7a4",
   "metadata": {},
   "outputs": [
    {
     "data": {
      "text/latex": [
       "$\\displaystyle \\left[\\begin{matrix}1\\\\2\\\\3\\end{matrix}\\right]$"
      ],
      "text/plain": [
       "Matrix([\n",
       "[1],\n",
       "[2],\n",
       "[3]])"
      ]
     },
     "execution_count": 81,
     "metadata": {},
     "output_type": "execute_result"
    }
   ],
   "source": [
    "(A*x).subs(x1, -3).subs(x2, 5).subs(x3, 0)"
   ]
  },
  {
   "cell_type": "code",
   "execution_count": 6,
   "id": "76894491",
   "metadata": {},
   "outputs": [
    {
     "data": {
      "text/latex": [
       "$\\displaystyle \\left[\\begin{matrix}3 x_{1} + 2 x_{2} + 4 x_{3} - 1\\\\x_{1} + x_{2} + 2 x_{3} - 2\\\\4 x_{1} + 3 x_{2} - 2 x_{3} - 3\\end{matrix}\\right]$"
      ],
      "text/plain": [
       "Matrix([\n",
       "[3*x1 + 2*x2 + 4*x3 - 1],\n",
       "[    x1 + x2 + 2*x3 - 2],\n",
       "[4*x1 + 3*x2 - 2*x3 - 3]])"
      ]
     },
     "execution_count": 6,
     "metadata": {},
     "output_type": "execute_result"
    }
   ],
   "source": [
    "system"
   ]
  },
  {
   "cell_type": "markdown",
   "id": "2b191b76",
   "metadata": {},
   "source": [
    "## 13.5 - Solver (Differential Equations)\n",
    "\n",
    "### Applicable Objects\n",
    "| Object | Description |\n",
    "|--------|-------------|\n",
    "| sp.Function(name) | creates a Function object |\n",
    "| sp.Derivative(y_x(x), x) | Creates a Derivative object |\n",
    "\n",
    "### Function\n",
    "| Function | Description |\n",
    "|----------|-------------|\n",
    "| sp.dsolve(eq) | finds the solution of the differential equation |\n",
    "\n",
    "**Notes:**\n",
    "- If it's not possible to find an analytical solution, we can find a numerical solution using the scipy library as we'll see later on."
   ]
  },
  {
   "cell_type": "code",
   "execution_count": 93,
   "id": "7c784231",
   "metadata": {},
   "outputs": [],
   "source": [
    "import sympy as sp"
   ]
  },
  {
   "cell_type": "code",
   "execution_count": 95,
   "id": "e31f226e",
   "metadata": {},
   "outputs": [
    {
     "data": {
      "text/latex": [
       "$\\displaystyle x$"
      ],
      "text/plain": [
       "x"
      ]
     },
     "execution_count": 95,
     "metadata": {},
     "output_type": "execute_result"
    }
   ],
   "source": [
    "x = sp.symbols('x')\n",
    "x"
   ]
  },
  {
   "cell_type": "code",
   "execution_count": 96,
   "id": "04130ab6",
   "metadata": {},
   "outputs": [
    {
     "data": {
      "text/latex": [
       "$\\displaystyle y{\\left(x \\right)}$"
      ],
      "text/plain": [
       "y(x)"
      ]
     },
     "execution_count": 96,
     "metadata": {},
     "output_type": "execute_result"
    }
   ],
   "source": [
    "y = sp.Function('y')\n",
    "y(x)"
   ]
  },
  {
   "cell_type": "code",
   "execution_count": 99,
   "id": "d1c46fab",
   "metadata": {},
   "outputs": [
    {
     "data": {
      "text/latex": [
       "$\\displaystyle \\frac{d^{2}}{d x^{2}} y{\\left(x \\right)}$"
      ],
      "text/plain": [
       "Derivative(y(x), (x, 2))"
      ]
     },
     "execution_count": 99,
     "metadata": {},
     "output_type": "execute_result"
    }
   ],
   "source": [
    "dy2dx2 = sp.Derivative(y(x), x, x)\n",
    "dy2dx2"
   ]
  },
  {
   "cell_type": "code",
   "execution_count": 101,
   "id": "686a8e8f",
   "metadata": {},
   "outputs": [
    {
     "data": {
      "text/latex": [
       "$\\displaystyle \\frac{d^{2}}{d x^{2}} y{\\left(x \\right)} - 5$"
      ],
      "text/plain": [
       "Derivative(y(x), (x, 2)) - 5"
      ]
     },
     "execution_count": 101,
     "metadata": {},
     "output_type": "execute_result"
    }
   ],
   "source": [
    "eq = dy2dx2 - 5\n",
    "eq"
   ]
  },
  {
   "cell_type": "code",
   "execution_count": 102,
   "id": "3071c30a",
   "metadata": {},
   "outputs": [
    {
     "data": {
      "text/latex": [
       "$\\displaystyle y{\\left(x \\right)} = C_{1} + C_{2} x + \\frac{5 x^{2}}{2}$"
      ],
      "text/plain": [
       "Eq(y(x), C1 + C2*x + 5*x**2/2)"
      ]
     },
     "execution_count": 102,
     "metadata": {},
     "output_type": "execute_result"
    }
   ],
   "source": [
    "sp.dsolve(eq)"
   ]
  },
  {
   "cell_type": "markdown",
   "id": "7d8d9b1e",
   "metadata": {},
   "source": [
    "## E13.1\n",
    "Given matrices A, B, C, and D, calculate, for each one, the determinant, the transpose matrix, and the inverse matrix.\n",
    "\n",
    "$$ A=\n",
    " \\begin{bmatrix}\n",
    "   1 & 2 \\\\\n",
    "   4 & 5\n",
    "  \\end{bmatrix}\n",
    "$$\n",
    "\n",
    "$$ B=\n",
    " \\begin{bmatrix}\n",
    "   \\cos(\\pi/4) & -\\sin(\\pi/4) \\\\\n",
    "   \\sin(\\pi/4) & \\cos(\\pi/4)\n",
    "  \\end{bmatrix}\n",
    "$$\n",
    "\n",
    "$$ C=\n",
    " \\begin{bmatrix}\n",
    "   2 & -2 \\\\\n",
    "   -2 & 5\n",
    "  \\end{bmatrix}\n",
    "$$\n",
    "\n",
    "$$\n",
    "D=\n",
    " \\begin{bmatrix}\n",
    "   2 & 2 \\\\\n",
    "   4 & 4\n",
    "  \\end{bmatrix}\n",
    "$$\n",
    "\n",
    "\n",
    "Notes:\n",
    "- A has a determinant different from zero.\n",
    "- B is an orthogonal matrix, its inverse is equal to its transpose, and its determinant should be +1 or -1.\n",
    "- C is a symmetric matrix, it is equal to its transpose.\n",
    "- D has a determinant equal to zero, therefore it is not invertible."
   ]
  },
  {
   "cell_type": "code",
   "execution_count": 13,
   "id": "8fdd634b",
   "metadata": {},
   "outputs": [],
   "source": [
    "import sympy as sp"
   ]
  },
  {
   "cell_type": "code",
   "execution_count": 14,
   "id": "1d58ab7c",
   "metadata": {},
   "outputs": [],
   "source": [
    "A = sp.Matrix([[1, 2],\n",
    "               [4, 5]])\n",
    "B = sp.Matrix([[sp.cos(sp.pi/4), -sp.sin(sp.pi/4)],\n",
    "               [sp.sin(sp.pi/4), sp.cos(sp.pi/4)]])\n",
    "C = sp.Matrix([[2, -2],\n",
    "               [-2, 5]])\n",
    "D = sp.Matrix([[2, 2],\n",
    "               [4, 4]])"
   ]
  },
  {
   "cell_type": "code",
   "execution_count": 18,
   "id": "7da96dd5",
   "metadata": {},
   "outputs": [
    {
     "name": "stdout",
     "output_type": "stream",
     "text": [
      "7.73 µs ± 13.8 ns per loop (mean ± std. dev. of 7 runs, 100,000 loops each)\n"
     ]
    }
   ],
   "source": [
    "%%timeit\n",
    "B.det()"
   ]
  },
  {
   "cell_type": "code",
   "execution_count": 20,
   "id": "e904b080",
   "metadata": {},
   "outputs": [
    {
     "name": "stdout",
     "output_type": "stream",
     "text": [
      "411 µs ± 3.61 µs per loop (mean ± std. dev. of 7 runs, 1,000 loops each)\n"
     ]
    }
   ],
   "source": [
    "%%timeit\n",
    "B ** (-1)"
   ]
  },
  {
   "cell_type": "code",
   "execution_count": 16,
   "id": "f8b1a8c3",
   "metadata": {},
   "outputs": [
    {
     "name": "stdout",
     "output_type": "stream",
     "text": [
      "7.67 µs ± 19.5 ns per loop (mean ± std. dev. of 7 runs, 100,000 loops each)\n"
     ]
    }
   ],
   "source": [
    "%%timeit\n",
    "A.det()"
   ]
  },
  {
   "cell_type": "code",
   "execution_count": 107,
   "id": "e9fac31b",
   "metadata": {},
   "outputs": [
    {
     "data": {
      "text/latex": [
       "$\\displaystyle \\left[\\begin{matrix}1 & 4\\\\2 & 5\\end{matrix}\\right]$"
      ],
      "text/plain": [
       "Matrix([\n",
       "[1, 4],\n",
       "[2, 5]])"
      ]
     },
     "execution_count": 107,
     "metadata": {},
     "output_type": "execute_result"
    }
   ],
   "source": [
    "A.T"
   ]
  },
  {
   "cell_type": "code",
   "execution_count": 108,
   "id": "59300532",
   "metadata": {},
   "outputs": [
    {
     "data": {
      "text/latex": [
       "$\\displaystyle \\left[\\begin{matrix}- \\frac{5}{3} & \\frac{2}{3}\\\\\\frac{4}{3} & - \\frac{1}{3}\\end{matrix}\\right]$"
      ],
      "text/plain": [
       "Matrix([\n",
       "[-5/3,  2/3],\n",
       "[ 4/3, -1/3]])"
      ]
     },
     "execution_count": 108,
     "metadata": {},
     "output_type": "execute_result"
    }
   ],
   "source": [
    "A **-1"
   ]
  },
  {
   "cell_type": "code",
   "execution_count": 111,
   "id": "56e778c0",
   "metadata": {},
   "outputs": [
    {
     "data": {
      "text/plain": [
       "True"
      ]
     },
     "execution_count": 111,
     "metadata": {},
     "output_type": "execute_result"
    }
   ],
   "source": [
    "B.T == B**-1"
   ]
  },
  {
   "cell_type": "code",
   "execution_count": 113,
   "id": "7a3cecf4",
   "metadata": {},
   "outputs": [
    {
     "data": {
      "text/plain": [
       "True"
      ]
     },
     "execution_count": 113,
     "metadata": {},
     "output_type": "execute_result"
    }
   ],
   "source": [
    "C == C.T"
   ]
  },
  {
   "cell_type": "code",
   "execution_count": 114,
   "id": "4885c8a0",
   "metadata": {},
   "outputs": [
    {
     "data": {
      "text/latex": [
       "$\\displaystyle 0$"
      ],
      "text/plain": [
       "0"
      ]
     },
     "execution_count": 114,
     "metadata": {},
     "output_type": "execute_result"
    }
   ],
   "source": [
    "D.det()"
   ]
  },
  {
   "cell_type": "markdown",
   "id": "7bd7562f",
   "metadata": {},
   "source": [
    "## E13.2 - \n",
    "Given the functions, calculate their first-order derivative and their primitive (indefinite integral).\n",
    "\n",
    "$$ A(x) = e^x $$\n",
    "\n",
    "$$ B(x) = x^3 $$\n",
    "\n",
    "$$ C(x) = \\frac{1}{x} $$\n",
    "\n",
    "Note: Sympy does not add constants for indefinite integrals, they must be added manually."
   ]
  },
  {
   "cell_type": "code",
   "execution_count": 116,
   "id": "d237c885",
   "metadata": {},
   "outputs": [],
   "source": [
    "import sympy as sp"
   ]
  },
  {
   "cell_type": "code",
   "execution_count": 117,
   "id": "db1acf43",
   "metadata": {},
   "outputs": [],
   "source": [
    "A = sp.exp(x)\n",
    "B = x ** 3\n",
    "C = 1 / x"
   ]
  },
  {
   "cell_type": "code",
   "execution_count": 119,
   "id": "4e20a7b2",
   "metadata": {},
   "outputs": [
    {
     "data": {
      "text/latex": [
       "$\\displaystyle e^{x}$"
      ],
      "text/plain": [
       "exp(x)"
      ]
     },
     "execution_count": 119,
     "metadata": {},
     "output_type": "execute_result"
    }
   ],
   "source": [
    "sp.integrate(A, x)"
   ]
  },
  {
   "cell_type": "code",
   "execution_count": 121,
   "id": "444de4db",
   "metadata": {},
   "outputs": [
    {
     "data": {
      "text/latex": [
       "$\\displaystyle \\frac{x^{4}}{4}$"
      ],
      "text/plain": [
       "x**4/4"
      ]
     },
     "execution_count": 121,
     "metadata": {},
     "output_type": "execute_result"
    }
   ],
   "source": [
    "sp.integrate(B, x)"
   ]
  },
  {
   "cell_type": "code",
   "execution_count": 123,
   "id": "955f900e",
   "metadata": {},
   "outputs": [
    {
     "data": {
      "text/latex": [
       "$\\displaystyle \\log{\\left(x \\right)}$"
      ],
      "text/plain": [
       "log(x)"
      ]
     },
     "execution_count": 123,
     "metadata": {},
     "output_type": "execute_result"
    }
   ],
   "source": [
    "sp.integrate(C, x)"
   ]
  },
  {
   "cell_type": "markdown",
   "id": "870d8e5b",
   "metadata": {},
   "source": [
    "## E13.3 - \n",
    "Calculate the double integral:\n",
    "$$ A(x,y) = \\iint_{A}dx.dy   $$\n",
    "\n",
    "Consider: $ 0 \\le x \\le 3 $ and $ 0 \\le y \\le 4 $\n"
   ]
  },
  {
   "cell_type": "code",
   "execution_count": 134,
   "id": "b9f88e02",
   "metadata": {},
   "outputs": [],
   "source": [
    "import sympy as sp"
   ]
  },
  {
   "cell_type": "code",
   "execution_count": 135,
   "id": "cbb41f16",
   "metadata": {},
   "outputs": [],
   "source": [
    "x, y = sp.symbols(['x', 'y'])"
   ]
  },
  {
   "cell_type": "code",
   "execution_count": 137,
   "id": "94e8d747",
   "metadata": {},
   "outputs": [
    {
     "data": {
      "text/latex": [
       "$\\displaystyle 12$"
      ],
      "text/plain": [
       "12"
      ]
     },
     "execution_count": 137,
     "metadata": {},
     "output_type": "execute_result"
    }
   ],
   "source": [
    "sp.integrate(1, (x, 0, 3), (y, 0, 4))"
   ]
  },
  {
   "cell_type": "markdown",
   "id": "4846b276",
   "metadata": {},
   "source": [
    "## E13.4 - \n",
    "Find the roots of the equations:\n",
    "\n",
    "$$ A(x) = x^3 + 5x^2  $$\n",
    "\n",
    "$$ B(x) = x^2 + 9 $$\n",
    "\n",
    "$$ C(x) = \\sin(x) $$\n",
    "\n",
    "$$ D(x) = x^2 + \\cos(x) $$"
   ]
  },
  {
   "cell_type": "code",
   "execution_count": 138,
   "id": "49eb7653",
   "metadata": {},
   "outputs": [],
   "source": [
    "import sympy as sp"
   ]
  },
  {
   "cell_type": "code",
   "execution_count": 141,
   "id": "e0d93103",
   "metadata": {},
   "outputs": [],
   "source": [
    "x = sp.symbols('x')\n",
    "\n",
    "A = x**3 + 5*x**2\n",
    "B = x**2 + 9\n",
    "C = sp.sin(x)\n",
    "D = x**2 + sp.cos(x)"
   ]
  },
  {
   "cell_type": "code",
   "execution_count": 142,
   "id": "6eca48bd",
   "metadata": {},
   "outputs": [
    {
     "data": {
      "text/latex": [
       "$\\displaystyle \\left\\{-5, 0\\right\\}$"
      ],
      "text/plain": [
       "{-5, 0}"
      ]
     },
     "execution_count": 142,
     "metadata": {},
     "output_type": "execute_result"
    }
   ],
   "source": [
    "sp.solveset(A, x)"
   ]
  },
  {
   "cell_type": "code",
   "execution_count": 143,
   "id": "08b1ceae",
   "metadata": {},
   "outputs": [
    {
     "data": {
      "text/latex": [
       "$\\displaystyle \\left\\{- 3 i, 3 i\\right\\}$"
      ],
      "text/plain": [
       "{-3*I, 3*I}"
      ]
     },
     "execution_count": 143,
     "metadata": {},
     "output_type": "execute_result"
    }
   ],
   "source": [
    "sp.solveset(B, x)"
   ]
  },
  {
   "cell_type": "code",
   "execution_count": 145,
   "id": "9d14124e",
   "metadata": {},
   "outputs": [
    {
     "data": {
      "text/latex": [
       "$\\displaystyle \\left\\{2 n \\pi\\; \\middle|\\; n \\in \\mathbb{Z}\\right\\} \\cup \\left\\{2 n \\pi + \\pi\\; \\middle|\\; n \\in \\mathbb{Z}\\right\\}$"
      ],
      "text/plain": [
       "Union(ImageSet(Lambda(_n, 2*_n*pi + pi), Integers), ImageSet(Lambda(_n, 2*_n*pi), Integers))"
      ]
     },
     "execution_count": 145,
     "metadata": {},
     "output_type": "execute_result"
    }
   ],
   "source": [
    "sp.solveset(C, x)"
   ]
  },
  {
   "cell_type": "code",
   "execution_count": 148,
   "id": "3a1f8df1",
   "metadata": {},
   "outputs": [
    {
     "data": {
      "text/latex": [
       "$\\displaystyle \\left\\{x\\; \\middle|\\; x \\in \\mathbb{C} \\wedge x^{2} + \\cos{\\left(x \\right)} = 0 \\right\\}$"
      ],
      "text/plain": [
       "ConditionSet(x, Eq(x**2 + cos(x), 0), Complexes)"
      ]
     },
     "execution_count": 148,
     "metadata": {},
     "output_type": "execute_result"
    }
   ],
   "source": [
    "sp.solveset(D, x)"
   ]
  },
  {
   "cell_type": "code",
   "execution_count": 151,
   "id": "24fb607e",
   "metadata": {},
   "outputs": [
    {
     "data": {
      "image/png": "[encoded data removed]",
      "text/plain": [
       "<Figure size 640x480 with 1 Axes>"
      ]
     },
     "metadata": {},
     "output_type": "display_data"
    }
   ],
   "source": [
    "import matplotlib.pyplot as plt\n",
    "import numpy as np\n",
    "\n",
    "x = np.linspace(-np.pi*100, np.pi*100, 100)\n",
    "y = x**2 + np.cos(x)\n",
    "\n",
    "plt.plot(x, y)\n",
    "plt.show()"
   ]
  },
  {
   "cell_type": "markdown",
   "id": "0af892a9",
   "metadata": {},
   "source": [
    "## E13.5 - \n",
    "Given the matrices, solve the system of equations $[A].\\{X\\} = \\{B\\}$\n",
    "\n",
    "$$ A=\n",
    " \\begin{bmatrix}\n",
    "   1 & 1 & 1 \\\\\\\\\n",
    "   1 & 2 & 2 \\\\\\\\\n",
    "   2 & 1 & 3 \n",
    "\\end{bmatrix}\n",
    "$$\n",
    "\n",
    "$$ X=\n",
    " \\begin{bmatrix}\n",
    "   x_1 \\\\\\\\\n",
    "   x_2 \\\\\\\\\n",
    "   x_3 \n",
    "\\end{bmatrix}\n",
    "$$\n",
    "\n",
    "$$ B=\n",
    " \\begin{bmatrix}\n",
    "   6 \\\\\\\\\n",
    "   9 \\\\\\\\\n",
    "   11 \n",
    "\\end{bmatrix}\n",
    "$$"
   ]
  },
  {
   "cell_type": "code",
   "execution_count": 30,
   "id": "4e546d20",
   "metadata": {},
   "outputs": [],
   "source": [
    "import sympy as sp"
   ]
  },
  {
   "cell_type": "code",
   "execution_count": 34,
   "id": "6fca4aa3",
   "metadata": {},
   "outputs": [],
   "source": [
    "x1, x2, x3 = sp.symbols(['x1', 'x2', 'x3'])\n",
    "A = sp.Matrix([[1, 1, 1],\n",
    "               [1, 2, 2],\n",
    "               [2, 1, 3]])\n",
    "x = sp.Matrix([x1, x2, x3])\n",
    "B = sp.Matrix([6, 9, 11])\n",
    "\n",
    "system = A*x - B"
   ]
  },
  {
   "cell_type": "code",
   "execution_count": 35,
   "id": "6e5c981d",
   "metadata": {},
   "outputs": [
    {
     "data": {
      "text/latex": [
       "$\\displaystyle \\left[\\begin{matrix}x_{1} + x_{2} + x_{3} - 6\\\\x_{1} + 2 x_{2} + 2 x_{3} - 9\\\\2 x_{1} + x_{2} + 3 x_{3} - 11\\end{matrix}\\right]$"
      ],
      "text/plain": [
       "Matrix([\n",
       "[     x1 + x2 + x3 - 6],\n",
       "[ x1 + 2*x2 + 2*x3 - 9],\n",
       "[2*x1 + x2 + 3*x3 - 11]])"
      ]
     },
     "execution_count": 35,
     "metadata": {},
     "output_type": "execute_result"
    }
   ],
   "source": [
    "system"
   ]
  },
  {
   "cell_type": "code",
   "execution_count": 36,
   "id": "e3527acb",
   "metadata": {},
   "outputs": [
    {
     "data": {
      "text/latex": [
       "$\\displaystyle \\left\\{\\left( 3, \\  2, \\  1\\right)\\right\\}$"
      ],
      "text/plain": [
       "{(3, 2, 1)}"
      ]
     },
     "execution_count": 36,
     "metadata": {},
     "output_type": "execute_result"
    }
   ],
   "source": [
    "sp.linsolve(system, (x1, x2, x3))"
   ]
  },
  {
   "cell_type": "code",
   "execution_count": null,
   "id": "eb601195",
   "metadata": {},
   "outputs": [],
   "source": []
  },
  {
   "cell_type": "code",
   "execution_count": null,
   "id": "38ca82c1",
   "metadata": {},
   "outputs": [],
   "source": []
  },
  {
   "cell_type": "markdown",
   "id": "659ea495",
   "metadata": {},
   "source": [
    "## E13.6 - \n",
    "Solve the ODE:\n",
    "$$ \\ \\ \\frac{dy}{dx} = \\frac{x^2}{y} $$"
   ]
  },
  {
   "cell_type": "code",
   "execution_count": 1,
   "id": "23b0a88d",
   "metadata": {},
   "outputs": [],
   "source": [
    "import sympy as sp\n",
    "sp.init_printing()"
   ]
  },
  {
   "cell_type": "code",
   "execution_count": 2,
   "id": "66229b1f",
   "metadata": {},
   "outputs": [],
   "source": [
    "x = sp.symbols('x')\n",
    "y = sp.Function('y')\n",
    "dydx = sp.Derivative(y(x), x)\n",
    "ode = dydx - x**2 / y(x)"
   ]
  },
  {
   "cell_type": "code",
   "execution_count": 3,
   "id": "1f0a8f1a",
   "metadata": {},
   "outputs": [
    {
     "data": {
      "image/png": "[encoded data removed]",
      "text/latex": [
       "$\\displaystyle \\left[ y{\\left(x \\right)} = - \\frac{\\sqrt{C_{1} + 6 x^{3}}}{3}, \\  y{\\left(x \\right)} = \\frac{\\sqrt{C_{1} + 6 x^{3}}}{3}\\right]$"
      ],
      "text/plain": [
       "⎡           ___________             ___________⎤\n",
       "⎢          ╱         3             ╱         3 ⎥\n",
       "⎢       -╲╱  C₁ + 6⋅x            ╲╱  C₁ + 6⋅x  ⎥\n",
       "⎢y(x) = ────────────────, y(x) = ──────────────⎥\n",
       "⎣              3                       3       ⎦"
      ]
     },
     "execution_count": 3,
     "metadata": {},
     "output_type": "execute_result"
    }
   ],
   "source": [
    "sp.dsolve(ode)"
   ]
  },
  {
   "cell_type": "markdown",
   "id": "1f1e12a0",
   "metadata": {},
   "source": [
    "## E13.7 - \n",
    "Solve the ODE:\n",
    "\n",
    "$$ B)\\ \\ m\\ddot{x}(t) + c\\dot{x}(t) + kx(t)=0; \\ \\ com\\ x(0) = x_0 \\ e\\  \\dot{x}(0) = v_0   $$"
   ]
  },
  {
   "cell_type": "code",
   "execution_count": 176,
   "id": "770d76e1",
   "metadata": {},
   "outputs": [],
   "source": [
    "t, m, c, k, x0, v0 = sp.symbols(['t', 'm', 'c', 'k', 'x0', 'v0'])\n",
    "C1, C2 = sp.symbols(['C1', 'C2'])"
   ]
  },
  {
   "cell_type": "code",
   "execution_count": 172,
   "id": "64a3da45",
   "metadata": {},
   "outputs": [],
   "source": [
    "x = sp.Function('x')\n",
    "dx = sp.Derivative(x(t), t)\n",
    "ddx = sp.Derivative(x(t), t, t)\n",
    "\n",
    "ode = m*ddx + c*dx + k*x(t)"
   ]
  },
  {
   "cell_type": "code",
   "execution_count": 175,
   "id": "88857944",
   "metadata": {},
   "outputs": [
    {
     "name": "stdout",
     "output_type": "stream",
     "text": [
      "Eq(x(t), C1*exp(t*(-c + sqrt(c**2 - 4*k*m))/(2*m)) + C2*exp(-t*(c + sqrt(c**2 - 4*k*m))/(2*m)))\n"
     ]
    }
   ],
   "source": [
    "sol = sp.dsolve(ode)\n",
    "print(sol)"
   ]
  },
  {
   "cell_type": "code",
   "execution_count": 179,
   "id": "57d2da8f",
   "metadata": {},
   "outputs": [],
   "source": [
    "x_t0 = (C1*sp.exp(t*(-c + sp.sqrt(c**2 - 4*k*m))/(2*m)) + C2*sp.exp(-t*(c + sp.sqrt(c**2 - 4*k*m))/(2*m))).subs(t, 0)\n",
    "dx_t0 = (sp.diff(x_t, t)).subs(t, 0)"
   ]
  },
  {
   "cell_type": "code",
   "execution_count": 182,
   "id": "057c1b6d",
   "metadata": {},
   "outputs": [
    {
     "data": {
      "text/latex": [
       "$\\displaystyle \\left[\\begin{matrix}C_{1} + C_{2} - x_{0}\\\\\\frac{C_{1} \\left(- c + \\sqrt{c^{2} - 4 k m}\\right)}{2 m} - \\frac{C_{2} \\left(c + \\sqrt{c^{2} - 4 k m}\\right)}{2 m} - v_{0}\\end{matrix}\\right]$"
      ],
      "text/plain": [
       "⎡                      C₁ + C₂ - x₀                       ⎤\n",
       "⎢                                                         ⎥\n",
       "⎢   ⎛        ____________⎞      ⎛       ____________⎞     ⎥\n",
       "⎢   ⎜       ╱  2         ⎟      ⎜      ╱  2         ⎟     ⎥\n",
       "⎢C₁⋅⎝-c + ╲╱  c  - 4⋅k⋅m ⎠   C₂⋅⎝c + ╲╱  c  - 4⋅k⋅m ⎠     ⎥\n",
       "⎢───────────────────────── - ──────────────────────── - v₀⎥\n",
       "⎣           2⋅m                        2⋅m                ⎦"
      ]
     },
     "execution_count": 182,
     "metadata": {},
     "output_type": "execute_result"
    }
   ],
   "source": [
    "eq1 = x_t0 - x0\n",
    "eq2 = dx_t0 - v0\n",
    "\n",
    "system = sp.Matrix([[eq1], \n",
    "                    [eq2]])\n",
    "\n",
    "system"
   ]
  },
  {
   "cell_type": "code",
   "execution_count": 204,
   "id": "4cbd84ed",
   "metadata": {},
   "outputs": [
    {
     "data": {
      "image/png": "[encoded data removed]",
      "text/latex": [
       "$\\displaystyle \\left\\{\\left( \\frac{c x_{0} + 2 m v_{0} + x_{0} \\sqrt{c^{2} - 4 k m}}{2 \\sqrt{c^{2} - 4 k m}}, \\  \\frac{- c x_{0} - 2 m v_{0} + x_{0} \\sqrt{c^{2} - 4 k m}}{2 \\sqrt{c^{2} - 4 k m}}\\right)\\right\\}$"
      ],
      "text/plain": [
       "⎧⎛                      ____________                         ____________⎞⎫\n",
       "⎪⎜                     ╱  2                                 ╱  2         ⎟⎪\n",
       "⎪⎜c⋅x₀ + 2⋅m⋅v₀ + x₀⋅╲╱  c  - 4⋅k⋅m   -c⋅x₀ - 2⋅m⋅v₀ + x₀⋅╲╱  c  - 4⋅k⋅m ⎟⎪\n",
       "⎨⎜──────────────────────────────────, ───────────────────────────────────⎟⎬\n",
       "⎪⎜             ____________                         ____________         ⎟⎪\n",
       "⎪⎜            ╱  2                                 ╱  2                  ⎟⎪\n",
       "⎩⎝        2⋅╲╱  c  - 4⋅k⋅m                     2⋅╲╱  c  - 4⋅k⋅m          ⎠⎭"
      ]
     },
     "execution_count": 204,
     "metadata": {},
     "output_type": "execute_result"
    }
   ],
   "source": [
    "sp.nonlinsolve(system, (C1, C2))"
   ]
  },
  {
   "cell_type": "markdown",
   "id": "bcfa3148",
   "metadata": {},
   "source": [
    "## E13.8 - \n",
    "Solve the following ODE using sympy and adopting the given values. In the scipy chapter, we will do this exercise again.\n",
    "\n",
    "$$ \\ \\ m\\ddot{x}(t) + c\\dot{x}(t) + kx(t)=0; \\ \\ with\\ x(0) = x_0 \\ and\\  \\dot{x}(0) = v_0   $$\n",
    "\n",
    "To make the comparison, we will adopt the values:\n",
    "$$ \\ \\ 10\\ddot{x}(t) + 20\\dot{x}(t) + 50x(t)=0; \\ \\ with\\ x(0) = 10 \\ and\\  \\dot{x}(0) = 0   $$"
   ]
  },
  {
   "cell_type": "code",
   "execution_count": 4,
   "id": "3b9ef51f",
   "metadata": {},
   "outputs": [],
   "source": [
    "import numpy as np\n",
    "import sympy as sp\n",
    "import matplotlib.pyplot as plt\n",
    "\n",
    "from sympy import exp, sqrt, sin, cos"
   ]
  },
  {
   "cell_type": "code",
   "execution_count": 5,
   "id": "5b1b9ef7",
   "metadata": {},
   "outputs": [],
   "source": [
    "t = sp.symbols('t')\n",
    "C1, C2 = sp.symbols(['C1', 'C2'])\n",
    "x = sp.Function('x')\n",
    "dx = sp.Derivative(x(t), t)\n",
    "ddx = sp.Derivative(x(t), t, t)"
   ]
  },
  {
   "cell_type": "code",
   "execution_count": 6,
   "id": "7475dbce",
   "metadata": {},
   "outputs": [],
   "source": [
    "ode = 10*ddx + 20*dx + 50*x(t)"
   ]
  },
  {
   "cell_type": "code",
   "execution_count": 7,
   "id": "6acfedbc",
   "metadata": {},
   "outputs": [
    {
     "name": "stdout",
     "output_type": "stream",
     "text": [
      "Eq(x(t), (C1*sin(2*t) + C2*cos(2*t))*exp(-t))\n"
     ]
    }
   ],
   "source": [
    "print(sp.dsolve(ode))"
   ]
  },
  {
   "cell_type": "code",
   "execution_count": 8,
   "id": "a0ad5927",
   "metadata": {},
   "outputs": [],
   "source": [
    "x_res = (C1*sin(2*t) + C2*cos(2*t))*exp(-t)\n",
    "dx_res = sp.diff(x_res, t)"
   ]
  },
  {
   "cell_type": "code",
   "execution_count": 9,
   "id": "0d3657c3",
   "metadata": {},
   "outputs": [
    {
     "data": {
      "image/png": "[encoded data removed]",
      "text/latex": [
       "$\\displaystyle \\left\\{10\\right\\}$"
      ],
      "text/plain": [
       "{10}"
      ]
     },
     "execution_count": 9,
     "metadata": {},
     "output_type": "execute_result"
    }
   ],
   "source": [
    "eq1 = x_res.subs(t, 0) - 10\n",
    "\n",
    "sp.solveset(eq1, C2)"
   ]
  },
  {
   "cell_type": "code",
   "execution_count": 10,
   "id": "6a27023b",
   "metadata": {},
   "outputs": [
    {
     "data": {
      "image/png": "[encoded data removed]",
      "text/latex": [
       "$\\displaystyle \\left\\{5\\right\\}$"
      ],
      "text/plain": [
       "{5}"
      ]
     },
     "execution_count": 10,
     "metadata": {},
     "output_type": "execute_result"
    }
   ],
   "source": [
    "eq2 = dx_res.subs(t, 0).subs(C2, 10)\n",
    "sp.solveset(eq2, C1)"
   ]
  },
  {
   "cell_type": "code",
   "execution_count": 11,
   "id": "6b899296",
   "metadata": {},
   "outputs": [],
   "source": [
    "x_res = x_res.subs(C1, 5).subs(C2, 10)\n",
    "dx_res = sp.diff(x_res, t)"
   ]
  },
  {
   "cell_type": "code",
   "execution_count": 12,
   "id": "d5e95a5f",
   "metadata": {},
   "outputs": [],
   "source": [
    "t_data = np.linspace(0, 10, 100)\n",
    "x_data = [x_res.subs(t, i) for i in t_data]\n",
    "dx_data = [dx_res.subs(t, i) for i in t_data]"
   ]
  },
  {
   "cell_type": "code",
   "execution_count": 19,
   "id": "cc7aa4b5",
   "metadata": {},
   "outputs": [
    {
     "data": {
      "image/png": "[encoded data removed]",
      "text/plain": [
       "<Figure size 640x480 with 1 Axes>"
      ]
     },
     "metadata": {},
     "output_type": "display_data"
    }
   ],
   "source": [
    "plt.plot(t_data, dx_data, 'k--', label='v [m/s]')\n",
    "plt.plot(t_data, x_data, 'r-', label='x [m]')\n",
    "plt.xlabel('time')\n",
    "plt.ylabel('output)')\n",
    "plt.grid()\n",
    "plt.legend()\n",
    "plt.show()"
   ]
  },
  {
   "cell_type": "code",
   "execution_count": null,
   "id": "48ece96b",
   "metadata": {},
   "outputs": [],
   "source": []
  },
  {
   "cell_type": "code",
   "execution_count": null,
   "id": "a6d04220",
   "metadata": {},
   "outputs": [],
   "source": []
  }
 ],
 "metadata": {
  "kernelspec": {
   "display_name": "Python 3 (ipykernel)",
   "language": "python",
   "name": "python3"
  },
  "language_info": {
   "codemirror_mode": {
    "name": "ipython",
    "version": 3
   },
   "file_extension": ".py",
   "mimetype": "text/x-python",
   "name": "python",
   "nbconvert_exporter": "python",
   "pygments_lexer": "ipython3",
   "version": "3.9.13"
  }
 },
 "nbformat": 4,
 "nbformat_minor": 5
}
