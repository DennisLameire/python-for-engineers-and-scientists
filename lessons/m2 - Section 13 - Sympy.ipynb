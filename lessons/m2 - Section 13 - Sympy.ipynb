{
 "cells": [
  {
   "cell_type": "markdown",
   "id": "ade90b6b",
   "metadata": {},
   "source": [
    "# PART 2\n",
    "# Section 13: Sympy\n",
    "\n",
    "Sympy is a library for symbolic mathematics in Python. Additionally, it offers a variety of functions, solvers, constants, and other modules."
   ]
  },
  {
   "cell_type": "markdown",
   "id": "15375dd9",
   "metadata": {},
   "source": [
    "## 13.1 - Basic Operations\n",
    "\n",
    "\n",
    "| Function / Method | Description |\n",
    "|-------------------|-------------|\n",
    "| sp.symbols(arg)   | function that generates symbolic values |\n",
    "| sp.simplify(arg)  | function that simplifies an expression |\n",
    "| sp.init_printing()| repr that prints in latex format |\n",
    "| eq.subs(sym, val)| method that substitutes the symbolic by a value |\n",
    "\n",
    "\n",
    "**Notes:**\n",
    "<pre>Boolean operations work with symbolic.</pre>\n",
    "<pre>Sympy has mathematical functions and constants like cos(), sin(), pi</pre>"
   ]
  },
  {
   "cell_type": "code",
   "execution_count": 4,
   "id": "4887fb5b",
   "metadata": {},
   "outputs": [],
   "source": [
    "import sympy as sp"
   ]
  },
  {
   "cell_type": "code",
   "execution_count": 15,
   "id": "f9bfb176",
   "metadata": {},
   "outputs": [],
   "source": [
    "x, y = sp.symbols(['x', 'y'])"
   ]
  },
  {
   "cell_type": "code",
   "execution_count": 16,
   "id": "1ae20c73",
   "metadata": {},
   "outputs": [
    {
     "data": {
      "text/latex": [
       "$\\displaystyle x^{2} + y^{2}$"
      ],
      "text/plain": [
       "x**2 + y**2"
      ]
     },
     "execution_count": 16,
     "metadata": {},
     "output_type": "execute_result"
    }
   ],
   "source": [
    "eq = x **2 + y **2 \n",
    "eq"
   ]
  },
  {
   "cell_type": "code",
   "execution_count": 17,
   "id": "1d38cd4e",
   "metadata": {},
   "outputs": [
    {
     "data": {
      "text/latex": [
       "$\\displaystyle 20$"
      ],
      "text/plain": [
       "20"
      ]
     },
     "execution_count": 17,
     "metadata": {},
     "output_type": "execute_result"
    }
   ],
   "source": [
    "eq.subs([(x, 2), (y, 4)])"
   ]
  },
  {
   "cell_type": "code",
   "execution_count": null,
   "id": "69c06e58",
   "metadata": {},
   "outputs": [],
   "source": []
  },
  {
   "cell_type": "markdown",
   "id": "ce68b77a",
   "metadata": {},
   "source": [
    "## 13.2 - Matrices\n",
    "\n",
    "### Functions\n",
    "| Function | Description |\n",
    "|----------|-------------|\n",
    "| sp.Matrix(args) | creates a Matrix object |\n",
    "| sp.eye(n) | creates an $n \\times n$ matrix with zeros |\n",
    "| sp.ones(n) | creates an $n \\times n$ matrix with ones |\n",
    "| sp.diag(arg) | creates a diagonal matrix from a list (for non-sparse matrix, unpack) |\n",
    "\n",
    "### Attributes\n",
    "| Attribute | Description |\n",
    "|-----------|-------------|\n",
    "| M.shape | property that returns the size of the matrix |\n",
    "| M.det() | method that returns the determinant of the matrix |\n",
    "| M.T | property that returns the transpose matrix |\n",
    "\n",
    "**Notes:**\n",
    "- To return the inverse matrix, raise M to -1.\n",
    "- Use * for matrix multiplication.\n",
    "- Matrices of the same size accept addition and subtraction."
   ]
  },
  {
   "cell_type": "code",
   "execution_count": 22,
   "id": "fc7cffc6",
   "metadata": {},
   "outputs": [
    {
     "data": {
      "text/latex": [
       "$\\displaystyle \\left[\\begin{matrix}1\\\\2\\\\3\\end{matrix}\\right]$"
      ],
      "text/plain": [
       "Matrix([\n",
       "[1],\n",
       "[2],\n",
       "[3]])"
      ]
     },
     "execution_count": 22,
     "metadata": {},
     "output_type": "execute_result"
    }
   ],
   "source": [
    "sp.diag([1, 2, 3])"
   ]
  },
  {
   "cell_type": "code",
   "execution_count": null,
   "id": "d094eb57",
   "metadata": {},
   "outputs": [],
   "source": []
  },
  {
   "cell_type": "code",
   "execution_count": null,
   "id": "858c823f",
   "metadata": {},
   "outputs": [],
   "source": []
  },
  {
   "cell_type": "markdown",
   "id": "73359ed1",
   "metadata": {},
   "source": [
    "## 13.3 - Calculus Functions\n",
    "\n",
    "### Functions\n",
    "| Function | Description |\n",
    "|----------|-------------|\n",
    "| sp.diff(eq, vars) | computes the derivative of equation eq with respect to vars |\n",
    "| sp.integrate(eq, (var, start, end)) | computes the integration of equation eq with respect to var |\n",
    "\n",
    "**Notes:**\n",
    "- Sympy also provides functions for calculating limits, series expansion, and finite differences."
   ]
  },
  {
   "cell_type": "code",
   "execution_count": 1,
   "id": "e9d8c078",
   "metadata": {},
   "outputs": [],
   "source": [
    "import sympy as sp"
   ]
  },
  {
   "cell_type": "code",
   "execution_count": 6,
   "id": "d4bff1fc",
   "metadata": {},
   "outputs": [],
   "source": [
    "x = sp.symbols('x')\n",
    "y = sp.sin(x)\n",
    "dydx = sp.diff(y, x)\n",
    "d2ydx2 = sp.diff(y, x, x)"
   ]
  },
  {
   "cell_type": "code",
   "execution_count": 7,
   "id": "95f0b62a",
   "metadata": {},
   "outputs": [
    {
     "data": {
      "text/latex": [
       "$\\displaystyle - \\sin{\\left(x \\right)}$"
      ],
      "text/plain": [
       "-sin(x)"
      ]
     },
     "execution_count": 7,
     "metadata": {},
     "output_type": "execute_result"
    }
   ],
   "source": [
    "d2ydx2"
   ]
  },
  {
   "cell_type": "code",
   "execution_count": 8,
   "id": "aa63136d",
   "metadata": {},
   "outputs": [
    {
     "data": {
      "text/latex": [
       "$\\displaystyle 2 x + 1$"
      ],
      "text/plain": [
       "2*x + 1"
      ]
     },
     "execution_count": 8,
     "metadata": {},
     "output_type": "execute_result"
    }
   ],
   "source": [
    "y = x ** 2 + x\n",
    "sp.diff(y, x)"
   ]
  },
  {
   "cell_type": "code",
   "execution_count": 13,
   "id": "8e04cd9a",
   "metadata": {},
   "outputs": [
    {
     "data": {
      "text/latex": [
       "$\\displaystyle c + \\frac{x^{3}}{3} + \\frac{x^{2}}{2}$"
      ],
      "text/plain": [
       "c + x**3/3 + x**2/2"
      ]
     },
     "execution_count": 13,
     "metadata": {},
     "output_type": "execute_result"
    }
   ],
   "source": [
    "c = sp.symbols('c')\n",
    "\n",
    "iy = sp.integrate(y, x)\n",
    "iy + c"
   ]
  },
  {
   "cell_type": "code",
   "execution_count": 14,
   "id": "ec32040b",
   "metadata": {},
   "outputs": [
    {
     "data": {
      "text/latex": [
       "$\\displaystyle \\frac{5}{6}$"
      ],
      "text/plain": [
       "5/6"
      ]
     },
     "execution_count": 14,
     "metadata": {},
     "output_type": "execute_result"
    }
   ],
   "source": [
    "sp.integrate(y, (x, 0, 1))"
   ]
  },
  {
   "cell_type": "code",
   "execution_count": 15,
   "id": "4c54c176",
   "metadata": {},
   "outputs": [
    {
     "data": {
      "text/latex": [
       "$\\displaystyle \\infty$"
      ],
      "text/plain": [
       "oo"
      ]
     },
     "execution_count": 15,
     "metadata": {},
     "output_type": "execute_result"
    }
   ],
   "source": [
    "sp.oo"
   ]
  },
  {
   "cell_type": "code",
   "execution_count": 16,
   "id": "8eea63d3",
   "metadata": {},
   "outputs": [
    {
     "data": {
      "text/latex": [
       "$\\displaystyle e^{- x}$"
      ],
      "text/plain": [
       "exp(-x)"
      ]
     },
     "execution_count": 16,
     "metadata": {},
     "output_type": "execute_result"
    }
   ],
   "source": [
    "y = sp.exp(-x)\n",
    "y"
   ]
  },
  {
   "cell_type": "code",
   "execution_count": 17,
   "id": "986cacb5",
   "metadata": {},
   "outputs": [
    {
     "data": {
      "text/latex": [
       "$\\displaystyle 1$"
      ],
      "text/plain": [
       "1"
      ]
     },
     "execution_count": 17,
     "metadata": {},
     "output_type": "execute_result"
    }
   ],
   "source": [
    "sp.integrate(y, (x, 0, sp.oo))"
   ]
  },
  {
   "cell_type": "code",
   "execution_count": null,
   "id": "ff093dc1",
   "metadata": {},
   "outputs": [],
   "source": []
  },
  {
   "cell_type": "code",
   "execution_count": null,
   "id": "dc7d9de6",
   "metadata": {},
   "outputs": [],
   "source": []
  },
  {
   "cell_type": "code",
   "execution_count": null,
   "id": "d00eb6bf",
   "metadata": {},
   "outputs": [],
   "source": []
  },
  {
   "cell_type": "markdown",
   "id": "7ba75a40",
   "metadata": {},
   "source": [
    "## 13.4 - Solvers (Algebraic, Linear and Nonlinear Systems)\n",
    "\n",
    "### Functions\n",
    "| Function | Description |\n",
    "|----------|-------------|\n",
    "| sp.solveset(eq, var) | solves algebraic equations (it is the most modern solution in sympy) |\n",
    "| sp.linsolve(eqs, vars) | solves linear systems |\n",
    "| sp.nonlinsolve(eqs, vars) | solves nonlinear systems |\n",
    "| sp.solve(eqs, vars) | solves all the above, but will be OBSOLETE in the future |\n",
    "\n",
    "**Notes:**\n",
    "- Sympy is constantly working on solvers. This lesson is for sympy 1.9, in the future they will implement linsolve within solveset.\n",
    "- The new forms are not capable of solving certain types of equations, for these cases use solve."
   ]
  },
  {
   "cell_type": "code",
   "execution_count": 18,
   "id": "6731a12a",
   "metadata": {},
   "outputs": [],
   "source": [
    "import sympy as sp\n"
   ]
  },
  {
   "cell_type": "code",
   "execution_count": 22,
   "id": "09a15638",
   "metadata": {},
   "outputs": [
    {
     "data": {
      "text/latex": [
       "$\\displaystyle \\left\\{- \\frac{2}{5}, 0\\right\\}$"
      ],
      "text/plain": [
       "{-2/5, 0}"
      ]
     },
     "execution_count": 22,
     "metadata": {},
     "output_type": "execute_result"
    }
   ],
   "source": [
    "# solveset\n",
    "x = sp.symbols('x')\n",
    "y = 5 * x**2 + 2*x\n",
    "sp.solveset(y, x)"
   ]
  },
  {
   "cell_type": "code",
   "execution_count": 27,
   "id": "bc80ec4d",
   "metadata": {},
   "outputs": [
    {
     "data": {
      "text/latex": [
       "$\\displaystyle \\left\\{- \\frac{1}{2} - \\frac{\\sqrt{19} i}{2}, - \\frac{1}{2} + \\frac{\\sqrt{19} i}{2}\\right\\}$"
      ],
      "text/plain": [
       "{-1/2 - sqrt(19)*I/2, -1/2 + sqrt(19)*I/2}"
      ]
     },
     "execution_count": 27,
     "metadata": {},
     "output_type": "execute_result"
    }
   ],
   "source": [
    "y = x ** 2 + x + 5\n",
    "sp.solveset(y, x)"
   ]
  },
  {
   "cell_type": "code",
   "execution_count": 39,
   "id": "8e669046",
   "metadata": {},
   "outputs": [
    {
     "data": {
      "text/latex": [
       "$\\displaystyle \\left\\{\\left( -3, \\  5, \\  0\\right)\\right\\}$"
      ],
      "text/plain": [
       "{(-3, 5, 0)}"
      ]
     },
     "execution_count": 39,
     "metadata": {},
     "output_type": "execute_result"
    }
   ],
   "source": [
    "# linsolve\n",
    "x1, x2, x3 = sp.symbols(['x1', 'x2', 'x3'])\n",
    "A = sp.Matrix([[3, 2, 4],\n",
    "               [1, 1, 2],\n",
    "               [4, 3, -2]])\n",
    "X = sp.Matrix([x1, x2, x3])\n",
    "B = sp.Matrix([1, 2, 3])\n",
    "\n",
    "sistema = A*X - B\n",
    "sp.linsolve(sistema, (x1, x2, x3))"
   ]
  },
  {
   "cell_type": "markdown",
   "id": "2b191b76",
   "metadata": {},
   "source": [
    "## 13.5 - Solver (Differential Equations)\n",
    "\n",
    "### Applicable Objects\n",
    "| Object | Description |\n",
    "|--------|-------------|\n",
    "| sp.Function(name) | creates a Function object |\n",
    "| sp.Derivative(y_x(x), x) | Creates a Derivative object |\n",
    "\n",
    "### Function\n",
    "| Function | Description |\n",
    "|----------|-------------|\n",
    "| sp.dsolve(eq) | finds the solution of the differential equation |\n",
    "\n",
    "**Notes:**\n",
    "- If it's not possible to find an analytical solution, we can find a numerical solution using the scipy library as we'll see later on."
   ]
  },
  {
   "cell_type": "code",
   "execution_count": 40,
   "id": "7c784231",
   "metadata": {},
   "outputs": [],
   "source": [
    "import sympy as sp"
   ]
  },
  {
   "cell_type": "code",
   "execution_count": 41,
   "id": "5d93a503",
   "metadata": {},
   "outputs": [],
   "source": [
    "x = sp.symbols('x')"
   ]
  },
  {
   "cell_type": "code",
   "execution_count": 52,
   "id": "12718e2c",
   "metadata": {},
   "outputs": [
    {
     "data": {
      "text/latex": [
       "$\\displaystyle y{\\left(x \\right)}$"
      ],
      "text/plain": [
       "y(x)"
      ]
     },
     "execution_count": 52,
     "metadata": {},
     "output_type": "execute_result"
    }
   ],
   "source": [
    "y = sp.Function('y')\n",
    "y(x)"
   ]
  },
  {
   "cell_type": "code",
   "execution_count": 55,
   "id": "9e1be791",
   "metadata": {},
   "outputs": [
    {
     "data": {
      "text/latex": [
       "$\\displaystyle \\frac{d^{2}}{d x^{2}} y{\\left(x \\right)}$"
      ],
      "text/plain": [
       "Derivative(y(x), (x, 2))"
      ]
     },
     "execution_count": 55,
     "metadata": {},
     "output_type": "execute_result"
    }
   ],
   "source": [
    "dy2dx2 = sp.Derivative(y(x), x, x)\n",
    "dy2dx2"
   ]
  },
  {
   "cell_type": "code",
   "execution_count": 56,
   "id": "c6fa2299",
   "metadata": {},
   "outputs": [
    {
     "data": {
      "text/latex": [
       "$\\displaystyle y{\\left(x \\right)} = C_{1} + C_{2} x + \\frac{5 x^{2}}{2}$"
      ],
      "text/plain": [
       "Eq(y(x), C1 + C2*x + 5*x**2/2)"
      ]
     },
     "execution_count": 56,
     "metadata": {},
     "output_type": "execute_result"
    }
   ],
   "source": [
    "eq = dy2dx2 - 5\n",
    "sp.dsolve(eq)"
   ]
  },
  {
   "cell_type": "code",
   "execution_count": null,
   "id": "e31f226e",
   "metadata": {},
   "outputs": [],
   "source": []
  },
  {
   "cell_type": "code",
   "execution_count": null,
   "id": "9f3a4858",
   "metadata": {},
   "outputs": [],
   "source": []
  },
  {
   "cell_type": "markdown",
   "id": "7d8d9b1e",
   "metadata": {},
   "source": [
    "## E13.1\n",
    "Given matrices A, B, C, and D, calculate, for each one, the determinant, the transpose matrix, and the inverse matrix.\n",
    "\n",
    "$$ A=\n",
    " \\begin{bmatrix}\n",
    "   1 & 2 \\\\\n",
    "   4 & 5\n",
    "  \\end{bmatrix}\n",
    "$$\n",
    "\n",
    "$$ B=\n",
    " \\begin{bmatrix}\n",
    "   \\cos(\\pi/4) & -\\sin(\\pi/4) \\\\\n",
    "   \\sin(\\pi/4) & \\cos(\\pi/4)\n",
    "  \\end{bmatrix}\n",
    "$$\n",
    "\n",
    "$$ C=\n",
    " \\begin{bmatrix}\n",
    "   2 & -2 \\\\\n",
    "   -2 & 5\n",
    "  \\end{bmatrix}\n",
    "$$\n",
    "\n",
    "$$\n",
    "D=\n",
    " \\begin{bmatrix}\n",
    "   2 & 2 \\\\\n",
    "   4 & 4\n",
    "  \\end{bmatrix}\n",
    "$$\n",
    "\n",
    "\n",
    "Notes:\n",
    "- A has a determinant different from zero.\n",
    "- B is an orthogonal matrix, its inverse is equal to its transpose, and its determinant should be +1 or -1.\n",
    "- C is a symmetric matrix, it is equal to its transpose.\n",
    "- D has a determinant equal to zero, therefore it is not invertible."
   ]
  },
  {
   "cell_type": "code",
   "execution_count": null,
   "id": "8fdd634b",
   "metadata": {},
   "outputs": [],
   "source": []
  },
  {
   "cell_type": "code",
   "execution_count": null,
   "id": "1d58ab7c",
   "metadata": {},
   "outputs": [],
   "source": []
  },
  {
   "cell_type": "code",
   "execution_count": null,
   "id": "f8b1a8c3",
   "metadata": {},
   "outputs": [],
   "source": []
  },
  {
   "cell_type": "code",
   "execution_count": null,
   "id": "e9fac31b",
   "metadata": {},
   "outputs": [],
   "source": []
  },
  {
   "cell_type": "code",
   "execution_count": null,
   "id": "59300532",
   "metadata": {},
   "outputs": [],
   "source": []
  },
  {
   "cell_type": "code",
   "execution_count": null,
   "id": "56e778c0",
   "metadata": {},
   "outputs": [],
   "source": []
  },
  {
   "cell_type": "markdown",
   "id": "7bd7562f",
   "metadata": {},
   "source": [
    "## E13.2 - \n",
    "Given the functions, calculate their first-order derivative and their primitive (indefinite integral).\n",
    "\n",
    "$$ A(x) = e^x $$\n",
    "\n",
    "$$ B(x) = x^3 $$\n",
    "\n",
    "$$ C(x) = \\frac{1}{x} $$\n",
    "\n",
    "Note: Sympy does not add constants for indefinite integrals, they must be added manually."
   ]
  },
  {
   "cell_type": "code",
   "execution_count": null,
   "id": "d237c885",
   "metadata": {},
   "outputs": [],
   "source": []
  },
  {
   "cell_type": "code",
   "execution_count": null,
   "id": "955f900e",
   "metadata": {},
   "outputs": [],
   "source": []
  },
  {
   "cell_type": "markdown",
   "id": "870d8e5b",
   "metadata": {},
   "source": [
    "## E13.3 - \n",
    "Calculate the double integral:\n",
    "$$ A(x,y) = \\iint_{A}dx.dy   $$\n",
    "\n",
    "Consider: $ 0 \\le x \\le 3 $ and $ 0 \\le y \\le 4 $\n"
   ]
  },
  {
   "cell_type": "code",
   "execution_count": null,
   "id": "b9f88e02",
   "metadata": {},
   "outputs": [],
   "source": []
  },
  {
   "cell_type": "code",
   "execution_count": null,
   "id": "e2345658",
   "metadata": {},
   "outputs": [],
   "source": []
  },
  {
   "cell_type": "code",
   "execution_count": null,
   "id": "a5677d74",
   "metadata": {},
   "outputs": [],
   "source": []
  },
  {
   "cell_type": "markdown",
   "id": "4846b276",
   "metadata": {},
   "source": [
    "## E13.4 - \n",
    "Find the roots of the equations:\n",
    "\n",
    "$$ A(x) = x^3 + 5x^2  $$\n",
    "\n",
    "$$ B(x) = x^2 + 9 $$\n",
    "\n",
    "$$ C(x) = \\sin(x) $$\n",
    "\n",
    "$$ D(x) = x^2 + \\cos(x) $$"
   ]
  },
  {
   "cell_type": "code",
   "execution_count": null,
   "id": "49eb7653",
   "metadata": {},
   "outputs": [],
   "source": []
  },
  {
   "cell_type": "code",
   "execution_count": null,
   "id": "e0d93103",
   "metadata": {},
   "outputs": [],
   "source": []
  },
  {
   "cell_type": "code",
   "execution_count": null,
   "id": "6eca48bd",
   "metadata": {},
   "outputs": [],
   "source": []
  },
  {
   "cell_type": "markdown",
   "id": "0af892a9",
   "metadata": {},
   "source": [
    "## E13.5 - \n",
    "Given the matrices, solve the system of equations $[A].\\{X\\} = \\{B\\}$\n",
    "\n",
    "$$ A=\n",
    " \\begin{bmatrix}\n",
    "   1 & 1 & 1 \\\\\\\\\n",
    "   1 & 2 & 2 \\\\\\\\\n",
    "   2 & 1 & 3 \n",
    "\\end{bmatrix}\n",
    "$$\n",
    "\n",
    "$$ X=\n",
    " \\begin{bmatrix}\n",
    "   x_1 \\\\\\\\\n",
    "   x_2 \\\\\\\\\n",
    "   x_3 \n",
    "\\end{bmatrix}\n",
    "$$\n",
    "\n",
    "$$ B=\n",
    " \\begin{bmatrix}\n",
    "   6 \\\\\\\\\n",
    "   9 \\\\\\\\\n",
    "   11 \n",
    "\\end{bmatrix}\n",
    "$$"
   ]
  },
  {
   "cell_type": "code",
   "execution_count": null,
   "id": "4e546d20",
   "metadata": {},
   "outputs": [],
   "source": []
  },
  {
   "cell_type": "code",
   "execution_count": null,
   "id": "6fca4aa3",
   "metadata": {},
   "outputs": [],
   "source": []
  },
  {
   "cell_type": "code",
   "execution_count": null,
   "id": "b3a036d6",
   "metadata": {},
   "outputs": [],
   "source": []
  },
  {
   "cell_type": "markdown",
   "id": "659ea495",
   "metadata": {},
   "source": [
    "## E13.6 - \n",
    "Solve the ODE:\n",
    "$$ \\ \\ \\frac{dy}{dx} = \\frac{x^2}{y} $$"
   ]
  },
  {
   "cell_type": "code",
   "execution_count": null,
   "id": "23b0a88d",
   "metadata": {},
   "outputs": [],
   "source": []
  },
  {
   "cell_type": "code",
   "execution_count": null,
   "id": "e7830b33",
   "metadata": {},
   "outputs": [],
   "source": []
  },
  {
   "cell_type": "markdown",
   "id": "1f1e12a0",
   "metadata": {},
   "source": [
    "## E13.7 - \n",
    "Solve the ODE:\n",
    "\n",
    "$$ B)\\ \\ m\\ddot{x}(t) + c\\dot{x}(t) + kx(t)=0; \\ \\ com\\ x(0) = x_0 \\ e\\  \\dot{x}(0) = v_0   $$"
   ]
  },
  {
   "cell_type": "code",
   "execution_count": null,
   "id": "770d76e1",
   "metadata": {},
   "outputs": [],
   "source": []
  },
  {
   "cell_type": "code",
   "execution_count": null,
   "id": "64a3da45",
   "metadata": {},
   "outputs": [],
   "source": []
  },
  {
   "cell_type": "markdown",
   "id": "bcfa3148",
   "metadata": {},
   "source": [
    "## E13.8 - \n",
    "Solve the following ODE using sympy and adopting the given values. In the scipy chapter, we will do this exercise again.\n",
    "\n",
    "$$ \\ \\ m\\ddot{x}(t) + c\\dot{x}(t) + kx(t)=0; \\ \\ with\\ x(0) = x_0 \\ and\\  \\dot{x}(0) = v_0   $$\n",
    "\n",
    "To make the comparison, we will adopt the values:\n",
    "$$ \\ \\ 10\\ddot{x}(t) + 20\\dot{x}(t) + 50x(t)=0; \\ \\ with\\ x(0) = 10 \\ and\\  \\dot{x}(0) = 0   $$"
   ]
  },
  {
   "cell_type": "code",
   "execution_count": null,
   "id": "7134c9d6",
   "metadata": {},
   "outputs": [],
   "source": []
  }
 ],
 "metadata": {
  "kernelspec": {
   "display_name": "Python 3 (ipykernel)",
   "language": "python",
   "name": "python3"
  },
  "language_info": {
   "codemirror_mode": {
    "name": "ipython",
    "version": 3
   },
   "file_extension": ".py",
   "mimetype": "text/x-python",
   "name": "python",
   "nbconvert_exporter": "python",
   "pygments_lexer": "ipython3",
   "version": "3.9.7"
  }
 },
 "nbformat": 4,
 "nbformat_minor": 5
}
