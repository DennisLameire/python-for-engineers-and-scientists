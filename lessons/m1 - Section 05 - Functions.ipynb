{
 "cells": [
  {
   "cell_type": "markdown",
   "id": "36886a2d",
   "metadata": {},
   "source": [
    "# PART 1\n",
    "# Section 5: Functions"
   ]
  },
  {
   "cell_type": "markdown",
   "id": "5a1cf986",
   "metadata": {},
   "source": [
    "# FUNCTIONS"
   ]
  },
  {
   "cell_type": "markdown",
   "id": "b54c2dc5",
   "metadata": {},
   "source": [
    "## 5.1 - Functions\n",
    "\n",
    "Functions in Python contain certain instructions, and they execute these instructions when called in the program.\n",
    "\n",
    "#### Function Syntax\n",
    "\n",
    "```python\n",
    ">>> def sum(a, b):\n",
    "...     return a + b\n",
    ">>> sum(1, 2)\n",
    "```\n",
    "\n",
    "**note:**\n",
    "<pre>The return statement is not mandatory.</pre>\n",
    "\n",
    "<pre>Later on, we will study all the nuances that functions have and explore their potential, such as *args, **kwargs, docstrings, etc.</pre>\n"
   ]
  },
  {
   "cell_type": "code",
   "execution_count": 1,
   "id": "ece69dd6",
   "metadata": {},
   "outputs": [],
   "source": [
    "def add(a, b, c):\n",
    "    return a + b + c"
   ]
  },
  {
   "cell_type": "code",
   "execution_count": 7,
   "id": "e6f0c069",
   "metadata": {},
   "outputs": [
    {
     "name": "stdout",
     "output_type": "stream",
     "text": [
      "17\n"
     ]
    }
   ],
   "source": [
    "number1 = add(2, 5, 10)\n",
    "print(number1)"
   ]
  },
  {
   "cell_type": "code",
   "execution_count": 8,
   "id": "0aeff40e",
   "metadata": {},
   "outputs": [],
   "source": [
    "def add2(numbers):\n",
    "    result = 0\n",
    "    for number in numbers:\n",
    "        result += number\n",
    "\n",
    "    return result"
   ]
  },
  {
   "cell_type": "code",
   "execution_count": 11,
   "id": "eb53c5cf",
   "metadata": {},
   "outputs": [
    {
     "data": {
      "text/plain": [
       "45"
      ]
     },
     "execution_count": 11,
     "metadata": {},
     "output_type": "execute_result"
    }
   ],
   "source": [
    "a = list(range(10))\n",
    "sum(a)"
   ]
  },
  {
   "cell_type": "code",
   "execution_count": 12,
   "id": "7d7fd6f0",
   "metadata": {},
   "outputs": [
    {
     "data": {
      "text/plain": [
       "45"
      ]
     },
     "execution_count": 12,
     "metadata": {},
     "output_type": "execute_result"
    }
   ],
   "source": [
    "add2(a)"
   ]
  },
  {
   "cell_type": "code",
   "execution_count": 18,
   "id": "767e9a0f",
   "metadata": {},
   "outputs": [],
   "source": [
    "def print_statements():\n",
    "    print('====================')\n",
    "    print('My name is Rafael')\n",
    "    print('Python is cool!')\n",
    "    return 5"
   ]
  },
  {
   "cell_type": "code",
   "execution_count": 19,
   "id": "207e9428",
   "metadata": {},
   "outputs": [
    {
     "name": "stdout",
     "output_type": "stream",
     "text": [
      "====================\n",
      "My name is Rafael\n",
      "Python is cool!\n"
     ]
    }
   ],
   "source": [
    "c = print_statements()"
   ]
  },
  {
   "cell_type": "code",
   "execution_count": 21,
   "id": "c01c1045",
   "metadata": {},
   "outputs": [
    {
     "data": {
      "text/plain": [
       "10"
      ]
     },
     "execution_count": 21,
     "metadata": {},
     "output_type": "execute_result"
    }
   ],
   "source": [
    "c * 2"
   ]
  },
  {
   "cell_type": "markdown",
   "id": "e19ba351",
   "metadata": {},
   "source": [
    "## 5.2 - Functions and Keyword (Named) Arguments\n",
    "\n",
    "Functions in Python contain certain instructions, and they execute these instructions when called in the program. Keyword arguments are parameters that we leave predefined or default if the user does not enter any arguments.\n",
    "\n",
    "#### Function Syntax\n",
    "\n",
    "```python\n",
    ">>> def coordinates(x, y, z=0):\n",
    "...     print(f'x = {x}')\n",
    "...     print(f'y = {y}')\n",
    "...     print(f'z = {z}')\n",
    ">>> # z has a predetermined value and entering a new value is optional\n",
    "```"
   ]
  },
  {
   "cell_type": "code",
   "execution_count": 36,
   "id": "0a8a0cef",
   "metadata": {},
   "outputs": [],
   "source": [
    "# my script\n",
    "def add(a, b, c, d=0):\n",
    "    return a + b + c + d"
   ]
  },
  {
   "cell_type": "code",
   "execution_count": 37,
   "id": "35aef394",
   "metadata": {},
   "outputs": [
    {
     "data": {
      "text/plain": [
       "10"
      ]
     },
     "execution_count": 37,
     "metadata": {},
     "output_type": "execute_result"
    }
   ],
   "source": [
    "#users created\n",
    "add(2, 3, 5)"
   ]
  },
  {
   "cell_type": "markdown",
   "id": "aec0c544",
   "metadata": {},
   "source": [
    "## 5.3 - \\*args\n",
    "\n",
    "The \\*args is a way to pack argument inputs into a tuple. This allows us to enter as many arguments as necessary. You will encounter this symbol when using famous libraries.\n",
    "\n",
    "#### Function Syntax\n",
    "\n",
    "```python\n",
    ">>> def create_list(*args):\n",
    "...     my_list = []\n",
    "...     for i in args:\n",
    "...        my_list.append(i)\n",
    "...     return my_list\n",
    "```\n",
    "\n",
    "**note:**\n",
    "<pre>args, in the end, is a tuple.</pre>\n",
    "\n",
    "<pre>args is not a reserved word in Python; it is just a convention.</pre>"
   ]
  },
  {
   "cell_type": "code",
   "execution_count": 46,
   "id": "e093b464",
   "metadata": {},
   "outputs": [],
   "source": [
    "def show_args(*args):\n",
    "    print(args)\n"
   ]
  },
  {
   "cell_type": "code",
   "execution_count": 45,
   "id": "1cd35f7e",
   "metadata": {},
   "outputs": [
    {
     "name": "stdout",
     "output_type": "stream",
     "text": [
      "(1, 35.5, 'Python', True)\n"
     ]
    }
   ],
   "source": [
    "show_args(1, 35.5, 'Python', True)"
   ]
  },
  {
   "cell_type": "code",
   "execution_count": 47,
   "id": "66e788aa",
   "metadata": {},
   "outputs": [],
   "source": [
    "def add_at_least_2(a, b, *args):\n",
    "    result = a + b\n",
    "    for n in args:\n",
    "        result += n\n",
    "    return result"
   ]
  },
  {
   "cell_type": "code",
   "execution_count": 55,
   "id": "551a2847",
   "metadata": {},
   "outputs": [
    {
     "data": {
      "text/plain": [
       "22.5"
      ]
     },
     "execution_count": 55,
     "metadata": {},
     "output_type": "execute_result"
    }
   ],
   "source": [
    "add_at_least_2(2, 5, 3, 12.5)"
   ]
  },
  {
   "cell_type": "markdown",
   "id": "f4a281ad",
   "metadata": {},
   "source": [
    "## 5.4 - \\*\\*kwargs\n",
    "\n",
    "The \\*\\*kwargs is a way to pack argument inputs into a dictionary. This allows us to enter as many arguments as necessary. You will encounter this symbol when using famous libraries.\n",
    "\n",
    "#### Function Syntax\n",
    "\n",
    "```python\n",
    ">>> def print_dictionary(**kwargs):\n",
    "...     for key, value in kwargs.items():\n",
    "...        print(f'{key} = {value}')\n",
    "```\n",
    "\n",
    "**note:**\n",
    "<pre>kwargs, in the end, is a dictionary.</pre>"
   ]
  },
  {
   "cell_type": "code",
   "execution_count": 62,
   "id": "43da98ad",
   "metadata": {},
   "outputs": [],
   "source": [
    "def print_dict(**kwargs):\n",
    "    return kwargs"
   ]
  },
  {
   "cell_type": "code",
   "execution_count": 64,
   "id": "ba8b5b5d",
   "metadata": {},
   "outputs": [
    {
     "data": {
      "text/plain": [
       "{'a': 4, 'python': 5, 'asdf': 2}"
      ]
     },
     "execution_count": 64,
     "metadata": {},
     "output_type": "execute_result"
    }
   ],
   "source": [
    "print_dict(a=4, python=5, asdf=2)"
   ]
  },
  {
   "cell_type": "markdown",
   "id": "d118cb8d",
   "metadata": {},
   "source": [
    "## 5.5 - Docstring\n",
    "\n",
    "Docstrings are used for documentation. We need to document our code so that other people understand it and so that we ourselves understand it in the future.\n",
    "\n",
    "#### Function Syntax\n",
    "\n",
    "```python\n",
    ">>> def sum(a, b):\n",
    "...     ''' This function adds a + b '''\n",
    "...     return a + b\n",
    "```\n",
    "\n",
    "**note:**\n",
    "<pre>Docstrings can also be used to document modules and classes.</pre>\n",
    "<pre>They can be accessed through the __doc__ property.</pre>"
   ]
  },
  {
   "cell_type": "code",
   "execution_count": null,
   "id": "32ee8656",
   "metadata": {},
   "outputs": [],
   "source": []
  },
  {
   "cell_type": "code",
   "execution_count": null,
   "id": "d02eafe5",
   "metadata": {},
   "outputs": [],
   "source": []
  },
  {
   "cell_type": "markdown",
   "id": "a5f63490",
   "metadata": {},
   "source": [
    "## 5.6 - Lambda Functions\n",
    "\n",
    "Lambda functions, also known as anonymous functions, are functions that we can define in a single line. They are typically used in the functional paradigm.\n",
    "\n",
    "#### Syntax\n",
    "\n",
    "```python\n",
    ">>> sum = lambda a, b: x + y\n",
    "```\n",
    "\n"
   ]
  },
  {
   "cell_type": "code",
   "execution_count": 105,
   "id": "cf7388cc",
   "metadata": {},
   "outputs": [],
   "source": [
    "soma = lambda a, b: a + b"
   ]
  },
  {
   "cell_type": "code",
   "execution_count": 106,
   "id": "47c10956",
   "metadata": {},
   "outputs": [
    {
     "data": {
      "text/plain": [
       "5"
      ]
     },
     "execution_count": 106,
     "metadata": {},
     "output_type": "execute_result"
    }
   ],
   "source": [
    "soma(2, 3)"
   ]
  },
  {
   "cell_type": "code",
   "execution_count": null,
   "id": "65f06cdf",
   "metadata": {},
   "outputs": [],
   "source": []
  },
  {
   "cell_type": "markdown",
   "id": "66c09e8e",
   "metadata": {},
   "source": [
    "# Exercises"
   ]
  },
  {
   "cell_type": "markdown",
   "id": "a0ec4c72",
   "metadata": {},
   "source": [
    "## E5.1\n",
    "Create a function that adds 3 numbers. If the user does not enter any arguments, this function should return 0. The user can also enter one or two arguments."
   ]
  },
  {
   "cell_type": "code",
   "execution_count": 2,
   "id": "48fcd9d0",
   "metadata": {},
   "outputs": [],
   "source": [
    "def soma(x=0, y=0, z=0):\n",
    "    return x + y + z"
   ]
  },
  {
   "cell_type": "markdown",
   "id": "ff14a284",
   "metadata": {},
   "source": [
    "## E5.2\n",
    "Create a function that adds numbers. In this function, the user can enter as many arguments as they want."
   ]
  },
  {
   "cell_type": "code",
   "execution_count": 3,
   "id": "0f642830",
   "metadata": {},
   "outputs": [],
   "source": [
    "def soma(*args):\n",
    "    resultado = [i for i in args]\n",
    "    return sum(resultado)"
   ]
  },
  {
   "cell_type": "code",
   "execution_count": 4,
   "id": "b35316c4",
   "metadata": {},
   "outputs": [
    {
     "data": {
      "text/plain": [
       "48"
      ]
     },
     "execution_count": 4,
     "metadata": {},
     "output_type": "execute_result"
    }
   ],
   "source": [
    "soma(1, 43, 3, 1)"
   ]
  },
  {
   "cell_type": "markdown",
   "id": "b7c735e4",
   "metadata": {},
   "source": [
    "## E5.3\n",
    "Create a lambda function that multiplies two numbers. Test it."
   ]
  },
  {
   "cell_type": "code",
   "execution_count": 6,
   "id": "c3a00ef0",
   "metadata": {},
   "outputs": [],
   "source": [
    "multiplica = lambda x, y: x * y"
   ]
  },
  {
   "cell_type": "code",
   "execution_count": 7,
   "id": "471d25d8",
   "metadata": {},
   "outputs": [
    {
     "data": {
      "text/plain": [
       "12"
      ]
     },
     "execution_count": 7,
     "metadata": {},
     "output_type": "execute_result"
    }
   ],
   "source": [
    "multiplica(3, 4)"
   ]
  },
  {
   "cell_type": "code",
   "execution_count": null,
   "id": "42abe4a8",
   "metadata": {},
   "outputs": [],
   "source": []
  }
 ],
 "metadata": {
  "kernelspec": {
   "display_name": "Python 3 (ipykernel)",
   "language": "python",
   "name": "python3"
  },
  "language_info": {
   "codemirror_mode": {
    "name": "ipython",
    "version": 3
   },
   "file_extension": ".py",
   "mimetype": "text/x-python",
   "name": "python",
   "nbconvert_exporter": "python",
   "pygments_lexer": "ipython3",
   "version": "3.9.13"
  }
 },
 "nbformat": 4,
 "nbformat_minor": 5
}
