{
 "cells": [
  {
   "cell_type": "markdown",
   "id": "3bf6dd5b",
   "metadata": {},
   "source": [
    "# Python for Engineers and Scientists\n",
    "by Rafael Silva"
   ]
  },
  {
   "cell_type": "markdown",
   "id": "c9fe696f",
   "metadata": {},
   "source": [
    "# PART 1\n",
    "# Section 2: Fundamentals\n",
    "\n",
    "In this section we see the basic syntax of Python. Typically, students from STEM (science, technology, engineering and mathematics) courses already have the basic knowledge of logic and algorithms. Said that, the objective of this section is to remember these concepts and training Python syntax in practice."
   ]
  },
  {
   "cell_type": "markdown",
   "id": "14b34449",
   "metadata": {},
   "source": [
    "## 2.1 - built-in types\n",
    "\n",
    "<br/>\n",
    "\n",
    "| type | Description|\n",
    "|:-- | :-- |\n",
    "|int|integer number|\n",
    "|float|real number with 16 digits precision|\n",
    "|str|text|\n",
    "|bool|boolean type (True or False)| \n",
    "\n",
    "<br/>\n",
    "\n",
    "#### Syntax of built-in types\n",
    "\n",
    "```python\n",
    ">>> int_number = 1\n",
    ">>> real_number1 = 1.\n",
    ">>> real_number2 = 1.1\n",
    ">>> text_variable1 = 'Python'\n",
    ">>> text_varible2 = \"Python\"\n",
    ">>> bool_type = True\n",
    "# The values are stored inside the variables and the hashtag line is a comment. \n",
    "```\n",
    "\n",
    "### First functions\n",
    "\n",
    "<br/>\n",
    "\n",
    "| Function | Description |\n",
    "| :-- | :-- |\n",
    "| print() | print a value on the screen|\n",
    "| input()                  | returns a **string** given by the user |\n",
    "| int(), float(), str() | converts the type |\n",
    "| type()                   | returns the type of the object |\n"
   ]
  },
  {
   "cell_type": "code",
   "execution_count": null,
   "id": "301a5ec9",
   "metadata": {},
   "outputs": [],
   "source": []
  },
  {
   "cell_type": "code",
   "execution_count": null,
   "id": "79c45672",
   "metadata": {},
   "outputs": [],
   "source": []
  },
  {
   "cell_type": "code",
   "execution_count": null,
   "id": "abf9b623",
   "metadata": {},
   "outputs": [],
   "source": []
  },
  {
   "cell_type": "markdown",
   "id": "204fd502",
   "metadata": {},
   "source": [
    "## 2.2 - Basic math operations\n",
    "\n",
    "<br/>\n",
    "\n",
    "### Operations and functions\n",
    "\n",
    "<br/>\n",
    "\n",
    "| Symbol | Description |\n",
    "| :-- | :-- |\n",
    "| + | sum |\n",
    "| - | subtraction |\n",
    "| \\* | multiplication |\n",
    "| /| division |\n",
    "| // | integer part of the division |\n",
    "| % | rest of the integer division |\n",
    "| \\*\\* | power |\n",
    "| += | adds to the variable |\n",
    "| \\*= | multiply to the variable |\n",
    "| abs() | returns the absolute value|\n",
    "| complex(re, im) | returns a complex number|\n",
    "| round(x\\, \\[n\\])| round the value for a given precision |\n",
    "\n",
    "<br/>\n",
    "\n",
    "#### Syntax of complex numbers\n",
    "\n",
    "```python\n",
    ">>> x_complex = 1 + 1j\n",
    "```\n",
    "\n",
    "**note:**\n",
    "\n",
    "<pre> The complex is also a built-in type.</pre>\n"
   ]
  },
  {
   "cell_type": "code",
   "execution_count": 5,
   "id": "76551c33",
   "metadata": {},
   "outputs": [
    {
     "name": "stdout",
     "output_type": "stream",
     "text": [
      "18\n"
     ]
    }
   ],
   "source": [
    "a = (5+1) * 3\n",
    "print(a)"
   ]
  },
  {
   "cell_type": "code",
   "execution_count": 7,
   "id": "aadb103f",
   "metadata": {},
   "outputs": [
    {
     "data": {
      "text/plain": [
       "3"
      ]
     },
     "execution_count": 7,
     "metadata": {},
     "output_type": "execute_result"
    }
   ],
   "source": [
    "7 // 2"
   ]
  },
  {
   "cell_type": "code",
   "execution_count": 8,
   "id": "d41e7638",
   "metadata": {},
   "outputs": [
    {
     "data": {
      "text/plain": [
       "1"
      ]
     },
     "execution_count": 8,
     "metadata": {},
     "output_type": "execute_result"
    }
   ],
   "source": [
    "7 % 2"
   ]
  },
  {
   "cell_type": "code",
   "execution_count": 11,
   "id": "71c28618",
   "metadata": {},
   "outputs": [
    {
     "data": {
      "text/plain": [
       "8"
      ]
     },
     "execution_count": 11,
     "metadata": {},
     "output_type": "execute_result"
    }
   ],
   "source": [
    "2 ** 3"
   ]
  },
  {
   "cell_type": "code",
   "execution_count": 15,
   "id": "2ae3f552",
   "metadata": {},
   "outputs": [
    {
     "name": "stdout",
     "output_type": "stream",
     "text": [
      "3\n"
     ]
    }
   ],
   "source": [
    "b = 0\n",
    "b += 2\n",
    "b += 1\n",
    "print(b)"
   ]
  },
  {
   "cell_type": "code",
   "execution_count": 17,
   "id": "6c360178",
   "metadata": {},
   "outputs": [
    {
     "name": "stdout",
     "output_type": "stream",
     "text": [
      "6\n"
     ]
    }
   ],
   "source": [
    "c = 1\n",
    "c *= 2\n",
    "c *= 3\n",
    "print(c)"
   ]
  },
  {
   "cell_type": "code",
   "execution_count": 21,
   "id": "58af077b",
   "metadata": {},
   "outputs": [
    {
     "name": "stdout",
     "output_type": "stream",
     "text": [
      "2\n"
     ]
    }
   ],
   "source": [
    "d = -5 + 3\n",
    "d = abs(d)\n",
    "print(d)"
   ]
  },
  {
   "cell_type": "code",
   "execution_count": 25,
   "id": "7fe594ff",
   "metadata": {},
   "outputs": [
    {
     "data": {
      "text/plain": [
       "(-1+0j)"
      ]
     },
     "execution_count": 25,
     "metadata": {},
     "output_type": "execute_result"
    }
   ],
   "source": [
    "e = 1j\n",
    "e**2"
   ]
  },
  {
   "cell_type": "code",
   "execution_count": 29,
   "id": "ee684427",
   "metadata": {},
   "outputs": [
    {
     "name": "stdout",
     "output_type": "stream",
     "text": [
      "1.12\n"
     ]
    }
   ],
   "source": [
    "f = 1.123456\n",
    "print(round(f, 2))"
   ]
  },
  {
   "cell_type": "markdown",
   "id": "7f683914",
   "metadata": {},
   "source": [
    "## 2.3 - Basic operations with strings (texts)\n",
    "\n",
    "<br/>\n",
    "\n",
    "### Operations and functions\n",
    "\n",
    "<br/>\n",
    "\n",
    "| Symbol | Type |Description |\n",
    "| :-- | :-- | :-- |\n",
    "| + | operator |sum or concatenate texts |\n",
    "| \\* | operator |multiplies a text by a integer number |\n",
    "| len() | built-in function|checks the length of the string |\n",
    "\n",
    "\n",
    "<br/>\n",
    "\n",
    "**note:**\n",
    "\n",
    "<pre> '\\n' is a special character to break a line </pre>\n",
    "<pre> strings are indexable </pre>"
   ]
  },
  {
   "cell_type": "code",
   "execution_count": 40,
   "id": "7079f5f0",
   "metadata": {},
   "outputs": [
    {
     "name": "stdout",
     "output_type": "stream",
     "text": [
      "My name is Rafael \n"
     ]
    }
   ],
   "source": [
    "a = 'My name is '\n",
    "b = 'Rafael '\n",
    "print(a+b)"
   ]
  },
  {
   "cell_type": "code",
   "execution_count": 41,
   "id": "b5b42fe5",
   "metadata": {},
   "outputs": [
    {
     "data": {
      "text/plain": [
       "'---------------'"
      ]
     },
     "execution_count": 41,
     "metadata": {},
     "output_type": "execute_result"
    }
   ],
   "source": [
    "'-' * 15"
   ]
  },
  {
   "cell_type": "code",
   "execution_count": 43,
   "id": "12dd415a",
   "metadata": {},
   "outputs": [
    {
     "data": {
      "text/plain": [
       "18"
      ]
     },
     "execution_count": 43,
     "metadata": {},
     "output_type": "execute_result"
    }
   ],
   "source": [
    "c = a + b\n",
    "len(c)"
   ]
  },
  {
   "cell_type": "code",
   "execution_count": 45,
   "id": "5440e51a",
   "metadata": {},
   "outputs": [
    {
     "name": "stdout",
     "output_type": "stream",
     "text": [
      "25\n"
     ]
    }
   ],
   "source": [
    "d = '-' * 25\n",
    "print(len(d))"
   ]
  },
  {
   "cell_type": "code",
   "execution_count": 52,
   "id": "12777147",
   "metadata": {},
   "outputs": [
    {
     "name": "stdout",
     "output_type": "stream",
     "text": [
      "My name is Rafael. I'm 32\n"
     ]
    }
   ],
   "source": [
    "e = 'My name is Rafael. I\\'m 32'\n",
    "print(e)"
   ]
  },
  {
   "cell_type": "markdown",
   "id": "1f594a44",
   "metadata": {},
   "source": [
    "## 2.4 Boolean values (*bool*)\n",
    "\n",
    "Stores a **True** or **False** variable. Boolean values can be used directly, generated by comparisons or generated by a function.\n",
    "\n",
    "<br/>\n",
    "\n",
    "### Comparisons\n",
    "\n",
    "<br/>\n",
    "\n",
    "| Comparison | Description |\n",
    "| :-- | :-- |\n",
    "| < | Less than |\n",
    "| <= | Less or equal than |\n",
    "| > | bigger than |\n",
    "| >= | bigger or equal than |\n",
    "| == | equan than |\n",
    "| != | different than |\n",
    "\n",
    "<br/>\n",
    "\n",
    "**nota**:\n",
    "<pre> If we convert booleans to numbers we have 1 for True and 0 for False </pre>\n",
    "<pre> Attention when comparing real numbers. Prefer using the close function </pre>\n",
    "<pre> There are other ways of obtain boolean values like the function isinstance() or using **in** or **is**</pre>"
   ]
  },
  {
   "cell_type": "code",
   "execution_count": 128,
   "id": "ad1147a4",
   "metadata": {},
   "outputs": [
    {
     "name": "stdout",
     "output_type": "stream",
     "text": [
      "True\n"
     ]
    }
   ],
   "source": [
    "a = 5 >= 3\n",
    "print(a)"
   ]
  },
  {
   "cell_type": "code",
   "execution_count": 131,
   "id": "d7a90c7f",
   "metadata": {},
   "outputs": [
    {
     "ename": "TypeError",
     "evalue": "'>' not supported between instances of 'float' and 'str'",
     "output_type": "error",
     "traceback": [
      "\u001b[1;31m---------------------------------------------------------------------------\u001b[0m",
      "\u001b[1;31mTypeError\u001b[0m                                 Traceback (most recent call last)",
      "\u001b[1;32m~\\AppData\\Local\\Temp/ipykernel_6192/2077691439.py\u001b[0m in \u001b[0;36m<module>\u001b[1;34m\u001b[0m\n\u001b[0;32m      1\u001b[0m \u001b[0mb\u001b[0m \u001b[1;33m=\u001b[0m \u001b[1;36m5.1\u001b[0m\u001b[1;33m\u001b[0m\u001b[1;33m\u001b[0m\u001b[0m\n\u001b[0;32m      2\u001b[0m \u001b[0mc\u001b[0m \u001b[1;33m=\u001b[0m \u001b[1;34m'python'\u001b[0m\u001b[1;33m\u001b[0m\u001b[1;33m\u001b[0m\u001b[0m\n\u001b[1;32m----> 3\u001b[1;33m \u001b[0mb\u001b[0m \u001b[1;33m>\u001b[0m \u001b[0mc\u001b[0m\u001b[1;33m\u001b[0m\u001b[1;33m\u001b[0m\u001b[0m\n\u001b[0m",
      "\u001b[1;31mTypeError\u001b[0m: '>' not supported between instances of 'float' and 'str'"
     ]
    }
   ],
   "source": [
    "b = 5.1\n",
    "c = 'python'\n",
    "b > c"
   ]
  },
  {
   "cell_type": "code",
   "execution_count": 134,
   "id": "23fc7316",
   "metadata": {},
   "outputs": [
    {
     "data": {
      "text/plain": [
       "True"
      ]
     },
     "execution_count": 134,
     "metadata": {},
     "output_type": "execute_result"
    }
   ],
   "source": [
    "a = 'python'\n",
    "b = 'Python'\n",
    "\n",
    "a != b"
   ]
  },
  {
   "cell_type": "code",
   "execution_count": 138,
   "id": "0cdc0d3a",
   "metadata": {},
   "outputs": [
    {
     "data": {
      "text/plain": [
       "False"
      ]
     },
     "execution_count": 138,
     "metadata": {},
     "output_type": "execute_result"
    }
   ],
   "source": [
    "bool(0)"
   ]
  },
  {
   "cell_type": "code",
   "execution_count": 140,
   "id": "ee520d6d",
   "metadata": {},
   "outputs": [
    {
     "data": {
      "text/plain": [
       "0"
      ]
     },
     "execution_count": 140,
     "metadata": {},
     "output_type": "execute_result"
    }
   ],
   "source": [
    "int(False)"
   ]
  },
  {
   "cell_type": "code",
   "execution_count": 144,
   "id": "411e6ed5",
   "metadata": {},
   "outputs": [
    {
     "data": {
      "text/plain": [
       "False"
      ]
     },
     "execution_count": 144,
     "metadata": {},
     "output_type": "execute_result"
    }
   ],
   "source": [
    "a = 0.3\n",
    "b = 0.1 + 0.1 + 0.1\n",
    "\n",
    "a == b"
   ]
  },
  {
   "cell_type": "code",
   "execution_count": 145,
   "id": "a982b911",
   "metadata": {},
   "outputs": [],
   "source": [
    "from math import isclose"
   ]
  },
  {
   "cell_type": "code",
   "execution_count": 146,
   "id": "d61aad86",
   "metadata": {},
   "outputs": [
    {
     "data": {
      "text/plain": [
       "True"
      ]
     },
     "execution_count": 146,
     "metadata": {},
     "output_type": "execute_result"
    }
   ],
   "source": [
    "isclose(a, b)"
   ]
  },
  {
   "cell_type": "markdown",
   "id": "ff8be3dc",
   "metadata": {},
   "source": [
    "## 2.5 Collections\n",
    "Collections are containers. They are objects that store values.\n",
    "\n",
    "<br/>\n",
    "\n",
    "### Built-in types\n",
    "\n",
    "<br/>\n",
    "\n",
    "| Type | Description | \n",
    "| :-- | :-- |\n",
    "| list | An indexable sequence |\n",
    "| tuple | An imutable sequence|\n",
    "| set | elements are not indexed and do not repeat themselfs  |\n",
    "| dict | Dictionnaries are indexed by keys |\n",
    "\n",
    "<br/>\n",
    "\n",
    "#### syntaxe:\n",
    "```python\n",
    ">>> number = [0, 1, 2, 3, 4, 5, 6, 7, 8, 9] # list\n",
    ">>> vowels = ('a', 'e', 'i', 'o', 'u') # tuple\n",
    ">>> decimals_digits = {0,1,2,3,4,5,6,7,8,9} # set\n",
    ">>> roman_numerals = {'I':1,\"II\":2,'III':3,'IV':4,'V':5,'X':10} # dict\n",
    "```"
   ]
  },
  {
   "cell_type": "markdown",
   "id": "ef2a3ebe",
   "metadata": {},
   "source": [
    "## Lists"
   ]
  },
  {
   "cell_type": "code",
   "execution_count": 152,
   "id": "e35ffb5c",
   "metadata": {},
   "outputs": [],
   "source": [
    "a = [1, 2, 3, 6, 8]\n",
    "b = [3, 5, 8]\n",
    "c = a + b"
   ]
  },
  {
   "cell_type": "code",
   "execution_count": 155,
   "id": "4b883966",
   "metadata": {},
   "outputs": [
    {
     "data": {
      "text/plain": [
       "[1, 2, 3, 6, 8, 3, 5, 8]"
      ]
     },
     "execution_count": 155,
     "metadata": {},
     "output_type": "execute_result"
    }
   ],
   "source": [
    "c"
   ]
  },
  {
   "cell_type": "code",
   "execution_count": 159,
   "id": "35c755a2",
   "metadata": {},
   "outputs": [
    {
     "data": {
      "text/plain": [
       "[1, 2, 3, 6, 8, 3, 5, 8, 10, 10]"
      ]
     },
     "execution_count": 159,
     "metadata": {},
     "output_type": "execute_result"
    }
   ],
   "source": [
    "c.append(10)\n",
    "c"
   ]
  },
  {
   "cell_type": "markdown",
   "id": "9ed4e73f",
   "metadata": {},
   "source": [
    "## Tuple"
   ]
  },
  {
   "cell_type": "code",
   "execution_count": 165,
   "id": "10f8751f",
   "metadata": {},
   "outputs": [
    {
     "data": {
      "text/plain": [
       "'python'"
      ]
     },
     "execution_count": 165,
     "metadata": {},
     "output_type": "execute_result"
    }
   ],
   "source": [
    "a = (1, 2, 3, 'python', [2, 3])\n",
    "a[3]"
   ]
  },
  {
   "cell_type": "code",
   "execution_count": 169,
   "id": "e4868fe8",
   "metadata": {},
   "outputs": [
    {
     "data": {
      "text/plain": [
       "tuple"
      ]
     },
     "execution_count": 169,
     "metadata": {},
     "output_type": "execute_result"
    }
   ],
   "source": [
    "coordena = (0.1, 0.2, 'Brazil')\n",
    "type(coordena)"
   ]
  },
  {
   "cell_type": "markdown",
   "id": "7263ce28",
   "metadata": {},
   "source": [
    "## Conjuntos (set)"
   ]
  },
  {
   "cell_type": "code",
   "execution_count": 173,
   "id": "594dce28",
   "metadata": {},
   "outputs": [],
   "source": [
    "a = {1, 2, 'python', 1, 2}"
   ]
  },
  {
   "cell_type": "code",
   "execution_count": 174,
   "id": "d5b4b1f8",
   "metadata": {},
   "outputs": [
    {
     "data": {
      "text/plain": [
       "{1, 2, 'python'}"
      ]
     },
     "execution_count": 174,
     "metadata": {},
     "output_type": "execute_result"
    }
   ],
   "source": [
    "a"
   ]
  },
  {
   "cell_type": "markdown",
   "id": "8c2c3d1b",
   "metadata": {},
   "source": [
    "## Dictionary"
   ]
  },
  {
   "cell_type": "code",
   "execution_count": 175,
   "id": "38d6806f",
   "metadata": {},
   "outputs": [],
   "source": [
    "b = {'a':1, 'b':12}"
   ]
  },
  {
   "cell_type": "code",
   "execution_count": 179,
   "id": "4503e9bc",
   "metadata": {},
   "outputs": [],
   "source": [
    "b['b'] = 10"
   ]
  },
  {
   "cell_type": "code",
   "execution_count": 180,
   "id": "9b7798a6",
   "metadata": {},
   "outputs": [
    {
     "data": {
      "text/plain": [
       "{'a': 1, 'b': 10}"
      ]
     },
     "execution_count": 180,
     "metadata": {},
     "output_type": "execute_result"
    }
   ],
   "source": [
    "b"
   ]
  },
  {
   "cell_type": "code",
   "execution_count": null,
   "id": "c66cdc62",
   "metadata": {},
   "outputs": [],
   "source": []
  }
 ],
 "metadata": {
  "kernelspec": {
   "display_name": "Python 3 (ipykernel)",
   "language": "python",
   "name": "python3"
  },
  "language_info": {
   "codemirror_mode": {
    "name": "ipython",
    "version": 3
   },
   "file_extension": ".py",
   "mimetype": "text/x-python",
   "name": "python",
   "nbconvert_exporter": "python",
   "pygments_lexer": "ipython3",
   "version": "3.9.13"
  }
 },
 "nbformat": 4,
 "nbformat_minor": 5
}
