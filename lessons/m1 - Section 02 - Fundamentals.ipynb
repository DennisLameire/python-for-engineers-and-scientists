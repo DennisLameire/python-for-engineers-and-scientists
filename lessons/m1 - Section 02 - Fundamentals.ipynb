{
 "cells": [
  {
   "cell_type": "markdown",
   "id": "3bf6dd5b",
   "metadata": {},
   "source": [
    "# Python for Engineers and Scientists\n",
    "by Rafael Silva"
   ]
  },
  {
   "cell_type": "markdown",
   "id": "c9fe696f",
   "metadata": {},
   "source": [
    "# PART 1\n",
    "# Section 2: Fundamentals\n",
    "\n",
    "In this section we see the basic syntax of Python. Typically, students from STEM (science, technology, engineering and mathematics) courses already have the basic knowledge of logic and algorithms. Said that, the objective of this section is to remember these concepts and training Python syntax in practice."
   ]
  },
  {
   "cell_type": "markdown",
   "id": "14b34449",
   "metadata": {},
   "source": [
    "## 2.1 - built-in types\n",
    "\n",
    "<br/>\n",
    "\n",
    "| type | Description|\n",
    "|:-- | :-- |\n",
    "|int|integer number|\n",
    "|float|real number with 16 digits precision|\n",
    "|str|text|\n",
    "|bool|boolean type (True or False)| \n",
    "\n",
    "<br/>\n",
    "\n",
    "#### Syntax of built-in types\n",
    "\n",
    "```python\n",
    ">>> int_number = 1\n",
    ">>> real_number1 = 1.\n",
    ">>> real_number2 = 1.1\n",
    ">>> text_variable1 = 'Python'\n",
    ">>> text_varible2 = \"Python\"\n",
    ">>> bool_type = True\n",
    "# The values are stored inside the variables and the hashtag line is a comment. \n",
    "```\n",
    "\n",
    "### First functions\n",
    "\n",
    "<br/>\n",
    "\n",
    "| Function | Description |\n",
    "| :-- | :-- |\n",
    "| print() | print a value on the screen|\n",
    "| input()                  | returns a **string** given by the user |\n",
    "| int(), float(), str() | converts the type |\n",
    "| type()                   | returns the type of the object |\n"
   ]
  },
  {
   "cell_type": "code",
   "execution_count": null,
   "id": "301a5ec9",
   "metadata": {},
   "outputs": [],
   "source": []
  },
  {
   "cell_type": "code",
   "execution_count": null,
   "id": "79c45672",
   "metadata": {},
   "outputs": [],
   "source": []
  },
  {
   "cell_type": "code",
   "execution_count": null,
   "id": "abf9b623",
   "metadata": {},
   "outputs": [],
   "source": []
  },
  {
   "cell_type": "markdown",
   "id": "204fd502",
   "metadata": {},
   "source": [
    "## 2.2 - Basic math operations\n",
    "\n",
    "<br/>\n",
    "\n",
    "### Operations and functions\n",
    "\n",
    "<br/>\n",
    "\n",
    "| Symbol | Description |\n",
    "| :-- | :-- |\n",
    "| + | sum |\n",
    "| - | subtraction |\n",
    "| \\* | multiplication |\n",
    "| /| division |\n",
    "| // | integer part of the division |\n",
    "| % | rest of the integer division |\n",
    "| \\*\\* | power |\n",
    "| += | adds to the variable |\n",
    "| \\*= | multiply to the variable |\n",
    "| abs() | returns the absolute value|\n",
    "| complex(re, im) | returns a complex number|\n",
    "| round(x\\, \\[n\\])| round the value for a given precision |\n",
    "\n",
    "<br/>\n",
    "\n",
    "#### Syntax of complex numbers\n",
    "\n",
    "```python\n",
    ">>> x_complex = 1 + 1j\n",
    "```\n",
    "\n",
    "**note:**\n",
    "\n",
    "<pre> The complex is also a built-in type.</pre>\n"
   ]
  },
  {
   "cell_type": "code",
   "execution_count": 5,
   "id": "76551c33",
   "metadata": {},
   "outputs": [
    {
     "name": "stdout",
     "output_type": "stream",
     "text": [
      "18\n"
     ]
    }
   ],
   "source": [
    "a = (5+1) * 3\n",
    "print(a)"
   ]
  },
  {
   "cell_type": "code",
   "execution_count": 7,
   "id": "aadb103f",
   "metadata": {},
   "outputs": [
    {
     "data": {
      "text/plain": [
       "3"
      ]
     },
     "execution_count": 7,
     "metadata": {},
     "output_type": "execute_result"
    }
   ],
   "source": [
    "7 // 2"
   ]
  },
  {
   "cell_type": "code",
   "execution_count": 8,
   "id": "d41e7638",
   "metadata": {},
   "outputs": [
    {
     "data": {
      "text/plain": [
       "1"
      ]
     },
     "execution_count": 8,
     "metadata": {},
     "output_type": "execute_result"
    }
   ],
   "source": [
    "7 % 2"
   ]
  },
  {
   "cell_type": "code",
   "execution_count": 11,
   "id": "71c28618",
   "metadata": {},
   "outputs": [
    {
     "data": {
      "text/plain": [
       "8"
      ]
     },
     "execution_count": 11,
     "metadata": {},
     "output_type": "execute_result"
    }
   ],
   "source": [
    "2 ** 3"
   ]
  },
  {
   "cell_type": "code",
   "execution_count": 15,
   "id": "2ae3f552",
   "metadata": {},
   "outputs": [
    {
     "name": "stdout",
     "output_type": "stream",
     "text": [
      "3\n"
     ]
    }
   ],
   "source": [
    "b = 0\n",
    "b += 2\n",
    "b += 1\n",
    "print(b)"
   ]
  },
  {
   "cell_type": "code",
   "execution_count": 17,
   "id": "6c360178",
   "metadata": {},
   "outputs": [
    {
     "name": "stdout",
     "output_type": "stream",
     "text": [
      "6\n"
     ]
    }
   ],
   "source": [
    "c = 1\n",
    "c *= 2\n",
    "c *= 3\n",
    "print(c)"
   ]
  },
  {
   "cell_type": "code",
   "execution_count": 21,
   "id": "58af077b",
   "metadata": {},
   "outputs": [
    {
     "name": "stdout",
     "output_type": "stream",
     "text": [
      "2\n"
     ]
    }
   ],
   "source": [
    "d = -5 + 3\n",
    "d = abs(d)\n",
    "print(d)"
   ]
  },
  {
   "cell_type": "code",
   "execution_count": 25,
   "id": "7fe594ff",
   "metadata": {},
   "outputs": [
    {
     "data": {
      "text/plain": [
       "(-1+0j)"
      ]
     },
     "execution_count": 25,
     "metadata": {},
     "output_type": "execute_result"
    }
   ],
   "source": [
    "e = 1j\n",
    "e**2"
   ]
  },
  {
   "cell_type": "code",
   "execution_count": 29,
   "id": "ee684427",
   "metadata": {},
   "outputs": [
    {
     "name": "stdout",
     "output_type": "stream",
     "text": [
      "1.12\n"
     ]
    }
   ],
   "source": [
    "f = 1.123456\n",
    "print(round(f, 2))"
   ]
  },
  {
   "cell_type": "markdown",
   "id": "7f683914",
   "metadata": {},
   "source": [
    "## 2.3 - Basic operations with strings (texts)\n",
    "\n",
    "<br/>\n",
    "\n",
    "### Operations and functions\n",
    "\n",
    "<br/>\n",
    "\n",
    "| Symbol | Type |Description |\n",
    "| :-- | :-- | :-- |\n",
    "| + | operator |sum or concatenate texts |\n",
    "| \\* | operator |multiplies a text by a integer number |\n",
    "| len() | built-in function|checks the length of the string |\n",
    "\n",
    "\n",
    "<br/>\n",
    "\n",
    "**note:**\n",
    "\n",
    "<pre> '\\n' is a special character to break a line </pre>\n",
    "<pre> strings are indexable </pre>"
   ]
  },
  {
   "cell_type": "code",
   "execution_count": 40,
   "id": "7079f5f0",
   "metadata": {},
   "outputs": [
    {
     "name": "stdout",
     "output_type": "stream",
     "text": [
      "My name is Rafael \n"
     ]
    }
   ],
   "source": [
    "a = 'My name is '\n",
    "b = 'Rafael '\n",
    "print(a+b)"
   ]
  },
  {
   "cell_type": "code",
   "execution_count": 41,
   "id": "b5b42fe5",
   "metadata": {},
   "outputs": [
    {
     "data": {
      "text/plain": [
       "'---------------'"
      ]
     },
     "execution_count": 41,
     "metadata": {},
     "output_type": "execute_result"
    }
   ],
   "source": [
    "'-' * 15"
   ]
  },
  {
   "cell_type": "code",
   "execution_count": 43,
   "id": "12dd415a",
   "metadata": {},
   "outputs": [
    {
     "data": {
      "text/plain": [
       "18"
      ]
     },
     "execution_count": 43,
     "metadata": {},
     "output_type": "execute_result"
    }
   ],
   "source": [
    "c = a + b\n",
    "len(c)"
   ]
  },
  {
   "cell_type": "code",
   "execution_count": 45,
   "id": "5440e51a",
   "metadata": {},
   "outputs": [
    {
     "name": "stdout",
     "output_type": "stream",
     "text": [
      "25\n"
     ]
    }
   ],
   "source": [
    "d = '-' * 25\n",
    "print(len(d))"
   ]
  },
  {
   "cell_type": "code",
   "execution_count": 52,
   "id": "12777147",
   "metadata": {},
   "outputs": [
    {
     "name": "stdout",
     "output_type": "stream",
     "text": [
      "My name is Rafael. I'm 32\n"
     ]
    }
   ],
   "source": [
    "e = 'My name is Rafael. I\\'m 32'\n",
    "print(e)"
   ]
  },
  {
   "cell_type": "markdown",
   "id": "1f594a44",
   "metadata": {},
   "source": [
    "## 2.4 Boolean values (*bool*)\n",
    "\n",
    "Stores a **True** or **False** variable. Boolean values can be used directly, generated by comparisons or generated by a function.\n",
    "\n",
    "<br/>\n",
    "\n",
    "### Comparisons\n",
    "\n",
    "<br/>\n",
    "\n",
    "| Comparison | Description |\n",
    "| :-- | :-- |\n",
    "| < | Less than |\n",
    "| <= | Less or equal than |\n",
    "| > | bigger than |\n",
    "| >= | bigger or equal than |\n",
    "| == | equan than |\n",
    "| != | different than |\n",
    "\n",
    "<br/>\n",
    "\n",
    "**nota**:\n",
    "<pre> If we convert booleans to numbers we have 1 for True and 0 for False </pre>\n",
    "<pre> Attention when comparing real numbers. Prefer using the close function </pre>\n",
    "<pre> There are other ways of obtain boolean values like the function isinstance() or using **in** or **is**</pre>"
   ]
  },
  {
   "cell_type": "code",
   "execution_count": 3,
   "id": "7d4a9df5",
   "metadata": {},
   "outputs": [
    {
     "data": {
      "text/plain": [
       "bool"
      ]
     },
     "execution_count": 3,
     "metadata": {},
     "output_type": "execute_result"
    }
   ],
   "source": [
    "type(True)"
   ]
  },
  {
   "cell_type": "code",
   "execution_count": 4,
   "id": "7ba29f80",
   "metadata": {},
   "outputs": [
    {
     "data": {
      "text/plain": [
       "bool"
      ]
     },
     "execution_count": 4,
     "metadata": {},
     "output_type": "execute_result"
    }
   ],
   "source": [
    "type(False)"
   ]
  },
  {
   "cell_type": "code",
   "execution_count": 9,
   "id": "1256a7ad",
   "metadata": {},
   "outputs": [
    {
     "name": "stdout",
     "output_type": "stream",
     "text": [
      "False\n"
     ]
    }
   ],
   "source": [
    "var = -5 > 2\n",
    "print(var)"
   ]
  },
  {
   "cell_type": "code",
   "execution_count": 10,
   "id": "64346aef",
   "metadata": {},
   "outputs": [
    {
     "data": {
      "text/plain": [
       "False"
      ]
     },
     "execution_count": 10,
     "metadata": {},
     "output_type": "execute_result"
    }
   ],
   "source": [
    "3 == 2.5"
   ]
  },
  {
   "cell_type": "code",
   "execution_count": 12,
   "id": "1579465e",
   "metadata": {},
   "outputs": [
    {
     "name": "stdout",
     "output_type": "stream",
     "text": [
      "0.30000000000000004\n"
     ]
    }
   ],
   "source": [
    "a = 0.1 + 0.1 + 0.1\n",
    "print(a)\n"
   ]
  },
  {
   "cell_type": "code",
   "execution_count": 13,
   "id": "f596efa0",
   "metadata": {},
   "outputs": [
    {
     "data": {
      "text/plain": [
       "False"
      ]
     },
     "execution_count": 13,
     "metadata": {},
     "output_type": "execute_result"
    }
   ],
   "source": [
    "0.3 == 0.1+0.1+0.1"
   ]
  },
  {
   "cell_type": "code",
   "execution_count": 14,
   "id": "b8eed8b3",
   "metadata": {},
   "outputs": [],
   "source": [
    "from math import isclose"
   ]
  },
  {
   "cell_type": "code",
   "execution_count": 15,
   "id": "a549c874",
   "metadata": {},
   "outputs": [],
   "source": [
    "a = 0.1 + 0.1 + 0.1\n",
    "b = 0.3"
   ]
  },
  {
   "cell_type": "code",
   "execution_count": 16,
   "id": "f41bd33a",
   "metadata": {},
   "outputs": [
    {
     "data": {
      "text/plain": [
       "False"
      ]
     },
     "execution_count": 16,
     "metadata": {},
     "output_type": "execute_result"
    }
   ],
   "source": [
    "a == b"
   ]
  },
  {
   "cell_type": "code",
   "execution_count": 17,
   "id": "0f3bd189",
   "metadata": {},
   "outputs": [
    {
     "data": {
      "text/plain": [
       "True"
      ]
     },
     "execution_count": 17,
     "metadata": {},
     "output_type": "execute_result"
    }
   ],
   "source": [
    "isclose(a, b)"
   ]
  },
  {
   "cell_type": "code",
   "execution_count": 22,
   "id": "2f308642",
   "metadata": {},
   "outputs": [],
   "source": [
    "c = 'Python'\n",
    "d = 'python'"
   ]
  },
  {
   "cell_type": "code",
   "execution_count": 23,
   "id": "0cb10c2a",
   "metadata": {},
   "outputs": [
    {
     "data": {
      "text/plain": [
       "False"
      ]
     },
     "execution_count": 23,
     "metadata": {},
     "output_type": "execute_result"
    }
   ],
   "source": [
    "c == d"
   ]
  },
  {
   "cell_type": "code",
   "execution_count": 25,
   "id": "e192e57b",
   "metadata": {},
   "outputs": [],
   "source": [
    "if 5 < 2:\n",
    "    print('five is greater than two')"
   ]
  },
  {
   "cell_type": "code",
   "execution_count": null,
   "id": "e3f5be62",
   "metadata": {},
   "outputs": [],
   "source": []
  },
  {
   "cell_type": "markdown",
   "id": "ff8be3dc",
   "metadata": {},
   "source": [
    "## 2.5 Collections\n",
    "Collections are containers. They are objects that store values.\n",
    "\n",
    "<br/>\n",
    "\n",
    "### Built-in types\n",
    "\n",
    "<br/>\n",
    "\n",
    "| Type | Description | \n",
    "| :-- | :-- |\n",
    "| list | An indexable sequence |\n",
    "| tuple | An imutable sequence|\n",
    "| set | elements are not indexed and do not repeat themselfs  |\n",
    "| dict | Dictionnaries are indexed by keys |\n",
    "\n",
    "<br/>\n",
    "\n",
    "#### syntaxe:\n",
    "```python\n",
    ">>> number = [0, 1, 2, 3, 4, 5, 6, 7, 8, 9] # list\n",
    ">>> vowels = ('a', 'e', 'i', 'o', 'u') # tuple\n",
    ">>> decimals_digits = {0,1,2,3,4,5,6,7,8,9} # set\n",
    ">>> roman_numerals = {'I':1,\"II\":2,'III':3,'IV':4,'V':5,'X':10} # dict\n",
    "```"
   ]
  },
  {
   "cell_type": "markdown",
   "id": "ef2a3ebe",
   "metadata": {},
   "source": [
    "## Lists"
   ]
  },
  {
   "cell_type": "code",
   "execution_count": 26,
   "id": "60ea2066",
   "metadata": {},
   "outputs": [
    {
     "name": "stdout",
     "output_type": "stream",
     "text": [
      "[1, 2, 3, 4, 5]\n"
     ]
    }
   ],
   "source": [
    "a = [1, 2, 3, 4, 5]\n",
    "print(a)"
   ]
  },
  {
   "cell_type": "code",
   "execution_count": 27,
   "id": "35db30fb",
   "metadata": {},
   "outputs": [
    {
     "data": {
      "text/plain": [
       "list"
      ]
     },
     "execution_count": 27,
     "metadata": {},
     "output_type": "execute_result"
    }
   ],
   "source": [
    "type(a)"
   ]
  },
  {
   "cell_type": "code",
   "execution_count": 29,
   "id": "e3d512e9",
   "metadata": {},
   "outputs": [
    {
     "data": {
      "text/plain": [
       "['a', 'b', 'c', 'd']"
      ]
     },
     "execution_count": 29,
     "metadata": {},
     "output_type": "execute_result"
    }
   ],
   "source": [
    "b = ['a', 'b', 'c', 'd']\n",
    "b"
   ]
  },
  {
   "cell_type": "code",
   "execution_count": 36,
   "id": "e930d1f7",
   "metadata": {},
   "outputs": [],
   "source": [
    "b.append('e')"
   ]
  },
  {
   "cell_type": "code",
   "execution_count": 37,
   "id": "b1104b06",
   "metadata": {},
   "outputs": [
    {
     "data": {
      "text/plain": [
       "['a', 'b', 'c', 'd', 'e']"
      ]
     },
     "execution_count": 37,
     "metadata": {},
     "output_type": "execute_result"
    }
   ],
   "source": [
    "b"
   ]
  },
  {
   "cell_type": "markdown",
   "id": "9ed4e73f",
   "metadata": {},
   "source": [
    "## Tuple"
   ]
  },
  {
   "cell_type": "code",
   "execution_count": 38,
   "id": "38d2f085",
   "metadata": {},
   "outputs": [],
   "source": [
    "coord_1 = (1.5, 0.5)"
   ]
  },
  {
   "cell_type": "code",
   "execution_count": 39,
   "id": "d6a3f6f3",
   "metadata": {},
   "outputs": [
    {
     "data": {
      "text/plain": [
       "tuple"
      ]
     },
     "execution_count": 39,
     "metadata": {},
     "output_type": "execute_result"
    }
   ],
   "source": [
    "type(coord_1)"
   ]
  },
  {
   "cell_type": "code",
   "execution_count": 41,
   "id": "87bc0bf0",
   "metadata": {},
   "outputs": [
    {
     "ename": "AttributeError",
     "evalue": "'tuple' object has no attribute 'append'",
     "output_type": "error",
     "traceback": [
      "\u001b[1;31m---------------------------------------------------------------------------\u001b[0m",
      "\u001b[1;31mAttributeError\u001b[0m                            Traceback (most recent call last)",
      "Cell \u001b[1;32mIn[41], line 1\u001b[0m\n\u001b[1;32m----> 1\u001b[0m \u001b[43mcoord_1\u001b[49m\u001b[38;5;241;43m.\u001b[39;49m\u001b[43mappend\u001b[49m(\u001b[38;5;241m5\u001b[39m)\n",
      "\u001b[1;31mAttributeError\u001b[0m: 'tuple' object has no attribute 'append'"
     ]
    }
   ],
   "source": [
    "coord_1.append(5)"
   ]
  },
  {
   "cell_type": "markdown",
   "id": "7263ce28",
   "metadata": {},
   "source": [
    "## Conjuntos (set)"
   ]
  },
  {
   "cell_type": "code",
   "execution_count": 47,
   "id": "fde77565",
   "metadata": {},
   "outputs": [],
   "source": [
    "integers = {1, 2, 3, 4 , 5, 6, 7, 8, 9, 0, 9}"
   ]
  },
  {
   "cell_type": "code",
   "execution_count": 48,
   "id": "5f7efd86",
   "metadata": {},
   "outputs": [
    {
     "data": {
      "text/plain": [
       "set"
      ]
     },
     "execution_count": 48,
     "metadata": {},
     "output_type": "execute_result"
    }
   ],
   "source": [
    "type(integers)"
   ]
  },
  {
   "cell_type": "code",
   "execution_count": 49,
   "id": "091501f8",
   "metadata": {},
   "outputs": [
    {
     "data": {
      "text/plain": [
       "{0, 1, 2, 3, 4, 5, 6, 7, 8, 9}"
      ]
     },
     "execution_count": 49,
     "metadata": {},
     "output_type": "execute_result"
    }
   ],
   "source": [
    "integers"
   ]
  },
  {
   "cell_type": "code",
   "execution_count": 50,
   "id": "a181e1a8",
   "metadata": {},
   "outputs": [
    {
     "data": {
      "text/plain": [
       "True"
      ]
     },
     "execution_count": 50,
     "metadata": {},
     "output_type": "execute_result"
    }
   ],
   "source": [
    "{0, 1} < integers"
   ]
  },
  {
   "cell_type": "markdown",
   "id": "8c2c3d1b",
   "metadata": {},
   "source": [
    "## Dictionary"
   ]
  },
  {
   "cell_type": "code",
   "execution_count": 51,
   "id": "c66cdc62",
   "metadata": {},
   "outputs": [],
   "source": [
    "e = {'a': 1, 'b': 2, 'c': 3}"
   ]
  },
  {
   "cell_type": "code",
   "execution_count": 53,
   "id": "6b0b3105",
   "metadata": {},
   "outputs": [
    {
     "data": {
      "text/plain": [
       "dict"
      ]
     },
     "execution_count": 53,
     "metadata": {},
     "output_type": "execute_result"
    }
   ],
   "source": [
    "type(e)"
   ]
  },
  {
   "cell_type": "code",
   "execution_count": 55,
   "id": "8ff0f9e6",
   "metadata": {},
   "outputs": [
    {
     "data": {
      "text/plain": [
       "3"
      ]
     },
     "execution_count": 55,
     "metadata": {},
     "output_type": "execute_result"
    }
   ],
   "source": [
    "e['c']"
   ]
  },
  {
   "cell_type": "code",
   "execution_count": 56,
   "id": "30ca133b",
   "metadata": {},
   "outputs": [],
   "source": [
    "e['d'] = 4"
   ]
  },
  {
   "cell_type": "code",
   "execution_count": 57,
   "id": "be6f8307",
   "metadata": {},
   "outputs": [
    {
     "data": {
      "text/plain": [
       "{'a': 1, 'b': 2, 'c': 3, 'd': 4}"
      ]
     },
     "execution_count": 57,
     "metadata": {},
     "output_type": "execute_result"
    }
   ],
   "source": [
    "e"
   ]
  },
  {
   "cell_type": "code",
   "execution_count": null,
   "id": "a0c52e53",
   "metadata": {},
   "outputs": [],
   "source": []
  }
 ],
 "metadata": {
  "kernelspec": {
   "display_name": "Python 3 (ipykernel)",
   "language": "python",
   "name": "python3"
  },
  "language_info": {
   "codemirror_mode": {
    "name": "ipython",
    "version": 3
   },
   "file_extension": ".py",
   "mimetype": "text/x-python",
   "name": "python",
   "nbconvert_exporter": "python",
   "pygments_lexer": "ipython3",
   "version": "3.9.13"
  }
 },
 "nbformat": 4,
 "nbformat_minor": 5
}
