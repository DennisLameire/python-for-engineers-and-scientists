{
 "cells": [
  {
   "cell_type": "markdown",
   "id": "f169f187",
   "metadata": {},
   "source": [
    "# Part 2\n",
    "# Section 10: Numpy\n",
    "\n",
    "Numpy is a Python library that allows you to build multidimensional arrays. Operations with Numpy tend to be faster compared to other Python structures because 30% of the library is written in C, among other aspects."
   ]
  },
  {
   "cell_type": "markdown",
   "id": "11560e18",
   "metadata": {},
   "source": [
    "## 10.1 - Arrays\n",
    "\n",
    "### Syntax\n",
    "\n",
    "```python\n",
    "import numpy as np\n",
    "arr = np.array([1, 2, 3, 4, 5]) # 1d array\n",
    "```\n",
    "\n",
    "### Some array attributes\n",
    "\n",
    "| Attribute | Returns | Description |\n",
    "| :-- | :-- | :-- |\n",
    "| ndarray.ndim | int | number of dimensions (axes) |\n",
    "| ndarray.shape | tuple | number of elements in each dimension |\n",
    "| ndarray.size | int | number of elements |\n",
    "| ndarray.dtype | dtype | data type of the elements |\n",
    "\n",
    "**Note:**\n",
    "- `np.array(iterable)` is a function that returns an ndarray object.\n",
    "- We can create arrays with as many dimensions as needed."
   ]
  },
  {
   "cell_type": "code",
   "execution_count": 4,
   "id": "401df793",
   "metadata": {},
   "outputs": [],
   "source": [
    "import numpy as np"
   ]
  },
  {
   "cell_type": "code",
   "execution_count": 5,
   "id": "f50c411f",
   "metadata": {},
   "outputs": [
    {
     "data": {
      "text/plain": [
       "[0, 1, 2, 3, 4, 5, 6, 7, 8, 9]"
      ]
     },
     "execution_count": 5,
     "metadata": {},
     "output_type": "execute_result"
    }
   ],
   "source": [
    "a = list(range(10))\n",
    "a"
   ]
  },
  {
   "cell_type": "code",
   "execution_count": 10,
   "id": "b985349f",
   "metadata": {},
   "outputs": [
    {
     "data": {
      "text/plain": [
       "array([0, 1, 2, 3, 4, 5, 6, 7, 8, 9])"
      ]
     },
     "execution_count": 10,
     "metadata": {},
     "output_type": "execute_result"
    }
   ],
   "source": [
    "b = np.array(a)\n",
    "b"
   ]
  },
  {
   "cell_type": "code",
   "execution_count": 11,
   "id": "0aa9f3b1",
   "metadata": {},
   "outputs": [
    {
     "data": {
      "text/plain": [
       "numpy.ndarray"
      ]
     },
     "execution_count": 11,
     "metadata": {},
     "output_type": "execute_result"
    }
   ],
   "source": [
    "type(b)"
   ]
  },
  {
   "cell_type": "code",
   "execution_count": 12,
   "id": "55826634",
   "metadata": {},
   "outputs": [
    {
     "data": {
      "text/plain": [
       "1"
      ]
     },
     "execution_count": 12,
     "metadata": {},
     "output_type": "execute_result"
    }
   ],
   "source": [
    "b.ndim"
   ]
  },
  {
   "cell_type": "code",
   "execution_count": 15,
   "id": "0dfc2a25",
   "metadata": {},
   "outputs": [
    {
     "data": {
      "text/plain": [
       "dtype('int32')"
      ]
     },
     "execution_count": 15,
     "metadata": {},
     "output_type": "execute_result"
    }
   ],
   "source": [
    "b.dtype"
   ]
  },
  {
   "cell_type": "code",
   "execution_count": 17,
   "id": "20a5fc35",
   "metadata": {},
   "outputs": [
    {
     "data": {
      "text/plain": [
       "array([[ 1,  2,  3],\n",
       "       [10, 11, 12]])"
      ]
     },
     "execution_count": 17,
     "metadata": {},
     "output_type": "execute_result"
    }
   ],
   "source": [
    "c = [[1, 2, 3], [10, 11, 12]]\n",
    "d = np.array(c)\n",
    "d"
   ]
  },
  {
   "cell_type": "code",
   "execution_count": 18,
   "id": "5ff5784b",
   "metadata": {},
   "outputs": [
    {
     "data": {
      "text/plain": [
       "2"
      ]
     },
     "execution_count": 18,
     "metadata": {},
     "output_type": "execute_result"
    }
   ],
   "source": [
    "d.ndim"
   ]
  },
  {
   "cell_type": "code",
   "execution_count": 20,
   "id": "c85d93c6",
   "metadata": {},
   "outputs": [
    {
     "data": {
      "text/plain": [
       "(2, 3)"
      ]
     },
     "execution_count": 20,
     "metadata": {},
     "output_type": "execute_result"
    }
   ],
   "source": [
    "d.shape"
   ]
  },
  {
   "cell_type": "code",
   "execution_count": 21,
   "id": "09d13819",
   "metadata": {},
   "outputs": [
    {
     "data": {
      "text/plain": [
       "6"
      ]
     },
     "execution_count": 21,
     "metadata": {},
     "output_type": "execute_result"
    }
   ],
   "source": [
    "d.size"
   ]
  },
  {
   "cell_type": "code",
   "execution_count": 33,
   "id": "05d4d045",
   "metadata": {},
   "outputs": [
    {
     "data": {
      "text/plain": [
       "array([[[ 1. ,  2. ,  3. ],\n",
       "        [10. , 11. , 12. ]],\n",
       "\n",
       "       [[ 1. , 10.1,  3. ],\n",
       "        [10. , 11. , 12. ]]])"
      ]
     },
     "execution_count": 33,
     "metadata": {},
     "output_type": "execute_result"
    }
   ],
   "source": [
    "e = [[[1, 2, 3],\n",
    "     [10, 11, 12]],\n",
    "\n",
    "     [[1,10.1, 3],\n",
    "     [10, 11, 12]]]\n",
    "f = np.array(e)\n",
    "f"
   ]
  },
  {
   "cell_type": "code",
   "execution_count": 34,
   "id": "6b7945c1",
   "metadata": {},
   "outputs": [
    {
     "data": {
      "text/plain": [
       "dtype('float64')"
      ]
     },
     "execution_count": 34,
     "metadata": {},
     "output_type": "execute_result"
    }
   ],
   "source": [
    "f.dtype"
   ]
  },
  {
   "cell_type": "markdown",
   "id": "60fc6f3d",
   "metadata": {},
   "source": [
    "## 10.2 - Math functions\n",
    "\n",
    "### Trigonometric functions\n",
    "\n",
    "| Function | Description |\n",
    "| :-- | :-- |\n",
    "| sin(x) | Sine |\n",
    "| cos(x) | Cosine |\n",
    "| tan(x) | Tangent |\n",
    "| arcsin(x) | Arcsine |\n",
    "| arccos(x) | Arccosine |\n",
    "| arctan(x) | Arctangent |\n",
    "| sinh(x) | Hyperbolic sine |\n",
    "\n",
    "### Exponential and logarithmic functions\n",
    "\n",
    "| Function | Description |\n",
    "| :-- | :-- |\n",
    "| exp(x) | Exponential |\n",
    "| log(x) | Natural logarithm |\n",
    "| log10(x) | Base 10 logarithm |\n",
    "| sqrt(x) | Square root |\n",
    "\n",
    "### Constants\n",
    "\n",
    "| Constant | Description |\n",
    "| :-- | :-- |\n",
    "| np.pi | $\\pi$ = 3.141592... |\n",
    "| np.e | $e$ = 2.7182... |\n",
    "| np.nan | Representation of a non-numeric value (not a number) |\n",
    "| np.inf | Representation of infinity |\n",
    "\n",
    "**Note:** You can find more information about mathematical functions in the [Numpy documentation](https://numpy.org/doc/stable/reference/routines.math.html)."
   ]
  },
  {
   "cell_type": "code",
   "execution_count": 43,
   "id": "d46d81ac",
   "metadata": {},
   "outputs": [],
   "source": [
    "import math\n",
    "\n",
    "from numpy import cos, sin\n",
    "from numpy import pi, nan\n",
    "\n"
   ]
  },
  {
   "cell_type": "code",
   "execution_count": 39,
   "id": "3946e50f",
   "metadata": {},
   "outputs": [
    {
     "data": {
      "text/plain": [
       "1.0"
      ]
     },
     "execution_count": 39,
     "metadata": {},
     "output_type": "execute_result"
    }
   ],
   "source": [
    "cos(0)"
   ]
  },
  {
   "cell_type": "code",
   "execution_count": 46,
   "id": "b37cc5f7",
   "metadata": {},
   "outputs": [
    {
     "data": {
      "text/plain": [
       "float"
      ]
     },
     "execution_count": 46,
     "metadata": {},
     "output_type": "execute_result"
    }
   ],
   "source": [
    "type(nan)"
   ]
  },
  {
   "cell_type": "code",
   "execution_count": 51,
   "id": "c520dcda",
   "metadata": {},
   "outputs": [],
   "source": [
    "a = np.array(\n",
    "    [1, 2, 3, nan]\n",
    ")"
   ]
  },
  {
   "cell_type": "code",
   "execution_count": 53,
   "id": "7071fa5c",
   "metadata": {},
   "outputs": [
    {
     "data": {
      "text/plain": [
       "dtype('float64')"
      ]
     },
     "execution_count": 53,
     "metadata": {},
     "output_type": "execute_result"
    }
   ],
   "source": [
    "a.dtype"
   ]
  },
  {
   "cell_type": "code",
   "execution_count": 55,
   "id": "6778abad",
   "metadata": {},
   "outputs": [
    {
     "data": {
      "text/plain": [
       "array([ 1.,  4.,  9., nan])"
      ]
     },
     "execution_count": 55,
     "metadata": {},
     "output_type": "execute_result"
    }
   ],
   "source": [
    "a ** 2"
   ]
  },
  {
   "cell_type": "code",
   "execution_count": 57,
   "id": "66e66069",
   "metadata": {},
   "outputs": [
    {
     "data": {
      "text/plain": [
       "6.123233995736766e-17"
      ]
     },
     "execution_count": 57,
     "metadata": {},
     "output_type": "execute_result"
    }
   ],
   "source": [
    "cos(pi/2)"
   ]
  },
  {
   "cell_type": "markdown",
   "id": "5502fc7c",
   "metadata": {},
   "source": [
    "## 10.3 - Array Creation\n",
    "\n",
    "### Functions for array creation\n",
    "\n",
    "| Function | Description |\n",
    "| :-- | :-- |\n",
    "| np.zeros(shape) | array filled with zeros |\n",
    "| np.ones(shape) | array filled with ones |\n",
    "| np.eye(dimensão) | identity matrix |\n",
    "| np.arange(start, stop, step) | creates a one-dimensional array |\n",
    "| np.linspace(start, stop, quantity) | creates a one-dimensional array |\n",
    "| np.vstack([*arrays*]) and hstack([*arrays*]) | adds elements from one or more arrays |\n",
    "\n",
    "### Methods for resizing arrays:\n",
    "\n",
    " | Method | Description |\n",
    "| :-- | :-- |\n",
    "|reshape(new_shape) | returns an array with the specified shape|\n",
    "|resize(new_shape) | modifies the shape of the array being applied|\n",
    "\n",
    "\n",
    "**Note**\n",
    "<pre>Pay attention to which methods modify the array and which return a new array </pre>\n",
    "<pre>Arrays do not have dynamic size like lists. But we can \"steal\" and modify the size of an array by stacking them (a new object will be generated). </pre>"
   ]
  },
  {
   "cell_type": "code",
   "execution_count": 5,
   "id": "030b0963",
   "metadata": {},
   "outputs": [],
   "source": [
    "import numpy as np"
   ]
  },
  {
   "cell_type": "code",
   "execution_count": null,
   "id": "efc98874",
   "metadata": {},
   "outputs": [],
   "source": []
  },
  {
   "cell_type": "code",
   "execution_count": null,
   "id": "2669a8bc",
   "metadata": {},
   "outputs": [],
   "source": []
  },
  {
   "cell_type": "code",
   "execution_count": null,
   "id": "98d09cc7",
   "metadata": {},
   "outputs": [],
   "source": []
  },
  {
   "cell_type": "code",
   "execution_count": null,
   "id": "664f2b2e",
   "metadata": {},
   "outputs": [],
   "source": []
  },
  {
   "cell_type": "markdown",
   "id": "1277266a",
   "metadata": {},
   "source": [
    "## 10.4 - Basic Operations with Arrays\n",
    "\n",
    "Arrays in numpy have many (MANY) functionalities. They can behave like simple data structures, such as vectors or even matrices, depending on how we manipulate them. In this lesson, we will see the basic operations, those that make arrays behave like data structures.\n",
    "\n",
    "**Basic operations and how they behave**\n",
    "- Arrays accept basic operations $+$, $-$, $\\times$, $\\div$ and execute them element-wise, so arrays must have exactly the same shape.\n",
    "- Arrays accept basic operations between an array and a number (float or int). It will execute the operation between the number and each element of the array.\n",
    "- Boolean operations are also accepted and return an array filled with booleans.\n",
    "\n",
    "**Note**\n",
    "<pre>Later on, we will see vector and matrix operations with arrays. </pre>"
   ]
  },
  {
   "cell_type": "code",
   "execution_count": 15,
   "id": "ed27a5e5",
   "metadata": {},
   "outputs": [],
   "source": [
    "import numpy as np"
   ]
  },
  {
   "cell_type": "code",
   "execution_count": 16,
   "id": "1f912b06",
   "metadata": {},
   "outputs": [],
   "source": [
    "a = np.arange(10)\n",
    "b = np.arange(10) + 100"
   ]
  },
  {
   "cell_type": "code",
   "execution_count": 17,
   "id": "40672c5d",
   "metadata": {},
   "outputs": [
    {
     "data": {
      "text/plain": [
       "array([0, 1, 2, 3, 4, 5, 6, 7, 8, 9])"
      ]
     },
     "execution_count": 17,
     "metadata": {},
     "output_type": "execute_result"
    }
   ],
   "source": [
    "a"
   ]
  },
  {
   "cell_type": "code",
   "execution_count": 18,
   "id": "8c4cebdf",
   "metadata": {},
   "outputs": [
    {
     "data": {
      "text/plain": [
       "array([100, 101, 102, 103, 104, 105, 106, 107, 108, 109])"
      ]
     },
     "execution_count": 18,
     "metadata": {},
     "output_type": "execute_result"
    }
   ],
   "source": [
    "b"
   ]
  },
  {
   "cell_type": "code",
   "execution_count": 22,
   "id": "4c80eb5c",
   "metadata": {},
   "outputs": [
    {
     "data": {
      "text/plain": [
       "array([0.        , 0.00990099, 0.01960784, 0.02912621, 0.03846154,\n",
       "       0.04761905, 0.05660377, 0.06542056, 0.07407407, 0.08256881])"
      ]
     },
     "execution_count": 22,
     "metadata": {},
     "output_type": "execute_result"
    }
   ],
   "source": [
    "a  / b"
   ]
  },
  {
   "cell_type": "code",
   "execution_count": 25,
   "id": "2af8ff14",
   "metadata": {},
   "outputs": [
    {
     "data": {
      "text/plain": [
       "array([5., 5., 5., 5., 5., 5., 5., 5., 5., 5.])"
      ]
     },
     "execution_count": 25,
     "metadata": {},
     "output_type": "execute_result"
    }
   ],
   "source": [
    "c = np.ones(10) * 5\n",
    "c"
   ]
  },
  {
   "cell_type": "code",
   "execution_count": 26,
   "id": "f52dd35e",
   "metadata": {},
   "outputs": [
    {
     "data": {
      "text/plain": [
       "array([5., 5., 5., 5., 5., 5., 5., 5., 5., 5.])"
      ]
     },
     "execution_count": 26,
     "metadata": {},
     "output_type": "execute_result"
    }
   ],
   "source": [
    "d = np.zeros(10) + 5\n",
    "d"
   ]
  },
  {
   "cell_type": "code",
   "execution_count": 29,
   "id": "01304045",
   "metadata": {},
   "outputs": [],
   "source": [
    "e = b < 105"
   ]
  },
  {
   "cell_type": "code",
   "execution_count": 32,
   "id": "e59cd8b0",
   "metadata": {},
   "outputs": [
    {
     "data": {
      "text/plain": [
       "False"
      ]
     },
     "execution_count": 32,
     "metadata": {},
     "output_type": "execute_result"
    }
   ],
   "source": [
    "all(e)"
   ]
  },
  {
   "cell_type": "code",
   "execution_count": 33,
   "id": "a42897fc",
   "metadata": {},
   "outputs": [
    {
     "data": {
      "text/plain": [
       "array([ True,  True,  True,  True,  True, False, False, False, False,\n",
       "       False])"
      ]
     },
     "execution_count": 33,
     "metadata": {},
     "output_type": "execute_result"
    }
   ],
   "source": [
    "e"
   ]
  },
  {
   "cell_type": "markdown",
   "id": "10df90af",
   "metadata": {},
   "source": [
    "## 10.5 - Numpy Memory Management\n",
    "\n",
    "Remember that the numpy array is not dynamic. Also, be careful with objects when copying, manipulating, and pasting.\n",
    "\n",
    "#### Copying an array\n",
    "| Method | Description |\n",
    "| :-- | :-- |\n",
    "| .copy() | makes a copy (deep copy) of the array. Be careful! The equal sign does not execute this function |\n",
    "\n",
    "#### Property\n",
    "| Method | Description |\n",
    "| :-- | :-- |\n",
    "| .base | Returns the base array that was used to create the current array |\n",
    "\n",
    "**Note**\n",
    "<pre>We can use the logical operator `is` to check if we have a new object. </pre>"
   ]
  },
  {
   "cell_type": "code",
   "execution_count": 35,
   "id": "078faccd",
   "metadata": {},
   "outputs": [],
   "source": [
    "import numpy as np"
   ]
  },
  {
   "cell_type": "code",
   "execution_count": 38,
   "id": "6435e2e6",
   "metadata": {},
   "outputs": [
    {
     "data": {
      "text/plain": [
       "array([ 0.        ,  1.42857143,  2.85714286,  4.28571429,  5.71428571,\n",
       "        7.14285714,  8.57142857, 10.        ])"
      ]
     },
     "execution_count": 38,
     "metadata": {},
     "output_type": "execute_result"
    }
   ],
   "source": [
    "a = np.linspace(0, 10, 8)\n",
    "a"
   ]
  },
  {
   "cell_type": "code",
   "execution_count": 39,
   "id": "bd0eba2e",
   "metadata": {},
   "outputs": [],
   "source": [
    "b = a"
   ]
  },
  {
   "cell_type": "code",
   "execution_count": 40,
   "id": "e4043347",
   "metadata": {},
   "outputs": [],
   "source": [
    "a.resize(2, 4)"
   ]
  },
  {
   "cell_type": "code",
   "execution_count": 44,
   "id": "496da93f",
   "metadata": {},
   "outputs": [
    {
     "data": {
      "text/plain": [
       "(2, 4)"
      ]
     },
     "execution_count": 44,
     "metadata": {},
     "output_type": "execute_result"
    }
   ],
   "source": [
    "a.shape"
   ]
  },
  {
   "cell_type": "code",
   "execution_count": 43,
   "id": "4f84d220",
   "metadata": {},
   "outputs": [
    {
     "data": {
      "text/plain": [
       "(2, 4)"
      ]
     },
     "execution_count": 43,
     "metadata": {},
     "output_type": "execute_result"
    }
   ],
   "source": [
    "b.shape"
   ]
  },
  {
   "cell_type": "code",
   "execution_count": 45,
   "id": "54f0f0a7",
   "metadata": {},
   "outputs": [
    {
     "data": {
      "text/plain": [
       "True"
      ]
     },
     "execution_count": 45,
     "metadata": {},
     "output_type": "execute_result"
    }
   ],
   "source": [
    "a is b"
   ]
  },
  {
   "cell_type": "code",
   "execution_count": 46,
   "id": "fe5992ee",
   "metadata": {},
   "outputs": [],
   "source": [
    "c = a.copy()"
   ]
  },
  {
   "cell_type": "code",
   "execution_count": 50,
   "id": "7aa08af4",
   "metadata": {},
   "outputs": [
    {
     "data": {
      "text/plain": [
       "array([ 0.        ,  1.42857143,  2.85714286,  4.28571429,  5.71428571,\n",
       "        7.14285714,  8.57142857, 10.        ])"
      ]
     },
     "execution_count": 50,
     "metadata": {},
     "output_type": "execute_result"
    }
   ],
   "source": [
    "a.base"
   ]
  },
  {
   "cell_type": "code",
   "execution_count": 52,
   "id": "d1ebf112",
   "metadata": {},
   "outputs": [
    {
     "data": {
      "text/plain": [
       "(10,)"
      ]
     },
     "execution_count": 52,
     "metadata": {},
     "output_type": "execute_result"
    }
   ],
   "source": [
    "e = np.arange(10)\n",
    "e.shape"
   ]
  },
  {
   "cell_type": "code",
   "execution_count": 55,
   "id": "b8a96f72",
   "metadata": {},
   "outputs": [],
   "source": [
    "f = e.reshape(2, 5)"
   ]
  },
  {
   "cell_type": "code",
   "execution_count": 57,
   "id": "3dc83bb5",
   "metadata": {},
   "outputs": [
    {
     "data": {
      "text/plain": [
       "(10,)"
      ]
     },
     "execution_count": 57,
     "metadata": {},
     "output_type": "execute_result"
    }
   ],
   "source": [
    "e.shape"
   ]
  },
  {
   "cell_type": "code",
   "execution_count": 58,
   "id": "695510d1",
   "metadata": {},
   "outputs": [
    {
     "data": {
      "text/plain": [
       "array([[0, 1, 2, 3, 4],\n",
       "       [5, 6, 7, 8, 9]])"
      ]
     },
     "execution_count": 58,
     "metadata": {},
     "output_type": "execute_result"
    }
   ],
   "source": [
    "f"
   ]
  },
  {
   "cell_type": "code",
   "execution_count": 61,
   "id": "b87c5f0e",
   "metadata": {},
   "outputs": [
    {
     "data": {
      "text/plain": [
       "True"
      ]
     },
     "execution_count": 61,
     "metadata": {},
     "output_type": "execute_result"
    }
   ],
   "source": [
    "e is f.base"
   ]
  },
  {
   "cell_type": "code",
   "execution_count": 62,
   "id": "3d654459",
   "metadata": {},
   "outputs": [
    {
     "data": {
      "text/plain": [
       "True"
      ]
     },
     "execution_count": 62,
     "metadata": {},
     "output_type": "execute_result"
    }
   ],
   "source": [
    "np.may_share_memory(e, f)"
   ]
  },
  {
   "cell_type": "markdown",
   "id": "75fe9f51",
   "metadata": {},
   "source": [
    "## 10.6 Statistical Methods for Arrays\n",
    "\n",
    "| Method | Description |\n",
    "| :-- | :-- |\n",
    "| max(axis=None) | Returns the maximum value |\n",
    "| min(axis=None) | Returns the minimum value |\n",
    "| argmax(axis=None) | Returns the index of the maximum value |\n",
    "| argmin(axis=None) | Returns the index of the minimum value |\n",
    "| sum(axis=None) | Returns the sum of the array elements |\n",
    "| cumsum(axis=None) | Returns an array with the cumulative sum of the values |\n",
    "| prod(axis=None) | Returns the product of the array elements |\n",
    "| cumprod(axis=None) | Returns the cumulative product of the array elements |\n",
    "| mean(axis=None) | Returns the mean of the array elements |\n",
    "| var(axis=None) | Returns the variance of the array |\n",
    "| std(axis=None) | Returns the standard deviation of the array |\n",
    "\n",
    "**Note**\n",
    "<pre>When the axis option is used, we perform the operation along the specified axis. </pre>"
   ]
  },
  {
   "cell_type": "code",
   "execution_count": 63,
   "id": "771eabd8",
   "metadata": {},
   "outputs": [],
   "source": [
    "import numpy as np"
   ]
  },
  {
   "cell_type": "code",
   "execution_count": 65,
   "id": "2cfee798",
   "metadata": {},
   "outputs": [
    {
     "data": {
      "text/plain": [
       "array([   0.        ,   90.90909091,  181.81818182,  272.72727273,\n",
       "        363.63636364,  454.54545455,  545.45454545,  636.36363636,\n",
       "        727.27272727,  818.18181818,  909.09090909, 1000.        ])"
      ]
     },
     "execution_count": 65,
     "metadata": {},
     "output_type": "execute_result"
    }
   ],
   "source": [
    "a = np.linspace(0, 1000, 12)\n",
    "a"
   ]
  },
  {
   "cell_type": "code",
   "execution_count": 70,
   "id": "35f32254",
   "metadata": {},
   "outputs": [
    {
     "data": {
      "text/plain": [
       "0"
      ]
     },
     "execution_count": 70,
     "metadata": {},
     "output_type": "execute_result"
    }
   ],
   "source": [
    "a.argmin()"
   ]
  },
  {
   "cell_type": "code",
   "execution_count": 75,
   "id": "6bcea5dc",
   "metadata": {},
   "outputs": [
    {
     "data": {
      "text/plain": [
       "0.0"
      ]
     },
     "execution_count": 75,
     "metadata": {},
     "output_type": "execute_result"
    }
   ],
   "source": [
    "a.prod()"
   ]
  },
  {
   "cell_type": "code",
   "execution_count": 74,
   "id": "4ddcac74",
   "metadata": {},
   "outputs": [
    {
     "data": {
      "text/plain": [
       "array([0., 0., 0., 0., 0., 0., 0., 0., 0., 0., 0., 0.])"
      ]
     },
     "execution_count": 74,
     "metadata": {},
     "output_type": "execute_result"
    }
   ],
   "source": [
    "a.cumprod()"
   ]
  },
  {
   "cell_type": "code",
   "execution_count": 78,
   "id": "d05d5ab8",
   "metadata": {},
   "outputs": [
    {
     "data": {
      "text/plain": [
       "313.8229572304239"
      ]
     },
     "execution_count": 78,
     "metadata": {},
     "output_type": "execute_result"
    }
   ],
   "source": [
    "a.std()"
   ]
  },
  {
   "cell_type": "code",
   "execution_count": 85,
   "id": "3aff1447",
   "metadata": {},
   "outputs": [
    {
     "data": {
      "text/plain": [
       "array([[   20.        ,   888.69565217,  1757.39130435,  2626.08695652],\n",
       "       [ 3494.7826087 ,  4363.47826087,  5232.17391304,  6100.86956522],\n",
       "       [ 6969.56521739,  7838.26086957,  8706.95652174,  9575.65217391],\n",
       "       [10444.34782609, 11313.04347826, 12181.73913043, 13050.43478261],\n",
       "       [13919.13043478, 14787.82608696, 15656.52173913, 16525.2173913 ],\n",
       "       [17393.91304348, 18262.60869565, 19131.30434783, 20000.        ]])"
      ]
     },
     "execution_count": 85,
     "metadata": {},
     "output_type": "execute_result"
    }
   ],
   "source": [
    "b = np.linspace(20, 20000, 24).reshape(6, 4)\n",
    "b"
   ]
  },
  {
   "cell_type": "code",
   "execution_count": 89,
   "id": "86e634d0",
   "metadata": {},
   "outputs": [
    {
     "data": {
      "text/plain": [
       "(6, 4)"
      ]
     },
     "execution_count": 89,
     "metadata": {},
     "output_type": "execute_result"
    }
   ],
   "source": [
    "b.shape"
   ]
  },
  {
   "cell_type": "code",
   "execution_count": 95,
   "id": "7aa5c6be",
   "metadata": {},
   "outputs": [
    {
     "data": {
      "text/plain": [
       "52241.73913043999"
      ]
     },
     "execution_count": 95,
     "metadata": {},
     "output_type": "execute_result"
    }
   ],
   "source": [
    "20 + 3494.7826087 + 6969.56521739 + 10444.34782609 + 13919.13043478 + 17393.91304348"
   ]
  },
  {
   "cell_type": "code",
   "execution_count": 96,
   "id": "2bab55aa",
   "metadata": {},
   "outputs": [
    {
     "data": {
      "text/plain": [
       "array([52241.73913043, 57453.91304348, 62666.08695652, 67878.26086957])"
      ]
     },
     "execution_count": 96,
     "metadata": {},
     "output_type": "execute_result"
    }
   ],
   "source": [
    "b.sum(axis=0)"
   ]
  },
  {
   "cell_type": "markdown",
   "id": "c04654d1",
   "metadata": {},
   "source": [
    "## 10.7 Array Indexing and Slicing\n",
    "\n",
    "Similar to what we did with lists, we can slice arrays.\n",
    "\n",
    "| Syntax | Description |\n",
    "| :-- | :-- |\n",
    "| [i] | for 1 dimension works as in lists |\n",
    "| [:i] | displays an array from index 0 to one before i |\n",
    "| [i:] | displays an array from index i to the last index |\n",
    "| [::i] | displays all elements varying from i to i |\n",
    "| [::-i] | displays the sequence of elements from back to front varying from i to i |\n",
    "| [a:b:c] | start, end, step |\n",
    "| [i,j] | to display an element of a matrix |\n",
    "| [i,a:b] | returns a slice of row i with elements from columns a to b |\n",
    "| [n,i,j] | another dimension, row, column |\n",
    "\n",
    "**Note**\n",
    "<pre>There are more sophisticated operations for slicing, known as fancy indexing.</pre>"
   ]
  },
  {
   "cell_type": "code",
   "execution_count": 7,
   "id": "7d442bca",
   "metadata": {},
   "outputs": [],
   "source": [
    "import numpy as np"
   ]
  },
  {
   "cell_type": "code",
   "execution_count": 8,
   "id": "652ccc3d",
   "metadata": {},
   "outputs": [
    {
     "data": {
      "text/plain": [
       "200"
      ]
     },
     "execution_count": 8,
     "metadata": {},
     "output_type": "execute_result"
    }
   ],
   "source": [
    "a = np.linspace(0, 100, 200)\n",
    "len(a)"
   ]
  },
  {
   "cell_type": "code",
   "execution_count": 10,
   "id": "d91f0029",
   "metadata": {},
   "outputs": [
    {
     "data": {
      "text/plain": [
       "1.0050251256281406"
      ]
     },
     "execution_count": 10,
     "metadata": {},
     "output_type": "execute_result"
    }
   ],
   "source": [
    "a[2]"
   ]
  },
  {
   "cell_type": "code",
   "execution_count": 11,
   "id": "56dad193",
   "metadata": {},
   "outputs": [
    {
     "data": {
      "text/plain": [
       "array([0.        , 0.50251256, 1.00502513, 1.50753769, 2.01005025])"
      ]
     },
     "execution_count": 11,
     "metadata": {},
     "output_type": "execute_result"
    }
   ],
   "source": [
    "a[:5]"
   ]
  },
  {
   "cell_type": "code",
   "execution_count": 15,
   "id": "e2d63e86",
   "metadata": {},
   "outputs": [
    {
     "data": {
      "text/plain": [
       "array([ 0.        ,  5.02512563, 10.05025126, 15.07537688, 20.10050251,\n",
       "       25.12562814, 30.15075377, 35.1758794 , 40.20100503, 45.22613065,\n",
       "       50.25125628, 55.27638191, 60.30150754, 65.32663317, 70.35175879,\n",
       "       75.37688442, 80.40201005, 85.42713568, 90.45226131, 95.47738693])"
      ]
     },
     "execution_count": 15,
     "metadata": {},
     "output_type": "execute_result"
    }
   ],
   "source": [
    "a[::10]"
   ]
  },
  {
   "cell_type": "code",
   "execution_count": 16,
   "id": "6c993c81",
   "metadata": {},
   "outputs": [
    {
     "data": {
      "text/plain": [
       "array([100.        ,  94.97487437,  89.94974874,  84.92462312,\n",
       "        79.89949749,  74.87437186,  69.84924623,  64.8241206 ,\n",
       "        59.79899497,  54.77386935,  49.74874372,  44.72361809,\n",
       "        39.69849246,  34.67336683,  29.64824121,  24.62311558,\n",
       "        19.59798995,  14.57286432,   9.54773869,   4.52261307])"
      ]
     },
     "execution_count": 16,
     "metadata": {},
     "output_type": "execute_result"
    }
   ],
   "source": [
    "a[::-10]"
   ]
  },
  {
   "cell_type": "code",
   "execution_count": 18,
   "id": "1423642f",
   "metadata": {},
   "outputs": [
    {
     "data": {
      "text/plain": [
       "array([10.05025126, 11.05527638, 12.06030151, 13.06532663, 14.07035176])"
      ]
     },
     "execution_count": 18,
     "metadata": {},
     "output_type": "execute_result"
    }
   ],
   "source": [
    "a[20:30:2]"
   ]
  },
  {
   "cell_type": "code",
   "execution_count": 20,
   "id": "9cc608a1",
   "metadata": {},
   "outputs": [
    {
     "data": {
      "text/plain": [
       "array([[0, 1, 2, 3, 4],\n",
       "       [5, 6, 7, 8, 9]])"
      ]
     },
     "execution_count": 20,
     "metadata": {},
     "output_type": "execute_result"
    }
   ],
   "source": [
    "b = np.arange(10).reshape(2, 5)\n",
    "b"
   ]
  },
  {
   "cell_type": "code",
   "execution_count": 22,
   "id": "613e10a5",
   "metadata": {},
   "outputs": [
    {
     "data": {
      "text/plain": [
       "8"
      ]
     },
     "execution_count": 22,
     "metadata": {},
     "output_type": "execute_result"
    }
   ],
   "source": [
    "b[1, 3]"
   ]
  },
  {
   "cell_type": "code",
   "execution_count": 25,
   "id": "57881eff",
   "metadata": {},
   "outputs": [],
   "source": [
    "c = np.arange(24).reshape(3, 4, 2)"
   ]
  },
  {
   "cell_type": "code",
   "execution_count": 26,
   "id": "11ff7ed3",
   "metadata": {},
   "outputs": [
    {
     "data": {
      "text/plain": [
       "array([[[ 0,  1],\n",
       "        [ 2,  3],\n",
       "        [ 4,  5],\n",
       "        [ 6,  7]],\n",
       "\n",
       "       [[ 8,  9],\n",
       "        [10, 11],\n",
       "        [12, 13],\n",
       "        [14, 15]],\n",
       "\n",
       "       [[16, 17],\n",
       "        [18, 19],\n",
       "        [20, 21],\n",
       "        [22, 23]]])"
      ]
     },
     "execution_count": 26,
     "metadata": {},
     "output_type": "execute_result"
    }
   ],
   "source": [
    "c"
   ]
  },
  {
   "cell_type": "code",
   "execution_count": 27,
   "id": "3325f542",
   "metadata": {},
   "outputs": [
    {
     "data": {
      "text/plain": [
       "13"
      ]
     },
     "execution_count": 27,
     "metadata": {},
     "output_type": "execute_result"
    }
   ],
   "source": [
    "c[1, 2, 1]"
   ]
  },
  {
   "cell_type": "code",
   "execution_count": 29,
   "id": "d6474e92",
   "metadata": {},
   "outputs": [
    {
     "data": {
      "text/plain": [
       "array([  0.        ,  27.77777778,  55.55555556,  83.33333333,\n",
       "       111.11111111, 138.88888889, 166.66666667, 194.44444444,\n",
       "       222.22222222, 250.        ])"
      ]
     },
     "execution_count": 29,
     "metadata": {},
     "output_type": "execute_result"
    }
   ],
   "source": [
    "d = np.linspace(0, 250, 10)\n",
    "d"
   ]
  },
  {
   "cell_type": "code",
   "execution_count": 30,
   "id": "2ebb9183",
   "metadata": {},
   "outputs": [
    {
     "data": {
      "text/plain": [
       "array([  0.        ,  83.33333333, 111.11111111])"
      ]
     },
     "execution_count": 30,
     "metadata": {},
     "output_type": "execute_result"
    }
   ],
   "source": [
    "index = [0, 3, 4]\n",
    "d[index]"
   ]
  },
  {
   "cell_type": "markdown",
   "id": "c0031ea2",
   "metadata": {},
   "source": [
    "## 10.8 - Matrices in Numpy\n",
    "\n",
    "Numpy arrays can be directly interpreted as matrices. For this, we need to use the right functions!\n",
    "\n",
    "#### Properties\n",
    "| Properties | Description |\n",
    "| :-- | :-- |\n",
    "| .T | Transposed matrix |\n",
    "\n",
    "#### Functions\n",
    "| Functions | Description |\n",
    "| :-- | :-- |\n",
    "| np.transpose(A) | Returns the transposed matrix of A |\n",
    "| np.linalg.det(A) | Returns the determinant of matrix A |\n",
    "| np.matmul(A, B) or @ | Returns the matrix multiplication between A and B. |\n",
    "\n",
    "**Note**\n",
    "<pre>linalg is a separate package from numpy. It has many functionalities that we will explore in the scipy chapter.</pre>\n",
    "<pre>Numpy also has an object np.matrix, which allows us to perform matrix operations in a simpler way.\n",
    "I personally prefer using arrays.</pre>"
   ]
  },
  {
   "cell_type": "code",
   "execution_count": 32,
   "id": "76e4a3a0",
   "metadata": {},
   "outputs": [],
   "source": [
    "import numpy as np"
   ]
  },
  {
   "cell_type": "code",
   "execution_count": 33,
   "id": "34b93caf",
   "metadata": {},
   "outputs": [
    {
     "data": {
      "text/plain": [
       "array([[1., 0., 0.],\n",
       "       [0., 1., 0.],\n",
       "       [0., 0., 1.]])"
      ]
     },
     "execution_count": 33,
     "metadata": {},
     "output_type": "execute_result"
    }
   ],
   "source": [
    "I = np.eye(3)\n",
    "I"
   ]
  },
  {
   "cell_type": "code",
   "execution_count": 34,
   "id": "a19dde47",
   "metadata": {},
   "outputs": [
    {
     "data": {
      "text/plain": [
       "array([[  0. ,  12.5,  25. ],\n",
       "       [ 37.5,  50. ,  62.5],\n",
       "       [ 75. ,  87.5, 100. ]])"
      ]
     },
     "execution_count": 34,
     "metadata": {},
     "output_type": "execute_result"
    }
   ],
   "source": [
    "a = np.linspace(0, 100, 9).reshape(3 ,3)\n",
    "a"
   ]
  },
  {
   "cell_type": "code",
   "execution_count": 37,
   "id": "ad647e6f",
   "metadata": {},
   "outputs": [
    {
     "data": {
      "text/plain": [
       "array([[  0. ,  37.5,  75. ],\n",
       "       [ 12.5,  50. ,  87.5],\n",
       "       [ 25. ,  62.5, 100. ]])"
      ]
     },
     "execution_count": 37,
     "metadata": {},
     "output_type": "execute_result"
    }
   ],
   "source": [
    "a.T"
   ]
  },
  {
   "cell_type": "code",
   "execution_count": 38,
   "id": "e154e5e7",
   "metadata": {},
   "outputs": [
    {
     "data": {
      "text/plain": [
       "array([[  0. ,  37.5,  75. ],\n",
       "       [ 12.5,  50. ,  87.5],\n",
       "       [ 25. ,  62.5, 100. ]])"
      ]
     },
     "execution_count": 38,
     "metadata": {},
     "output_type": "execute_result"
    }
   ],
   "source": [
    "np.transpose(a)"
   ]
  },
  {
   "cell_type": "code",
   "execution_count": 41,
   "id": "37423c3e",
   "metadata": {},
   "outputs": [
    {
     "data": {
      "text/plain": [
       "0.0"
      ]
     },
     "execution_count": 41,
     "metadata": {},
     "output_type": "execute_result"
    }
   ],
   "source": [
    "np.linalg.det(a)"
   ]
  },
  {
   "cell_type": "code",
   "execution_count": 45,
   "id": "78959a64",
   "metadata": {},
   "outputs": [
    {
     "data": {
      "text/plain": [
       "array([[ True, False, False],\n",
       "       [False,  True, False],\n",
       "       [False, False,  True]])"
      ]
     },
     "execution_count": 45,
     "metadata": {},
     "output_type": "execute_result"
    }
   ],
   "source": [
    "I * a == a"
   ]
  },
  {
   "cell_type": "code",
   "execution_count": 44,
   "id": "0458ad96",
   "metadata": {},
   "outputs": [
    {
     "data": {
      "text/plain": [
       "array([[ True,  True,  True],\n",
       "       [ True,  True,  True],\n",
       "       [ True,  True,  True]])"
      ]
     },
     "execution_count": 44,
     "metadata": {},
     "output_type": "execute_result"
    }
   ],
   "source": [
    "I @ a == a"
   ]
  },
  {
   "cell_type": "code",
   "execution_count": 46,
   "id": "9f5357aa",
   "metadata": {},
   "outputs": [
    {
     "data": {
      "text/plain": [
       "array([[  0. ,  12.5,  25. ],\n",
       "       [ 37.5,  50. ,  62.5],\n",
       "       [ 75. ,  87.5, 100. ]])"
      ]
     },
     "execution_count": 46,
     "metadata": {},
     "output_type": "execute_result"
    }
   ],
   "source": [
    "np.matmul(I, a)"
   ]
  },
  {
   "cell_type": "markdown",
   "id": "27b6c0bb",
   "metadata": {},
   "source": [
    "## 10.9 - Vectors\n",
    "\n",
    "#### Functions\n",
    "| Functions | Description |\n",
    "| :-- | :-- |\n",
    "| np.cross(a, b) | Cross product (the array must be a vector with 2 or 3 elements) |\n",
    "| np.dot(a, b) or @ | Dot product (scalar product) |\n",
    "| np.linalg.norm(a) | Returns the norm of vector a |\n",
    "\n",
    "#### Cross Product\n",
    "The cross product between two vectors results in a third vector orthogonal to the other two.\n",
    "\n",
    "$$ \\vec{a} \\times \\vec{b} = | a | \\cdot | b | \\cdot \\sin(\\theta) \\cdot \\vec{n}  =  \\begin{bmatrix}\n",
    "   \\vec{i} & \\vec{j} & \\vec{k} \\\\\n",
    "   a_x & a_y & a_z \\\\\n",
    "   b_x & b_y & b_z\n",
    "  \\end{bmatrix} $$\n",
    "\n",
    "#### Dot Product\n",
    "The dot product between two vectors yields a real number. Geometrically, the dot product provides the projection of vector $\\vec{a}$ onto $\\vec{b}$ if the latter has unit length.\n",
    "\n",
    "$$ \\vec{a} \\cdot \\vec{b} = (a_x \\cdot b_x + a_y \\cdot b_y + a_z \\cdot b_z) =  | a | \\cdot | b | \\cdot \\cos(\\theta)$$\n",
    "\n",
    "<pre>The linalg is a separate package from numpy. It has other functionalities that we will explore in the scipy chapter.</pre>"
   ]
  },
  {
   "cell_type": "code",
   "execution_count": 47,
   "id": "59f3df60",
   "metadata": {},
   "outputs": [],
   "source": [
    "import numpy as np"
   ]
  },
  {
   "cell_type": "code",
   "execution_count": 48,
   "id": "ac01e852",
   "metadata": {},
   "outputs": [
    {
     "data": {
      "text/plain": [
       "array([1, 0, 0])"
      ]
     },
     "execution_count": 48,
     "metadata": {},
     "output_type": "execute_result"
    }
   ],
   "source": [
    "x = np.array([1, 0, 0])\n",
    "x"
   ]
  },
  {
   "cell_type": "code",
   "execution_count": 49,
   "id": "e3de7ecf",
   "metadata": {},
   "outputs": [
    {
     "data": {
      "text/plain": [
       "array([0, 1, 0])"
      ]
     },
     "execution_count": 49,
     "metadata": {},
     "output_type": "execute_result"
    }
   ],
   "source": [
    "y = np.array([0, 1, 0])\n",
    "y"
   ]
  },
  {
   "cell_type": "code",
   "execution_count": 52,
   "id": "03ee3d31",
   "metadata": {},
   "outputs": [
    {
     "data": {
      "text/plain": [
       "array([ 0,  0, -1])"
      ]
     },
     "execution_count": 52,
     "metadata": {},
     "output_type": "execute_result"
    }
   ],
   "source": [
    "np.cross(y, x)"
   ]
  },
  {
   "cell_type": "code",
   "execution_count": 53,
   "id": "21da8c21",
   "metadata": {},
   "outputs": [
    {
     "data": {
      "text/plain": [
       "array([1, 0, 0])"
      ]
     },
     "execution_count": 53,
     "metadata": {},
     "output_type": "execute_result"
    }
   ],
   "source": [
    "x"
   ]
  },
  {
   "cell_type": "code",
   "execution_count": 54,
   "id": "7ff71723",
   "metadata": {},
   "outputs": [],
   "source": [
    "a = np.array([2, 2, 0])"
   ]
  },
  {
   "cell_type": "code",
   "execution_count": 55,
   "id": "96628409",
   "metadata": {},
   "outputs": [
    {
     "data": {
      "text/plain": [
       "2"
      ]
     },
     "execution_count": 55,
     "metadata": {},
     "output_type": "execute_result"
    }
   ],
   "source": [
    "np.dot(a, x)"
   ]
  },
  {
   "cell_type": "code",
   "execution_count": 58,
   "id": "a061c0c0",
   "metadata": {},
   "outputs": [
    {
     "data": {
      "text/plain": [
       "2"
      ]
     },
     "execution_count": 58,
     "metadata": {},
     "output_type": "execute_result"
    }
   ],
   "source": [
    "a @ x"
   ]
  },
  {
   "cell_type": "code",
   "execution_count": 56,
   "id": "cc8d6be0",
   "metadata": {},
   "outputs": [
    {
     "data": {
      "text/plain": [
       "2.8284271247461903"
      ]
     },
     "execution_count": 56,
     "metadata": {},
     "output_type": "execute_result"
    }
   ],
   "source": [
    "np.linalg.norm(a)"
   ]
  },
  {
   "cell_type": "code",
   "execution_count": 57,
   "id": "24299736",
   "metadata": {},
   "outputs": [
    {
     "data": {
      "text/plain": [
       "2.8284271247461903"
      ]
     },
     "execution_count": 57,
     "metadata": {},
     "output_type": "execute_result"
    }
   ],
   "source": [
    "(2**2 + 2**2) ** (0.5)"
   ]
  },
  {
   "cell_type": "markdown",
   "id": "1ac682ea",
   "metadata": {},
   "source": [
    "# Exercises"
   ]
  },
  {
   "cell_type": "markdown",
   "id": "706151e6",
   "metadata": {},
   "source": [
    "## E10.1 - \n",
    "Create a $2 \\times  2$ matrix fully filled with $\\pi$."
   ]
  },
  {
   "cell_type": "code",
   "execution_count": 5,
   "id": "85ba23b9",
   "metadata": {},
   "outputs": [],
   "source": [
    "import numpy as np\n",
    "\n",
    "m = np.array([[np.pi, np.pi],\n",
    "              [np.pi, np.pi]])"
   ]
  },
  {
   "cell_type": "code",
   "execution_count": 6,
   "id": "0f37fe02",
   "metadata": {},
   "outputs": [
    {
     "data": {
      "text/plain": [
       "array([[3.14159265, 3.14159265],\n",
       "       [3.14159265, 3.14159265]])"
      ]
     },
     "execution_count": 6,
     "metadata": {},
     "output_type": "execute_result"
    }
   ],
   "source": [
    "m"
   ]
  },
  {
   "cell_type": "markdown",
   "id": "be1547bc",
   "metadata": {},
   "source": [
    "## E10.2 - \n",
    "Create a $10 \\times  10$ matrix fully filled with $\\pi$."
   ]
  },
  {
   "cell_type": "code",
   "execution_count": 11,
   "id": "1028dff9",
   "metadata": {},
   "outputs": [
    {
     "data": {
      "text/plain": [
       "array([[3.14159265, 3.14159265, 3.14159265, 3.14159265, 3.14159265,\n",
       "        3.14159265, 3.14159265, 3.14159265, 3.14159265, 3.14159265],\n",
       "       [3.14159265, 3.14159265, 3.14159265, 3.14159265, 3.14159265,\n",
       "        3.14159265, 3.14159265, 3.14159265, 3.14159265, 3.14159265],\n",
       "       [3.14159265, 3.14159265, 3.14159265, 3.14159265, 3.14159265,\n",
       "        3.14159265, 3.14159265, 3.14159265, 3.14159265, 3.14159265],\n",
       "       [3.14159265, 3.14159265, 3.14159265, 3.14159265, 3.14159265,\n",
       "        3.14159265, 3.14159265, 3.14159265, 3.14159265, 3.14159265],\n",
       "       [3.14159265, 3.14159265, 3.14159265, 3.14159265, 3.14159265,\n",
       "        3.14159265, 3.14159265, 3.14159265, 3.14159265, 3.14159265],\n",
       "       [3.14159265, 3.14159265, 3.14159265, 3.14159265, 3.14159265,\n",
       "        3.14159265, 3.14159265, 3.14159265, 3.14159265, 3.14159265],\n",
       "       [3.14159265, 3.14159265, 3.14159265, 3.14159265, 3.14159265,\n",
       "        3.14159265, 3.14159265, 3.14159265, 3.14159265, 3.14159265],\n",
       "       [3.14159265, 3.14159265, 3.14159265, 3.14159265, 3.14159265,\n",
       "        3.14159265, 3.14159265, 3.14159265, 3.14159265, 3.14159265],\n",
       "       [3.14159265, 3.14159265, 3.14159265, 3.14159265, 3.14159265,\n",
       "        3.14159265, 3.14159265, 3.14159265, 3.14159265, 3.14159265],\n",
       "       [3.14159265, 3.14159265, 3.14159265, 3.14159265, 3.14159265,\n",
       "        3.14159265, 3.14159265, 3.14159265, 3.14159265, 3.14159265]])"
      ]
     },
     "execution_count": 11,
     "metadata": {},
     "output_type": "execute_result"
    }
   ],
   "source": [
    "m = np.ones(100).reshape(10, 10) * np.pi\n",
    "m"
   ]
  },
  {
   "cell_type": "markdown",
   "id": "6c9d654d",
   "metadata": {},
   "source": [
    "## E10.3 -\n",
    "Create a $2 \\times  10$ matrix where both rows contain arrays with integers from 1 to 10.\n",
    "\n",
    "Change the last number of the matrix from 10 to 100."
   ]
  },
  {
   "cell_type": "code",
   "execution_count": 12,
   "id": "d3088830",
   "metadata": {},
   "outputs": [],
   "source": [
    "import numpy as np"
   ]
  },
  {
   "cell_type": "code",
   "execution_count": 32,
   "id": "3cdf3ba6",
   "metadata": {},
   "outputs": [],
   "source": [
    "a = np.arange(1, 11, 1)\n",
    "\n",
    "b = np.vstack([a, a])"
   ]
  },
  {
   "cell_type": "code",
   "execution_count": 33,
   "id": "f827d0b4",
   "metadata": {},
   "outputs": [
    {
     "data": {
      "text/plain": [
       "array([[ 1,  2,  3,  4,  5,  6,  7,  8,  9, 10],\n",
       "       [ 1,  2,  3,  4,  5,  6,  7,  8,  9, 10]])"
      ]
     },
     "execution_count": 33,
     "metadata": {},
     "output_type": "execute_result"
    }
   ],
   "source": [
    "b"
   ]
  },
  {
   "cell_type": "code",
   "execution_count": 37,
   "id": "6375749d",
   "metadata": {},
   "outputs": [],
   "source": [
    "b[1, 9] = 100"
   ]
  },
  {
   "cell_type": "code",
   "execution_count": 38,
   "id": "cd12d4f7",
   "metadata": {},
   "outputs": [
    {
     "data": {
      "text/plain": [
       "array([[  1,   2,   3,   4,   5,   6,   7,   8,   9,  10],\n",
       "       [  1,   2,   3,   4,   5,   6,   7,   8,   9, 100]])"
      ]
     },
     "execution_count": 38,
     "metadata": {},
     "output_type": "execute_result"
    }
   ],
   "source": [
    "b"
   ]
  },
  {
   "cell_type": "markdown",
   "id": "6020db73",
   "metadata": {},
   "source": [
    "## E10.4 -\n",
    "Given an array of integers ranging from 0 to 100, return the standard deviation and variance of this array."
   ]
  },
  {
   "cell_type": "code",
   "execution_count": 39,
   "id": "5e9783f2",
   "metadata": {},
   "outputs": [],
   "source": [
    "import numpy as np"
   ]
  },
  {
   "cell_type": "code",
   "execution_count": 45,
   "id": "d274bd75",
   "metadata": {},
   "outputs": [
    {
     "data": {
      "text/plain": [
       "0"
      ]
     },
     "execution_count": 45,
     "metadata": {},
     "output_type": "execute_result"
    }
   ],
   "source": [
    "a = np.arange(0, 101, 1)\n",
    "a.min()"
   ]
  },
  {
   "cell_type": "markdown",
   "id": "b60270cf",
   "metadata": {},
   "source": [
    "## E10.5 -\n",
    "Generate a $3 \\times 10$ matrix with random numbers. Then, extract an array with the last three numbers from the second row.\n",
    "\n",
    "<br/>\n",
    "\n",
    "Hint:\n",
    "\n",
    "Use the function below to generate an array with random numbers\n",
    "```python\n",
    ">>> np.random.rand(3, 10)\n",
    "```"
   ]
  },
  {
   "cell_type": "code",
   "execution_count": 46,
   "id": "4be185a6",
   "metadata": {},
   "outputs": [],
   "source": [
    "import numpy as np"
   ]
  },
  {
   "cell_type": "code",
   "execution_count": 47,
   "id": "72dad433",
   "metadata": {},
   "outputs": [
    {
     "data": {
      "text/plain": [
       "array([[0.32470555, 0.43836869, 0.76355356, 0.11373676, 0.15918102,\n",
       "        0.80368824, 0.61012429, 0.28376739, 0.30488679, 0.1910903 ],\n",
       "       [0.68835688, 0.9508969 , 0.67019275, 0.52330445, 0.61895698,\n",
       "        0.63219067, 0.55123872, 0.26562141, 0.5501472 , 0.70420808],\n",
       "       [0.93357046, 0.01908056, 0.53493673, 0.70948041, 0.3311262 ,\n",
       "        0.37121507, 0.14426469, 0.44893492, 0.56031485, 0.87626918]])"
      ]
     },
     "execution_count": 47,
     "metadata": {},
     "output_type": "execute_result"
    }
   ],
   "source": [
    "m = np.random.rand(3, 10)\n",
    "m"
   ]
  },
  {
   "cell_type": "code",
   "execution_count": 58,
   "id": "ee0616df",
   "metadata": {},
   "outputs": [
    {
     "data": {
      "text/plain": [
       "array([0.26562141, 0.5501472 , 0.70420808])"
      ]
     },
     "execution_count": 58,
     "metadata": {},
     "output_type": "execute_result"
    }
   ],
   "source": [
    "m[1, 7::]"
   ]
  },
  {
   "cell_type": "code",
   "execution_count": null,
   "id": "098e462c",
   "metadata": {},
   "outputs": [],
   "source": []
  },
  {
   "cell_type": "code",
   "execution_count": null,
   "id": "c26db68f",
   "metadata": {},
   "outputs": [],
   "source": []
  }
 ],
 "metadata": {
  "kernelspec": {
   "display_name": "Python 3 (ipykernel)",
   "language": "python",
   "name": "python3"
  },
  "language_info": {
   "codemirror_mode": {
    "name": "ipython",
    "version": 3
   },
   "file_extension": ".py",
   "mimetype": "text/x-python",
   "name": "python",
   "nbconvert_exporter": "python",
   "pygments_lexer": "ipython3",
   "version": "3.9.13"
  }
 },
 "nbformat": 4,
 "nbformat_minor": 5
}
