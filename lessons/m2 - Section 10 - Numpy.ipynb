{
 "cells": [
  {
   "cell_type": "markdown",
   "id": "f169f187",
   "metadata": {},
   "source": [
    "# Part 2\n",
    "# Section 10: Numpy\n",
    "\n",
    "Numpy is a Python library that allows you to build multidimensional arrays. Operations with Numpy tend to be faster compared to other Python structures because 30% of the library is written in C, among other aspects."
   ]
  },
  {
   "cell_type": "markdown",
   "id": "11560e18",
   "metadata": {},
   "source": [
    "## 10.1 - Arrays\n",
    "\n",
    "### Syntax\n",
    "\n",
    "```python\n",
    "import numpy as np\n",
    "arr = np.array([1, 2, 3, 4, 5]) # 1d array\n",
    "```\n",
    "\n",
    "### Some array attributes\n",
    "\n",
    "| Attribute | Returns | Description |\n",
    "| :-- | :-- | :-- |\n",
    "| ndarray.ndim | int | number of dimensions (axes) |\n",
    "| ndarray.shape | tuple | number of elements in each dimension |\n",
    "| ndarray.size | int | number of elements |\n",
    "| ndarray.dtype | dtype | data type of the elements |\n",
    "\n",
    "**Note:**\n",
    "- `np.array(iterable)` is a function that returns an ndarray object.\n",
    "- We can create arrays with as many dimensions as needed."
   ]
  },
  {
   "cell_type": "code",
   "execution_count": 1,
   "id": "fc5c3bd2",
   "metadata": {},
   "outputs": [],
   "source": [
    "import numpy as np"
   ]
  },
  {
   "cell_type": "code",
   "execution_count": null,
   "id": "f50c411f",
   "metadata": {},
   "outputs": [],
   "source": []
  },
  {
   "cell_type": "markdown",
   "id": "60fc6f3d",
   "metadata": {},
   "source": [
    "## 10.2 - Math functions\n",
    "\n",
    "### Trigonometric functions\n",
    "\n",
    "| Function | Description |\n",
    "| :-- | :-- |\n",
    "| sin(x) | Sine |\n",
    "| cos(x) | Cosine |\n",
    "| tan(x) | Tangent |\n",
    "| arcsin(x) | Arcsine |\n",
    "| arccos(x) | Arccosine |\n",
    "| arctan(x) | Arctangent |\n",
    "| sinh(x) | Hyperbolic sine |\n",
    "\n",
    "### Exponential and logarithmic functions\n",
    "\n",
    "| Function | Description |\n",
    "| :-- | :-- |\n",
    "| exp(x) | Exponential |\n",
    "| log(x) | Natural logarithm |\n",
    "| log10(x) | Base 10 logarithm |\n",
    "| sqrt(x) | Square root |\n",
    "\n",
    "### Constants\n",
    "\n",
    "| Constant | Description |\n",
    "| :-- | :-- |\n",
    "| np.pi | $\\pi$ = 3.141592... |\n",
    "| np.e | $e$ = 2.7182... |\n",
    "| np.nan | Representation of a non-numeric value (not a number) |\n",
    "| np.inf | Representation of infinity |\n",
    "\n",
    "**Note:** You can find more information about mathematical functions in the [Numpy documentation](https://numpy.org/doc/stable/reference/routines.math.html)."
   ]
  },
  {
   "cell_type": "code",
   "execution_count": 1,
   "id": "96f452a7",
   "metadata": {},
   "outputs": [],
   "source": [
    "import numpy as np"
   ]
  },
  {
   "cell_type": "code",
   "execution_count": 2,
   "id": "fdf0e0c1",
   "metadata": {},
   "outputs": [
    {
     "data": {
      "text/plain": [
       "2.718281828459045"
      ]
     },
     "execution_count": 2,
     "metadata": {},
     "output_type": "execute_result"
    }
   ],
   "source": [
    "np.e"
   ]
  },
  {
   "cell_type": "code",
   "execution_count": null,
   "id": "d46d81ac",
   "metadata": {},
   "outputs": [],
   "source": []
  },
  {
   "cell_type": "markdown",
   "id": "5502fc7c",
   "metadata": {},
   "source": [
    "## 10.3 - Array Creation\n",
    "\n",
    "### Functions for array creation\n",
    "\n",
    "| Function | Description |\n",
    "| :-- | :-- |\n",
    "| np.zeros(shape) | array filled with zeros |\n",
    "| np.ones(shape) | array filled with ones |\n",
    "| np.eye(dimensão) | identity matrix |\n",
    "| np.arange(start, stop, step) | creates a one-dimensional array |\n",
    "| np.linspace(start, stop, quantity) | creates a one-dimensional array |\n",
    "| np.vstack([*arrays*]) and hstack([*arrays*]) | adds elements from one or more arrays |\n",
    "\n",
    "### Methods for resizing arrays:\n",
    "\n",
    " | Method | Description |\n",
    "| :-- | :-- |\n",
    "|reshape(new_shape) | returns an array with the specified shape|\n",
    "|resize(new_shape) | modifies the shape of the array being applied|\n",
    "\n",
    "\n",
    "**Note**\n",
    "<pre>Pay attention to which methods modify the array and which return a new array </pre>\n",
    "<pre>Arrays do not have dynamic size like lists. But we can \"steal\" and modify the size of an array by stacking them (a new object will be generated). </pre>"
   ]
  },
  {
   "cell_type": "code",
   "execution_count": 7,
   "id": "e204e7b8",
   "metadata": {},
   "outputs": [],
   "source": [
    "arr = np.linspace(1, 10, 10)"
   ]
  },
  {
   "cell_type": "code",
   "execution_count": 11,
   "id": "0df0dc71",
   "metadata": {},
   "outputs": [],
   "source": [
    "arr.resize(2, 5)"
   ]
  },
  {
   "cell_type": "code",
   "execution_count": null,
   "id": "c56ef84c",
   "metadata": {},
   "outputs": [],
   "source": []
  },
  {
   "cell_type": "code",
   "execution_count": null,
   "id": "e0c9a8ce",
   "metadata": {},
   "outputs": [],
   "source": []
  },
  {
   "cell_type": "markdown",
   "id": "1277266a",
   "metadata": {},
   "source": [
    "## 10.4 - Basic Operations with Arrays\n",
    "\n",
    "Arrays in numpy have many (MANY) functionalities. They can behave like simple data structures, such as vectors or even matrices, depending on how we manipulate them. In this lesson, we will see the basic operations, those that make arrays behave like data structures.\n",
    "\n",
    "**Basic operations and how they behave**\n",
    "- Arrays accept basic operations $+$, $-$, $\\times$, $\\div$ and execute them element-wise, so arrays must have exactly the same shape.\n",
    "- Arrays accept basic operations between an array and a number (float or int). It will execute the operation between the number and each element of the array.\n",
    "- Boolean operations are also accepted and return an array filled with booleans.\n",
    "\n",
    "**Note**\n",
    "<pre>Later on, we will see vector and matrix operations with arrays. </pre>"
   ]
  },
  {
   "cell_type": "code",
   "execution_count": 13,
   "id": "ed27a5e5",
   "metadata": {},
   "outputs": [],
   "source": [
    "import numpy as np"
   ]
  },
  {
   "cell_type": "code",
   "execution_count": 31,
   "id": "671f6c8a",
   "metadata": {},
   "outputs": [],
   "source": [
    "arr_1 = np.linspace(1, 10, 10).reshape(2, 5)\n",
    "arr_2 = np.linspace(1, 100, 10).reshape(2, 5)\n"
   ]
  },
  {
   "cell_type": "code",
   "execution_count": 33,
   "id": "39b6c3e5",
   "metadata": {},
   "outputs": [
    {
     "data": {
      "text/plain": [
       "array([[ 8., 16., 24., 32., 40.],\n",
       "       [48., 56., 64., 72., 80.]])"
      ]
     },
     "execution_count": 33,
     "metadata": {},
     "output_type": "execute_result"
    }
   ],
   "source": [
    "8 * arr_1"
   ]
  },
  {
   "cell_type": "code",
   "execution_count": 57,
   "id": "da760ae0",
   "metadata": {},
   "outputs": [
    {
     "data": {
      "text/plain": [
       "array([ True, False,  True])"
      ]
     },
     "execution_count": 57,
     "metadata": {},
     "output_type": "execute_result"
    }
   ],
   "source": [
    "a = np.array([1, 2, 3])\n",
    "b = np.array([1, 5, 3])\n",
    "\n",
    "a == b"
   ]
  },
  {
   "cell_type": "code",
   "execution_count": null,
   "id": "1f912b06",
   "metadata": {},
   "outputs": [],
   "source": []
  },
  {
   "cell_type": "markdown",
   "id": "10df90af",
   "metadata": {},
   "source": [
    "## 10.5 - Numpy Memory Management\n",
    "\n",
    "Remember that the numpy array is not dynamic. Also, be careful with objects when copying, manipulating, and pasting.\n",
    "\n",
    "#### Copying an array\n",
    "| Method | Description |\n",
    "| :-- | :-- |\n",
    "| .copy() | makes a copy (deep copy) of the array. Be careful! The equal sign does not execute this function |\n",
    "\n",
    "#### Property\n",
    "| Method | Description |\n",
    "| :-- | :-- |\n",
    "| .base | Returns the base array that was used to create the current array |\n",
    "\n",
    "**Note**\n",
    "<pre>We can use the logical operator `is` to check if we have a new object. </pre>"
   ]
  },
  {
   "cell_type": "code",
   "execution_count": 1,
   "id": "078faccd",
   "metadata": {},
   "outputs": [],
   "source": [
    "import numpy as np"
   ]
  },
  {
   "cell_type": "code",
   "execution_count": 4,
   "id": "5a315a9c",
   "metadata": {},
   "outputs": [
    {
     "data": {
      "text/plain": [
       "<function numpy.may_share_memory>"
      ]
     },
     "execution_count": 4,
     "metadata": {},
     "output_type": "execute_result"
    }
   ],
   "source": [
    "np.may_share_memory"
   ]
  },
  {
   "cell_type": "code",
   "execution_count": 8,
   "id": "392dd8eb",
   "metadata": {},
   "outputs": [],
   "source": [
    "arr_1 = np.linspace(1, 10 , 10)"
   ]
  },
  {
   "cell_type": "code",
   "execution_count": 10,
   "id": "3e56b362",
   "metadata": {},
   "outputs": [
    {
     "data": {
      "text/plain": [
       "array([[ 1.,  2.,  3.,  4.,  5.],\n",
       "       [ 6.,  7.,  8.,  9., 10.]])"
      ]
     },
     "execution_count": 10,
     "metadata": {},
     "output_type": "execute_result"
    }
   ],
   "source": [
    "arr_1.reshape(2, 5)"
   ]
  },
  {
   "cell_type": "code",
   "execution_count": 11,
   "id": "67ffbd11",
   "metadata": {},
   "outputs": [
    {
     "data": {
      "text/plain": [
       "array([ 1.,  2.,  3.,  4.,  5.,  6.,  7.,  8.,  9., 10.])"
      ]
     },
     "execution_count": 11,
     "metadata": {},
     "output_type": "execute_result"
    }
   ],
   "source": [
    "arr_1"
   ]
  },
  {
   "cell_type": "code",
   "execution_count": 12,
   "id": "14542688",
   "metadata": {},
   "outputs": [],
   "source": [
    "arr_2 = arr_1.reshape(2, 5)"
   ]
  },
  {
   "cell_type": "code",
   "execution_count": 19,
   "id": "2f96e3c4",
   "metadata": {},
   "outputs": [
    {
     "data": {
      "text/plain": [
       "'0x1c75f8ecb70'"
      ]
     },
     "execution_count": 19,
     "metadata": {},
     "output_type": "execute_result"
    }
   ],
   "source": [
    "hex(id(arr_2.base))"
   ]
  },
  {
   "cell_type": "code",
   "execution_count": null,
   "id": "b09c4ea2",
   "metadata": {},
   "outputs": [],
   "source": []
  },
  {
   "cell_type": "code",
   "execution_count": 20,
   "id": "d90ae759",
   "metadata": {},
   "outputs": [
    {
     "data": {
      "text/plain": [
       "'0x1c75f8ecc30'"
      ]
     },
     "execution_count": 20,
     "metadata": {},
     "output_type": "execute_result"
    }
   ],
   "source": [
    "hex(id(arr_1))"
   ]
  },
  {
   "cell_type": "code",
   "execution_count": 21,
   "id": "492865a9",
   "metadata": {},
   "outputs": [
    {
     "data": {
      "text/plain": [
       "True"
      ]
     },
     "execution_count": 21,
     "metadata": {},
     "output_type": "execute_result"
    }
   ],
   "source": [
    "np.may_share_memory(arr_1, arr_2)"
   ]
  },
  {
   "cell_type": "code",
   "execution_count": 27,
   "id": "0e495f85",
   "metadata": {},
   "outputs": [
    {
     "data": {
      "text/plain": [
       "80"
      ]
     },
     "execution_count": 27,
     "metadata": {},
     "output_type": "execute_result"
    }
   ],
   "source": [
    "arr_1.nbytes"
   ]
  },
  {
   "cell_type": "code",
   "execution_count": null,
   "id": "6435e2e6",
   "metadata": {},
   "outputs": [],
   "source": []
  },
  {
   "cell_type": "markdown",
   "id": "75fe9f51",
   "metadata": {},
   "source": [
    "## 10.6 Statistical Methods for Arrays\n",
    "\n",
    "| Method | Description |\n",
    "| :-- | :-- |\n",
    "| max(axis=None) | Returns the maximum value |\n",
    "| min(axis=None) | Returns the minimum value |\n",
    "| argmax(axis=None) | Returns the index of the maximum value |\n",
    "| argmin(axis=None) | Returns the index of the minimum value |\n",
    "| sum(axis=None) | Returns the sum of the array elements |\n",
    "| cumsum(axis=None) | Returns an array with the cumulative sum of the values |\n",
    "| prod(axis=None) | Returns the product of the array elements |\n",
    "| cumprod(axis=None) | Returns the cumulative product of the array elements |\n",
    "| mean(axis=None) | Returns the mean of the array elements |\n",
    "| var(axis=None) | Returns the variance of the array |\n",
    "| std(axis=None) | Returns the standard deviation of the array |\n",
    "\n",
    "**Note**\n",
    "<pre>When the axis option is used, we perform the operation along the specified axis. </pre>"
   ]
  },
  {
   "cell_type": "code",
   "execution_count": 37,
   "id": "771eabd8",
   "metadata": {},
   "outputs": [
    {
     "data": {
      "text/plain": [
       "array([ 1.,  3.,  6., 10., 15., 21., 28., 36., 45., 55.])"
      ]
     },
     "execution_count": 37,
     "metadata": {},
     "output_type": "execute_result"
    }
   ],
   "source": [
    "arr_1.cumsum()"
   ]
  },
  {
   "cell_type": "code",
   "execution_count": null,
   "id": "6bcea5dc",
   "metadata": {},
   "outputs": [],
   "source": []
  },
  {
   "cell_type": "code",
   "execution_count": null,
   "id": "b1f95e3d",
   "metadata": {},
   "outputs": [],
   "source": []
  },
  {
   "cell_type": "markdown",
   "id": "c04654d1",
   "metadata": {},
   "source": [
    "## 10.7 Array Indexing and Slicing\n",
    "\n",
    "Similar to what we did with lists, we can slice arrays.\n",
    "\n",
    "| Syntax | Description |\n",
    "| :-- | :-- |\n",
    "| [i] | for 1 dimension works as in lists |\n",
    "| [:i] | displays an array from index 0 to one before i |\n",
    "| [i:] | displays an array from index i to the last index |\n",
    "| [::i] | displays all elements varying from i to i |\n",
    "| [::-i] | displays the sequence of elements from back to front varying from i to i |\n",
    "| [a:b:c] | start, end, step |\n",
    "| [i,j] | to display an element of a matrix |\n",
    "| [i,a:b] | returns a slice of row i with elements from columns a to b |\n",
    "| [n,i,j] | another dimension, row, column |\n",
    "\n",
    "**Note**\n",
    "<pre>There are more sophisticated operations for slicing, known as fancy indexing.</pre>"
   ]
  },
  {
   "cell_type": "code",
   "execution_count": null,
   "id": "7d442bca",
   "metadata": {},
   "outputs": [],
   "source": []
  },
  {
   "cell_type": "code",
   "execution_count": null,
   "id": "652ccc3d",
   "metadata": {},
   "outputs": [],
   "source": []
  },
  {
   "cell_type": "code",
   "execution_count": null,
   "id": "d91f0029",
   "metadata": {},
   "outputs": [],
   "source": []
  },
  {
   "cell_type": "markdown",
   "id": "c0031ea2",
   "metadata": {},
   "source": [
    "## 10.8 - Matrices in Numpy\n",
    "\n",
    "Numpy arrays can be directly interpreted as matrices. For this, we need to use the right functions!\n",
    "\n",
    "#### Properties\n",
    "| Properties | Description |\n",
    "| :-- | :-- |\n",
    "| .T | Transposed matrix |\n",
    "\n",
    "#### Functions\n",
    "| Functions | Description |\n",
    "| :-- | :-- |\n",
    "| np.transpose(A) | Returns the transposed matrix of A |\n",
    "| np.linalg.det(A) | Returns the determinant of matrix A |\n",
    "| np.matmul(A, B) or @ | Returns the matrix multiplication between A and B. |\n",
    "\n",
    "**Note**\n",
    "<pre>linalg is a separate package from numpy. It has many functionalities that we will explore in the scipy chapter.</pre>\n",
    "<pre>Numpy also has an object np.matrix, which allows us to perform matrix operations in a simpler way. I personally prefer using arrays.</pre>"
   ]
  },
  {
   "cell_type": "code",
   "execution_count": 1,
   "id": "8fab3b59",
   "metadata": {},
   "outputs": [],
   "source": [
    "import numpy as np"
   ]
  },
  {
   "cell_type": "code",
   "execution_count": 4,
   "id": "08738e33",
   "metadata": {},
   "outputs": [],
   "source": [
    "a = np.linspace(1, 10, 10).reshape(2, 5)\n",
    "b = np.linspace(11, 20, 10).reshape(5, 2)"
   ]
  },
  {
   "cell_type": "code",
   "execution_count": 54,
   "id": "a9f936b6",
   "metadata": {},
   "outputs": [],
   "source": [
    "e = np.linspace(1, 1.5, 9).reshape(3, 3)"
   ]
  },
  {
   "cell_type": "code",
   "execution_count": 55,
   "id": "64f0b1af",
   "metadata": {},
   "outputs": [
    {
     "data": {
      "text/plain": [
       "array([[1.    , 1.0625, 1.125 ],\n",
       "       [1.1875, 1.25  , 1.3125],\n",
       "       [1.375 , 1.4375, 1.5   ]])"
      ]
     },
     "execution_count": 55,
     "metadata": {},
     "output_type": "execute_result"
    }
   ],
   "source": [
    "d"
   ]
  },
  {
   "cell_type": "code",
   "execution_count": 56,
   "id": "5705ec5a",
   "metadata": {},
   "outputs": [
    {
     "data": {
      "text/plain": [
       "0.0"
      ]
     },
     "execution_count": 56,
     "metadata": {},
     "output_type": "execute_result"
    }
   ],
   "source": [
    "np.linalg.det(e)"
   ]
  },
  {
   "cell_type": "code",
   "execution_count": 19,
   "id": "6014ac71",
   "metadata": {},
   "outputs": [
    {
     "ename": "ValueError",
     "evalue": "incompatible dimensions for cross product\n(dimension must be 2 or 3)",
     "output_type": "error",
     "traceback": [
      "\u001b[1;31m---------------------------------------------------------------------------\u001b[0m",
      "\u001b[1;31mValueError\u001b[0m                                Traceback (most recent call last)",
      "\u001b[1;32m~\\AppData\\Local\\Temp/ipykernel_13876/3422562784.py\u001b[0m in \u001b[0;36m<module>\u001b[1;34m\u001b[0m\n\u001b[1;32m----> 1\u001b[1;33m \u001b[0mnp\u001b[0m\u001b[1;33m.\u001b[0m\u001b[0mcross\u001b[0m\u001b[1;33m(\u001b[0m\u001b[0ma\u001b[0m\u001b[1;33m,\u001b[0m \u001b[0mb\u001b[0m\u001b[1;33m)\u001b[0m\u001b[1;33m\u001b[0m\u001b[1;33m\u001b[0m\u001b[0m\n\u001b[0m",
      "\u001b[1;32m<__array_function__ internals>\u001b[0m in \u001b[0;36mcross\u001b[1;34m(*args, **kwargs)\u001b[0m\n",
      "\u001b[1;32mD:\\Anaconda3\\lib\\site-packages\\numpy\\core\\numeric.py\u001b[0m in \u001b[0;36mcross\u001b[1;34m(a, b, axisa, axisb, axisc, axis)\u001b[0m\n\u001b[0;32m   1611\u001b[0m            \"(dimension must be 2 or 3)\")\n\u001b[0;32m   1612\u001b[0m     \u001b[1;32mif\u001b[0m \u001b[0ma\u001b[0m\u001b[1;33m.\u001b[0m\u001b[0mshape\u001b[0m\u001b[1;33m[\u001b[0m\u001b[1;33m-\u001b[0m\u001b[1;36m1\u001b[0m\u001b[1;33m]\u001b[0m \u001b[1;32mnot\u001b[0m \u001b[1;32min\u001b[0m \u001b[1;33m(\u001b[0m\u001b[1;36m2\u001b[0m\u001b[1;33m,\u001b[0m \u001b[1;36m3\u001b[0m\u001b[1;33m)\u001b[0m \u001b[1;32mor\u001b[0m \u001b[0mb\u001b[0m\u001b[1;33m.\u001b[0m\u001b[0mshape\u001b[0m\u001b[1;33m[\u001b[0m\u001b[1;33m-\u001b[0m\u001b[1;36m1\u001b[0m\u001b[1;33m]\u001b[0m \u001b[1;32mnot\u001b[0m \u001b[1;32min\u001b[0m \u001b[1;33m(\u001b[0m\u001b[1;36m2\u001b[0m\u001b[1;33m,\u001b[0m \u001b[1;36m3\u001b[0m\u001b[1;33m)\u001b[0m\u001b[1;33m:\u001b[0m\u001b[1;33m\u001b[0m\u001b[1;33m\u001b[0m\u001b[0m\n\u001b[1;32m-> 1613\u001b[1;33m         \u001b[1;32mraise\u001b[0m \u001b[0mValueError\u001b[0m\u001b[1;33m(\u001b[0m\u001b[0mmsg\u001b[0m\u001b[1;33m)\u001b[0m\u001b[1;33m\u001b[0m\u001b[1;33m\u001b[0m\u001b[0m\n\u001b[0m\u001b[0;32m   1614\u001b[0m \u001b[1;33m\u001b[0m\u001b[0m\n\u001b[0;32m   1615\u001b[0m     \u001b[1;31m# Create the output array\u001b[0m\u001b[1;33m\u001b[0m\u001b[1;33m\u001b[0m\u001b[0m\n",
      "\u001b[1;31mValueError\u001b[0m: incompatible dimensions for cross product\n(dimension must be 2 or 3)"
     ]
    }
   ],
   "source": [
    "np.cross(a, b)"
   ]
  },
  {
   "cell_type": "code",
   "execution_count": 14,
   "id": "1e7f5d90",
   "metadata": {},
   "outputs": [
    {
     "data": {
      "text/plain": [
       "array([[11., 13., 15., 17., 19.],\n",
       "       [12., 14., 16., 18., 20.]])"
      ]
     },
     "execution_count": 14,
     "metadata": {},
     "output_type": "execute_result"
    }
   ],
   "source": [
    "b.transpose()"
   ]
  },
  {
   "cell_type": "code",
   "execution_count": 16,
   "id": "284da0c9",
   "metadata": {},
   "outputs": [
    {
     "data": {
      "text/plain": [
       "array([[11., 13., 15., 17., 19.],\n",
       "       [12., 14., 16., 18., 20.]])"
      ]
     },
     "execution_count": 16,
     "metadata": {},
     "output_type": "execute_result"
    }
   ],
   "source": [
    "b.T"
   ]
  },
  {
   "cell_type": "code",
   "execution_count": 30,
   "id": "105c900d",
   "metadata": {},
   "outputs": [],
   "source": [
    "c = np.linspace(1, 3, 3)"
   ]
  },
  {
   "cell_type": "code",
   "execution_count": 31,
   "id": "f39d7656",
   "metadata": {
    "scrolled": true
   },
   "outputs": [
    {
     "data": {
      "text/plain": [
       "array([0., 0., 0.])"
      ]
     },
     "execution_count": 31,
     "metadata": {},
     "output_type": "execute_result"
    }
   ],
   "source": [
    "np.cross(c, c)"
   ]
  },
  {
   "cell_type": "markdown",
   "id": "27b6c0bb",
   "metadata": {},
   "source": [
    "## 10.9 - Vectors\n",
    "\n",
    "#### Functions\n",
    "| Functions | Description |\n",
    "| :-- | :-- |\n",
    "| np.cross(a, b) | Cross product (the array must be a vector with 2 or 3 elements) |\n",
    "| np.dot(a, b) or @ | Dot product (scalar product) |\n",
    "| np.linalg.norm(a) | Returns the norm of vector a |\n",
    "\n",
    "#### Cross Product\n",
    "The cross product between two vectors results in a third vector orthogonal to the other two.\n",
    "\n",
    "$$ \\vec{a} \\times \\vec{b} = | a | \\cdot | b | \\cdot \\sin(\\theta) \\cdot \\vec{n}  =  \\begin{bmatrix}\n",
    "   \\vec{i} & \\vec{j} & \\vec{k} \\\\\n",
    "   a_x & a_y & a_z \\\\\n",
    "   b_x & b_y & b_z\n",
    "  \\end{bmatrix} $$\n",
    "\n",
    "#### Dot Product\n",
    "The dot product between two vectors yields a real number. Geometrically, the dot product provides the projection of vector $\\vec{a}$ onto $\\vec{b}$ if the latter has unit length.\n",
    "\n",
    "$$ \\vec{a} \\cdot \\vec{b} = (a_x \\cdot b_x + a_y \\cdot b_y + a_z \\cdot b_z) =  | a | \\cdot | b | \\cdot \\cos(\\theta)$$\n",
    "\n",
    "<pre>The linalg is a separate package from numpy. It has other functionalities that we will explore in the scipy chapter.</pre>"
   ]
  },
  {
   "cell_type": "code",
   "execution_count": 36,
   "id": "0ea01202",
   "metadata": {},
   "outputs": [
    {
     "data": {
      "text/plain": [
       "14.0"
      ]
     },
     "execution_count": 36,
     "metadata": {},
     "output_type": "execute_result"
    }
   ],
   "source": [
    "np.matmul(c, c)"
   ]
  },
  {
   "cell_type": "code",
   "execution_count": null,
   "id": "59f3df60",
   "metadata": {},
   "outputs": [],
   "source": []
  },
  {
   "cell_type": "code",
   "execution_count": null,
   "id": "ad9a59cf",
   "metadata": {},
   "outputs": [],
   "source": []
  },
  {
   "cell_type": "markdown",
   "id": "1ac682ea",
   "metadata": {},
   "source": [
    "# Exercises"
   ]
  },
  {
   "cell_type": "markdown",
   "id": "706151e6",
   "metadata": {},
   "source": [
    "## E10.1 - \n",
    "Create a $2 \\times  2$ matrix fully filled with $\\pi$."
   ]
  },
  {
   "cell_type": "code",
   "execution_count": 5,
   "id": "85ba23b9",
   "metadata": {},
   "outputs": [],
   "source": [
    "import numpy as np\n",
    "\n",
    "m = np.array([[np.pi, np.pi],\n",
    "              [np.pi, np.pi]])"
   ]
  },
  {
   "cell_type": "code",
   "execution_count": 6,
   "id": "0f37fe02",
   "metadata": {},
   "outputs": [
    {
     "data": {
      "text/plain": [
       "array([[3.14159265, 3.14159265],\n",
       "       [3.14159265, 3.14159265]])"
      ]
     },
     "execution_count": 6,
     "metadata": {},
     "output_type": "execute_result"
    }
   ],
   "source": [
    "m"
   ]
  },
  {
   "cell_type": "markdown",
   "id": "be1547bc",
   "metadata": {},
   "source": [
    "## E10.2 - \n",
    "Create a $10 \\times  10$ matrix fully filled with $\\pi$."
   ]
  },
  {
   "cell_type": "code",
   "execution_count": 11,
   "id": "1028dff9",
   "metadata": {},
   "outputs": [
    {
     "data": {
      "text/plain": [
       "array([[3.14159265, 3.14159265, 3.14159265, 3.14159265, 3.14159265,\n",
       "        3.14159265, 3.14159265, 3.14159265, 3.14159265, 3.14159265],\n",
       "       [3.14159265, 3.14159265, 3.14159265, 3.14159265, 3.14159265,\n",
       "        3.14159265, 3.14159265, 3.14159265, 3.14159265, 3.14159265],\n",
       "       [3.14159265, 3.14159265, 3.14159265, 3.14159265, 3.14159265,\n",
       "        3.14159265, 3.14159265, 3.14159265, 3.14159265, 3.14159265],\n",
       "       [3.14159265, 3.14159265, 3.14159265, 3.14159265, 3.14159265,\n",
       "        3.14159265, 3.14159265, 3.14159265, 3.14159265, 3.14159265],\n",
       "       [3.14159265, 3.14159265, 3.14159265, 3.14159265, 3.14159265,\n",
       "        3.14159265, 3.14159265, 3.14159265, 3.14159265, 3.14159265],\n",
       "       [3.14159265, 3.14159265, 3.14159265, 3.14159265, 3.14159265,\n",
       "        3.14159265, 3.14159265, 3.14159265, 3.14159265, 3.14159265],\n",
       "       [3.14159265, 3.14159265, 3.14159265, 3.14159265, 3.14159265,\n",
       "        3.14159265, 3.14159265, 3.14159265, 3.14159265, 3.14159265],\n",
       "       [3.14159265, 3.14159265, 3.14159265, 3.14159265, 3.14159265,\n",
       "        3.14159265, 3.14159265, 3.14159265, 3.14159265, 3.14159265],\n",
       "       [3.14159265, 3.14159265, 3.14159265, 3.14159265, 3.14159265,\n",
       "        3.14159265, 3.14159265, 3.14159265, 3.14159265, 3.14159265],\n",
       "       [3.14159265, 3.14159265, 3.14159265, 3.14159265, 3.14159265,\n",
       "        3.14159265, 3.14159265, 3.14159265, 3.14159265, 3.14159265]])"
      ]
     },
     "execution_count": 11,
     "metadata": {},
     "output_type": "execute_result"
    }
   ],
   "source": [
    "m = np.ones(100).reshape(10, 10) * np.pi\n",
    "m"
   ]
  },
  {
   "cell_type": "markdown",
   "id": "6c9d654d",
   "metadata": {},
   "source": [
    "## E10.3 -\n",
    "Create a $2 \\times  10$ matrix where both rows contain arrays with integers from 1 to 10.\n",
    "\n",
    "Change the last number of the matrix from 10 to 100."
   ]
  },
  {
   "cell_type": "code",
   "execution_count": 12,
   "id": "d3088830",
   "metadata": {},
   "outputs": [],
   "source": [
    "import numpy as np"
   ]
  },
  {
   "cell_type": "code",
   "execution_count": 32,
   "id": "3cdf3ba6",
   "metadata": {},
   "outputs": [],
   "source": [
    "a = np.arange(1, 11, 1)\n",
    "\n",
    "b = np.vstack([a, a])"
   ]
  },
  {
   "cell_type": "code",
   "execution_count": 33,
   "id": "f827d0b4",
   "metadata": {},
   "outputs": [
    {
     "data": {
      "text/plain": [
       "array([[ 1,  2,  3,  4,  5,  6,  7,  8,  9, 10],\n",
       "       [ 1,  2,  3,  4,  5,  6,  7,  8,  9, 10]])"
      ]
     },
     "execution_count": 33,
     "metadata": {},
     "output_type": "execute_result"
    }
   ],
   "source": [
    "b"
   ]
  },
  {
   "cell_type": "code",
   "execution_count": 37,
   "id": "6375749d",
   "metadata": {},
   "outputs": [],
   "source": [
    "b[1, 9] = 100"
   ]
  },
  {
   "cell_type": "code",
   "execution_count": 38,
   "id": "cd12d4f7",
   "metadata": {},
   "outputs": [
    {
     "data": {
      "text/plain": [
       "array([[  1,   2,   3,   4,   5,   6,   7,   8,   9,  10],\n",
       "       [  1,   2,   3,   4,   5,   6,   7,   8,   9, 100]])"
      ]
     },
     "execution_count": 38,
     "metadata": {},
     "output_type": "execute_result"
    }
   ],
   "source": [
    "b"
   ]
  },
  {
   "cell_type": "markdown",
   "id": "6020db73",
   "metadata": {},
   "source": [
    "## E10.4 -\n",
    "Given an array of integers ranging from 0 to 100, return the standard deviation and variance of this array."
   ]
  },
  {
   "cell_type": "code",
   "execution_count": 39,
   "id": "5e9783f2",
   "metadata": {},
   "outputs": [],
   "source": [
    "import numpy as np"
   ]
  },
  {
   "cell_type": "code",
   "execution_count": 45,
   "id": "d274bd75",
   "metadata": {},
   "outputs": [
    {
     "data": {
      "text/plain": [
       "0"
      ]
     },
     "execution_count": 45,
     "metadata": {},
     "output_type": "execute_result"
    }
   ],
   "source": [
    "a = np.arange(0, 101, 1)\n",
    "a.min()"
   ]
  },
  {
   "cell_type": "markdown",
   "id": "b60270cf",
   "metadata": {},
   "source": [
    "## E10.5 -\n",
    "Generate a $3 \\times 10$ matrix with random numbers. Then, extract an array with the last three numbers from the second row.\n",
    "\n",
    "<br/>\n",
    "\n",
    "Hint:\n",
    "\n",
    "Use the function below to generate an array with random numbers\n",
    "```python\n",
    ">>> np.random.rand(3, 10)\n",
    "```"
   ]
  },
  {
   "cell_type": "code",
   "execution_count": 46,
   "id": "4be185a6",
   "metadata": {},
   "outputs": [],
   "source": [
    "import numpy as np"
   ]
  },
  {
   "cell_type": "code",
   "execution_count": 47,
   "id": "72dad433",
   "metadata": {},
   "outputs": [
    {
     "data": {
      "text/plain": [
       "array([[0.32470555, 0.43836869, 0.76355356, 0.11373676, 0.15918102,\n",
       "        0.80368824, 0.61012429, 0.28376739, 0.30488679, 0.1910903 ],\n",
       "       [0.68835688, 0.9508969 , 0.67019275, 0.52330445, 0.61895698,\n",
       "        0.63219067, 0.55123872, 0.26562141, 0.5501472 , 0.70420808],\n",
       "       [0.93357046, 0.01908056, 0.53493673, 0.70948041, 0.3311262 ,\n",
       "        0.37121507, 0.14426469, 0.44893492, 0.56031485, 0.87626918]])"
      ]
     },
     "execution_count": 47,
     "metadata": {},
     "output_type": "execute_result"
    }
   ],
   "source": [
    "m = np.random.rand(3, 10)\n",
    "m"
   ]
  },
  {
   "cell_type": "code",
   "execution_count": 58,
   "id": "ee0616df",
   "metadata": {},
   "outputs": [
    {
     "data": {
      "text/plain": [
       "array([0.26562141, 0.5501472 , 0.70420808])"
      ]
     },
     "execution_count": 58,
     "metadata": {},
     "output_type": "execute_result"
    }
   ],
   "source": [
    "m[1, 7::]"
   ]
  },
  {
   "cell_type": "code",
   "execution_count": null,
   "id": "098e462c",
   "metadata": {},
   "outputs": [],
   "source": []
  },
  {
   "cell_type": "code",
   "execution_count": null,
   "id": "c26db68f",
   "metadata": {},
   "outputs": [],
   "source": []
  }
 ],
 "metadata": {
  "kernelspec": {
   "display_name": "Python 3 (ipykernel)",
   "language": "python",
   "name": "python3"
  },
  "language_info": {
   "codemirror_mode": {
    "name": "ipython",
    "version": 3
   },
   "file_extension": ".py",
   "mimetype": "text/x-python",
   "name": "python",
   "nbconvert_exporter": "python",
   "pygments_lexer": "ipython3",
   "version": "3.9.7"
  }
 },
 "nbformat": 4,
 "nbformat_minor": 5
}
