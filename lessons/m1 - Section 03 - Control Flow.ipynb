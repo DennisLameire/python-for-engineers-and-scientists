{
 "cells": [
  {
   "cell_type": "markdown",
   "id": "5caf2549",
   "metadata": {},
   "source": [
    "# PART 1\n",
    "# Seção 3: Control Flow"
   ]
  },
  {
   "cell_type": "markdown",
   "id": "8a887cdb",
   "metadata": {},
   "source": [
    "## 3.1 - Conditional Structures\n",
    "\n",
    "Conditional structures execute certain commands if a condition returns true.\n",
    "\n",
    "#### Syntax of Conditional Structures\n",
    "\n",
    "```python\n",
    "# condition must be of type bool (True or False)\n",
    ">>> if condition:\n",
    "...     print('executing the if ...')\n",
    ">>> elif another_condition:\n",
    "...     print('executing the elif ...')\n",
    ">>> else:\n",
    "...     print('executing the else ...')\n",
    "```\n",
    "\n",
    "**note:**\n",
    "<pre>Later on, we will see that there are a series of features to control\n",
    "conditional structures.</pre>"
   ]
  },
  {
   "cell_type": "code",
   "execution_count": 4,
   "id": "13504de8",
   "metadata": {},
   "outputs": [],
   "source": [
    "if False:\n",
    "    print('===============')\n",
    "    print('This is true...')"
   ]
  },
  {
   "cell_type": "code",
   "execution_count": 8,
   "id": "edebb666",
   "metadata": {},
   "outputs": [
    {
     "name": "stdout",
     "output_type": "stream",
     "text": [
      "=============\n",
      "x is greater than 5\n"
     ]
    }
   ],
   "source": [
    "x = 4\n",
    "\n",
    "if x < 5:\n",
    "    print('=============')\n",
    "    print('x is greater than 5')\n",
    "\n"
   ]
  },
  {
   "cell_type": "code",
   "execution_count": 15,
   "id": "c6c33d6d",
   "metadata": {},
   "outputs": [
    {
     "name": "stdout",
     "output_type": "stream",
     "text": [
      "this third condition is true!\n"
     ]
    }
   ],
   "source": [
    "if False:\n",
    "    print('===============')\n",
    "    print('This is true...')\n",
    "elif False:\n",
    "    print('this other condition is True')\n",
    "elif True:\n",
    "    print('this third condition is true!')\n",
    "else:\n",
    "    print('============')\n",
    "    print('everything is false!')"
   ]
  },
  {
   "cell_type": "code",
   "execution_count": 31,
   "id": "8ccba595",
   "metadata": {},
   "outputs": [
    {
     "name": "stdout",
     "output_type": "stream",
     "text": [
      "This is a negative number\n"
     ]
    }
   ],
   "source": [
    "x = -5\n",
    "\n",
    "if x < 0:\n",
    "    print('This is a negative number')\n",
    "elif x == 0:\n",
    "    print('this is zero')\n",
    "else:\n",
    "    print('this is positive')"
   ]
  },
  {
   "cell_type": "code",
   "execution_count": 28,
   "id": "02a03637",
   "metadata": {},
   "outputs": [],
   "source": [
    "a = {1, 2 , 0}\n",
    "b = {1, 2, 3, 4}"
   ]
  },
  {
   "cell_type": "code",
   "execution_count": 29,
   "id": "ac7b3fdd",
   "metadata": {},
   "outputs": [
    {
     "data": {
      "text/plain": [
       "False"
      ]
     },
     "execution_count": 29,
     "metadata": {},
     "output_type": "execute_result"
    }
   ],
   "source": [
    "a < b"
   ]
  },
  {
   "cell_type": "markdown",
   "id": "278510e4",
   "metadata": {},
   "source": [
    "## 3.2 - Loop Structures: **for**\n",
    "\n",
    "The **for** loop structure executes certain commands as long as we remain within the iterable.\n",
    "\n",
    "#### Syntax of the **for** Loop Structure\n",
    "\n",
    "```python\n",
    ">>> for i in iterable:\n",
    "...     print(i)\n",
    "```\n",
    "\n",
    "**note:**\n",
    "<pre>Later on, we will see in detail a wide variety of objects that can be iterated. Iterating over objects \n",
    "allows us to write very clean Python code.</pre>"
   ]
  },
  {
   "cell_type": "code",
   "execution_count": 33,
   "id": "874954b1",
   "metadata": {},
   "outputs": [
    {
     "data": {
      "text/plain": [
       "range"
      ]
     },
     "execution_count": 33,
     "metadata": {},
     "output_type": "execute_result"
    }
   ],
   "source": [
    "type(range(10))"
   ]
  },
  {
   "cell_type": "code",
   "execution_count": 34,
   "id": "8b01d8e5",
   "metadata": {},
   "outputs": [
    {
     "data": {
      "text/plain": [
       "[0, 1, 2, 3, 4, 5, 6, 7, 8, 9]"
      ]
     },
     "execution_count": 34,
     "metadata": {},
     "output_type": "execute_result"
    }
   ],
   "source": [
    "list(range(10))"
   ]
  },
  {
   "cell_type": "code",
   "execution_count": 35,
   "id": "8a02c947",
   "metadata": {},
   "outputs": [
    {
     "name": "stdout",
     "output_type": "stream",
     "text": [
      "0\n",
      "1\n",
      "2\n",
      "3\n",
      "4\n",
      "5\n",
      "6\n",
      "7\n",
      "8\n",
      "9\n"
     ]
    }
   ],
   "source": [
    "for var in range(10):\n",
    "    print(var)"
   ]
  },
  {
   "cell_type": "code",
   "execution_count": 36,
   "id": "18d47418",
   "metadata": {},
   "outputs": [
    {
     "data": {
      "text/plain": [
       "3"
      ]
     },
     "execution_count": 36,
     "metadata": {},
     "output_type": "execute_result"
    }
   ],
   "source": [
    "a = 0\n",
    "a += 1\n",
    "a += 2\n",
    "a"
   ]
  },
  {
   "cell_type": "code",
   "execution_count": 39,
   "id": "4817fca6",
   "metadata": {},
   "outputs": [
    {
     "name": "stdout",
     "output_type": "stream",
     "text": [
      "this is the current value of b\n",
      "0\n",
      "this is the current value of b\n",
      "0\n",
      "this is the current value of b\n",
      "1\n",
      "this is the current value of b\n",
      "3\n",
      "this is the current value of b\n",
      "6\n",
      "================\n",
      "this is the end result of b\n",
      "10\n"
     ]
    }
   ],
   "source": [
    "b = 0\n",
    "for number in range(5):\n",
    "    print('this is the current value of b')\n",
    "    print(b)\n",
    "    b += number\n",
    "\n",
    "print('================')\n",
    "print('this is the end result of b')\n",
    "print(b)"
   ]
  },
  {
   "cell_type": "markdown",
   "id": "eda9b48a",
   "metadata": {},
   "source": [
    "## 3.3 - Loop Structures: **while**\n",
    "\n",
    "The **while** loop structure executes certain commands as long as a certain condition is true.\n",
    "\n",
    "#### Syntax of the **while** Loop Structure\n",
    "\n",
    "```python\n",
    ">>> i = 10\n",
    ">>> while i > 0:\n",
    "...     print(i)\n",
    "...     i -= 1\n",
    "```\n",
    "\n",
    "**note:**\n",
    "<pre>Later on, we will see that there are a series of features to control while loop structures.</pre>"
   ]
  },
  {
   "cell_type": "code",
   "execution_count": 41,
   "id": "01a871ea",
   "metadata": {},
   "outputs": [
    {
     "name": "stdout",
     "output_type": "stream",
     "text": [
      "condition is true\n",
      "condition is true\n",
      "condition is true\n",
      "condition is true\n",
      "condition is true\n",
      "condition is true\n"
     ]
    }
   ],
   "source": [
    "cond = True\n",
    "a = 0\n",
    "\n",
    "\n",
    "while cond:\n",
    "    print('condition is true')\n",
    "    a += 1\n",
    "    if a > 5:\n",
    "        cond = False"
   ]
  },
  {
   "cell_type": "code",
   "execution_count": 42,
   "id": "9e4aced4",
   "metadata": {},
   "outputs": [
    {
     "name": "stdout",
     "output_type": "stream",
     "text": [
      "10\n",
      "11\n",
      "12\n",
      "13\n",
      "14\n",
      "15\n",
      "16\n",
      "17\n",
      "18\n",
      "19\n"
     ]
    }
   ],
   "source": [
    "x = 10\n",
    "\n",
    "while x > 5:\n",
    "    print(x)\n",
    "    x += 1\n",
    "\n",
    "    if x == 20:\n",
    "        break"
   ]
  },
  {
   "cell_type": "markdown",
   "id": "c2a490cb",
   "metadata": {},
   "source": [
    "## 3.4 - Boolean Operations\n",
    "\n",
    "In addition to comparisons, which we have already seen in the first section, we have boolean operations. These operations help enrich our toolbox.\n",
    "\n",
    "| Statement | Description |\n",
    "| :-- | :-- |\n",
    "| **or** | Operation between two booleans. If either of the two is True, the operation returns True |\n",
    "| **and** | Operation between two booleans. If all values are True, the operation returns True |\n",
    "\n"
   ]
  },
  {
   "cell_type": "code",
   "execution_count": 25,
   "id": "0618689d",
   "metadata": {},
   "outputs": [
    {
     "data": {
      "text/plain": [
       "True"
      ]
     },
     "execution_count": 25,
     "metadata": {},
     "output_type": "execute_result"
    }
   ],
   "source": [
    "any(\n",
    "    [True, True, True])"
   ]
  },
  {
   "cell_type": "code",
   "execution_count": 29,
   "id": "5ba74170",
   "metadata": {},
   "outputs": [
    {
     "data": {
      "text/plain": [
       "False"
      ]
     },
     "execution_count": 29,
     "metadata": {},
     "output_type": "execute_result"
    }
   ],
   "source": [
    "all(\n",
    "    [True, False, True]\n",
    ")"
   ]
  },
  {
   "cell_type": "code",
   "execution_count": 38,
   "id": "128c8e39",
   "metadata": {},
   "outputs": [
    {
     "data": {
      "text/plain": [
       "True"
      ]
     },
     "execution_count": 38,
     "metadata": {},
     "output_type": "execute_result"
    }
   ],
   "source": [
    "all([1, 1, 1])"
   ]
  },
  {
   "cell_type": "code",
   "execution_count": 45,
   "id": "630e4e51",
   "metadata": {},
   "outputs": [
    {
     "data": {
      "text/plain": [
       "False"
      ]
     },
     "execution_count": 45,
     "metadata": {},
     "output_type": "execute_result"
    }
   ],
   "source": [
    "bool('')"
   ]
  },
  {
   "cell_type": "code",
   "execution_count": 34,
   "id": "aa89e7fd",
   "metadata": {},
   "outputs": [
    {
     "name": "stdout",
     "output_type": "stream",
     "text": [
      "x is between 5 and 10\n"
     ]
    }
   ],
   "source": [
    "x = 6\n",
    "if x >= 5 and x <=10:\n",
    "    print('x is between 5 and 10')\n",
    "else:\n",
    "    print('x is either less than 5 or greater than 10')"
   ]
  },
  {
   "cell_type": "code",
   "execution_count": 36,
   "id": "e9b414b6",
   "metadata": {},
   "outputs": [
    {
     "name": "stdout",
     "output_type": "stream",
     "text": [
      "absolute value of y is greater than 5\n"
     ]
    }
   ],
   "source": [
    "y = -10\n",
    "\n",
    "if y <= -5 or y >= 5:\n",
    "    print('absolute value of y is greater than 5')"
   ]
  },
  {
   "cell_type": "code",
   "execution_count": null,
   "id": "47f9a797",
   "metadata": {},
   "outputs": [],
   "source": []
  },
  {
   "cell_type": "code",
   "execution_count": null,
   "id": "bac0134d",
   "metadata": {},
   "outputs": [],
   "source": []
  },
  {
   "cell_type": "markdown",
   "id": "81b3fc4b",
   "metadata": {},
   "source": [
    "## 3.5 - Other Ways to Generate Booleans: isinstance(), in, is\n",
    "\n",
    "Here are a few more resources to generate boolean values and enrich the options for conditional structures.\n",
    "\n",
    "| Statement | Type | Description |\n",
    "| :-- | :-- | :-- |\n",
    "| **is** | operator | Checks if two objects are the same instance |\n",
    "| **in** | operator | Checks if a specific value is an element of a sequence |\n",
    "| **not** | operator | The **not** statement can be combined in boolean operations to generate the inverse result |\n",
    "| **isinstance(objeto, classe)** | built-in function | Checks if a certain object is an instance of a certain class |\n",
    "\n",
    "**note:**\n",
    "<pre>To perform a comparison == between floats, we can use the built-in function isclose from the math library. Direct comparison generates problems due to the binary construction of floats.</pre>"
   ]
  },
  {
   "cell_type": "code",
   "execution_count": 22,
   "id": "f05f5c6c",
   "metadata": {},
   "outputs": [],
   "source": [
    "a = [1, 2, 3]\n",
    "b = a"
   ]
  },
  {
   "cell_type": "code",
   "execution_count": 26,
   "id": "4d0b3167",
   "metadata": {},
   "outputs": [],
   "source": [
    "a[1] = 2"
   ]
  },
  {
   "cell_type": "code",
   "execution_count": 37,
   "id": "2c615513",
   "metadata": {},
   "outputs": [
    {
     "data": {
      "text/plain": [
       "True"
      ]
     },
     "execution_count": 37,
     "metadata": {},
     "output_type": "execute_result"
    }
   ],
   "source": [
    "a is b"
   ]
  },
  {
   "cell_type": "code",
   "execution_count": 36,
   "id": "85d3b37e",
   "metadata": {},
   "outputs": [
    {
     "data": {
      "text/plain": [
       "True"
      ]
     },
     "execution_count": 36,
     "metadata": {},
     "output_type": "execute_result"
    }
   ],
   "source": [
    "isinstance('1', str)"
   ]
  },
  {
   "cell_type": "code",
   "execution_count": 1,
   "id": "94ee97e8",
   "metadata": {},
   "outputs": [],
   "source": [
    "from math import isclose"
   ]
  },
  {
   "cell_type": "code",
   "execution_count": 4,
   "id": "7454f2b3",
   "metadata": {},
   "outputs": [
    {
     "data": {
      "text/plain": [
       "True"
      ]
     },
     "execution_count": 4,
     "metadata": {},
     "output_type": "execute_result"
    }
   ],
   "source": [
    "isclose(0.3, 0.1+0.1+0.1)"
   ]
  },
  {
   "cell_type": "code",
   "execution_count": 5,
   "id": "7821d50f",
   "metadata": {},
   "outputs": [
    {
     "data": {
      "text/plain": [
       "False"
      ]
     },
     "execution_count": 5,
     "metadata": {},
     "output_type": "execute_result"
    }
   ],
   "source": [
    "0.3 == 0.1+0.1+0.1"
   ]
  },
  {
   "cell_type": "markdown",
   "id": "edf31b23",
   "metadata": {},
   "source": [
    "## 3.6 - Iterables\n",
    "\n",
    "When we use a **for** loop, it's common to use the range(n) object, but there are several objects with the same characteristics, the iterables. An iterable in Python is any type that can be iterated over. Python has a very simple syntax for looping through iterable types.\n",
    "\n",
    "Examples of iterable types: lists, tuples, dictionaries, strings, numpy arrays, pandas series, etc.\n",
    "\n",
    "#### Syntax for looping using an iterable\n",
    "\n",
    "```python\n",
    ">>> a = [1, 2, 3, 4, 5]\n",
    ">>> for i in a:\n",
    "...     print(i)\n",
    "```\n",
    "\n",
    "**note:**\n",
    "\n",
    "<pre>Essentially, what makes an object iterable is the implementation of the\n",
    "__iter__ method in the class.</pre>\n",
    "\n",
    "<pre>Iterable objects can be transformed into iterators through the\n",
    "iter() function. We will see more details about it later in the course.</pre>"
   ]
  },
  {
   "cell_type": "code",
   "execution_count": null,
   "id": "f3d646b4",
   "metadata": {},
   "outputs": [],
   "source": []
  },
  {
   "cell_type": "code",
   "execution_count": null,
   "id": "bdc3a038",
   "metadata": {},
   "outputs": [],
   "source": []
  },
  {
   "cell_type": "markdown",
   "id": "04d50255",
   "metadata": {},
   "source": [
    "## 3.7 - enumerate()\n",
    "\n",
    "The *enumerate()* function generates an iterable object that contains a pair of information at each iteration *(i, value)*. This pair of information makes our Python code cleaner and more efficient when appropriate.\n",
    "\n",
    "```python\n",
    ">>> a = [1, 2, 3, 4, 5]\n",
    ">>> for i in enumerate(a):\n",
    "...     print(i)\n",
    "```\n",
    "\n",
    "**note:**\n",
    "<pre>Tuples have unpacking operations, which we will see later in the\n",
    "course and are interesting to use with enumerate. This is what makes\n",
    "enumerate so clean.</pre>\n"
   ]
  },
  {
   "cell_type": "code",
   "execution_count": null,
   "id": "19f796fd",
   "metadata": {},
   "outputs": [],
   "source": []
  },
  {
   "cell_type": "code",
   "execution_count": null,
   "id": "9a5bd29a",
   "metadata": {},
   "outputs": [],
   "source": []
  },
  {
   "cell_type": "code",
   "execution_count": null,
   "id": "7465063a",
   "metadata": {},
   "outputs": [],
   "source": []
  },
  {
   "cell_type": "code",
   "execution_count": null,
   "id": "047cf947",
   "metadata": {},
   "outputs": [],
   "source": []
  },
  {
   "cell_type": "markdown",
   "id": "1b3d3e9e",
   "metadata": {},
   "source": [
    "## 3.8 - Break, Continue, and Pass Statements\n",
    "\n",
    "These statements help us control **for** and **while** loops.\n",
    "\n",
    "| Statement | Description |\n",
    "| :-- | :-- |\n",
    "| **break** | When this statement is executed within a loop structure, the loop breaks and stops |\n",
    "| **continue** | When this statement is executed within a loop structure, we stop executing the following statements and continue counting |\n",
    "| **pass** | When this statement is executed, the loop is not affected |\n",
    "\n",
    "**note:**\n",
    "<pre>The pass statement, essentially, does nothing in the code, but it is very\n",
    "useful for generating a template for a function, class, etc., to be implemented.</pre>"
   ]
  },
  {
   "cell_type": "code",
   "execution_count": null,
   "id": "ec9640cb",
   "metadata": {},
   "outputs": [],
   "source": []
  },
  {
   "cell_type": "code",
   "execution_count": null,
   "id": "8b4cabeb",
   "metadata": {},
   "outputs": [],
   "source": []
  },
  {
   "cell_type": "markdown",
   "id": "a2c87b61",
   "metadata": {},
   "source": [
    "# Exercises"
   ]
  },
  {
   "cell_type": "markdown",
   "id": "8624ce8c",
   "metadata": {},
   "source": [
    "## E3.1\n",
    "\n",
    "Create a conditional that, given a variable, prints the following:\n",
    "- If it's a positive number, print \"Positive number\"\n",
    "- If it's a negative number, print \"Negative number\"\n",
    "- If it's zero, print \"Zero\"\n",
    "- If it's not a number, print \"Not a number\""
   ]
  },
  {
   "cell_type": "code",
   "execution_count": 1,
   "id": "140d1d77",
   "metadata": {},
   "outputs": [
    {
     "name": "stdout",
     "output_type": "stream",
     "text": [
      "x não é um número\n"
     ]
    }
   ],
   "source": [
    "x = 'python'\n",
    "\n",
    "if not isinstance(x, int) or not isinstance(x, float):\n",
    "    print('x não é um número')\n",
    "elif x"
   ]
  },
  {
   "cell_type": "markdown",
   "id": "4f3b08e2",
   "metadata": {},
   "source": [
    "## E3.2\n",
    "Create a loop that sums all elements of any list."
   ]
  },
  {
   "cell_type": "code",
   "execution_count": 54,
   "id": "cde94c67",
   "metadata": {},
   "outputs": [
    {
     "data": {
      "text/plain": [
       "[0, 1, 2, 3, 4, 5, 6, 7, 8, 9]"
      ]
     },
     "execution_count": 54,
     "metadata": {},
     "output_type": "execute_result"
    }
   ],
   "source": [
    "a = list(range(10))\n",
    "a"
   ]
  },
  {
   "cell_type": "code",
   "execution_count": 53,
   "id": "d49339ee",
   "metadata": {},
   "outputs": [
    {
     "name": "stdout",
     "output_type": "stream",
     "text": [
      "45\n"
     ]
    }
   ],
   "source": [
    "soma = 0\n",
    "for i in a:\n",
    "    soma += i\n",
    "\n",
    "print(soma)"
   ]
  },
  {
   "cell_type": "code",
   "execution_count": 52,
   "id": "050deb31",
   "metadata": {},
   "outputs": [
    {
     "data": {
      "text/plain": [
       "45"
      ]
     },
     "execution_count": 52,
     "metadata": {},
     "output_type": "execute_result"
    }
   ],
   "source": [
    "sum(a)"
   ]
  },
  {
   "cell_type": "markdown",
   "id": "691a1457",
   "metadata": {},
   "source": [
    "## E3.3\n",
    "Given an integer, create a while loop that calculates the factorial of that number."
   ]
  },
  {
   "cell_type": "code",
   "execution_count": 2,
   "id": "516faee6",
   "metadata": {},
   "outputs": [
    {
     "data": {
      "text/plain": [
       "120"
      ]
     },
     "execution_count": 2,
     "metadata": {},
     "output_type": "execute_result"
    }
   ],
   "source": [
    "x = 5\n",
    "fact_x = 1\n",
    "\n",
    "while x > 0:\n",
    "    fact_x *= x\n",
    "    x -= 1\n",
    "fact_x"
   ]
  },
  {
   "cell_type": "code",
   "execution_count": null,
   "id": "79d529fe",
   "metadata": {},
   "outputs": [],
   "source": []
  },
  {
   "cell_type": "markdown",
   "id": "054b073c",
   "metadata": {},
   "source": [
    "## E2.4\n",
    "\n",
    "Create logic that returns the nth number in the Fibonacci sequence.\n",
    "\n",
    "The Fibonacci sequence follows this rule:\n",
    "$$ F_n = F_{n-1} + F_{n-2}$$\n",
    "\n",
    "```\n",
    "Fibonacci sequence: 0, 1, 1, 2, 3, 5, 8, 13, 21, 34, 55, 89, 144, 233...\n",
    "```"
   ]
  },
  {
   "cell_type": "code",
   "execution_count": 22,
   "id": "eef23c02",
   "metadata": {},
   "outputs": [],
   "source": [
    "nesimo = 14\n",
    "contador = 0\n",
    "fibo = [0, 1, 1]\n",
    "\n",
    "while len(fibo) < nesimo:\n",
    "    fibo.append(\n",
    "        fibo[-1] + fibo[-2]\n",
    "    )\n"
   ]
  },
  {
   "cell_type": "code",
   "execution_count": 23,
   "id": "cbdc94aa",
   "metadata": {},
   "outputs": [
    {
     "data": {
      "text/plain": [
       "[0, 1, 1, 2, 3, 5, 8, 13, 21, 34, 55, 89, 144, 233]"
      ]
     },
     "execution_count": 23,
     "metadata": {},
     "output_type": "execute_result"
    }
   ],
   "source": [
    "fibo"
   ]
  },
  {
   "cell_type": "code",
   "execution_count": 21,
   "id": "47a17680",
   "metadata": {},
   "outputs": [
    {
     "data": {
      "text/plain": [
       "233"
      ]
     },
     "execution_count": 21,
     "metadata": {},
     "output_type": "execute_result"
    }
   ],
   "source": [
    "89 + 144"
   ]
  },
  {
   "cell_type": "markdown",
   "id": "d7c8fa76",
   "metadata": {},
   "source": [
    "## E2.5\n",
    "Given a number, check if it is divisible by 6.\n",
    "\n",
    "**Notes:**\n",
    "<pre>A number divisible by 6 must be divisible by 2 and by 3 at the same time.</pre>\n",
    "<pre>Suggestion: use the modulo operation %. </pre>"
   ]
  },
  {
   "cell_type": "code",
   "execution_count": 13,
   "id": "510e87e3",
   "metadata": {},
   "outputs": [
    {
     "name": "stdout",
     "output_type": "stream",
     "text": [
      "36 é divisível por 2 e por 3\n"
     ]
    }
   ],
   "source": [
    "x = 36\n",
    "\n",
    "a = x % 2\n",
    "b = x % 3\n",
    "\n",
    "if a == 0 and b == 0 :\n",
    "    print(f'{x} é divisível por 2 e por 3')\n",
    "else:\n",
    "    print(f'{x} NÃO é divisível por 2 e por 3')"
   ]
  },
  {
   "cell_type": "markdown",
   "id": "20d98214",
   "metadata": {},
   "source": [
    "## E3.6\n",
    "Given the following list, return the first negative number and its corresponding position.\n",
    "\n",
    "```python\n",
    "numbers = [0, 1, 2, 5, -8, 2, -3, 5]\n",
    "```"
   ]
  },
  {
   "cell_type": "code",
   "execution_count": 17,
   "id": "b340efc7",
   "metadata": {},
   "outputs": [
    {
     "name": "stdout",
     "output_type": "stream",
     "text": [
      "numero = -8 e indice = 4\n"
     ]
    }
   ],
   "source": [
    "numeros = [0, 1, 2, 5, -8, 2, -3, 5]\n",
    "\n",
    "for i, numero in enumerate(numeros):\n",
    "    if numero < 0:\n",
    "        print(f'numero = {numero} e indice = {i}')\n",
    "        break"
   ]
  },
  {
   "cell_type": "code",
   "execution_count": null,
   "id": "71eed026",
   "metadata": {},
   "outputs": [],
   "source": []
  },
  {
   "cell_type": "code",
   "execution_count": null,
   "id": "33e33acd",
   "metadata": {},
   "outputs": [],
   "source": []
  },
  {
   "cell_type": "code",
   "execution_count": null,
   "id": "c47fbc0e",
   "metadata": {},
   "outputs": [],
   "source": []
  }
 ],
 "metadata": {
  "kernelspec": {
   "display_name": "Python 3 (ipykernel)",
   "language": "python",
   "name": "python3"
  },
  "language_info": {
   "codemirror_mode": {
    "name": "ipython",
    "version": 3
   },
   "file_extension": ".py",
   "mimetype": "text/x-python",
   "name": "python",
   "nbconvert_exporter": "python",
   "pygments_lexer": "ipython3",
   "version": "3.9.13"
  }
 },
 "nbformat": 4,
 "nbformat_minor": 5
}
