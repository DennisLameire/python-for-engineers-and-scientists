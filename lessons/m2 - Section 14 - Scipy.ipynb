{
 "cells": [
  {
   "cell_type": "markdown",
   "id": "26751ce4",
   "metadata": {},
   "source": [
    "# PART 2\n",
    "# Section 14: Scipy\n",
    "\n",
    "Scipy is not just a library; it is a software. It is software for mathematics, science, and engineering. It includes modules for statistics, optimization, calculus, linear algebra, Fourier transforms, signal and image processing, differential equation solvers, and much more.\n",
    "\n",
    "Scipy has many functions written in Fortran and C, developed by scientists. As a result, it combines the performance of these languages with the ease of Python.\n",
    "\n",
    "Moreover, Scipy is heavily based on numpy, so using both libraries together is a great choice.\n",
    "\n",
    "Enjoy exploring!"
   ]
  },
  {
   "cell_type": "markdown",
   "id": "82143d59",
   "metadata": {},
   "source": [
    "# scipy.linalg (Linear Algebra)"
   ]
  },
  {
   "cell_type": "markdown",
   "id": "451d8544",
   "metadata": {},
   "source": [
    "## 14.1 - Matrix Functions\n",
    "\n",
    "```python\n",
    "from scipy import linalg\n",
    "```\n",
    "\n",
    "#### Linear Algebra Functions\n",
    "\n",
    "| Function      | Description                            |\n",
    "| :------------ | :------------------------------------- |\n",
    "| linalg.inv()  | Returns the inverse of a matrix       |\n",
    "| linalg.det()  | Computes the determinant of a matrix  |\n",
    "| linalg.norm() | Computes the norm of a vector         |\n",
    "\n",
    "**Notes:**\n",
    "\n",
    "- NumPy also contains a submodule for linear algebra (`numpy.linalg`). However, the scipy module contains everything that numpy.linalg contains and more (according to the documentation)."
   ]
  },
  {
   "cell_type": "code",
   "execution_count": 21,
   "id": "cf5b9d47",
   "metadata": {},
   "outputs": [],
   "source": [
    "import scipy\n",
    "import numpy as np\n",
    "\n",
    "\n",
    "from scipy.linalg import inv, det, norm"
   ]
  },
  {
   "cell_type": "code",
   "execution_count": 18,
   "id": "265e7e65",
   "metadata": {},
   "outputs": [
    {
     "data": {
      "text/plain": [
       "array([[1., 0., 0.],\n",
       "       [0., 1., 0.],\n",
       "       [0., 0., 1.]])"
      ]
     },
     "execution_count": 18,
     "metadata": {},
     "output_type": "execute_result"
    }
   ],
   "source": [
    "I = np.eye(3)\n",
    "I"
   ]
  },
  {
   "cell_type": "code",
   "execution_count": 20,
   "id": "488179ed",
   "metadata": {},
   "outputs": [
    {
     "data": {
      "text/plain": [
       "array([[ True,  True,  True],\n",
       "       [ True,  True,  True],\n",
       "       [ True,  True,  True]])"
      ]
     },
     "execution_count": 20,
     "metadata": {},
     "output_type": "execute_result"
    }
   ],
   "source": [
    "scipy.linalg.inv(I) == I"
   ]
  },
  {
   "cell_type": "code",
   "execution_count": 22,
   "id": "37629819",
   "metadata": {},
   "outputs": [
    {
     "data": {
      "text/plain": [
       "1.0"
      ]
     },
     "execution_count": 22,
     "metadata": {},
     "output_type": "execute_result"
    }
   ],
   "source": [
    "det(I)"
   ]
  },
  {
   "cell_type": "code",
   "execution_count": 23,
   "id": "375448f6",
   "metadata": {},
   "outputs": [],
   "source": [
    "V = np.array([1, 1, 0])"
   ]
  },
  {
   "cell_type": "code",
   "execution_count": 24,
   "id": "e291748f",
   "metadata": {},
   "outputs": [
    {
     "data": {
      "text/plain": [
       "1.4142135623730951"
      ]
     },
     "execution_count": 24,
     "metadata": {},
     "output_type": "execute_result"
    }
   ],
   "source": [
    "norm(V)"
   ]
  },
  {
   "cell_type": "code",
   "execution_count": 25,
   "id": "021d8048",
   "metadata": {},
   "outputs": [
    {
     "name": "stderr",
     "output_type": "stream",
     "text": [
      "C:\\Users\\Pichau\\AppData\\Local\\Temp\\ipykernel_3612\\2699679923.py:1: DeprecationWarning: scipy.sqrt is deprecated and will be removed in SciPy 2.0.0, use numpy.lib.scimath.sqrt instead\n",
      "  scipy.sqrt(2)\n"
     ]
    },
    {
     "data": {
      "text/plain": [
       "1.4142135623730951"
      ]
     },
     "execution_count": 25,
     "metadata": {},
     "output_type": "execute_result"
    }
   ],
   "source": [
    "scipy.sqrt(2)"
   ]
  },
  {
   "cell_type": "markdown",
   "id": "45ba333f",
   "metadata": {},
   "source": [
    "## 14.2 - Linear Systems\n",
    "\n",
    "#### Functions\n",
    "\n",
    "| Function          | Description                                     |\n",
    "| :---------------- | :---------------------------------------------- |\n",
    "| linalg.solve(A, B)| Solves a linear system of equations of the form $ A.X = B $ |\n",
    "\n",
    "**Notes:**\n",
    "\n",
    "- A and B are numpy arrays. A contains the system and B contains the result.\n",
    "- The output of this operation is the vector X."
   ]
  },
  {
   "cell_type": "code",
   "execution_count": 30,
   "id": "cfc97fdb",
   "metadata": {},
   "outputs": [],
   "source": [
    "import numpy as np\n",
    "\n",
    "from scipy.linalg import solve"
   ]
  },
  {
   "cell_type": "code",
   "execution_count": 31,
   "id": "42ad73b4",
   "metadata": {},
   "outputs": [],
   "source": [
    "A = np.array([[3, 2, 4],\n",
    "               [1, 1, 2],\n",
    "               [4, 3, -2]])\n",
    "B = np.array([1, 2, 3])"
   ]
  },
  {
   "cell_type": "code",
   "execution_count": 32,
   "id": "23403ac6",
   "metadata": {},
   "outputs": [
    {
     "data": {
      "text/plain": [
       "array([-3.,  5.,  0.])"
      ]
     },
     "execution_count": 32,
     "metadata": {},
     "output_type": "execute_result"
    }
   ],
   "source": [
    "solve(A, B)"
   ]
  },
  {
   "cell_type": "markdown",
   "id": "c1a9346a",
   "metadata": {},
   "source": [
    "## 14.3 - Eigenvalues and Eigenvectors\n",
    "\n",
    "The eigenvalue problem consists of finding the values $ \\{\\lambda_1, \\lambda_2, \\lambda_3\\}$.\n",
    "\n",
    "Watch: [3Blue1Brown - Eigenvalues and Eigenvectors](https://www.youtube.com/watch?v=PFDu9oVAE-g&ab_channel=3Blue1Brown)\n",
    "\n",
    "#### Functions\n",
    "\n",
    "| Function       | Description                                         |\n",
    "| :------------- | :-------------------------------------------------- |\n",
    "| linalg.eig(A)  | returns the eigenvalues and eigenvectors of matrix $A$ |\n",
    "\n",
    "The eigenvalue and eigenvector problem is described below:\n",
    "\n",
    "$$ A=\n",
    " \\begin{bmatrix}\n",
    "   a & b \\\\\\\\\n",
    "   c & d\n",
    "  \\end{bmatrix}\n",
    "  \\rightarrow \\text{DET}[A - \\lambda I]=0 \\rightarrow\n",
    " \\text{DET} \\begin{bmatrix}\n",
    "   a - \\lambda & b \\\\\\\\\n",
    "   c & d - \\lambda\n",
    "  \\end{bmatrix} = 0 \\rightarrow \\{\\lambda_1, \\lambda_2, \\lambda_3\\}\n",
    "$$"
   ]
  },
  {
   "cell_type": "code",
   "execution_count": 34,
   "id": "bac39929",
   "metadata": {},
   "outputs": [],
   "source": [
    "import sympy as sp\n",
    "\n",
    "from scipy.linalg import eig"
   ]
  },
  {
   "cell_type": "code",
   "execution_count": 40,
   "id": "b1ce6cb0",
   "metadata": {},
   "outputs": [],
   "source": [
    "A = sp.Matrix([[1, 2],\n",
    "               [8, 2]])\n",
    "\n",
    "I = sp.eye(2)\n",
    "lam = sp.symbols('lambda')"
   ]
  },
  {
   "cell_type": "code",
   "execution_count": 44,
   "id": "20e6ace0",
   "metadata": {},
   "outputs": [
    {
     "data": {
      "text/latex": [
       "$\\displaystyle \\lambda^{2} - 3 \\lambda - 14$"
      ],
      "text/plain": [
       "lambda**2 - 3*lambda - 14"
      ]
     },
     "execution_count": 44,
     "metadata": {},
     "output_type": "execute_result"
    }
   ],
   "source": [
    "problem = (A -lam*I).det()\n",
    "problem"
   ]
  },
  {
   "cell_type": "code",
   "execution_count": 46,
   "id": "a2bc5909",
   "metadata": {},
   "outputs": [
    {
     "data": {
      "text/latex": [
       "$\\displaystyle \\left\\{\\frac{3}{2} - \\frac{\\sqrt{65}}{2}, \\frac{3}{2} + \\frac{\\sqrt{65}}{2}\\right\\}$"
      ],
      "text/plain": [
       "{3/2 - sqrt(65)/2, 3/2 + sqrt(65)/2}"
      ]
     },
     "execution_count": 46,
     "metadata": {},
     "output_type": "execute_result"
    }
   ],
   "source": [
    "sp.solveset(problem, lam)"
   ]
  },
  {
   "cell_type": "code",
   "execution_count": 48,
   "id": "10a42526",
   "metadata": {},
   "outputs": [
    {
     "data": {
      "text/plain": [
       "5.531128874149275"
      ]
     },
     "execution_count": 48,
     "metadata": {},
     "output_type": "execute_result"
    }
   ],
   "source": [
    "\n",
    "3/2+np.sqrt(65)/2"
   ]
  },
  {
   "cell_type": "code",
   "execution_count": 54,
   "id": "c862d501",
   "metadata": {},
   "outputs": [
    {
     "data": {
      "text/plain": [
       "-2.5311288741492746"
      ]
     },
     "execution_count": 54,
     "metadata": {},
     "output_type": "execute_result"
    }
   ],
   "source": [
    "3/2-np.sqrt(65)/2"
   ]
  },
  {
   "cell_type": "code",
   "execution_count": 55,
   "id": "3e770fa5",
   "metadata": {},
   "outputs": [],
   "source": [
    "A_np = np.array([[1, 2],\n",
    "               [8, 2]])\n",
    "e, v = eig(A_np)"
   ]
  },
  {
   "cell_type": "code",
   "execution_count": 56,
   "id": "dc66019e",
   "metadata": {},
   "outputs": [
    {
     "data": {
      "text/plain": [
       "array([-2.53112887+0.j,  5.53112887+0.j])"
      ]
     },
     "execution_count": 56,
     "metadata": {},
     "output_type": "execute_result"
    }
   ],
   "source": [
    "e"
   ]
  },
  {
   "cell_type": "code",
   "execution_count": 57,
   "id": "435ccdaf",
   "metadata": {},
   "outputs": [
    {
     "data": {
      "text/plain": [
       "array([[-0.49283107, -0.40380457],\n",
       "       [ 0.87012501, -0.91484527]])"
      ]
     },
     "execution_count": 57,
     "metadata": {},
     "output_type": "execute_result"
    }
   ],
   "source": [
    "v"
   ]
  },
  {
   "cell_type": "markdown",
   "id": "3c987f5e",
   "metadata": {},
   "source": [
    "# scipy.integrate (Calculus)"
   ]
  },
  {
   "cell_type": "markdown",
   "id": "3a20cc1e",
   "metadata": {},
   "source": [
    "## 14.4 - Integral\n",
    "\n",
    "```python\n",
    ">>> from scipy.integrate import quad, dblquad\n",
    "```\n",
    "\n",
    "| Function | Description |\n",
    "| :-- | :-- |\n",
    "| integrate.quad(func, a, b) | Computes the integral of a function |\n",
    "| integrate.dblquad(func, a, b, gfun, hfun) | Computes the double integral of a function |"
   ]
  },
  {
   "cell_type": "code",
   "execution_count": 13,
   "id": "61c966de",
   "metadata": {},
   "outputs": [],
   "source": [
    "import numpy as np\n",
    "from scipy.integrate import quad, dblquad"
   ]
  },
  {
   "cell_type": "code",
   "execution_count": 15,
   "id": "6112b100",
   "metadata": {},
   "outputs": [],
   "source": [
    "def f_x(x):\n",
    "    return x**2\n",
    "\n",
    "f_x = lambda x: x**2"
   ]
  },
  {
   "cell_type": "code",
   "execution_count": 19,
   "id": "bed6eb6c",
   "metadata": {},
   "outputs": [
    {
     "data": {
      "text/plain": [
       "(333.33333333333326, 3.700743415417188e-12)"
      ]
     },
     "execution_count": 19,
     "metadata": {},
     "output_type": "execute_result"
    }
   ],
   "source": [
    "quad(f_x, 0, 10)"
   ]
  },
  {
   "cell_type": "code",
   "execution_count": 20,
   "id": "ec6fab13",
   "metadata": {},
   "outputs": [
    {
     "data": {
      "text/plain": [
       "333.3333333333333"
      ]
     },
     "execution_count": 20,
     "metadata": {},
     "output_type": "execute_result"
    }
   ],
   "source": [
    "10**3 / 3"
   ]
  },
  {
   "cell_type": "code",
   "execution_count": 21,
   "id": "47da2c6a",
   "metadata": {},
   "outputs": [],
   "source": [
    "def f_xy(x, y):\n",
    "    return x * y"
   ]
  },
  {
   "cell_type": "code",
   "execution_count": 22,
   "id": "cee3de06",
   "metadata": {},
   "outputs": [
    {
     "data": {
      "text/plain": [
       "(624.9999999999999, 6.938893903907227e-12)"
      ]
     },
     "execution_count": 22,
     "metadata": {},
     "output_type": "execute_result"
    }
   ],
   "source": [
    "dblquad(f_xy, 0, 5, 0, 10)"
   ]
  },
  {
   "cell_type": "code",
   "execution_count": null,
   "id": "73b76a80",
   "metadata": {},
   "outputs": [],
   "source": [
    "#x**2/2 * y**2/2"
   ]
  },
  {
   "cell_type": "code",
   "execution_count": 23,
   "id": "46918be3",
   "metadata": {},
   "outputs": [
    {
     "data": {
      "text/plain": [
       "625.0"
      ]
     },
     "execution_count": 23,
     "metadata": {},
     "output_type": "execute_result"
    }
   ],
   "source": [
    "(5**2/2) * (10**2/2)"
   ]
  },
  {
   "cell_type": "markdown",
   "id": "b9ca7daf",
   "metadata": {},
   "source": [
    "## 14.5 - ODE\n",
    "\n",
    "```python\n",
    ">>> from scipy.integrate import odeint\n",
    "```\n",
    "\n",
    "| Function | Description |\n",
    "| :-- | :-- |\n",
    "| integrate.odeint(func, y0, t) | Computes the given differential equation |"
   ]
  },
  {
   "cell_type": "code",
   "execution_count": 1,
   "id": "2efc342a",
   "metadata": {},
   "outputs": [],
   "source": [
    "import sympy as sp"
   ]
  },
  {
   "cell_type": "code",
   "execution_count": 2,
   "id": "6582e237",
   "metadata": {},
   "outputs": [
    {
     "data": {
      "text/latex": [
       "$\\displaystyle 10 x + \\frac{d}{d x} y{\\left(x \\right)}$"
      ],
      "text/plain": [
       "10*x + Derivative(y(x), x)"
      ]
     },
     "execution_count": 2,
     "metadata": {},
     "output_type": "execute_result"
    }
   ],
   "source": [
    "x = sp.symbols('x')\n",
    "y = sp.Function('y')\n",
    "dydx = sp.Derivative(y(x), x)\n",
    "eq = dydx + 10*x\n",
    "eq"
   ]
  },
  {
   "cell_type": "code",
   "execution_count": 3,
   "id": "e73832ec",
   "metadata": {},
   "outputs": [
    {
     "data": {
      "text/latex": [
       "$\\displaystyle y{\\left(x \\right)} = C_{1} - 5 x^{2}$"
      ],
      "text/plain": [
       "Eq(y(x), C1 - 5*x**2)"
      ]
     },
     "execution_count": 3,
     "metadata": {},
     "output_type": "execute_result"
    }
   ],
   "source": [
    "sp.dsolve(eq)"
   ]
  },
  {
   "cell_type": "code",
   "execution_count": 10,
   "id": "3425853b",
   "metadata": {},
   "outputs": [],
   "source": [
    "import numpy as np\n",
    "\n",
    "from scipy.integrate import odeint"
   ]
  },
  {
   "cell_type": "code",
   "execution_count": 6,
   "id": "cf8dfb8b",
   "metadata": {},
   "outputs": [],
   "source": [
    "def eq(u, x):\n",
    "    y, dy = u\n",
    "    return [dy, -10*x]\n",
    "\n",
    "x = np.arange(11)\n",
    "\n",
    "odeint(eq, [0, 0], x)"
   ]
  },
  {
   "cell_type": "code",
   "execution_count": 11,
   "id": "65f13e50",
   "metadata": {},
   "outputs": [
    {
     "data": {
      "text/plain": [
       "array([ 0,  1,  2,  3,  4,  5,  6,  7,  8,  9, 10])"
      ]
     },
     "execution_count": 11,
     "metadata": {},
     "output_type": "execute_result"
    }
   ],
   "source": [
    "x = np.arange(11)\n",
    "x"
   ]
  },
  {
   "cell_type": "code",
   "execution_count": 12,
   "id": "cb936645",
   "metadata": {},
   "outputs": [
    {
     "data": {
      "text/plain": [
       "array([[    0.        ,     0.        ],\n",
       "       [   -1.66666669,    -5.00000002],\n",
       "       [  -13.33333337,   -20.00000002],\n",
       "       [  -45.00000006,   -45.00000002],\n",
       "       [ -106.66666675,   -80.00000002],\n",
       "       [ -208.33333344,  -125.00000002],\n",
       "       [ -360.00000012,  -180.00000002],\n",
       "       [ -571.66666681,  -245.00000002],\n",
       "       [ -853.3333335 ,  -320.00000002],\n",
       "       [-1215.00000019,  -405.00000002],\n",
       "       [-1666.66666687,  -500.00000002]])"
      ]
     },
     "execution_count": 12,
     "metadata": {},
     "output_type": "execute_result"
    }
   ],
   "source": [
    "odeint(eq, [0, 0], x)"
   ]
  },
  {
   "cell_type": "markdown",
   "id": "d0684c66",
   "metadata": {},
   "source": [
    "## E14.1 -\n",
    "\n",
    "Given the matrices A, B, C, and D, calculate, for each one, the determinant, the transpose matrix, and the inverse matrix.\n",
    "\n",
    "$$ A=\n",
    " \\begin{bmatrix}\n",
    "   1 & 2 \\\\\\\\\n",
    "   4 & 5\n",
    "  \\end{bmatrix}\n",
    "$$\n",
    "\n",
    "$$ B=\n",
    " \\begin{bmatrix}\n",
    "   \\cos(\\pi/4) & -\\sin(\\pi/4) \\\\\\\\\n",
    "   \\sin(\\pi/4) & \\cos(\\pi/4)\n",
    "  \\end{bmatrix}\n",
    "$$\n",
    "\n",
    "$$ C=\n",
    " \\begin{bmatrix}\n",
    "   2 & -2 \\\\\\\\\n",
    "   -2 & 5\n",
    "  \\end{bmatrix}\n",
    "$$\n",
    "\n",
    "$$\n",
    "D=\n",
    " \\begin{bmatrix}\n",
    "   2 & 2 \\\\\\\\\n",
    "   4 & 4\n",
    "  \\end{bmatrix}\n",
    "$$\n",
    "\n",
    "\n",
    "Notes:\n",
    "- A has a nonzero determinant.\n",
    "- B is an orthogonal matrix, its inverse is equal to its transpose, and its determinant should be +1 or -1.\n",
    "- C is a symmetric matrix, it is equal to its transpose.\n",
    "- D has a determinant equal to zero, so it is not invertible."
   ]
  },
  {
   "cell_type": "code",
   "execution_count": 10,
   "id": "989a5f1f",
   "metadata": {},
   "outputs": [],
   "source": [
    "import numpy as np\n",
    "\n",
    "from scipy.linalg import det, inv"
   ]
  },
  {
   "cell_type": "code",
   "execution_count": 12,
   "id": "f1db543f",
   "metadata": {},
   "outputs": [],
   "source": [
    "A = np.array([[1, 2],\n",
    "               [4, 5]])\n",
    "B = np.array([[np.cos(np.pi/4), -np.sin(np.pi/4)],\n",
    "               [np.sin(np.pi/4), np.cos(np.pi/4)]])\n",
    "C = np.array([[2, -2],\n",
    "               [-2, 5]])\n",
    "D = np.array([[2, 2],\n",
    "               [4, 4]])"
   ]
  },
  {
   "cell_type": "code",
   "execution_count": 15,
   "id": "82da3b72",
   "metadata": {},
   "outputs": [
    {
     "name": "stdout",
     "output_type": "stream",
     "text": [
      "4.99 µs ± 833 ns per loop (mean ± std. dev. of 7 runs, 100,000 loops each)\n"
     ]
    }
   ],
   "source": [
    "%%timeit\n",
    "det(A)"
   ]
  },
  {
   "cell_type": "code",
   "execution_count": 20,
   "id": "a7ddfd00",
   "metadata": {},
   "outputs": [
    {
     "name": "stdout",
     "output_type": "stream",
     "text": [
      "9.3 µs ± 147 ns per loop (mean ± std. dev. of 7 runs, 100,000 loops each)\n"
     ]
    }
   ],
   "source": [
    "%%timeit\n",
    "inv(B)"
   ]
  },
  {
   "cell_type": "code",
   "execution_count": 19,
   "id": "cd06c829",
   "metadata": {},
   "outputs": [
    {
     "data": {
      "text/plain": [
       "array([[ 0.70710678,  0.70710678],\n",
       "       [-0.70710678,  0.70710678]])"
      ]
     },
     "execution_count": 19,
     "metadata": {},
     "output_type": "execute_result"
    }
   ],
   "source": [
    "inv(B)"
   ]
  },
  {
   "cell_type": "markdown",
   "id": "56f1db02",
   "metadata": {},
   "source": [
    "## E14.2 -\n",
    "\n",
    "Given the matrices, solve the system of equations $[A].\\{X\\} = \\{B\\}$\n",
    "\n",
    "$$ A=\n",
    " \\begin{bmatrix}\n",
    "   1 & 1 & 1 \\\\\\\\\n",
    "   1 & 2 & 2 \\\\\\\\\n",
    "   2 & 1 & 3 \n",
    "\\end{bmatrix}\n",
    "$$\n",
    "\n",
    "$$ X=\n",
    " \\begin{bmatrix}\n",
    "   x_1 \\\\\\\\\n",
    "   x_2 \\\\\\\\\n",
    "   x_3 \n",
    "\\end{bmatrix}\n",
    "$$\n",
    "\n",
    "$$ B=\n",
    " \\begin{bmatrix}\n",
    "   6 \\\\\\\\\n",
    "   9 \\\\\\\\\n",
    "   11 \n",
    "\\end{bmatrix}\n",
    "$$\n"
   ]
  },
  {
   "cell_type": "code",
   "execution_count": 21,
   "id": "c45f4195",
   "metadata": {},
   "outputs": [],
   "source": [
    "import numpy as np\n",
    "\n",
    "\n",
    "from scipy.linalg import solve"
   ]
  },
  {
   "cell_type": "code",
   "execution_count": 22,
   "id": "e1547f32",
   "metadata": {},
   "outputs": [],
   "source": [
    "A = np.array([[1, 1, 1],\n",
    "               [1, 2, 2],\n",
    "               [2, 1, 3]])\n",
    "B = np.array([6, 9, 11])"
   ]
  },
  {
   "cell_type": "code",
   "execution_count": 24,
   "id": "87b55c7d",
   "metadata": {},
   "outputs": [
    {
     "name": "stdout",
     "output_type": "stream",
     "text": [
      "13.5 µs ± 19 ns per loop (mean ± std. dev. of 7 runs, 100,000 loops each)\n"
     ]
    }
   ],
   "source": [
    "%%timeit\n",
    "solve(A, B)"
   ]
  },
  {
   "cell_type": "code",
   "execution_count": 25,
   "id": "ee59eded",
   "metadata": {},
   "outputs": [
    {
     "data": {
      "text/plain": [
       "30.76923076923077"
      ]
     },
     "execution_count": 25,
     "metadata": {},
     "output_type": "execute_result"
    }
   ],
   "source": [
    "400/13"
   ]
  },
  {
   "cell_type": "markdown",
   "id": "5668accf",
   "metadata": {},
   "source": [
    "## E14.3 -\n",
    "\n",
    "Find the eigenvalues and eigenvectors for the matrix below and then check if the results are correct.\n",
    "\n",
    "$$ A=\n",
    " \\begin{bmatrix}\n",
    "   -1 & 6 \\\\\\\\\n",
    "   0 & 5\n",
    "  \\end{bmatrix}\n",
    "$$\n",
    "\n",
    "The eigenvalue and eigenvector are associated with the matrix as follows:\n",
    "\n",
    "$$ [A] \\{X\\} = \\lambda \\{X\\} $$"
   ]
  },
  {
   "cell_type": "code",
   "execution_count": 1,
   "id": "3c62ba28",
   "metadata": {},
   "outputs": [],
   "source": [
    "import numpy as np\n",
    "\n",
    "from scipy.linalg import eig\n",
    "\n"
   ]
  },
  {
   "cell_type": "code",
   "execution_count": 3,
   "id": "a24766c8",
   "metadata": {},
   "outputs": [],
   "source": [
    "A = np.array([[-1, 6],\n",
    "              [0, 5]])\n",
    "\n",
    "e, v = eig(A)"
   ]
  },
  {
   "cell_type": "code",
   "execution_count": 4,
   "id": "0c7137b4",
   "metadata": {},
   "outputs": [
    {
     "data": {
      "text/plain": [
       "array([-1.+0.j,  5.+0.j])"
      ]
     },
     "execution_count": 4,
     "metadata": {},
     "output_type": "execute_result"
    }
   ],
   "source": [
    "e"
   ]
  },
  {
   "cell_type": "code",
   "execution_count": 5,
   "id": "17adb635",
   "metadata": {},
   "outputs": [
    {
     "data": {
      "text/plain": [
       "array([[1.        , 0.70710678],\n",
       "       [0.        , 0.70710678]])"
      ]
     },
     "execution_count": 5,
     "metadata": {},
     "output_type": "execute_result"
    }
   ],
   "source": [
    "v"
   ]
  },
  {
   "cell_type": "markdown",
   "id": "32ff2921",
   "metadata": {},
   "source": [
    "## E14.4 -\n",
    "\n",
    "Given the functions, calculate their integral with \\( x \\) ranging from 0 to 10:\n",
    "\n",
    "$$ A(x) = e^x $$\n",
    "\n",
    "$$ B(x) = x^3 $$\n",
    "\n",
    "$$ C(x) = \\frac{1}{x} $$"
   ]
  },
  {
   "cell_type": "code",
   "execution_count": 25,
   "id": "82b7cab0",
   "metadata": {},
   "outputs": [],
   "source": [
    "from numpy import exp\n",
    "from scipy.integrate import quad"
   ]
  },
  {
   "cell_type": "code",
   "execution_count": 26,
   "id": "ae0aa9de",
   "metadata": {},
   "outputs": [
    {
     "data": {
      "text/plain": [
       "(22025.465794806725, 6.239389118119928e-10)"
      ]
     },
     "execution_count": 26,
     "metadata": {},
     "output_type": "execute_result"
    }
   ],
   "source": [
    "quad(exp, 0, 10)"
   ]
  },
  {
   "cell_type": "code",
   "execution_count": 28,
   "id": "5739e1b6",
   "metadata": {},
   "outputs": [],
   "source": [
    "def b(x):\n",
    "    return x**3\n",
    "\n",
    "def c(x):\n",
    "    return 1 / x"
   ]
  },
  {
   "cell_type": "code",
   "execution_count": 29,
   "id": "a05a5ab4",
   "metadata": {},
   "outputs": [
    {
     "data": {
      "text/plain": [
       "(2500.0000000000005, 2.775557561562892e-11)"
      ]
     },
     "execution_count": 29,
     "metadata": {},
     "output_type": "execute_result"
    }
   ],
   "source": [
    "quad(b, 0, 10)"
   ]
  },
  {
   "cell_type": "code",
   "execution_count": 33,
   "id": "f9ae5454",
   "metadata": {},
   "outputs": [
    {
     "data": {
      "text/plain": [
       "(4.605170185988091, 9.263313044780374e-11)"
      ]
     },
     "execution_count": 33,
     "metadata": {},
     "output_type": "execute_result"
    }
   ],
   "source": [
    "quad(c, 0.1, 10)"
   ]
  },
  {
   "cell_type": "markdown",
   "id": "ceb91ac4",
   "metadata": {},
   "source": [
    "## E14.5 -\n",
    "\n",
    "Calculate the double integral:\n",
    "$$ A(x,y) = \\iint_{A}dx.dy   $$\n",
    "\n",
    "Consider: $ 0 \\le x \\le 3,  \\  0 \\le y \\le 4 $"
   ]
  },
  {
   "cell_type": "code",
   "execution_count": 34,
   "id": "fb8af87c",
   "metadata": {},
   "outputs": [],
   "source": [
    "from scipy.integrate import dblquad"
   ]
  },
  {
   "cell_type": "code",
   "execution_count": 41,
   "id": "bcf1e066",
   "metadata": {},
   "outputs": [],
   "source": [
    "def f(x, y):\n",
    "    return 1"
   ]
  },
  {
   "cell_type": "code",
   "execution_count": 42,
   "id": "22128440",
   "metadata": {},
   "outputs": [
    {
     "data": {
      "text/plain": [
       "(12.0, 1.3322676295501878e-13)"
      ]
     },
     "execution_count": 42,
     "metadata": {},
     "output_type": "execute_result"
    }
   ],
   "source": [
    "dblquad(f, 0, 3, 0, 4)"
   ]
  },
  {
   "cell_type": "markdown",
   "id": "a0445d55",
   "metadata": {},
   "source": [
    "## E14.5 -\n",
    "\n",
    "Solve the following ODE using Scipy.\n",
    "\n",
    "$$ \\ \\ m\\ddot{x}(t) + c\\dot{x}(t) + kx(t)=0; \\ \\ with\\ x(0) = x_0 \\ and\\  \\dot{x}(0) = v_0   $$\n",
    "\n",
    "To make the comparison, we will adopt the values:\n",
    "$$ \\ \\ 10\\ddot{x}(t) + 20\\dot{x}(t) + 50x(t)=0; \\ \\ with\\ x(0) = 10 \\ and\\  \\dot{x}(0) = 0   $$"
   ]
  },
  {
   "cell_type": "code",
   "execution_count": 14,
   "id": "bd2feed5",
   "metadata": {},
   "outputs": [],
   "source": [
    "import numpy as np\n",
    "from scipy.integrate import odeint"
   ]
  },
  {
   "cell_type": "code",
   "execution_count": 15,
   "id": "de71842a",
   "metadata": {},
   "outputs": [],
   "source": [
    "def ddU(U, t):\n",
    "    x, dx = U\n",
    "    return [dx, -2*dx - 5*x]"
   ]
  },
  {
   "cell_type": "code",
   "execution_count": 16,
   "id": "ac58c2f0",
   "metadata": {},
   "outputs": [],
   "source": [
    "ddU0 = [10, 0]\n",
    "t = np.linspace(0, 10, 100)"
   ]
  },
  {
   "cell_type": "code",
   "execution_count": 17,
   "id": "a51f1273",
   "metadata": {},
   "outputs": [],
   "source": [
    "sol = odeint(ddU, ddU0, t)\n",
    "xt = sol[::, 0]\n",
    "dxt = sol[::, 1]"
   ]
  },
  {
   "cell_type": "code",
   "execution_count": 22,
   "id": "ba3e209b",
   "metadata": {},
   "outputs": [
    {
     "data": {
      "image/png": "[encoded data removed]",
      "text/plain": [
       "<Figure size 640x480 with 1 Axes>"
      ]
     },
     "metadata": {},
     "output_type": "display_data"
    }
   ],
   "source": [
    "import matplotlib.pyplot as plt\n",
    "\n",
    "plt.plot(t, xt, 'r-', label='x [m]')\n",
    "plt.plot(t, dxt, 'k--', label='v [m/s]')\n",
    "plt.legend()\n",
    "plt.grid()\n",
    "plt.show()\n"
   ]
  },
  {
   "cell_type": "code",
   "execution_count": null,
   "id": "3c08f981",
   "metadata": {},
   "outputs": [],
   "source": []
  }
 ],
 "metadata": {
  "kernelspec": {
   "display_name": "Python 3 (ipykernel)",
   "language": "python",
   "name": "python3"
  },
  "language_info": {
   "codemirror_mode": {
    "name": "ipython",
    "version": 3
   },
   "file_extension": ".py",
   "mimetype": "text/x-python",
   "name": "python",
   "nbconvert_exporter": "python",
   "pygments_lexer": "ipython3",
   "version": "3.9.13"
  }
 },
 "nbformat": 4,
 "nbformat_minor": 5
}
