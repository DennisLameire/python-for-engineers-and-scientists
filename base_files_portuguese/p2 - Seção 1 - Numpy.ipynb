{
 "cells": [
  {
   "cell_type": "markdown",
   "id": "7f5426bf",
   "metadata": {},
   "source": [
    "# Desenvolvimento de Pacotes Científicos com Python\n",
    "\n",
    "**por**: Rafael Pereira da Silva"
   ]
  },
  {
   "cell_type": "markdown",
   "id": "f169f187",
   "metadata": {},
   "source": [
    "# PARTE 2\n",
    "# Seção 1: Numpy\n",
    "O Numpy é uma biblioteca python que permite construir *arrays multidimensionais*. As operações com Numpy costumam ser mais rápidas em comparação a outras estruturas Python, pois 30% da biblioteca é escrita em C, além de outros aspectos."
   ]
  },
  {
   "cell_type": "markdown",
   "id": "11560e18",
   "metadata": {},
   "source": [
    "## 1.1 - Arrays \n",
    "\n",
    "<br/>\n",
    "\n",
    "#### Sintaxe\n",
    "\n",
    "<br/>\n",
    "\n",
    "\n",
    "```python\n",
    ">>> import numpy as np\n",
    ">>> arr = np.array([1, 2, 3, 4, 5]) # array 1d\n",
    "```\n",
    "\n",
    "<br/>\n",
    "\n",
    "#### Algums atributos de arrays\n",
    "\n",
    "<br/>\n",
    "\n",
    "| Atributos | Retorna  | Descrição |\n",
    "| :-- | :-- | :-- |\n",
    "| ndarray.ndim | int |  número de dimensões (axes) |\n",
    "| ndarray.shape |  tupla |  quantidade de dados em cada dimensão |\n",
    "| ndarray.size | int | número de elementos |\n",
    "| ndarray.dtype| dtype | tipo das variáveis dos elementos |\n",
    "\n",
    "<br/>\n",
    "\n",
    "**nota:**\n",
    "<pre>O np.array(iterável) é uma função e não o objeto, mas retorna o objeto ndarray. </pre>\n",
    "<pre>Podemos criar arrays de quantas dimensões forem necessárias.  </pre>"
   ]
  },
  {
   "cell_type": "code",
   "execution_count": 1,
   "id": "fc5c3bd2",
   "metadata": {},
   "outputs": [],
   "source": [
    "import numpy as np"
   ]
  },
  {
   "cell_type": "code",
   "execution_count": null,
   "id": "f50c411f",
   "metadata": {},
   "outputs": [],
   "source": []
  },
  {
   "cell_type": "markdown",
   "id": "60fc6f3d",
   "metadata": {},
   "source": [
    "## 1.2 - Funções matemáticas\n",
    "\n",
    "<br/>\n",
    "\n",
    "O Numpy possui uma série de funções matemáticas e constantes implementadas, de forma muito similar a biblioteca math, que é built-in do python.\n",
    "\n",
    "<br/>\n",
    "\n",
    "### Funções\n",
    "\n",
    "<br/>\n",
    "\n",
    "#### Trigonométricas\n",
    "\n",
    "| Função |  Descrição |\n",
    "| :-- | :-- |\n",
    "| sin(x) | seno |\n",
    "| cos(x) | cosseno |\n",
    "| tan(x) | tangente |\n",
    "| arcsin(x) | arco seno |\n",
    "| arccos(x) | arco cosseno |\n",
    "| arctan(x) | arco tangente |\n",
    "| sinh(x) | seno hiperbólico |\n",
    "\n",
    "<br/>\n",
    "\n",
    "#### Exponencial e logarítimos\n",
    "\n",
    "| Função |  Descrição |\n",
    "| :-- | :-- |\n",
    "| exp(x) | exponencial |\n",
    "| log(x) | logarítimo natural |\n",
    "| log10(x) | logarítimo na base 10 |\n",
    "| sqrt(x) | raiz quadrada |\n",
    "\n",
    "<br/>\n",
    "\n",
    "#### constantes\n",
    "| Constante |  Descrição |\n",
    "| :-- | :-- |\n",
    "| np.pi | $\\pi$ = 3.141592... |\n",
    "| np.e | $e$ = 2.7182... |\n",
    "| np.nan | representação em float de valor não numérico (not a number) |\n",
    "| np.inf | representação em float de valor infinito |\n",
    "\n",
    "<br/>\n",
    "\n",
    "**nota:**\n",
    "<pre>https://numpy.org/doc/stable/reference/routines.math.html</pre>"
   ]
  },
  {
   "cell_type": "code",
   "execution_count": 1,
   "id": "96f452a7",
   "metadata": {},
   "outputs": [],
   "source": [
    "import numpy as np"
   ]
  },
  {
   "cell_type": "code",
   "execution_count": 2,
   "id": "fdf0e0c1",
   "metadata": {},
   "outputs": [
    {
     "data": {
      "text/plain": [
       "2.718281828459045"
      ]
     },
     "execution_count": 2,
     "metadata": {},
     "output_type": "execute_result"
    }
   ],
   "source": [
    "np.e"
   ]
  },
  {
   "cell_type": "code",
   "execution_count": null,
   "id": "d46d81ac",
   "metadata": {},
   "outputs": [],
   "source": []
  },
  {
   "cell_type": "markdown",
   "id": "5502fc7c",
   "metadata": {},
   "source": [
    "## 1.3 - Criação de arrays\n",
    "\n",
    "<br/>\n",
    "\n",
    "#### Funções para criação de arrays\n",
    "\n",
    "| Função | Descrição |\n",
    "| :-- | :-- |\n",
    "| np.zeros(shape) | array preenchido com zeros |\n",
    "| np.ones(shape) | array preenchido com uns |\n",
    "| np.eye(dimensão) | matriz identidade |\n",
    "| np.arange(início, fim, passo) | cria um array unidimensioanl |\n",
    "| np.linspace(início, fim, quantidade) | cria um array unidimensioanl |\n",
    "| np.vstack([*arrays*]) e hstack([*arrays*]) | adiciona elementos de um ou mais arrays |\n",
    "\n",
    "<br/>\n",
    "\n",
    "#### Métodos para dimensionar os arrays:\n",
    " \n",
    " | Método | Descrição |\n",
    "| :-- | :-- |\n",
    "|reshape(novo_shape) | retorna um array com o shape indicado|\n",
    "|resize(novo_shape) | modifica o shape do array em que está sendo aplicado|\n",
    "\n",
    "\n",
    "**nota**\n",
    "<pre>Preste atenção em quais métodos modificam o array e quais retornam um array novo </pre>\n",
    "<pre>Arrays não possuem tamanho dinâmico como as listas. Mas podemos \"roubar\" e modificar o tamanho de um array empilhando eles (um novo objeto será gerado). </pre>"
   ]
  },
  {
   "cell_type": "code",
   "execution_count": 7,
   "id": "e204e7b8",
   "metadata": {},
   "outputs": [],
   "source": [
    "arr = np.linspace(1, 10, 10)"
   ]
  },
  {
   "cell_type": "code",
   "execution_count": 11,
   "id": "0df0dc71",
   "metadata": {},
   "outputs": [],
   "source": [
    "arr.resize(2, 5)"
   ]
  },
  {
   "cell_type": "code",
   "execution_count": null,
   "id": "c56ef84c",
   "metadata": {},
   "outputs": [],
   "source": []
  },
  {
   "cell_type": "code",
   "execution_count": null,
   "id": "e0c9a8ce",
   "metadata": {},
   "outputs": [],
   "source": []
  },
  {
   "cell_type": "markdown",
   "id": "1277266a",
   "metadata": {},
   "source": [
    "## 1.4 - Operações básicas com arrays\n",
    "\n",
    "<br/>\n",
    "\n",
    "Os arrays numpy possuem muitas (MUITAS) funcionalidades. Eles podem se comportar como simples estruturas de dados, como vetores ou mesmo matrizes, depende de como nós os manipulamos. Nessa aula iremos ver as operações básicas, aquelas que fazem os arrays se comportarem como estrutura de dados.\n",
    "\n",
    "<br/>\n",
    "\n",
    "**Operações básicas e como elas se comportam**\n",
    "- Arrays aceitam operações básicas $+$, $-$, $\\times$, $\\div$ e eles a executam elemento a elemento, por isso os arrays devem ter exatamente o mesmo shape.\n",
    "- Arrays aceitam as operações básicas entre um array e um número (float ou int). Ele executará a operação entre o número e cada elemento do array.\n",
    "- Operações booleanas também são aceitas e retornam um array preenchido com booleanos.\n",
    "\n",
    "<br/>\n",
    "\n",
    "**nota**\n",
    "<pre>Mais para frente iremos ver operações vetoriais e matriciais com arrays. </pre>\n"
   ]
  },
  {
   "cell_type": "code",
   "execution_count": 13,
   "id": "ed27a5e5",
   "metadata": {},
   "outputs": [],
   "source": [
    "import numpy as np"
   ]
  },
  {
   "cell_type": "code",
   "execution_count": 31,
   "id": "671f6c8a",
   "metadata": {},
   "outputs": [],
   "source": [
    "arr_1 = np.linspace(1, 10, 10).reshape(2, 5)\n",
    "arr_2 = np.linspace(1, 100, 10).reshape(2, 5)\n"
   ]
  },
  {
   "cell_type": "code",
   "execution_count": 33,
   "id": "39b6c3e5",
   "metadata": {},
   "outputs": [
    {
     "data": {
      "text/plain": [
       "array([[ 8., 16., 24., 32., 40.],\n",
       "       [48., 56., 64., 72., 80.]])"
      ]
     },
     "execution_count": 33,
     "metadata": {},
     "output_type": "execute_result"
    }
   ],
   "source": [
    "8 * arr_1"
   ]
  },
  {
   "cell_type": "code",
   "execution_count": 57,
   "id": "da760ae0",
   "metadata": {},
   "outputs": [
    {
     "data": {
      "text/plain": [
       "array([ True, False,  True])"
      ]
     },
     "execution_count": 57,
     "metadata": {},
     "output_type": "execute_result"
    }
   ],
   "source": [
    "a = np.array([1, 2, 3])\n",
    "b = np.array([1, 5, 3])\n",
    "\n",
    "a == b"
   ]
  },
  {
   "cell_type": "code",
   "execution_count": null,
   "id": "1f912b06",
   "metadata": {},
   "outputs": [],
   "source": []
  },
  {
   "cell_type": "markdown",
   "id": "10df90af",
   "metadata": {},
   "source": [
    "## 1.5 - Gerenciamento de memória do numpy\n",
    "\n",
    "<br/>\n",
    "\n",
    "Lembrem-se que o array numpy não é dinâmico. Além disso, tome cuidado com os objetos quando for copiar, manipular e colar.\n",
    "\n",
    "<br/>\n",
    "\n",
    "#### Copiar um array\n",
    "| Método | Descrição |\n",
    "| :-- | :-- |\n",
    "| .copy() | faz a cópia (deep copy) do array. Cuidado! O sinal de igual não executa essa função |\n",
    "\n",
    "<br/>\n",
    "\n",
    "#### Propriedade\n",
    "| Método | Descrição |\n",
    "| :-- | :-- |\n",
    "| .base | Retorna o array de base que foi utilizado para criar o array atual |\n",
    "\n",
    "<br/>\n",
    "\n",
    "**nota**\n",
    "<pre>Podemos utilizar o operador lógico is para checar se temos um novo ojeto. </pre>"
   ]
  },
  {
   "cell_type": "code",
   "execution_count": 1,
   "id": "078faccd",
   "metadata": {},
   "outputs": [],
   "source": [
    "import numpy as np"
   ]
  },
  {
   "cell_type": "code",
   "execution_count": 4,
   "id": "5a315a9c",
   "metadata": {},
   "outputs": [
    {
     "data": {
      "text/plain": [
       "<function numpy.may_share_memory>"
      ]
     },
     "execution_count": 4,
     "metadata": {},
     "output_type": "execute_result"
    }
   ],
   "source": [
    "np.may_share_memory"
   ]
  },
  {
   "cell_type": "code",
   "execution_count": 8,
   "id": "392dd8eb",
   "metadata": {},
   "outputs": [],
   "source": [
    "arr_1 = np.linspace(1, 10 , 10)"
   ]
  },
  {
   "cell_type": "code",
   "execution_count": 10,
   "id": "3e56b362",
   "metadata": {},
   "outputs": [
    {
     "data": {
      "text/plain": [
       "array([[ 1.,  2.,  3.,  4.,  5.],\n",
       "       [ 6.,  7.,  8.,  9., 10.]])"
      ]
     },
     "execution_count": 10,
     "metadata": {},
     "output_type": "execute_result"
    }
   ],
   "source": [
    "arr_1.reshape(2, 5)"
   ]
  },
  {
   "cell_type": "code",
   "execution_count": 11,
   "id": "67ffbd11",
   "metadata": {},
   "outputs": [
    {
     "data": {
      "text/plain": [
       "array([ 1.,  2.,  3.,  4.,  5.,  6.,  7.,  8.,  9., 10.])"
      ]
     },
     "execution_count": 11,
     "metadata": {},
     "output_type": "execute_result"
    }
   ],
   "source": [
    "arr_1"
   ]
  },
  {
   "cell_type": "code",
   "execution_count": 12,
   "id": "14542688",
   "metadata": {},
   "outputs": [],
   "source": [
    "arr_2 = arr_1.reshape(2, 5)"
   ]
  },
  {
   "cell_type": "code",
   "execution_count": 19,
   "id": "2f96e3c4",
   "metadata": {},
   "outputs": [
    {
     "data": {
      "text/plain": [
       "'0x1c75f8ecb70'"
      ]
     },
     "execution_count": 19,
     "metadata": {},
     "output_type": "execute_result"
    }
   ],
   "source": [
    "hex(id(arr_2.base))"
   ]
  },
  {
   "cell_type": "code",
   "execution_count": null,
   "id": "b09c4ea2",
   "metadata": {},
   "outputs": [],
   "source": []
  },
  {
   "cell_type": "code",
   "execution_count": 20,
   "id": "d90ae759",
   "metadata": {},
   "outputs": [
    {
     "data": {
      "text/plain": [
       "'0x1c75f8ecc30'"
      ]
     },
     "execution_count": 20,
     "metadata": {},
     "output_type": "execute_result"
    }
   ],
   "source": [
    "hex(id(arr_1))"
   ]
  },
  {
   "cell_type": "code",
   "execution_count": 21,
   "id": "492865a9",
   "metadata": {},
   "outputs": [
    {
     "data": {
      "text/plain": [
       "True"
      ]
     },
     "execution_count": 21,
     "metadata": {},
     "output_type": "execute_result"
    }
   ],
   "source": [
    "np.may_share_memory(arr_1, arr_2)"
   ]
  },
  {
   "cell_type": "code",
   "execution_count": 27,
   "id": "0e495f85",
   "metadata": {},
   "outputs": [
    {
     "data": {
      "text/plain": [
       "80"
      ]
     },
     "execution_count": 27,
     "metadata": {},
     "output_type": "execute_result"
    }
   ],
   "source": [
    "arr_1.nbytes"
   ]
  },
  {
   "cell_type": "code",
   "execution_count": null,
   "id": "6435e2e6",
   "metadata": {},
   "outputs": [],
   "source": []
  },
  {
   "cell_type": "markdown",
   "id": "75fe9f51",
   "metadata": {},
   "source": [
    "## 1.6 Métodos estatísticos para arrays\n",
    "\n",
    "<br/>\n",
    "\n",
    "\n",
    "| Método | Descrição |\n",
    "| :-- | :-- |\n",
    "| max(axis=None) | Retorna o valor máximo  |\n",
    "| mix(axis=None) | Retorna o valor mínimo  |\n",
    "| argmax(axis=None) | Retorna o índice de valo  |\n",
    "| argmin(axis=None) | Retorna o índice de valor mínimo  |\n",
    "| sum(axis=None) | Retorna a soma dos elementos do array|\n",
    "| cumsum(axis=None) | Retorna um array com a soma acumulada dos valores |\n",
    "| prod(axis=None) | Retorna o produto dos elementos do array |\n",
    "| cumprod(axis=None) | Retorna o produto acumulado dos elementos do array |\n",
    "| mean(axis=None) | Retorna a média dos elementos do array |\n",
    "| var(axis=None) | Retorna a variância do array |\n",
    "| std(axis=None) | Retorna o desvio padrão do array |\n",
    "\n",
    "<br/>\n",
    "\n",
    "**nota**\n",
    "<pre>Quando a opção axis é utilizada, nós executamos a operação no eixo especificado. </pre>"
   ]
  },
  {
   "cell_type": "code",
   "execution_count": 37,
   "id": "771eabd8",
   "metadata": {},
   "outputs": [
    {
     "data": {
      "text/plain": [
       "array([ 1.,  3.,  6., 10., 15., 21., 28., 36., 45., 55.])"
      ]
     },
     "execution_count": 37,
     "metadata": {},
     "output_type": "execute_result"
    }
   ],
   "source": [
    "arr_1.cumsum()"
   ]
  },
  {
   "cell_type": "code",
   "execution_count": null,
   "id": "6bcea5dc",
   "metadata": {},
   "outputs": [],
   "source": []
  },
  {
   "cell_type": "code",
   "execution_count": null,
   "id": "b1f95e3d",
   "metadata": {},
   "outputs": [],
   "source": []
  },
  {
   "cell_type": "markdown",
   "id": "c04654d1",
   "metadata": {},
   "source": [
    "## 1.7 Índices e fatias de arrays (Indexing and slicing)\n",
    "\n",
    "De maneira similar a que fizemos em listas, podemos fatiar arrays.\n",
    "\n",
    "<br/>\n",
    "\n",
    "| Sintaxe | Descrição |\n",
    "| :-- | :-- |\n",
    "| [i] | para 1 dimensão funciona como nas listas |\n",
    "| [:i] | exibe um array que vai do índice 0 até o anterior ao i|\n",
    "| [i:] | exibe um array que vai do índice posterior ao i até o último índice|\n",
    "|[::i] | exibe todos os elementos variando de i em i |\n",
    "| [::-i] | exibe a sequência de elementos de trás pra frente variando de i em i |\n",
    "| [a:b:c] | início, fim, step |\n",
    "| [i,j] | para exibir um elemento de uma matriz |\n",
    "| [i,a:b] | retorna uma fatia da linha i com elementos das colunas de a até b |\n",
    "| [n,i,j] | outra dimensão, linha, coluna |\n",
    "\n",
    "<br/>\n",
    "\n",
    "**nota**\n",
    "<pre>Existem operações mais sofisticadas para o slicing, conhecidas como fancy index.</pre>"
   ]
  },
  {
   "cell_type": "code",
   "execution_count": null,
   "id": "7d442bca",
   "metadata": {},
   "outputs": [],
   "source": []
  },
  {
   "cell_type": "code",
   "execution_count": null,
   "id": "652ccc3d",
   "metadata": {},
   "outputs": [],
   "source": []
  },
  {
   "cell_type": "code",
   "execution_count": null,
   "id": "d91f0029",
   "metadata": {},
   "outputs": [],
   "source": []
  },
  {
   "cell_type": "markdown",
   "id": "c0031ea2",
   "metadata": {},
   "source": [
    "## 1.8 - Matrizes no Numpy\n",
    "Os arrays numpy podem ser interpretados diretamente como matrizes. Para isso, precisamos utilizar as funções certas!\n",
    "\n",
    "<br/>\n",
    "\n",
    "#### Propriedades\n",
    "| Propriedades | Descrição |\n",
    "| :-- | :-- |\n",
    "| .T | Matriz transposta |\n",
    "\n",
    "\n",
    "<br/>\n",
    "\n",
    "#### Funções\n",
    "\n",
    "| Funções | Descrição |\n",
    "| :-- | :-- |\n",
    "| np.transpose(A) | Retorna a matriz transposta de A |\n",
    "| np.linalg.det(A) | Retorna o determinante da matriz A |\n",
    "| np.matmul(A, B) ou @ | Retorna a multiplicação matricial entre A e B. |\n",
    "\n",
    "\n",
    "**nota**\n",
    "<pre>O linalg é um pacote a parte do numpy. Ele possui muitas funcionalidades que iremos explorar no capítulo de scipy. </pre>\n",
    "\n",
    "<pre>O numpy também tem um objeto np.matrix, que nos permite fazer os tratamentos matriciais de uma forma mais simples. Eu particularmente dou preferência por usar os arrays. </pre>"
   ]
  },
  {
   "cell_type": "code",
   "execution_count": 1,
   "id": "8fab3b59",
   "metadata": {},
   "outputs": [],
   "source": [
    "import numpy as np"
   ]
  },
  {
   "cell_type": "code",
   "execution_count": 4,
   "id": "08738e33",
   "metadata": {},
   "outputs": [],
   "source": [
    "a = np.linspace(1, 10, 10).reshape(2, 5)\n",
    "b = np.linspace(11, 20, 10).reshape(5, 2)"
   ]
  },
  {
   "cell_type": "code",
   "execution_count": 54,
   "id": "a9f936b6",
   "metadata": {},
   "outputs": [],
   "source": [
    "e = np.linspace(1, 1.5, 9).reshape(3, 3)"
   ]
  },
  {
   "cell_type": "code",
   "execution_count": 55,
   "id": "64f0b1af",
   "metadata": {},
   "outputs": [
    {
     "data": {
      "text/plain": [
       "array([[1.    , 1.0625, 1.125 ],\n",
       "       [1.1875, 1.25  , 1.3125],\n",
       "       [1.375 , 1.4375, 1.5   ]])"
      ]
     },
     "execution_count": 55,
     "metadata": {},
     "output_type": "execute_result"
    }
   ],
   "source": [
    "d"
   ]
  },
  {
   "cell_type": "code",
   "execution_count": 56,
   "id": "5705ec5a",
   "metadata": {},
   "outputs": [
    {
     "data": {
      "text/plain": [
       "0.0"
      ]
     },
     "execution_count": 56,
     "metadata": {},
     "output_type": "execute_result"
    }
   ],
   "source": [
    "np.linalg.det(e)"
   ]
  },
  {
   "cell_type": "code",
   "execution_count": 19,
   "id": "6014ac71",
   "metadata": {},
   "outputs": [
    {
     "ename": "ValueError",
     "evalue": "incompatible dimensions for cross product\n(dimension must be 2 or 3)",
     "output_type": "error",
     "traceback": [
      "\u001b[1;31m---------------------------------------------------------------------------\u001b[0m",
      "\u001b[1;31mValueError\u001b[0m                                Traceback (most recent call last)",
      "\u001b[1;32m~\\AppData\\Local\\Temp/ipykernel_13876/3422562784.py\u001b[0m in \u001b[0;36m<module>\u001b[1;34m\u001b[0m\n\u001b[1;32m----> 1\u001b[1;33m \u001b[0mnp\u001b[0m\u001b[1;33m.\u001b[0m\u001b[0mcross\u001b[0m\u001b[1;33m(\u001b[0m\u001b[0ma\u001b[0m\u001b[1;33m,\u001b[0m \u001b[0mb\u001b[0m\u001b[1;33m)\u001b[0m\u001b[1;33m\u001b[0m\u001b[1;33m\u001b[0m\u001b[0m\n\u001b[0m",
      "\u001b[1;32m<__array_function__ internals>\u001b[0m in \u001b[0;36mcross\u001b[1;34m(*args, **kwargs)\u001b[0m\n",
      "\u001b[1;32mD:\\Anaconda3\\lib\\site-packages\\numpy\\core\\numeric.py\u001b[0m in \u001b[0;36mcross\u001b[1;34m(a, b, axisa, axisb, axisc, axis)\u001b[0m\n\u001b[0;32m   1611\u001b[0m            \"(dimension must be 2 or 3)\")\n\u001b[0;32m   1612\u001b[0m     \u001b[1;32mif\u001b[0m \u001b[0ma\u001b[0m\u001b[1;33m.\u001b[0m\u001b[0mshape\u001b[0m\u001b[1;33m[\u001b[0m\u001b[1;33m-\u001b[0m\u001b[1;36m1\u001b[0m\u001b[1;33m]\u001b[0m \u001b[1;32mnot\u001b[0m \u001b[1;32min\u001b[0m \u001b[1;33m(\u001b[0m\u001b[1;36m2\u001b[0m\u001b[1;33m,\u001b[0m \u001b[1;36m3\u001b[0m\u001b[1;33m)\u001b[0m \u001b[1;32mor\u001b[0m \u001b[0mb\u001b[0m\u001b[1;33m.\u001b[0m\u001b[0mshape\u001b[0m\u001b[1;33m[\u001b[0m\u001b[1;33m-\u001b[0m\u001b[1;36m1\u001b[0m\u001b[1;33m]\u001b[0m \u001b[1;32mnot\u001b[0m \u001b[1;32min\u001b[0m \u001b[1;33m(\u001b[0m\u001b[1;36m2\u001b[0m\u001b[1;33m,\u001b[0m \u001b[1;36m3\u001b[0m\u001b[1;33m)\u001b[0m\u001b[1;33m:\u001b[0m\u001b[1;33m\u001b[0m\u001b[1;33m\u001b[0m\u001b[0m\n\u001b[1;32m-> 1613\u001b[1;33m         \u001b[1;32mraise\u001b[0m \u001b[0mValueError\u001b[0m\u001b[1;33m(\u001b[0m\u001b[0mmsg\u001b[0m\u001b[1;33m)\u001b[0m\u001b[1;33m\u001b[0m\u001b[1;33m\u001b[0m\u001b[0m\n\u001b[0m\u001b[0;32m   1614\u001b[0m \u001b[1;33m\u001b[0m\u001b[0m\n\u001b[0;32m   1615\u001b[0m     \u001b[1;31m# Create the output array\u001b[0m\u001b[1;33m\u001b[0m\u001b[1;33m\u001b[0m\u001b[0m\n",
      "\u001b[1;31mValueError\u001b[0m: incompatible dimensions for cross product\n(dimension must be 2 or 3)"
     ]
    }
   ],
   "source": [
    "np.cross(a, b)"
   ]
  },
  {
   "cell_type": "code",
   "execution_count": 14,
   "id": "1e7f5d90",
   "metadata": {},
   "outputs": [
    {
     "data": {
      "text/plain": [
       "array([[11., 13., 15., 17., 19.],\n",
       "       [12., 14., 16., 18., 20.]])"
      ]
     },
     "execution_count": 14,
     "metadata": {},
     "output_type": "execute_result"
    }
   ],
   "source": [
    "b.transpose()"
   ]
  },
  {
   "cell_type": "code",
   "execution_count": 16,
   "id": "284da0c9",
   "metadata": {},
   "outputs": [
    {
     "data": {
      "text/plain": [
       "array([[11., 13., 15., 17., 19.],\n",
       "       [12., 14., 16., 18., 20.]])"
      ]
     },
     "execution_count": 16,
     "metadata": {},
     "output_type": "execute_result"
    }
   ],
   "source": [
    "b.T"
   ]
  },
  {
   "cell_type": "code",
   "execution_count": 30,
   "id": "105c900d",
   "metadata": {},
   "outputs": [],
   "source": [
    "c = np.linspace(1, 3, 3)"
   ]
  },
  {
   "cell_type": "code",
   "execution_count": 31,
   "id": "f39d7656",
   "metadata": {
    "scrolled": true
   },
   "outputs": [
    {
     "data": {
      "text/plain": [
       "array([0., 0., 0.])"
      ]
     },
     "execution_count": 31,
     "metadata": {},
     "output_type": "execute_result"
    }
   ],
   "source": [
    "np.cross(c, c)"
   ]
  },
  {
   "cell_type": "markdown",
   "id": "27b6c0bb",
   "metadata": {},
   "source": [
    "## 1.9 - Vetores\n",
    "\n",
    "<br/>\n",
    "\n",
    "#### Funções\n",
    "| Funções | Descrição |\n",
    "| :-- | :-- |\n",
    "| np.cross(a, b) | Produto vetorial (o array precisa ser um vetor com 2 ou 3 elementos) |\n",
    "| np.dot(a, b) ou @ | Produto escalar |\n",
    "| np.linalg.norm(a) | Retorna a norma de a |\n",
    "\n",
    "<br/>\n",
    "\n",
    "#### Produto vetorial (cross product)\n",
    "É um produto com dois vetores, onde o resultado é um terceiro vetor ortogonal aos outros dois.\n",
    "\n",
    "$$ \\vec{a} \\times \\vec{b} = | a |.| b |. sin(\\theta).\\vec{n}  =  \\begin{bmatrix}\n",
    "   \\vec{i} & \\vec{j} & \\vec{k} \\\\\n",
    "   a_x & a_y & a_z \\\\\n",
    "   b_x & b_y & b_z\n",
    "  \\end{bmatrix} $$\n",
    "\n",
    "<br/>\n",
    "\n",
    "#### Produto escalar (dot product / scalar product)\n",
    "O produto escalar entre dois vetores fornece um número real. Geometricamente o produto escalar fornece a projeção de $\\vec{a}$ em $\\vec{b}$ se este último tiver comprimento unitário.\n",
    "\n",
    "$$ \\vec{a} . \\vec{b} = (a_x.b_x + a_y.b_y + a_z.b_z) =  | a |.| b |. cos(\\theta)$$\n",
    "\n",
    "<br/>\n",
    "\n",
    "<pre>O linalg é um pacote a parte do numpy. Ele possui outras funcionalidades que iremos explorar no capítulo de scipy. </pre>"
   ]
  },
  {
   "cell_type": "code",
   "execution_count": 36,
   "id": "0ea01202",
   "metadata": {},
   "outputs": [
    {
     "data": {
      "text/plain": [
       "14.0"
      ]
     },
     "execution_count": 36,
     "metadata": {},
     "output_type": "execute_result"
    }
   ],
   "source": [
    "np.matmul(c, c)"
   ]
  },
  {
   "cell_type": "code",
   "execution_count": null,
   "id": "59f3df60",
   "metadata": {},
   "outputs": [],
   "source": []
  },
  {
   "cell_type": "code",
   "execution_count": null,
   "id": "ad9a59cf",
   "metadata": {},
   "outputs": [],
   "source": []
  },
  {
   "cell_type": "markdown",
   "id": "1ac682ea",
   "metadata": {},
   "source": [
    "# Exercícios"
   ]
  },
  {
   "cell_type": "markdown",
   "id": "706151e6",
   "metadata": {},
   "source": [
    "## E1.1 - \n",
    "Crie uma matrix $2 \\times  2$ totalmente preenchida com $\\pi$."
   ]
  },
  {
   "cell_type": "code",
   "execution_count": 5,
   "id": "85ba23b9",
   "metadata": {},
   "outputs": [],
   "source": [
    "import numpy as np\n",
    "\n",
    "m = np.array([[np.pi, np.pi],\n",
    "              [np.pi, np.pi]])"
   ]
  },
  {
   "cell_type": "code",
   "execution_count": 6,
   "id": "0f37fe02",
   "metadata": {},
   "outputs": [
    {
     "data": {
      "text/plain": [
       "array([[3.14159265, 3.14159265],\n",
       "       [3.14159265, 3.14159265]])"
      ]
     },
     "execution_count": 6,
     "metadata": {},
     "output_type": "execute_result"
    }
   ],
   "source": [
    "m"
   ]
  },
  {
   "cell_type": "markdown",
   "id": "be1547bc",
   "metadata": {},
   "source": [
    "## E1.2 - \n",
    "Crie uma matrix $10 \\times  10$ totalmente preenchida com $\\pi$."
   ]
  },
  {
   "cell_type": "code",
   "execution_count": 11,
   "id": "1028dff9",
   "metadata": {},
   "outputs": [
    {
     "data": {
      "text/plain": [
       "array([[3.14159265, 3.14159265, 3.14159265, 3.14159265, 3.14159265,\n",
       "        3.14159265, 3.14159265, 3.14159265, 3.14159265, 3.14159265],\n",
       "       [3.14159265, 3.14159265, 3.14159265, 3.14159265, 3.14159265,\n",
       "        3.14159265, 3.14159265, 3.14159265, 3.14159265, 3.14159265],\n",
       "       [3.14159265, 3.14159265, 3.14159265, 3.14159265, 3.14159265,\n",
       "        3.14159265, 3.14159265, 3.14159265, 3.14159265, 3.14159265],\n",
       "       [3.14159265, 3.14159265, 3.14159265, 3.14159265, 3.14159265,\n",
       "        3.14159265, 3.14159265, 3.14159265, 3.14159265, 3.14159265],\n",
       "       [3.14159265, 3.14159265, 3.14159265, 3.14159265, 3.14159265,\n",
       "        3.14159265, 3.14159265, 3.14159265, 3.14159265, 3.14159265],\n",
       "       [3.14159265, 3.14159265, 3.14159265, 3.14159265, 3.14159265,\n",
       "        3.14159265, 3.14159265, 3.14159265, 3.14159265, 3.14159265],\n",
       "       [3.14159265, 3.14159265, 3.14159265, 3.14159265, 3.14159265,\n",
       "        3.14159265, 3.14159265, 3.14159265, 3.14159265, 3.14159265],\n",
       "       [3.14159265, 3.14159265, 3.14159265, 3.14159265, 3.14159265,\n",
       "        3.14159265, 3.14159265, 3.14159265, 3.14159265, 3.14159265],\n",
       "       [3.14159265, 3.14159265, 3.14159265, 3.14159265, 3.14159265,\n",
       "        3.14159265, 3.14159265, 3.14159265, 3.14159265, 3.14159265],\n",
       "       [3.14159265, 3.14159265, 3.14159265, 3.14159265, 3.14159265,\n",
       "        3.14159265, 3.14159265, 3.14159265, 3.14159265, 3.14159265]])"
      ]
     },
     "execution_count": 11,
     "metadata": {},
     "output_type": "execute_result"
    }
   ],
   "source": [
    "m = np.ones(100).reshape(10, 10) * np.pi\n",
    "m"
   ]
  },
  {
   "cell_type": "markdown",
   "id": "6c9d654d",
   "metadata": {},
   "source": [
    "## E1.3 - \n",
    "Crie uma matrix $2 \\times  10$ onde ambas as linhas contém arrays com números inteiros indo de 1 a 10.\n",
    "\n",
    "Mude o último número da matriz de 10 para 100."
   ]
  },
  {
   "cell_type": "code",
   "execution_count": 12,
   "id": "d3088830",
   "metadata": {},
   "outputs": [],
   "source": [
    "import numpy as np"
   ]
  },
  {
   "cell_type": "code",
   "execution_count": 32,
   "id": "3cdf3ba6",
   "metadata": {},
   "outputs": [],
   "source": [
    "a = np.arange(1, 11, 1)\n",
    "\n",
    "b = np.vstack([a, a])"
   ]
  },
  {
   "cell_type": "code",
   "execution_count": 33,
   "id": "f827d0b4",
   "metadata": {},
   "outputs": [
    {
     "data": {
      "text/plain": [
       "array([[ 1,  2,  3,  4,  5,  6,  7,  8,  9, 10],\n",
       "       [ 1,  2,  3,  4,  5,  6,  7,  8,  9, 10]])"
      ]
     },
     "execution_count": 33,
     "metadata": {},
     "output_type": "execute_result"
    }
   ],
   "source": [
    "b"
   ]
  },
  {
   "cell_type": "code",
   "execution_count": 37,
   "id": "6375749d",
   "metadata": {},
   "outputs": [],
   "source": [
    "b[1, 9] = 100"
   ]
  },
  {
   "cell_type": "code",
   "execution_count": 38,
   "id": "cd12d4f7",
   "metadata": {},
   "outputs": [
    {
     "data": {
      "text/plain": [
       "array([[  1,   2,   3,   4,   5,   6,   7,   8,   9,  10],\n",
       "       [  1,   2,   3,   4,   5,   6,   7,   8,   9, 100]])"
      ]
     },
     "execution_count": 38,
     "metadata": {},
     "output_type": "execute_result"
    }
   ],
   "source": [
    "b"
   ]
  },
  {
   "cell_type": "markdown",
   "id": "6020db73",
   "metadata": {},
   "source": [
    "## E1.4 - \n",
    "Dado um array de números inteiros indo de 0 a 100, retorne o desvio padrão e a variância deste array."
   ]
  },
  {
   "cell_type": "code",
   "execution_count": 39,
   "id": "5e9783f2",
   "metadata": {},
   "outputs": [],
   "source": [
    "import numpy as np"
   ]
  },
  {
   "cell_type": "code",
   "execution_count": 45,
   "id": "d274bd75",
   "metadata": {},
   "outputs": [
    {
     "data": {
      "text/plain": [
       "0"
      ]
     },
     "execution_count": 45,
     "metadata": {},
     "output_type": "execute_result"
    }
   ],
   "source": [
    "a = np.arange(0, 101, 1)\n",
    "a.min()"
   ]
  },
  {
   "cell_type": "markdown",
   "id": "b60270cf",
   "metadata": {},
   "source": [
    "## E1.5 - \n",
    "Gere uma matriz $ 3 \\times 10 $ com números aleatórios. Depois extraia um array com os três últimos números da segunda linha.\n",
    "\n",
    "<br/>\n",
    "\n",
    "Dica:\n",
    "\n",
    "Use a função abaixo para gerar um array com números aleatórios\n",
    "```python\n",
    ">>> np.random.rand(3, 10)\n",
    "```"
   ]
  },
  {
   "cell_type": "code",
   "execution_count": 46,
   "id": "4be185a6",
   "metadata": {},
   "outputs": [],
   "source": [
    "import numpy as np"
   ]
  },
  {
   "cell_type": "code",
   "execution_count": 47,
   "id": "72dad433",
   "metadata": {},
   "outputs": [
    {
     "data": {
      "text/plain": [
       "array([[0.32470555, 0.43836869, 0.76355356, 0.11373676, 0.15918102,\n",
       "        0.80368824, 0.61012429, 0.28376739, 0.30488679, 0.1910903 ],\n",
       "       [0.68835688, 0.9508969 , 0.67019275, 0.52330445, 0.61895698,\n",
       "        0.63219067, 0.55123872, 0.26562141, 0.5501472 , 0.70420808],\n",
       "       [0.93357046, 0.01908056, 0.53493673, 0.70948041, 0.3311262 ,\n",
       "        0.37121507, 0.14426469, 0.44893492, 0.56031485, 0.87626918]])"
      ]
     },
     "execution_count": 47,
     "metadata": {},
     "output_type": "execute_result"
    }
   ],
   "source": [
    "m = np.random.rand(3, 10)\n",
    "m"
   ]
  },
  {
   "cell_type": "code",
   "execution_count": 58,
   "id": "ee0616df",
   "metadata": {},
   "outputs": [
    {
     "data": {
      "text/plain": [
       "array([0.26562141, 0.5501472 , 0.70420808])"
      ]
     },
     "execution_count": 58,
     "metadata": {},
     "output_type": "execute_result"
    }
   ],
   "source": [
    "m[1, 7::]"
   ]
  },
  {
   "cell_type": "code",
   "execution_count": null,
   "id": "098e462c",
   "metadata": {},
   "outputs": [],
   "source": []
  },
  {
   "cell_type": "code",
   "execution_count": null,
   "id": "c26db68f",
   "metadata": {},
   "outputs": [],
   "source": []
  }
 ],
 "metadata": {
  "kernelspec": {
   "display_name": "Python 3 (ipykernel)",
   "language": "python",
   "name": "python3"
  },
  "language_info": {
   "codemirror_mode": {
    "name": "ipython",
    "version": 3
   },
   "file_extension": ".py",
   "mimetype": "text/x-python",
   "name": "python",
   "nbconvert_exporter": "python",
   "pygments_lexer": "ipython3",
   "version": "3.9.7"
  }
 },
 "nbformat": 4,
 "nbformat_minor": 5
}
