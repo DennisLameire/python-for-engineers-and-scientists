{
 "cells": [
  {
   "cell_type": "markdown",
   "id": "f4b206b0",
   "metadata": {},
   "source": [
    "# Desenvolvimento de Pacotes Científicos com Python\n",
    "\n",
    "**por**: Rafael Pereira da Silva"
   ]
  },
  {
   "cell_type": "markdown",
   "id": "36886a2d",
   "metadata": {},
   "source": [
    "# PARTE 1\n",
    "# Seção 5: Funções, Generators, Decorators\n"
   ]
  },
  {
   "cell_type": "markdown",
   "id": "5a1cf986",
   "metadata": {},
   "source": [
    "# FUNÇÕES"
   ]
  },
  {
   "cell_type": "markdown",
   "id": "e19ba351",
   "metadata": {},
   "source": [
    "## 5.1 - Funções e keyword (named) arguments\n",
    "\n",
    "\n",
    "<br/>\n",
    "\n",
    "As funções no python contém determinadas instruções e elas executam essas instruções no momento em que são chamadas no programa. Os keyword arguments, são os parâmetros que nós deixamos pré-definitos, ou default, caso o usuário não entre nenhum argumento.\n",
    "\n",
    "<br/>\n",
    "\n",
    "#### Sintaxe da função\n",
    "\n",
    "<br/>\n",
    "\n",
    "```python\n",
    ">>> def coordenadas(x, y, z=0):\n",
    "...     print(f'x = {x}')\n",
    "...     print(f'y = {y}')\n",
    "...     print(f'z = {z}')\n",
    ">>> # z tem um valor pré-determinado e entrar com um novo valor é facultativo\n",
    "```"
   ]
  },
  {
   "cell_type": "code",
   "execution_count": null,
   "id": "82a154d3",
   "metadata": {},
   "outputs": [],
   "source": []
  },
  {
   "cell_type": "code",
   "execution_count": null,
   "id": "8599dbbc",
   "metadata": {},
   "outputs": [],
   "source": []
  },
  {
   "cell_type": "code",
   "execution_count": null,
   "id": "56964a51",
   "metadata": {},
   "outputs": [],
   "source": []
  },
  {
   "cell_type": "code",
   "execution_count": null,
   "id": "3ff6cc9a",
   "metadata": {},
   "outputs": [],
   "source": []
  },
  {
   "cell_type": "code",
   "execution_count": null,
   "id": "9cf3debc",
   "metadata": {},
   "outputs": [],
   "source": []
  },
  {
   "cell_type": "markdown",
   "id": "aec0c544",
   "metadata": {},
   "source": [
    "## 5.2 - \\*args\n",
    "\n",
    "\n",
    "<br/>\n",
    "\n",
    "O \\*args é uma forma de empacotarmos as entradas de argumentos em uma tupla. Assim podemos entrar com quantos argumentos for necessário. Você irá se deparar com este símbolo quando consumir bibliotecas famosas.\n",
    "\n",
    "<br/>\n",
    "\n",
    "#### Sintaxe da função\n",
    "\n",
    "<br/>\n",
    "\n",
    "```python\n",
    ">>> def criar_lista(*args):\n",
    "...     lista = []\n",
    "...     for i in args:\n",
    "...        lista.append(i)\n",
    "...     return lista\n",
    "```\n",
    "\n",
    "<br/>\n",
    "\n",
    "**nota:**\n",
    "<pre> args no fim das contas, é uma tupla </pre>\n",
    "\n",
    "<pre> args não é uma palavra reservada do Python, é apenas uma convenção </pre>"
   ]
  },
  {
   "cell_type": "code",
   "execution_count": 1,
   "id": "b1feda9d",
   "metadata": {},
   "outputs": [],
   "source": [
    "def criar_lista(*args):\n",
    "    lista = []\n",
    "    for i in args:\n",
    "        lista.append(i)\n",
    "    return lista"
   ]
  },
  {
   "cell_type": "code",
   "execution_count": 2,
   "id": "51d38811",
   "metadata": {},
   "outputs": [
    {
     "data": {
      "text/plain": [
       "[1, 2, 3]"
      ]
     },
     "execution_count": 2,
     "metadata": {},
     "output_type": "execute_result"
    }
   ],
   "source": [
    "criar_lista(1, 2, 3)"
   ]
  },
  {
   "cell_type": "code",
   "execution_count": 3,
   "id": "e1678a17",
   "metadata": {},
   "outputs": [],
   "source": [
    "def args(*args):\n",
    "    print(type(args))"
   ]
  },
  {
   "cell_type": "code",
   "execution_count": 4,
   "id": "408773b7",
   "metadata": {},
   "outputs": [
    {
     "name": "stdout",
     "output_type": "stream",
     "text": [
      "<class 'tuple'>\n"
     ]
    }
   ],
   "source": [
    "args(1, 2, 3)"
   ]
  },
  {
   "cell_type": "code",
   "execution_count": null,
   "id": "d4b4e5c0",
   "metadata": {},
   "outputs": [],
   "source": []
  },
  {
   "cell_type": "markdown",
   "id": "f4a281ad",
   "metadata": {},
   "source": [
    "## 5.3 - \\*\\*kwargs\n",
    "\n",
    "\n",
    "<br/>\n",
    "\n",
    "O \\*\\*kwargs é uma forma de empacotarmos as entradas de argumentos em um dicionáiro. Assim podemos entrar com quantos argumentos for necessário. Você irá se deparar com este símbolo quando consumir bibliotecas famosas.\n",
    "\n",
    "<br/>\n",
    "\n",
    "#### Sintaxe da função\n",
    "\n",
    "<br/>\n",
    "\n",
    "```python\n",
    ">>> def print_dicionario(**kwargs):\n",
    "...     for key, value in kwargs.items():\n",
    "...        print(f'{key} = {value}')\n",
    "```\n",
    "\n",
    "<br/>\n",
    "\n",
    "**nota:**\n",
    "<pre> args no fim das contas, é uma tupla <pre\\>"
   ]
  },
  {
   "cell_type": "code",
   "execution_count": 16,
   "id": "8f7bc3de",
   "metadata": {},
   "outputs": [],
   "source": [
    "def meudicionario(**kwargs):\n",
    "    print(kwargs)"
   ]
  },
  {
   "cell_type": "code",
   "execution_count": 11,
   "id": "1554adcc",
   "metadata": {},
   "outputs": [
    {
     "name": "stdout",
     "output_type": "stream",
     "text": [
      "{'a': 1, 'b': 2}\n"
     ]
    }
   ],
   "source": [
    "meudicionario(a=1, b=2)"
   ]
  },
  {
   "cell_type": "code",
   "execution_count": 14,
   "id": "bd9bbaa6",
   "metadata": {},
   "outputs": [],
   "source": [
    "def print_dicionario(**kwargs):\n",
    "    for key, value in kwargs.items():\n",
    "        print(f'{key} = {value}')"
   ]
  },
  {
   "cell_type": "code",
   "execution_count": 15,
   "id": "9984e1bc",
   "metadata": {},
   "outputs": [
    {
     "name": "stdout",
     "output_type": "stream",
     "text": [
      "a = 1\n",
      "b = 2\n"
     ]
    }
   ],
   "source": [
    "print_dicionario(a=1, b=2)"
   ]
  },
  {
   "cell_type": "code",
   "execution_count": null,
   "id": "6ee22254",
   "metadata": {},
   "outputs": [],
   "source": []
  },
  {
   "cell_type": "markdown",
   "id": "d118cb8d",
   "metadata": {},
   "source": [
    "## 5.4 - Docstring\n",
    "\n",
    "\n",
    "<br/>\n",
    "\n",
    "Os docstrings servem para documentação. Precisamos documentar nosso código para que outras pessoas entendam e para que nós mesmos o entendemos no futuro.\n",
    "\n",
    "<br/>\n",
    "\n",
    "#### Sintaxe da função\n",
    "\n",
    "<br/>\n",
    "\n",
    "```python\n",
    ">>> def soma(a, b):\n",
    "...     ''' Esta função faz a soma de a + b '''\n",
    "...     return a + b\n",
    "```\n",
    "\n",
    "<br/>\n",
    "\n",
    "**nota:**\n",
    "<pre>As docstrings também podem ser utilizadas para documentar módulos e classes </pre>\n",
    "<pre>Elas podem ser acessadas por meio da propriedade __doc__ </pre>"
   ]
  },
  {
   "cell_type": "code",
   "execution_count": null,
   "id": "32ee8656",
   "metadata": {},
   "outputs": [],
   "source": []
  },
  {
   "cell_type": "code",
   "execution_count": null,
   "id": "d02eafe5",
   "metadata": {},
   "outputs": [],
   "source": []
  },
  {
   "cell_type": "markdown",
   "id": "a5f63490",
   "metadata": {},
   "source": [
    "## 5.5 - Funções lambda\n",
    "\n",
    "\n",
    "<br/>\n",
    "\n",
    "Funções lambda, também conhecidas como funções anônimas, são funcões que podemos definir em uma única linha. Normalmente usada no paradigma funcional.\n",
    "\n",
    "<br/>\n",
    "\n",
    "#### Sintaxe\n",
    "\n",
    "<br/>\n",
    "\n",
    "```python\n",
    ">>> soma = lambda a, b: x + y\n",
    "```\n",
    "\n",
    "<br/>"
   ]
  },
  {
   "cell_type": "code",
   "execution_count": 105,
   "id": "cf7388cc",
   "metadata": {},
   "outputs": [],
   "source": [
    "soma = lambda a, b: a + b"
   ]
  },
  {
   "cell_type": "code",
   "execution_count": 106,
   "id": "47c10956",
   "metadata": {},
   "outputs": [
    {
     "data": {
      "text/plain": [
       "5"
      ]
     },
     "execution_count": 106,
     "metadata": {},
     "output_type": "execute_result"
    }
   ],
   "source": [
    "soma(2, 3)"
   ]
  },
  {
   "cell_type": "code",
   "execution_count": null,
   "id": "e007a695",
   "metadata": {},
   "outputs": [],
   "source": []
  },
  {
   "cell_type": "markdown",
   "id": "bdd01ed7",
   "metadata": {},
   "source": [
    "# GENERATORS"
   ]
  },
  {
   "cell_type": "markdown",
   "id": "0cb6b92f",
   "metadata": {},
   "source": [
    "## 5.6 - Generators\n",
    "\n",
    "<br/>\n",
    "\n",
    "O generator é um objeto que gera valores de acordo com uma regra determinada. Ele é uma forma eficiente de gerarmos valores sem sobrecarregar nosso programa, pois o valor é gerado por demanda.\n",
    "Generators podem ser criados da mesma forma que os list comprehension, porém usando parênteses no lugar.\n",
    "\n",
    "<br/>\n",
    "\n",
    "\n",
    "#### Sintaxe de uma lista usando **for**\n",
    "\n",
    "```python\n",
    ">>> lista = (item for item in range(10))\n",
    "```\n",
    "\n",
    "\n",
    "**nota:**\n",
    "<pre>Podemos acionar os valores do generator utilizando a função next() ou por meio de um loop. </pre>\n",
    "<pre>Generators fazem parte de um grupo maior de objetos chamado iterators (nós os veremos mais adiante no curso </pre>"
   ]
  },
  {
   "cell_type": "code",
   "execution_count": 84,
   "id": "65d29bb1",
   "metadata": {},
   "outputs": [],
   "source": [
    "genQuadrados = (i**2 for i in range(10))"
   ]
  },
  {
   "cell_type": "code",
   "execution_count": 77,
   "id": "27b3c336",
   "metadata": {},
   "outputs": [
    {
     "data": {
      "text/plain": [
       "<generator object <genexpr> at 0x000002758FD94190>"
      ]
     },
     "execution_count": 77,
     "metadata": {},
     "output_type": "execute_result"
    }
   ],
   "source": [
    "genQuadrados"
   ]
  },
  {
   "cell_type": "code",
   "execution_count": 82,
   "id": "c34ff1f4",
   "metadata": {},
   "outputs": [
    {
     "data": {
      "text/plain": [
       "16"
      ]
     },
     "execution_count": 82,
     "metadata": {},
     "output_type": "execute_result"
    }
   ],
   "source": [
    "next(genQuadrados)"
   ]
  },
  {
   "cell_type": "code",
   "execution_count": 85,
   "id": "b88fc8aa",
   "metadata": {},
   "outputs": [
    {
     "name": "stdout",
     "output_type": "stream",
     "text": [
      "0\n",
      "1\n",
      "4\n",
      "9\n",
      "16\n",
      "25\n",
      "36\n",
      "49\n",
      "64\n",
      "81\n"
     ]
    }
   ],
   "source": [
    "for i in genQuadrados:\n",
    "    print(i)"
   ]
  },
  {
   "cell_type": "markdown",
   "id": "a68bbb47",
   "metadata": {},
   "source": [
    "## 5.7 - yield\n",
    "\n",
    "<br/>\n",
    "\n",
    "Podemos criar generators da mesma forma que criamos funções, mas utilizando a declaração yield. Esta forma nos permite criar generators mais elaborados.\n",
    "\n",
    "<br/>\n",
    "\n",
    "\n",
    "#### Sintaxe de uma lista usando **for**\n",
    "\n",
    "```python\n",
    ">>> def genQuadrados(n)\n",
    "...     for i in range(n):\n",
    "...         yield i**2    \n",
    "```\n"
   ]
  },
  {
   "cell_type": "code",
   "execution_count": 86,
   "id": "21071108",
   "metadata": {},
   "outputs": [],
   "source": [
    "def genQuadrados(n):\n",
    "    for i in range(n):\n",
    "        yield i**2"
   ]
  },
  {
   "cell_type": "code",
   "execution_count": 88,
   "id": "0c859f23",
   "metadata": {},
   "outputs": [],
   "source": [
    "a = genQuadrados(10)"
   ]
  },
  {
   "cell_type": "code",
   "execution_count": 95,
   "id": "61443877",
   "metadata": {},
   "outputs": [],
   "source": [
    "def yield_explanation():\n",
    "    yield 1\n",
    "    yield 2\n",
    "    yield 3"
   ]
  },
  {
   "cell_type": "code",
   "execution_count": 102,
   "id": "fae5d44e",
   "metadata": {},
   "outputs": [],
   "source": [
    "b = yield_explanation()"
   ]
  },
  {
   "cell_type": "code",
   "execution_count": 103,
   "id": "ae1c4645",
   "metadata": {},
   "outputs": [
    {
     "data": {
      "text/plain": [
       "1"
      ]
     },
     "execution_count": 103,
     "metadata": {},
     "output_type": "execute_result"
    }
   ],
   "source": [
    "next(b)"
   ]
  },
  {
   "cell_type": "code",
   "execution_count": null,
   "id": "65f06cdf",
   "metadata": {},
   "outputs": [],
   "source": []
  },
  {
   "cell_type": "markdown",
   "id": "125dfbc3",
   "metadata": {},
   "source": [
    "# Decorators"
   ]
  },
  {
   "cell_type": "markdown",
   "id": "d1147113",
   "metadata": {},
   "source": [
    "## 5.8 - Namespace e escopos\n",
    "\n",
    "<br/>\n",
    "\n",
    "\n",
    "#### Namespace\n",
    "O namespace é um dicionário que mostra quais os nomes estão sendo utilizados no código.\n",
    "Para acessar o namespace, pode usar as funções ```globals()``` ou ```locals()``` para acessá-los.\n",
    "\n",
    "<br/>\n",
    "\n",
    "\n",
    "#### Escopos\n",
    "O conceito de escopo é diretamente relacionado ao namespace que acabamos de ver. O escopo, de forma simples, é a hierarquia do qual uma variável ou um nome pertence. Nós podemos definir manualmente em qual escopo queremos inserir determinada variável.\n",
    "\n",
    "<br/>\n",
    "\n",
    "| Palavra reservada | Descrição |\n",
    "| --:-- |  --:-- |\n",
    "| global | define que a variável está no namespace global |\n",
    "| local | define que a variável está no namespace local |\n",
    "| nonlocal | define que a variável está no namespace da hierarquia logo acima |\n",
    "\n",
    "<br/>\n",
    "\n",
    "#### Sintaxe\n",
    "\n",
    "```python\n",
    ">>> x = 10\n",
    ">>> def modif_x(a):\n",
    ">>>     global x\n",
    ">>>     x = a #Aqui nós modificamos o x global\n",
    ">>>     return x\n",
    "\n"
   ]
  },
  {
   "cell_type": "code",
   "execution_count": 10,
   "id": "a5e3593a",
   "metadata": {},
   "outputs": [],
   "source": [
    "def soma(a, b):\n",
    "    print(locals())\n",
    "    return a + b"
   ]
  },
  {
   "cell_type": "code",
   "execution_count": 11,
   "id": "a4b93af4",
   "metadata": {},
   "outputs": [
    {
     "name": "stdout",
     "output_type": "stream",
     "text": [
      "{'a': 1, 'b': 1}\n"
     ]
    },
    {
     "data": {
      "text/plain": [
       "2"
      ]
     },
     "execution_count": 11,
     "metadata": {},
     "output_type": "execute_result"
    }
   ],
   "source": [
    "soma(1, 1)"
   ]
  },
  {
   "cell_type": "code",
   "execution_count": 1,
   "id": "2b838a0f",
   "metadata": {
    "collapsed": true
   },
   "outputs": [],
   "source": [
    "def outer():\n",
    "    x = 'python'\n",
    "    def inner():\n",
    "        print(x)\n",
    "    return inner"
   ]
  },
  {
   "cell_type": "code",
   "execution_count": null,
   "id": "bfde1a1b",
   "metadata": {},
   "outputs": [],
   "source": []
  },
  {
   "cell_type": "markdown",
   "id": "5dc55684",
   "metadata": {},
   "source": [
    "## 5.9 - Closures\n",
    "Os closures existem no contexto de funções aninhadas (no inglês nested).\n",
    "No caso, o closer é uma função interna (inner) dando fechamento para uma função externa (outer). Sendo que esta função inner é capaz de acessar o escopo da função outer (não local).\n",
    "\n",
    "<br/>\n",
    "\n",
    "#### Sintaxe\n",
    "```python\n",
    ">>> def outer():\n",
    "        x = 'python' # x é definido no escopo outer\n",
    "        def inner():\n",
    "            print(x)\n",
    "        return inner # aqui nós chamamos a função inner\n",
    "```\n"
   ]
  },
  {
   "cell_type": "code",
   "execution_count": 1,
   "id": "1c3cf8e9",
   "metadata": {},
   "outputs": [],
   "source": [
    "def outer():\n",
    "    x = 'python'\n",
    "    def inner():\n",
    "        print(x)\n",
    "    return inner"
   ]
  },
  {
   "cell_type": "code",
   "execution_count": 8,
   "id": "066a610b",
   "metadata": {},
   "outputs": [
    {
     "name": "stdout",
     "output_type": "stream",
     "text": [
      "python\n"
     ]
    }
   ],
   "source": [
    "x = outer()\n",
    "x()"
   ]
  },
  {
   "cell_type": "code",
   "execution_count": 9,
   "id": "8dacacd3",
   "metadata": {},
   "outputs": [],
   "source": [
    "# Exemplo 1\n",
    "\n",
    "def adder(n):\n",
    "    def inner(x):\n",
    "        return x + n\n",
    "    return inner"
   ]
  },
  {
   "cell_type": "code",
   "execution_count": 13,
   "id": "5d351319",
   "metadata": {},
   "outputs": [
    {
     "data": {
      "text/plain": [
       "8"
      ]
     },
     "execution_count": 13,
     "metadata": {},
     "output_type": "execute_result"
    }
   ],
   "source": [
    "x = adder(5)\n",
    "x(3)"
   ]
  },
  {
   "cell_type": "code",
   "execution_count": null,
   "id": "6eec5a32",
   "metadata": {},
   "outputs": [],
   "source": []
  },
  {
   "cell_type": "code",
   "execution_count": 14,
   "id": "ac487b5e",
   "metadata": {},
   "outputs": [],
   "source": [
    "# Exemplo 2\n",
    "\n",
    "def outer():\n",
    "    count = 0\n",
    "    def inc():\n",
    "        nonlocal count #modificamos o count que está no escopo acima\n",
    "        count += 1\n",
    "        return count\n",
    "    return inc"
   ]
  },
  {
   "cell_type": "code",
   "execution_count": 15,
   "id": "c30683ef",
   "metadata": {},
   "outputs": [],
   "source": [
    "counter = outer()"
   ]
  },
  {
   "cell_type": "code",
   "execution_count": 18,
   "id": "ef2d0ccf",
   "metadata": {},
   "outputs": [
    {
     "data": {
      "text/plain": [
       "3"
      ]
     },
     "execution_count": 18,
     "metadata": {},
     "output_type": "execute_result"
    }
   ],
   "source": [
    "counter()"
   ]
  },
  {
   "cell_type": "markdown",
   "id": "1a86e713",
   "metadata": {},
   "source": [
    "## 5.10 - Decorators\n",
    "\n",
    "O decorator é uma forma de modificarmos ou ampliarmos as funcionalidades de uma função. Podemos por exemplo adicionar contadores, timers etc às nossas funções.\n",
    "\n",
    "<br/>\n",
    "\n",
    "#### Exemplo de um contador\n",
    "Este contador conta quantas vezes uma determinada função foi chamada.\n",
    "\n",
    "```python\n",
    "def counter(fn):\n",
    "    count = 0\n",
    "    def inner(*args, **kwargs):\n",
    "        nonlocal count\n",
    "        count += 1\n",
    "        print(count)\n",
    "        return fn(*args, **kwargs)\n",
    "    return inner\n",
    "```\n",
    "\n",
    "**Nota:**\n",
    "<pre>Podemos usar o @counter acima da declaração de uma nova função para podermos \n",
    "decorá-la </pre>\n",
    "\n",
    "<pre>Atenção, os metadados da função original como __doc__ e __name__ não são carregados quando decoramos a função. Para fazer isso temos um decorator built-in no Python que iremos ver na próxima aula. </pre>"
   ]
  },
  {
   "cell_type": "code",
   "execution_count": 62,
   "id": "65878bc6",
   "metadata": {},
   "outputs": [],
   "source": [
    "def counter(fn):\n",
    "    count = 0\n",
    "    def inner(*args, **kwargs):\n",
    "        nonlocal count\n",
    "        count += 1\n",
    "        print(f'esta funcao foi chamada {count} vezes')\n",
    "        return fn(*args, **kwargs)\n",
    "    return inner"
   ]
  },
  {
   "cell_type": "code",
   "execution_count": 73,
   "id": "7d182293",
   "metadata": {},
   "outputs": [],
   "source": [
    "@counter\n",
    "def soma(a, b):\n",
    "    return a + b"
   ]
  },
  {
   "cell_type": "code",
   "execution_count": 64,
   "id": "9f0ef0db",
   "metadata": {},
   "outputs": [],
   "source": [
    "soma_count = counter(soma)"
   ]
  },
  {
   "cell_type": "code",
   "execution_count": 72,
   "id": "158e3ff9",
   "metadata": {},
   "outputs": [
    {
     "name": "stdout",
     "output_type": "stream",
     "text": [
      "esta funcao foi chamada 8 vezes\n"
     ]
    },
    {
     "data": {
      "text/plain": [
       "8"
      ]
     },
     "execution_count": 72,
     "metadata": {},
     "output_type": "execute_result"
    }
   ],
   "source": [
    "soma_count(6, 2)"
   ]
  },
  {
   "cell_type": "code",
   "execution_count": 78,
   "id": "1129b3eb",
   "metadata": {},
   "outputs": [
    {
     "data": {
      "text/plain": [
       "'inner'"
      ]
     },
     "execution_count": 78,
     "metadata": {},
     "output_type": "execute_result"
    }
   ],
   "source": [
    "soma.__name__"
   ]
  },
  {
   "cell_type": "markdown",
   "id": "8895c609",
   "metadata": {},
   "source": [
    "## 5.11 - @wraps\n",
    "\n",
    "O ```@wraps(fn)``` da biblioteca ```functools``` é um decorator built-in do Python para que possamos carregar os metadados na nossa função.\n",
    "\n",
    "<br/>\n",
    "\n",
    "#### Sintaxe\n",
    "```python\n",
    ">>> from functools import wraps\n",
    ">>> def counter(fn):\n",
    "        count = 0\n",
    "        @wraps(fn)\n",
    "        def inner(*args, **kwargs):\n",
    "            nonlocal count\n",
    "            count += 1\n",
    "            print(count)\n",
    "            return fn(*args, **kwargs)\n",
    "        return inner\n",
    "```"
   ]
  },
  {
   "cell_type": "code",
   "execution_count": 80,
   "id": "fecf29dd",
   "metadata": {},
   "outputs": [],
   "source": [
    "from functools import wraps"
   ]
  },
  {
   "cell_type": "code",
   "execution_count": 81,
   "id": "77001b99",
   "metadata": {},
   "outputs": [],
   "source": [
    "def counter(fn):\n",
    "    count = 0\n",
    "    @wraps(fn)\n",
    "    def inner(*args, **kwargs):\n",
    "        nonlocal count\n",
    "        count += 1\n",
    "        print(f'esta funcao foi chamada {count} vezes')\n",
    "        return fn(*args, **kwargs)\n",
    "    return inner"
   ]
  },
  {
   "cell_type": "code",
   "execution_count": 82,
   "id": "fbe32e6c",
   "metadata": {},
   "outputs": [],
   "source": [
    "@counter\n",
    "def mult(a, b):\n",
    "    return a * b"
   ]
  },
  {
   "cell_type": "code",
   "execution_count": 89,
   "id": "0fba9b5c",
   "metadata": {},
   "outputs": [
    {
     "data": {
      "text/plain": [
       "'mult'"
      ]
     },
     "execution_count": 89,
     "metadata": {},
     "output_type": "execute_result"
    }
   ],
   "source": [
    "mult.__name__"
   ]
  },
  {
   "cell_type": "markdown",
   "id": "66c09e8e",
   "metadata": {},
   "source": [
    "# Exercícios"
   ]
  },
  {
   "cell_type": "markdown",
   "id": "a0ec4c72",
   "metadata": {},
   "source": [
    "## E5.1\n",
    "Crie uma função que faça a soma de 3 números. Caso o usuário não entre com nenhum argumento, esta função deve retornar 0. O usuário também pode entrar com um ou com dois argumentos."
   ]
  },
  {
   "cell_type": "code",
   "execution_count": 2,
   "id": "48fcd9d0",
   "metadata": {},
   "outputs": [],
   "source": [
    "def soma(x=0, y=0, z=0):\n",
    "    return x + y + z"
   ]
  },
  {
   "cell_type": "markdown",
   "id": "ff14a284",
   "metadata": {},
   "source": [
    "## E5.2\n",
    "Crie uma função que faça soma de números. Nesta função o usuário pode entrar com quantos argumentos desejar."
   ]
  },
  {
   "cell_type": "code",
   "execution_count": 3,
   "id": "0f642830",
   "metadata": {},
   "outputs": [],
   "source": [
    "def soma(*args):\n",
    "    resultado = [i for i in args]\n",
    "    return sum(resultado)"
   ]
  },
  {
   "cell_type": "code",
   "execution_count": 4,
   "id": "b35316c4",
   "metadata": {},
   "outputs": [
    {
     "data": {
      "text/plain": [
       "48"
      ]
     },
     "execution_count": 4,
     "metadata": {},
     "output_type": "execute_result"
    }
   ],
   "source": [
    "soma(1, 43, 3, 1)"
   ]
  },
  {
   "cell_type": "markdown",
   "id": "b7c735e4",
   "metadata": {},
   "source": [
    "## E5.3\n",
    "Crie uma função lambda que faça a multiplicação de dois números. Teste ela."
   ]
  },
  {
   "cell_type": "code",
   "execution_count": 6,
   "id": "c3a00ef0",
   "metadata": {},
   "outputs": [],
   "source": [
    "multiplica = lambda x, y: x * y"
   ]
  },
  {
   "cell_type": "code",
   "execution_count": 7,
   "id": "471d25d8",
   "metadata": {},
   "outputs": [
    {
     "data": {
      "text/plain": [
       "12"
      ]
     },
     "execution_count": 7,
     "metadata": {},
     "output_type": "execute_result"
    }
   ],
   "source": [
    "multiplica(3, 4)"
   ]
  },
  {
   "cell_type": "markdown",
   "id": "f29f1923",
   "metadata": {},
   "source": [
    "## E5.4\n",
    "Crie um gerador que gere as letras do alfabeto ```'ABCDEFGHIJKLMNOPQRSTUVWXYZ'```."
   ]
  },
  {
   "cell_type": "code",
   "execution_count": 23,
   "id": "f888aeba",
   "metadata": {},
   "outputs": [],
   "source": [
    "alfabeto = 'ABCDEFGHIJKLMNOPQRSTUVWXYZ'"
   ]
  },
  {
   "cell_type": "code",
   "execution_count": 25,
   "id": "717ef195",
   "metadata": {},
   "outputs": [],
   "source": [
    "def genPalavra(palavra):\n",
    "    for letra in palavra:\n",
    "        yield letra"
   ]
  },
  {
   "cell_type": "code",
   "execution_count": 27,
   "id": "16923f65",
   "metadata": {},
   "outputs": [],
   "source": [
    "gen = genPalavra(alfabeto)"
   ]
  },
  {
   "cell_type": "code",
   "execution_count": 34,
   "id": "74e1316c",
   "metadata": {},
   "outputs": [
    {
     "data": {
      "text/plain": [
       "'G'"
      ]
     },
     "execution_count": 34,
     "metadata": {},
     "output_type": "execute_result"
    }
   ],
   "source": [
    "next(gen)"
   ]
  },
  {
   "cell_type": "code",
   "execution_count": 35,
   "id": "521236ea",
   "metadata": {},
   "outputs": [],
   "source": [
    "# 2a forma \n",
    "\n",
    "gen = (i for i in alfabeto)"
   ]
  },
  {
   "cell_type": "code",
   "execution_count": 36,
   "id": "955c27e0",
   "metadata": {},
   "outputs": [
    {
     "data": {
      "text/plain": [
       "'A'"
      ]
     },
     "execution_count": 36,
     "metadata": {},
     "output_type": "execute_result"
    }
   ],
   "source": [
    "next(gen)"
   ]
  },
  {
   "cell_type": "markdown",
   "id": "56050d75",
   "metadata": {},
   "source": [
    "## E5.5\n",
    "Crie um decorator que contabilize o tempo de execução.\n",
    "\n",
    "Dica: para contabilizar o tempo de execução você pode utilizar a função time da biblioteca time. Veja um exemplo abaixo.\n",
    "\n",
    "```python\n",
    ">>> from time import time # importando a função\n",
    ">>> tempo_inicial = time()\n",
    ">>> # escreva todas as operações aqui\n",
    ">>> tempo_final = time()\n",
    ">>> tempo_de_exec = tempo_final - tempo_inicial\n",
    "```"
   ]
  },
  {
   "cell_type": "code",
   "execution_count": 41,
   "id": "3eb5ebe3",
   "metadata": {},
   "outputs": [
    {
     "name": "stdout",
     "output_type": "stream",
     "text": [
      "3.5397980213165283\n"
     ]
    }
   ],
   "source": [
    "from time import time\n",
    "\n",
    "tempo_inicial = time()\n",
    "\n",
    "for i in range(100000000):\n",
    "    pass\n",
    "\n",
    "tempo_final = time()\n",
    "print(tempo_final - tempo_inicial)"
   ]
  },
  {
   "cell_type": "code",
   "execution_count": 42,
   "id": "326f117e",
   "metadata": {},
   "outputs": [],
   "source": [
    "from functools import wraps\n",
    "from time import time\n",
    "\n",
    "def tempo(fn):\n",
    "    @wraps(fn)\n",
    "    def inner(*args, **kwargs):\n",
    "        tempo_inicial = time()\n",
    "        resultado = fn(*args, **kwargs)\n",
    "        tempo_final = time()\n",
    "        print(f'o tempo de execução é {tempo_final - tempo_inicial} s')\n",
    "        return resultado\n",
    "    return inner"
   ]
  },
  {
   "cell_type": "code",
   "execution_count": 59,
   "id": "49c6ef6a",
   "metadata": {},
   "outputs": [],
   "source": [
    "@tempo\n",
    "def soma1(*args):\n",
    "    resultado = 0\n",
    "    \n",
    "    for i in args:\n",
    "        resultado += i\n",
    "    return resultado\n",
    "\n",
    "\n",
    "@tempo\n",
    "def soma2(*args):\n",
    "    return sum(a)\n"
   ]
  },
  {
   "cell_type": "code",
   "execution_count": 56,
   "id": "3122e5f5",
   "metadata": {},
   "outputs": [
    {
     "name": "stdout",
     "output_type": "stream",
     "text": [
      "o tempo de execução é 4.301087856292725 s\n"
     ]
    },
    {
     "data": {
      "text/plain": [
       "4999999950000000"
      ]
     },
     "execution_count": 56,
     "metadata": {},
     "output_type": "execute_result"
    }
   ],
   "source": [
    "a = list(range(100000000))\n",
    "\n",
    "soma1(*a)"
   ]
  },
  {
   "cell_type": "code",
   "execution_count": 58,
   "id": "9978400d",
   "metadata": {},
   "outputs": [
    {
     "name": "stdout",
     "output_type": "stream",
     "text": [
      "o tempo de execução é 1.8135521411895752 s\n"
     ]
    },
    {
     "data": {
      "text/plain": [
       "4999999950000000"
      ]
     },
     "execution_count": 58,
     "metadata": {},
     "output_type": "execute_result"
    }
   ],
   "source": [
    "soma2(a)"
   ]
  },
  {
   "cell_type": "code",
   "execution_count": null,
   "id": "66a0b7e5",
   "metadata": {},
   "outputs": [],
   "source": []
  },
  {
   "cell_type": "code",
   "execution_count": null,
   "id": "42abe4a8",
   "metadata": {},
   "outputs": [],
   "source": []
  }
 ],
 "metadata": {
  "kernelspec": {
   "display_name": "Python 3 (ipykernel)",
   "language": "python",
   "name": "python3"
  },
  "language_info": {
   "codemirror_mode": {
    "name": "ipython",
    "version": 3
   },
   "file_extension": ".py",
   "mimetype": "text/x-python",
   "name": "python",
   "nbconvert_exporter": "python",
   "pygments_lexer": "ipython3",
   "version": "3.9.7"
  }
 },
 "nbformat": 4,
 "nbformat_minor": 5
}
