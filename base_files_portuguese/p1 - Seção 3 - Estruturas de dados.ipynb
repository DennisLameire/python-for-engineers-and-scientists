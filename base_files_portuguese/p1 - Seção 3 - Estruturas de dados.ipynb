{
 "cells": [
  {
   "cell_type": "markdown",
   "id": "5fc086d1",
   "metadata": {},
   "source": [
    "# Desenvolvimento de Pacotes Científicos com Python\n",
    "\n",
    "**por**: Rafael Pereira da Silva"
   ]
  },
  {
   "cell_type": "markdown",
   "id": "357dcb4e",
   "metadata": {},
   "source": [
    "# PARTE 1\n",
    "# Seção 3: Estrutura de dados\n",
    "\n",
    "As coleções que vimos na primeira seção do curso tem um significado muito maior do que ser somente um container, elas são estruturas de dados. Nesta seção iremos olhar os métodos aplicáveis a essas coleções, discutiremos mais a fundo as estruturas de dados e iremos conhecer outras estruturas disponíveis no Python.\n"
   ]
  },
  {
   "cell_type": "markdown",
   "id": "ccec5f6e",
   "metadata": {},
   "source": [
    "# LISTAS"
   ]
  },
  {
   "cell_type": "markdown",
   "id": "de933058",
   "metadata": {},
   "source": [
    "## 3.1 - Métodos para listas\n",
    "\n",
    "<br/>\n",
    "\n",
    "| Método | Descrição |\n",
    "| :-- | :-- |\n",
    "| append(arg) | Adiciona a variável no final |\n",
    "| extend(outra_lista) | Adiciona os elementos ao final |\n",
    "| remove(arg) | Remove o primeiro elemento com valor arg |\n",
    "| count(arg) | Conta o número de elementos com o valor arg |\n",
    "| sort() | Reordena elementos em ordem numérica ou alfabética |\n",
    "| reverse() | Inverte a ordem dos elementos |\n",
    "| copy() | Retorna uma cópia da lista |\n",
    "| index(arg) | Retorna o índice da primeira arg da lista |\n",
    "| clear() | remove todos os elementos da lista  |\n",
    "| insert(posicao, arg) | insere o argumento na posição indicada |\n",
    "| pop(posicao) | remove o elemento da posição determinada e retorna o elemento |\n",
    "\n",
    "<br/>\n",
    "\n",
    "**nota:**\n",
    "<pre>Quando utilizar um método, procure saber se ele modifica o objeto ou se ele gera um novo objeto. </pre>"
   ]
  },
  {
   "cell_type": "code",
   "execution_count": null,
   "id": "72f54bd2",
   "metadata": {},
   "outputs": [],
   "source": []
  },
  {
   "cell_type": "code",
   "execution_count": null,
   "id": "a044a0c4",
   "metadata": {},
   "outputs": [],
   "source": []
  },
  {
   "cell_type": "markdown",
   "id": "326350c7",
   "metadata": {},
   "source": [
    "## 3.2 - List comprehensions\n",
    "List comprehensions (compreensão de listas) são formas mais limpas, ou pytônicas, de fazer o que muitas vezes nós fazemos com loopings.\n",
    "\n",
    "<br/>\n",
    "\n",
    "#### Sintaxe de uma lista usando **for**\n",
    "\n",
    "```python\n",
    ">>> lista = []\n",
    ">>> for item in range(10):\n",
    "...    lista.append(item**2) \n",
    "```\n",
    "\n",
    "<br/>\n",
    "\n",
    "#### Sintaxe de uma lista usando **for**\n",
    "\n",
    "```python\n",
    ">>> lista = [item**2 for item in range(10)]\n",
    "```\n"
   ]
  },
  {
   "cell_type": "code",
   "execution_count": null,
   "id": "29c97028",
   "metadata": {},
   "outputs": [],
   "source": []
  },
  {
   "cell_type": "code",
   "execution_count": null,
   "id": "648e60fc",
   "metadata": {},
   "outputs": [],
   "source": []
  },
  {
   "cell_type": "markdown",
   "id": "97822ed6",
   "metadata": {},
   "source": [
    "## 3.3 - Índices e fatias de listas (Indexing and slicing)\n",
    "\n",
    "<br/>\n",
    "\n",
    "| Sintaxe | Descrição |\n",
    "| :-- | :-- |\n",
    "| [ i ] | Retorna o elemento de índice i |\n",
    "| [ -i ] | Retorna o inésimo elemento de traz para frente. Neste caso, -1 é o último elemento |\n",
    "| [ a:b ] | Retorna os elementos compreendido no conjunto $[a, b[ = \\{x \\in \\mathbb{Z}│a \\le x \\lt b\\}$ |\n",
    "| [ i ][ j ] | Retorna o elemento na posição $(i, j)$ para uma lista com duas dimensões  |\n",
    "\n",
    "<br/>\n",
    "\n",
    "**nota:**\n",
    "<pre>Mais adiante no curso, iremos aprender sobre os arrays numpy, que também possuem operações de slicing, mas que tratam a multidimensionalidade de uma forma mais ampla.</pre>"
   ]
  },
  {
   "cell_type": "code",
   "execution_count": 10,
   "id": "43bd381e",
   "metadata": {},
   "outputs": [],
   "source": [
    "a = [i**2 for i in range(10)]"
   ]
  },
  {
   "cell_type": "code",
   "execution_count": 26,
   "id": "6dfebc21",
   "metadata": {},
   "outputs": [],
   "source": [
    "b = [[1, 2, 3],\n",
    "    [5, 6, 7]]"
   ]
  },
  {
   "cell_type": "code",
   "execution_count": 27,
   "id": "7bc50e9d",
   "metadata": {},
   "outputs": [
    {
     "data": {
      "text/plain": [
       "[0, 1, 4, 9, 16, 25, 36, 49, 64, 81]"
      ]
     },
     "execution_count": 27,
     "metadata": {},
     "output_type": "execute_result"
    }
   ],
   "source": [
    "a"
   ]
  },
  {
   "cell_type": "code",
   "execution_count": 32,
   "id": "c92ce0ba",
   "metadata": {},
   "outputs": [
    {
     "data": {
      "text/plain": [
       "[49, 64]"
      ]
     },
     "execution_count": 32,
     "metadata": {},
     "output_type": "execute_result"
    }
   ],
   "source": [
    "a[-3:-1]"
   ]
  },
  {
   "cell_type": "code",
   "execution_count": null,
   "id": "fa744fd5",
   "metadata": {},
   "outputs": [],
   "source": []
  },
  {
   "cell_type": "code",
   "execution_count": null,
   "id": "1dc0bda7",
   "metadata": {},
   "outputs": [],
   "source": []
  },
  {
   "cell_type": "markdown",
   "id": "be00b54e",
   "metadata": {},
   "source": [
    "# TUPLAS"
   ]
  },
  {
   "cell_type": "markdown",
   "id": "a3f6c0a4",
   "metadata": {},
   "source": [
    "## 3.4 - Métodos para tuplas\n",
    "\n",
    "<br/>\n",
    "\n",
    "| Método | Descrição |\n",
    "| :-- | :-- |\n",
    "| count(arg) | retorna o número de vezes que arg aparece |\n",
    "| index(arg) | Retorna o índice da primeira arg da tupla |\n"
   ]
  },
  {
   "cell_type": "code",
   "execution_count": null,
   "id": "40d58ed5",
   "metadata": {},
   "outputs": [],
   "source": []
  },
  {
   "cell_type": "code",
   "execution_count": null,
   "id": "2535891d",
   "metadata": {},
   "outputs": [],
   "source": []
  },
  {
   "cell_type": "code",
   "execution_count": null,
   "id": "5f9e6595",
   "metadata": {},
   "outputs": [],
   "source": []
  },
  {
   "cell_type": "markdown",
   "id": "58fffdf6",
   "metadata": {},
   "source": [
    "## 3.5 - Unpacking de tuplas\n",
    "\n",
    "<br/>\n",
    "\n",
    "#### Sintaxe do unpacking\n",
    "\n",
    "```python\n",
    ">>> tupla = (1, 2, 3)\n",
    ">>> a, b, c = tupla\n",
    ">>> # a, b, c irão receber os valores de 1, 2 e 3, respectivamente\n",
    "```\n",
    "\n",
    "\n",
    "**Notas:**\n",
    "<pre>Podemos criar uma tupla usando somente vírgulas (o parênteses não é obrigatório) </pre>\n",
    "<pre>Operações de unpacking são utilizadas em vários cenários, como: em funções, em atribuições de variáveis, em loopings, etc. </pre>\n",
    "<pre>Podemos usar o unpacking para inverter variáveis </pre>"
   ]
  },
  {
   "cell_type": "code",
   "execution_count": 4,
   "id": "09e48cbd",
   "metadata": {},
   "outputs": [],
   "source": [
    "d, e, f = 1, 2, 3"
   ]
  },
  {
   "cell_type": "code",
   "execution_count": 9,
   "id": "b8cd45b0",
   "metadata": {},
   "outputs": [],
   "source": [
    "d, *l, f = 1, 2, 3, 4, 5"
   ]
  },
  {
   "cell_type": "code",
   "execution_count": 10,
   "id": "18291798",
   "metadata": {},
   "outputs": [
    {
     "data": {
      "text/plain": [
       "[2, 3, 4]"
      ]
     },
     "execution_count": 10,
     "metadata": {},
     "output_type": "execute_result"
    }
   ],
   "source": [
    "l"
   ]
  },
  {
   "cell_type": "code",
   "execution_count": 14,
   "id": "13675a79",
   "metadata": {
    "scrolled": true
   },
   "outputs": [
    {
     "ename": "SyntaxError",
     "evalue": "invalid syntax (Temp/ipykernel_11224/3093168876.py, line 1)",
     "output_type": "error",
     "traceback": [
      "\u001b[1;36m  File \u001b[1;32m\"C:\\Users\\Pichau\\AppData\\Local\\Temp/ipykernel_11224/3093168876.py\"\u001b[1;36m, line \u001b[1;32m1\u001b[0m\n\u001b[1;33m    exemplo com enumerate\u001b[0m\n\u001b[1;37m            ^\u001b[0m\n\u001b[1;31mSyntaxError\u001b[0m\u001b[1;31m:\u001b[0m invalid syntax\n"
     ]
    }
   ],
   "source": [
    "exemplo com enumerate"
   ]
  },
  {
   "cell_type": "markdown",
   "id": "24c33e56",
   "metadata": {},
   "source": [
    "## CONJUNTOS (SETS)"
   ]
  },
  {
   "cell_type": "markdown",
   "id": "35746e8b",
   "metadata": {},
   "source": [
    "## 3.6 - Método para conjuntos\n",
    "\n",
    "<br/>\n",
    "\n",
    "| Método | Descrição |\n",
    "| :-- | :-- |\n",
    "| add(arg) | adiciona o argumento ao set |\n",
    "| copy() | Retorna uma cópia do set |\n",
    "| clear() | remove todos os elementos do set  |\n",
    "| discard(arg) | remove arg do set  |\n",
    "| pop() | remove o elemento de forma aleatória do set|\n",
    "| remove(arg) | remove o elemento com valor arg |\n",
    "| update(iteravel) | atualiza o set com outro set ou um iterável |\n",
    "\n"
   ]
  },
  {
   "cell_type": "code",
   "execution_count": 4,
   "id": "fc8af356",
   "metadata": {},
   "outputs": [],
   "source": []
  },
  {
   "cell_type": "code",
   "execution_count": null,
   "id": "7df1d1f3",
   "metadata": {},
   "outputs": [],
   "source": []
  },
  {
   "cell_type": "code",
   "execution_count": null,
   "id": "02d41141",
   "metadata": {},
   "outputs": [],
   "source": []
  },
  {
   "cell_type": "markdown",
   "id": "3878c880",
   "metadata": {},
   "source": [
    "## 3.7 - Operações com conjuntos\n",
    "\n",
    "<br/>\n",
    "\n",
    "| Método | |Descrição |\n",
    "| :-- | :-- | :-- |\n",
    "| s.issubset(t) | s <= t  | checa se todos os elementos de s estão em t e retorna bool |\n",
    "| s.issuperset(t) | s >= t | checa se todos os elementos de t estão em s e retorna um bool |\n",
    "| s.union(t) | s \\| t | cria um novo set com elementos de s e t |\n",
    "| s.intersection(t) | s & t | cria um novo set om os elementos comuns entre s e t |\n",
    "| s.difference(t) | s - t | cria um novo set com elementos que estão em s, mas não em t |\n",
    "| s.symmetric_difference(t) | s ^ t | cria um novo set com elementos que estão em s e em t, mas que não estão em ambos |\n"
   ]
  },
  {
   "cell_type": "code",
   "execution_count": null,
   "id": "aa72aaee",
   "metadata": {},
   "outputs": [],
   "source": []
  },
  {
   "cell_type": "markdown",
   "id": "b9c8f076",
   "metadata": {},
   "source": [
    "# DICIONÁRIOS"
   ]
  },
  {
   "cell_type": "markdown",
   "id": "4ed717ef",
   "metadata": {},
   "source": [
    "## 3.8 - Métodos para dicionários\n",
    "\n",
    "<br/>\n",
    "\n",
    "| Método | Descrição |\n",
    "| :-- | :-- |\n",
    "| clear() | remove todos os elementos do dicionário  |\n",
    "| copy() | Retorna uma cópia do dicionário |\n",
    "| pop(key) | remove o elemento da posição determinada e retorna o elemento |\n",
    "| dict.fromkeys(keys, value) | keys é um iterável e value um valor fixo. Este método gera um dicionário |\n",
    "| get(key, valor_opcional) | retorna uma chave especificada, se a chave não existir, ele retorna o valor_opcional |\n",
    "| items() | retorna uma lista contendo uma tupla com os pares (keys, value) |\n",
    "| keys() | retorna uma lista contendo as chaves do dicionário |\n",
    "| values() | retorna uma lista com os valores do dicionário |\n",
    "| update(dicionario) | acrescenta um dicionário ao outro |\n"
   ]
  },
  {
   "cell_type": "code",
   "execution_count": null,
   "id": "a905bce2",
   "metadata": {},
   "outputs": [],
   "source": []
  },
  {
   "cell_type": "code",
   "execution_count": null,
   "id": "16fa083e",
   "metadata": {},
   "outputs": [],
   "source": []
  },
  {
   "cell_type": "code",
   "execution_count": null,
   "id": "9c5989de",
   "metadata": {},
   "outputs": [],
   "source": []
  },
  {
   "cell_type": "markdown",
   "id": "b0978f12",
   "metadata": {},
   "source": [
    "# Funções Built-in aplicáveis"
   ]
  },
  {
   "cell_type": "markdown",
   "id": "74ab7bbf",
   "metadata": {},
   "source": [
    "## 3.9 - any e all\n",
    "\n",
    "<br/>\n",
    "\n",
    "| Função | Descrição |\n",
    "| :-- | :-- |\n",
    "| all() |  Retorna True se todos os valores do iterável são True (False caso contrário). Para iterável vazio retorna True |\n",
    "| any() | Retorna True se pelo menos um valor do iterável é True (caso contrário retorna False). Para iterável vazio retorna False |\n",
    "\n",
    "<br/>\n",
    "\n",
    "**Notas:**\n",
    "<pre>O valor lógico de 0 é False e de 1 é True. Isso também vale para essas funções built-in </pre>\n"
   ]
  },
  {
   "cell_type": "code",
   "execution_count": 19,
   "id": "812afea7",
   "metadata": {},
   "outputs": [
    {
     "data": {
      "text/plain": [
       "True"
      ]
     },
     "execution_count": 19,
     "metadata": {},
     "output_type": "execute_result"
    }
   ],
   "source": [
    "all([True, True])"
   ]
  },
  {
   "cell_type": "code",
   "execution_count": null,
   "id": "5360cd2e",
   "metadata": {},
   "outputs": [],
   "source": []
  },
  {
   "cell_type": "markdown",
   "id": "8ba344be",
   "metadata": {},
   "source": [
    "## 3.10 - zip\n",
    "\n",
    "<br/>\n",
    "\n",
    "| Função | Descrição |\n",
    "| :-- | :-- |\n",
    "| zip(\\*iteraveis) |  Empacota valores de iteráveis em uma lista de tuplas. Se assemelha ao enumerate, dict.items|\n",
    "\n",
    "<br/>\n",
    "\n",
    "**Notas:**\n",
    "<pre>Podemos gerar um dicionário a partir do zip </pre>\n",
    "<pre>Podemos gerar um zip a partir de um dicionário utilizando o items </pre>\n",
    "<pre>zip(*zipped) é a operação de unpacking do zip() </pre>"
   ]
  },
  {
   "cell_type": "code",
   "execution_count": 33,
   "id": "792a352c",
   "metadata": {},
   "outputs": [],
   "source": [
    "a = ['a', 'b', 'c']\n",
    "b = range(3)\n",
    "\n",
    "z = list(zip(a, b))"
   ]
  },
  {
   "cell_type": "code",
   "execution_count": 34,
   "id": "514d5115",
   "metadata": {},
   "outputs": [
    {
     "data": {
      "text/plain": [
       "[('a', 'b', 'c'), (0, 1, 2)]"
      ]
     },
     "execution_count": 34,
     "metadata": {},
     "output_type": "execute_result"
    }
   ],
   "source": [
    "list(zip(*z))"
   ]
  },
  {
   "cell_type": "code",
   "execution_count": null,
   "id": "70972d72",
   "metadata": {},
   "outputs": [],
   "source": []
  },
  {
   "cell_type": "code",
   "execution_count": null,
   "id": "08e35a50",
   "metadata": {},
   "outputs": [],
   "source": []
  },
  {
   "cell_type": "markdown",
   "id": "dec49695",
   "metadata": {},
   "source": [
    "## 3.11 - map\n",
    "\n",
    "<br/>\n",
    "\n",
    "| Função | Descrição |\n",
    "| :-- | :-- |\n",
    "| map(func, iteravel) | aplica a função a cada elemento do iteravel |\n",
    "\n",
    "<br/>\n",
    "\n",
    "**Notas:**\n",
    "<pre>Pode ser usado com funções lambdas, que veremos mais adiante </pre>"
   ]
  },
  {
   "cell_type": "code",
   "execution_count": 35,
   "id": "43fbe25d",
   "metadata": {},
   "outputs": [
    {
     "data": {
      "text/plain": [
       "'map(func, *iterables) --> map object\\n\\nMake an iterator that computes the function using arguments from\\neach of the iterables.  Stops when the shortest iterable is exhausted.'"
      ]
     },
     "execution_count": 35,
     "metadata": {},
     "output_type": "execute_result"
    }
   ],
   "source": [
    "map.__doc__"
   ]
  },
  {
   "cell_type": "code",
   "execution_count": 37,
   "id": "f72c9c05",
   "metadata": {},
   "outputs": [],
   "source": [
    "def quad(x):\n",
    "    return x**2"
   ]
  },
  {
   "cell_type": "code",
   "execution_count": 39,
   "id": "e66e48ef",
   "metadata": {},
   "outputs": [
    {
     "data": {
      "text/plain": [
       "[1, 4, 9, 16]"
      ]
     },
     "execution_count": 39,
     "metadata": {},
     "output_type": "execute_result"
    }
   ],
   "source": [
    "list(map(quad, [1, 2, 3, 4]))"
   ]
  },
  {
   "cell_type": "code",
   "execution_count": null,
   "id": "b84acc87",
   "metadata": {},
   "outputs": [],
   "source": []
  },
  {
   "cell_type": "code",
   "execution_count": null,
   "id": "0deacb24",
   "metadata": {},
   "outputs": [],
   "source": []
  },
  {
   "cell_type": "markdown",
   "id": "63792813",
   "metadata": {},
   "source": [
    "## 3.12 - filter\n",
    "\n",
    "<br/>\n",
    "\n",
    "| Função | Descrição |\n",
    "| :-- | :-- |\n",
    "| filter(func, iteravel) | Aplica a função aos elementos do iterável e retorna um iterável com os elementos True |\n",
    "\n",
    "<br/>\n",
    "\n"
   ]
  },
  {
   "cell_type": "code",
   "execution_count": 43,
   "id": "f99aeca0",
   "metadata": {},
   "outputs": [],
   "source": [
    "def func(x):\n",
    "    return x > 5"
   ]
  },
  {
   "cell_type": "code",
   "execution_count": 48,
   "id": "04d5c0a3",
   "metadata": {},
   "outputs": [
    {
     "data": {
      "text/plain": [
       "[10, 11, 12]"
      ]
     },
     "execution_count": 48,
     "metadata": {},
     "output_type": "execute_result"
    }
   ],
   "source": [
    "list(filter(func, [5, 10, 11, 3, 12,]))"
   ]
  },
  {
   "cell_type": "code",
   "execution_count": null,
   "id": "fb3e2360",
   "metadata": {},
   "outputs": [],
   "source": []
  },
  {
   "cell_type": "code",
   "execution_count": null,
   "id": "e7075d7e",
   "metadata": {},
   "outputs": [],
   "source": []
  },
  {
   "cell_type": "markdown",
   "id": "87537ab5",
   "metadata": {},
   "source": [
    "# MICELÂNEA"
   ]
  },
  {
   "cell_type": "markdown",
   "id": "218e9ee4",
   "metadata": {},
   "source": [
    "## 3.13 - Entendendo listas, conjuntos e dicionários como estrutura de dados\n",
    "\n",
    "<br/>\n",
    "\n",
    "- Listas: costumam ser uma estrutura de dados homogênea, ou seja com dados de mesmo tipo.\n",
    "- Tuplas: são imutáveis e costumam ser estrutura de dados heterogênea, para armazenar dados estruturados. Há também o namedTuple.\n",
    "- Dicionários: são estrutra de dados em que a busca é feita por palavras chaves.\n"
   ]
  },
  {
   "cell_type": "markdown",
   "id": "64970d23",
   "metadata": {},
   "source": [
    "TODO"
   ]
  },
  {
   "cell_type": "markdown",
   "id": "4f8f4e61",
   "metadata": {},
   "source": [
    "## 3.14- Python Collections"
   ]
  },
  {
   "cell_type": "markdown",
   "id": "10092ac1",
   "metadata": {},
   "source": [
    "TODO"
   ]
  },
  {
   "cell_type": "code",
   "execution_count": null,
   "id": "78c3665c",
   "metadata": {},
   "outputs": [],
   "source": []
  },
  {
   "cell_type": "markdown",
   "id": "059ca618",
   "metadata": {},
   "source": [
    "# Exercícios"
   ]
  },
  {
   "cell_type": "markdown",
   "id": "87bb99d0",
   "metadata": {},
   "source": [
    "## E3.1\n",
    "Crie uma lista de números inteiros que inicia em 20 e termina em 0."
   ]
  },
  {
   "cell_type": "code",
   "execution_count": 1,
   "id": "8d53eae0",
   "metadata": {},
   "outputs": [
    {
     "data": {
      "text/plain": [
       "[0, 1, 2, 3, 4, 5, 6, 7, 8, 9, 10, 11, 12, 13, 14, 15, 16, 17, 18, 19, 20]"
      ]
     },
     "execution_count": 1,
     "metadata": {},
     "output_type": "execute_result"
    }
   ],
   "source": [
    "list(range(21))"
   ]
  },
  {
   "cell_type": "markdown",
   "id": "777b19ef",
   "metadata": {},
   "source": [
    "## E3.2\n",
    "Crie uma lista com os quadrados de números de 0 a 10."
   ]
  },
  {
   "cell_type": "code",
   "execution_count": 15,
   "id": "73b0425b",
   "metadata": {},
   "outputs": [
    {
     "data": {
      "text/plain": [
       "[0, 1, 4, 9, 16, 25, 36, 49, 64, 81, 100]"
      ]
     },
     "execution_count": 15,
     "metadata": {},
     "output_type": "execute_result"
    }
   ],
   "source": [
    "a = [i**2 for i in range(11)]\n",
    "a"
   ]
  },
  {
   "cell_type": "markdown",
   "id": "48385451",
   "metadata": {},
   "source": [
    "## E3.3\n",
    "Faça as seguintes operações:\n",
    "- Crie um zip de números indo de 0 a 10 e os quadrados desses números.\n",
    "- Transforme o zip em uma lista e veja o resultado.\n",
    "- Depois faça um loop usando o zip e imprima na tela o número e seu quadrado."
   ]
  },
  {
   "cell_type": "code",
   "execution_count": 19,
   "id": "3528b636",
   "metadata": {},
   "outputs": [],
   "source": [
    "a = [i for i in range(11)]\n",
    "b = [i**2 for i in a]\n",
    "ab = zip(a, b)\n",
    "\n",
    "# list(ab)"
   ]
  },
  {
   "cell_type": "code",
   "execution_count": 20,
   "id": "95095036",
   "metadata": {},
   "outputs": [
    {
     "name": "stdout",
     "output_type": "stream",
     "text": [
      "a = 0        b = 0\n",
      "a = 1        b = 1\n",
      "a = 2        b = 4\n",
      "a = 3        b = 9\n",
      "a = 4        b = 16\n",
      "a = 5        b = 25\n",
      "a = 6        b = 36\n",
      "a = 7        b = 49\n",
      "a = 8        b = 64\n",
      "a = 9        b = 81\n",
      "a = 10        b = 100\n"
     ]
    }
   ],
   "source": [
    "for a_value, b_value in ab:\n",
    "    print(f'a = {a_value}        b = {b_value}')"
   ]
  },
  {
   "cell_type": "code",
   "execution_count": null,
   "id": "268e13e2",
   "metadata": {},
   "outputs": [],
   "source": []
  },
  {
   "cell_type": "markdown",
   "id": "0ff73a1b",
   "metadata": {},
   "source": [
    "## E3.4\n",
    "Crie um dicionário onde a chave é o número inteiro e o valor é o número ao quadrado. Faça de 0 a 10."
   ]
  },
  {
   "cell_type": "code",
   "execution_count": 13,
   "id": "0e64d525",
   "metadata": {},
   "outputs": [
    {
     "data": {
      "text/plain": [
       "{0: 0, 1: 1, 2: 4, 3: 9, 4: 16, 5: 25, 6: 36, 7: 49, 8: 64, 9: 81, 10: 100}"
      ]
     },
     "execution_count": 13,
     "metadata": {},
     "output_type": "execute_result"
    }
   ],
   "source": [
    "key = list(range(11))\n",
    "value = [i**2 for i in key]\n",
    "resposta = {}\n",
    "\n",
    "for k, v in zip(key, value):\n",
    "    resposta[k] = v\n",
    "    \n",
    "resposta"
   ]
  },
  {
   "cell_type": "code",
   "execution_count": null,
   "id": "a5cd8014",
   "metadata": {},
   "outputs": [],
   "source": []
  },
  {
   "cell_type": "markdown",
   "id": "86694376",
   "metadata": {},
   "source": [
    "## E3.5\n",
    "Dado a lista a seguir, remova os valores duplicados em seguida ordene na ordem crescente.\n",
    "\n",
    "```python\n",
    ">>> a = [1, 2, 3, 1, 2, 6, 2, 8, 1, 0]\n",
    "```"
   ]
  },
  {
   "cell_type": "code",
   "execution_count": 25,
   "id": "d54ee4ae",
   "metadata": {},
   "outputs": [
    {
     "data": {
      "text/plain": [
       "[0, 1, 2, 3, 6, 8]"
      ]
     },
     "execution_count": 25,
     "metadata": {},
     "output_type": "execute_result"
    }
   ],
   "source": [
    "a = [1, 2, 3, 1, 2, 6, 2, 8, 1, 0]\n",
    "a = set(a)\n",
    "a = list(a)\n",
    "a.sort()\n",
    "\n",
    "a"
   ]
  },
  {
   "cell_type": "markdown",
   "id": "c14402e8",
   "metadata": {},
   "source": [
    "## E3.6\n",
    "Dado a lista abaixo, verifique se todos os valores são True.\n",
    "\n",
    "```python\n",
    ">>> a = [True, True, False, True, False, True]\n",
    "```"
   ]
  },
  {
   "cell_type": "code",
   "execution_count": 28,
   "id": "defa79bb",
   "metadata": {},
   "outputs": [
    {
     "data": {
      "text/plain": [
       "False"
      ]
     },
     "execution_count": 28,
     "metadata": {},
     "output_type": "execute_result"
    }
   ],
   "source": [
    "a = [True, True, False, True, False, True]\n",
    "all(a)"
   ]
  },
  {
   "cell_type": "markdown",
   "id": "edec1253",
   "metadata": {},
   "source": [
    "## E3.7\n",
    "Dado a lista abaixo, verifique se todos os valores são iguais a 'python'.\n",
    "\n",
    "Dicas:\n",
    "- Primeiro crie use map para checar se os valores são iguais a python.\n",
    "- Depois utilize a função all para checar se todos os valores são iguais a python.\n",
    "\n",
    "```python\n",
    ">>> a = ['python', 'python', 'pythom', 'python', 'python']\n",
    "```"
   ]
  },
  {
   "cell_type": "code",
   "execution_count": 35,
   "id": "e1594933",
   "metadata": {},
   "outputs": [],
   "source": [
    "def map_python(x):\n",
    "    return x == 'python'"
   ]
  },
  {
   "cell_type": "code",
   "execution_count": 36,
   "id": "b15c083f",
   "metadata": {},
   "outputs": [],
   "source": [
    "a = ['python', 'python', 'pythom', 'python', 'python']\n",
    "b = list(map(map_python, a))"
   ]
  },
  {
   "cell_type": "code",
   "execution_count": 37,
   "id": "130255b2",
   "metadata": {},
   "outputs": [
    {
     "data": {
      "text/plain": [
       "False"
      ]
     },
     "execution_count": 37,
     "metadata": {},
     "output_type": "execute_result"
    }
   ],
   "source": [
    "all(b)"
   ]
  },
  {
   "cell_type": "code",
   "execution_count": null,
   "id": "8214af5c",
   "metadata": {},
   "outputs": [],
   "source": []
  },
  {
   "cell_type": "markdown",
   "id": "797e94b1",
   "metadata": {},
   "source": [
    "# Projetos"
   ]
  },
  {
   "cell_type": "markdown",
   "id": "54a02ca0",
   "metadata": {},
   "source": [
    "## P3.1 - \n",
    "\n",
    "Crie um script que some os tamanhos dos arquivos em uma pasta.\n",
    "\n",
    "Utilize as funções a seguir:\n",
    "\n",
    "```python\n",
    ">>> import os # importa a biblioteca os\n",
    ">>> os.path.abspath(os.getcwd()) # retorna a string da pasta atual\n",
    ">>> os.listdir(<arquivo>) # retorna uma lista com arquivos de uma pasta\n",
    ">>> os.path.getsize(<arquivo>) # retorna o tamanho em bytes de um arquivo\n",
    "```"
   ]
  },
  {
   "cell_type": "markdown",
   "id": "eb5865bf",
   "metadata": {},
   "source": [
    "## P3.2 - \n",
    "\n",
    "Crie um script que compara arquivos em duas pastas e retorne arquivos que são iguais."
   ]
  },
  {
   "cell_type": "code",
   "execution_count": null,
   "id": "76c977ba",
   "metadata": {},
   "outputs": [],
   "source": []
  },
  {
   "cell_type": "code",
   "execution_count": null,
   "id": "175c8ab5",
   "metadata": {},
   "outputs": [],
   "source": []
  },
  {
   "cell_type": "code",
   "execution_count": null,
   "id": "00e81714",
   "metadata": {},
   "outputs": [],
   "source": []
  }
 ],
 "metadata": {
  "kernelspec": {
   "display_name": "Python 3 (ipykernel)",
   "language": "python",
   "name": "python3"
  },
  "language_info": {
   "codemirror_mode": {
    "name": "ipython",
    "version": 3
   },
   "file_extension": ".py",
   "mimetype": "text/x-python",
   "name": "python",
   "nbconvert_exporter": "python",
   "pygments_lexer": "ipython3",
   "version": "3.9.7"
  }
 },
 "nbformat": 4,
 "nbformat_minor": 5
}
